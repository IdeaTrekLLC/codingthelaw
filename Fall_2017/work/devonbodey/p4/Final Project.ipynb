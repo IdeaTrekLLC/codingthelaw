{
 "cells": [
  {
   "cell_type": "markdown",
   "metadata": {},
   "source": [
    "# Making a Difference: Document Generation\n",
    "By [Devon Bodey](https://www.linkedin.com/in/devonbodey/)\n",
    "\n",
    "\n",
    "## Process\n",
    "\n",
    "#### Framing\n",
    "In the legal field today, there is a major justice-gap which many attorneys and law students are trying to mimimize by finding practical solutions and innovative ways to provide reasonably priced services while maximizing the time allocation and productivity of attorneys. Thus, by implementing even the most basic of technological tools, attorneys can practice most efficiently and expand access to justice, while running an effective practice from the ground up.\n",
    " \n",
    "After working in several small law or boutique sized law firms, it became apparent that a great deal of time was wasted in drafting of documents and document formatting. When discussing the issue with numerous attorneys in the field, it became clear that many law clerks and legal secretaries were spending unnecessary amounts of billable time drafting documents that should be easily drafted. However, due to stylistic techniques and varying formatting styles, many student employees get overwhelmed by the tedious details of the assignment, instead of focusing on the substantive portion of the task at hand. \n",
    "\n",
    "Although there are numerous document automation programs in the industry, these softwares often come with large pricetags, which dissuade many small firm attorneys or solo practitioners from the investment. By using a simple QnA markup, many legal documents can be pre-filled and pre-formatted at no cost whatsoever. \n",
    "\n",
    "#### Research \n",
    "Upon learning of the issue of wasted time regarding drafting, I began to look into practical solutions to the challange. To prepare for how to effectively pre-fill and format common legal documents, I spoke with several practicing attorneys who use TurboLaw, a common legal document automation software. These attorneys were able to help me by telling me what aspects of the software they found helpful, and what aspects of the software they thought could be improved upon. Through discussing the problem with different professionals in the field, it was apparent that many were only looking for the document to be pre-filled. Nobody was looking for the document to be fully produced via an outside source. \n",
    "\n",
    "After learning what professionals in the field were looking for, I contacted a few peers to determine which documents would be the most helpful if pre-filled and pre-formatted. Multiple individuals stated that notices of appearances should be generated given how tedious they are in nature. Additionally, many professionals seemed to think that discovery requests would be helpful if pre-filled and formatted due the wasted time that is often spent drafting the document. To determine what format to use for drafting the pre-formatted documents, I looked at documents I had drafted at places of past employment, including private law firms and the office of the public defender. By looking at multiple documents, clear trends in formatting were easy to spot. I followed the common formatting to draft my own documents pursuant to the Massachusetts rules of Civil Procedure. \n",
    "\n",
    "#### Ideation & Prototyping\n",
    "By creating a platform to generate documents within a lawfirm, money that would be well spend elsewhere will be saved. Although this project will not save attorneys a drastic amount of money upfront, it will save a large amount of time in billable hours and training. Instead of having to adapt to the formatting techniques of an already established software, this method of pre-filling and document generation will allow law firms to improve their efficiency while maintaining their preferred formatting styles. In the legal world today, technology is rapidly growing. However, there continues to be a great deal of pushback from individuals who prefer things the 'old fashion way'. It was clear through my research that the most useful approach to solving this problem would be through QnA Markup. Unfortunately, creating a TwitterBot or running a data analysis, would have not been a useful method of solving the issue at hand. Adaptable technology, such as the use of [QnA Markup](http://www.qnamarkup.org) to aid in the process of generating documents for small law firms is a great way to aid in the transition into the legal world while maintaining the attorneys preferences and remaining cost effective. \n",
    "\n",
    "It took several different attempts to find an effective approach in formatting the QnA. Initially, I thought it would be best to start by asking which document the user would like to pre-fill and generate. However, after running that a few times, it became apparent that this was repetitive. By asking similar questions in the begining of the QnA, and asking which document the user would like to generate second, the user has the opportunity to download multiple documents without repeating the entire QnA. Prior to updating my approach, the structure of my QnA looked like [this](http://www.codingthelaw.org/Fall_2017/work/devonbodey/p4/firstcode.txt).\n",
    "\n",
    "#### User Testing\n",
    "Professor Colarusso stepped in as my [partner](http://www.codingthelaw.org/Fall_2017/work/devonbodey/p4/contact.png) for this project after I was unable to re-establish contact with the attorney who initially gave me the idea for this project. \n",
    "\n",
    "Attached are links to text versions of the QnA Markup code [before](http://www.codingthelaw.org/Fall_2017/work/devonbodey/p4/pretesting.txt) and [after]() user testing.\n",
    "\n",
    "#### Refinement\n",
    "\n",
    "## Product\n",
    "\n",
    "#### Intro Pitch\n",
    "Druing Week 10 of class, each student provided a brief presentation of their final project. The PowerPoint used to present my five-minute introductory pitch can be found [here](http://www.codingthelaw.org/Fall_2017/work/devonbodey/p4/FinalProjectProposal.pptx).\n",
    "\n",
    "#### Impact & Efficiencies\n",
    "This tool will eliminate a great deal of wasted time by a offering quick and accessable method of eliminating administrative \"time-sinks\" that regularly waste time of legal staff. This document generation system will afford more time to attorneys and staff to spend completing substantive work for clients which will then result in more affordable legal services, further breaking down the justice-gap.\n",
    "\n",
    "#### Fit/Completeness\n",
    "\n",
    "#### Documentation\n",
    "This QnA is extremely user-friendly. Seeing as this program is meant for the use of legal professionals and staff, it is unlikely that confusion will occur. Regardless, the platform is simple enough to use that a client could fill it out if need-be. However, the purpose of this tool was not to completely eliminate the need to manually produce filings in word, but instead the goal was to reduce the unnecessary time wasted on non-substantive work in drafting documents. \n",
    "\n",
    "#### Real World Viability\n",
    "\n",
    "\n",
    "#### Sustainability \n",
    "Now that the base QnA has already been established, this process can be added to with extreme ease as long as QnA Markup will hold the amount of data necessary. Although I remain unsure of whether or not the partner who I originally intended to work with will be implementing this project, I recieved good feedback from my current employer and past employer about the utility of the product in the workplace. Additionally, I find this tool extremely useful as a current law-clerk. If I am able to recieve permission from supervisors, I would like to input documents frequently used at the firm I work for, so that I could improve upon my speed, accuracy, and consistency in document drafting."
   ]
  },
  {
   "cell_type": "code",
   "execution_count": null,
   "metadata": {
    "collapsed": true
   },
   "outputs": [],
   "source": []
  }
 ],
 "metadata": {
  "kernelspec": {
   "display_name": "Python 3",
   "language": "python",
   "name": "python3"
  },
  "language_info": {
   "codemirror_mode": {
    "name": "ipython",
    "version": 3
   },
   "file_extension": ".py",
   "mimetype": "text/x-python",
   "name": "python",
   "nbconvert_exporter": "python",
   "pygments_lexer": "ipython3",
   "version": "3.6.1"
  }
 },
 "nbformat": 4,
 "nbformat_minor": 1
}
