{
 "cells": [
  {
   "cell_type": "markdown",
   "metadata": {},
   "source": [
    "# Final Project: Document Generation\n",
    "By [Devon Bodey](https://www.linkedin.com/in/devonbodey/)\n",
    "\n",
    "\n",
    "## Process\n",
    "\n",
    "#### Framing\n",
    "In the legal field today, there is a major justice-gap which many attorneys and law students are trying to mimimize by finding practical solutions and innovative ways to provide reasonably priced services while maximizing the time allocation and productivity of attorneys. Thus, by implementing even the most basic of technological tools, attorneys can practice most efficiently and expand access to justice, while running an effective practice from the ground up.\n",
    "\n",
    "After working in several small law or boutique sized law firms, it became apparent\n",
    "#### Research \n",
    "\n",
    "#### Ideation & Prototyping\n",
    "\n",
    "#### User Testing\n",
    "\n",
    "#### Refinement\n",
    "\n",
    "## Product\n",
    "\n",
    "#### Intro Pitch\n",
    "\n",
    "#### Complexity/Robustness\n",
    "\n",
    "#### Impact & Efficiencies\n",
    "\n",
    "#### Fit/Completeness\n",
    "\n",
    "#### Documentation\n",
    "\n",
    "#### Real World Viability\n",
    "\n",
    "#### Sustainability \n"
   ]
  },
  {
   "cell_type": "code",
   "execution_count": null,
   "metadata": {
    "collapsed": true
   },
   "outputs": [],
   "source": []
  }
 ],
 "metadata": {
  "kernelspec": {
   "display_name": "Python 3",
   "language": "python",
   "name": "python3"
  },
  "language_info": {
   "codemirror_mode": {
    "name": "ipython",
    "version": 3
   },
   "file_extension": ".py",
   "mimetype": "text/x-python",
   "name": "python",
   "nbconvert_exporter": "python",
   "pygments_lexer": "ipython3",
   "version": "3.6.1"
  }
 },
 "nbformat": 4,
 "nbformat_minor": 1
}
