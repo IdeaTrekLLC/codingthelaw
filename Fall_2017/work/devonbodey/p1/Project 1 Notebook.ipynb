{
 "cells": [
  {
   "cell_type": "markdown",
   "metadata": {
    "collapsed": true
   },
   "source": [
    "# Assigned Counsel and Fee Waiver Bot\n",
    "\n",
    "By [Devon Bodey](https://www.linkedin.com/in/devonbodey/)\n",
    "\n",
    "My name is Devon Bodey and I am a second year law student. Over the past month, I have been introduced to coding for the first time in my career. I learned how to embed code, incorporate javascript, and ultimately develop a functioning chatbot. For this project, I created a chatbot for my [Coding the Law](http://www.codingthelaw.org) class at Suffolk University Law School which determines eligibility for appointed counsel, fee waiver, or the like. To create my bot, I used a program called [QnA Markup](http://www.qnamarkup.org). My code can be found [here](). \n",
    "\n",
    "# User Testing\n",
    "\n",
    "The peer testing provided me with useful feedback when it came time for me to revise my QnA. Following the creation of my initial prototype, I exchanged feedback via email and in person with an assigned peer-tester. The feedback I received from my tester related primarily to the specificity, or lack thereof in my code. For example, I was advised to add more information regarding the poverty line in the state of Connecticut. In addition to having a peer tester, I reached out to several attorneys practicing in the state of Connecticut, two of whom I have previously worked with, and one who I was connected with through an existing contact. I have yet to receive feedback on my finalized code. In the interest of time, I have asked fellow law students who have worked in Connecticut to view my bot and provide feedback. This feedback was exceptionally useful because it provided information from an outsider prospective. Some of this was changeable, and others was not given the level of coding that I am currently at. Overall, I found all of the feedback I received to be extremely helpful in producing the most recent version of my chatbot.\n",
    "\n",
    "# Refinement\n",
    "\n",
    "The refinement process was fairly seamless throughout the creation of this bot. My peer-tester and I established a good working relationship, and became comfortable running ideas by each other before going forward and incorporating them into code. This led to less tedious steps being taken to reach the latest product. Additionally, my first bot was fairly thorough. I used the questions intended for the peer-testing when creating my first draft in an attempt to make the bot as efficient as possible, and prevent myself from getting lost in code down the road once days and weeks had passed. By doing this, I felt comfortable with my bot at an early stage, and was able to spend time tweaking smaller details in order to make the code more simplistic. \n",
    "Two things that were extremely helpful in the finalization of my code were the GOTO and the X functions. Originally, I became very overwhelmed with my code, and was constantly copying and pasting the same answers following questions. Once learning the GOTO function, I was able to redirect my code to an earlier answer. This saved a large amount of time and made my code easier to read. Once my GOTO functions were in place, my code became smaller and it became significantly easier for me to spot errors when they occurred. The X function was also very helpful. I primarily used the X function when working on pre-filling a document. This function allowed users to add their own response to a question so that the code could result in a more personalized and thorough work product. If I had more time to work on this bot, I would have used more X functions and incorporated them with mathematic javascript so that the bot could appear to be more interactive and less question based. However, I chose not to incorporate more X functions because I feared inaccuracy in my finalized project. This, along with the mathematic javascript is something I look forward to mastering and incorporating into later projects.\n",
    "\n",
    "# Real-World Viability \n",
    "\n",
    "I believe my product could use more work before it becomes fully viable in the real-world. If this product was going to be sent out for real-world use, I would want to add more specificities regarding the laws, and incorporate detailed math javascript. However, I do feel as if the product itself could be viable in the real world. A chatbot such as this could help individuals faced with legal matters, both civil and criminal, know whether they qualify as indigent and prepare an application for fee waiver. The only issue that I found challenging is the use of discretion in determining fee waiver eligibility. Connecticut law specifically noted that the determination of fee waiver eligibility and indigency is established on a case-by-case basis. Thus, I am left concerned that someone would not apply for a fee waiver when they possibly could have received one. I felt the urge to advise all users to apply for a fee waiver, regardless of what the likely outcome would be. Despite this bot’s lack of ability to come to a concrete and determine outcome given the Connecticut law surrounding the issue, I still believe this to be a useful tool to save individuals time and money when looking to determine the likely outcome of their eligibility for free or discounted legal services.\n"
   ]
  },
  {
   "cell_type": "code",
   "execution_count": null,
   "metadata": {
    "collapsed": true
   },
   "outputs": [],
   "source": []
  }
 ],
 "metadata": {
  "kernelspec": {
   "display_name": "Python 3",
   "language": "python",
   "name": "python3"
  },
  "language_info": {
   "codemirror_mode": {
    "name": "ipython",
    "version": 3
   },
   "file_extension": ".py",
   "mimetype": "text/x-python",
   "name": "python",
   "nbconvert_exporter": "python",
   "pygments_lexer": "ipython3",
   "version": "3.6.1"
  }
 },
 "nbformat": 4,
 "nbformat_minor": 2
}
