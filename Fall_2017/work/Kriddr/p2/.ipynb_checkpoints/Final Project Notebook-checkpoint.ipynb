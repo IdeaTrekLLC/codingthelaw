{
 "cells": [
  {
   "cell_type": "code",
   "execution_count": null,
   "metadata": {
    "collapsed": true
   },
   "outputs": [],
   "source": [
    "INTRO PITCH:\n",
    "    \n",
    "    My Final Project will be a web-scraper robot that assists foreclosure defense attorneys by increasing outreach \n",
    "    to distressed homeowners who are facing foreclosure.  The name of the robot is Title BOT.  Many homeowners facing\n",
    "    foreclosure dont realize there are serious issues with title and the bank's ownership of the mortgage that may\n",
    "    prevent the bank from foreclosing.  Additionally, these homeowners are away of their rights and the remedies \n",
    "    available to them.  Title BOT aims to better equip foreclosure defense attorneys to help as many of these \n",
    "    qualifying homeowner's as possible.''\n",
    "    \n",
    "WHAT IS TITLE BOT?\n",
    "\n",
    "    A web-scraper robot that scrapes local foreclosure auction websites and generates mailings for local foreclosure \n",
    "    defense attorneys to send to the owners of these homes informing them of their rights.\n",
    "    \n",
    "HOW IT WORKS:\n",
    "    \n",
    "    The robot scrapes addresses for scheduled foreclosure auctions from the auction websites, and generates a \n",
    "    pre-formatted letter to be sent to these addresses from the foreclosure defense attorneys office.\n",
    "    \n",
    "WHAT'S IN THE LETTER?\n",
    "\n",
    "    1. Information on Massachusetts Foreclosure Law.\n",
    "    2. Offer for a free Title Check by the Attorney\n",
    "    3. A list of options to immediately halt the foreclosure auction, such as filing Bankruptcy or asking the court for\n",
    "       a Preliminary Injunction.\n",
    "        \n",
    "PROBLEM SOLVED:\n",
    "    \n",
    "    Because of the immense amount of homes affected foreclosure attorneys are unable to be proactive in discovering \n",
    "    problem foreclosures before it is too late.  As a result, many homeowners lose their homes when they could have\n",
    "    had a fair opportunity to save them.\n",
    "    \n",
    "    This program allows attorneys to automatically notify hundreds of homeowners as soon as an auction is scheduled, \n",
    "    not only increasing the attorney's business, but, more importantly, increases the likelihood of keeping more people\n",
    "    in their homes.''"
   ]
  }
 ],
 "metadata": {
  "kernelspec": {
   "display_name": "Python 3",
   "language": "python",
   "name": "python3"
  },
  "language_info": {
   "codemirror_mode": {
    "name": "ipython",
    "version": 3
   },
   "file_extension": ".py",
   "mimetype": "text/x-python",
   "name": "python",
   "nbconvert_exporter": "python",
   "pygments_lexer": "ipython3",
   "version": "3.6.1"
  }
 },
 "nbformat": 4,
 "nbformat_minor": 2
}
