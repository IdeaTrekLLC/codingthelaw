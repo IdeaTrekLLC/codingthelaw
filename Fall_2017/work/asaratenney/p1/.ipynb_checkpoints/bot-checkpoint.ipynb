{
 "cells": [
  {
   "cell_type": "markdown",
   "metadata": {},
   "source": [
    "# Assigned Counsel and Fee Waiver Bot\n",
    "By [Author's name](https://example.com) \n",
    "\n",
    "I wrote a bot, and you can find it [here](http://www.codingthelaw.org/Fall_2017/work/colarusso/p1/bot.html). To write my bot, we used a tool called [QnA Markup](http://www.qnamarkup.org/). Basically, you create an interactive dicision tree by nesting questions and answers. Here's [my code](bot.txt). \n",
    "\n",
    "## User Testing\n",
    "\n",
<<<<<<< HEAD
    "[Some feedback I got during user testing included to research criminal matter further.  I looked into specifically what would affect someone's ability to obtain a public defender in Maine.  For a response to that feedback I was able to find the following information\n",
    "\n",
    "See \"INCOME TABLE FOR DETERMINATION OF ELIGIBILITY FOR ASSIGNED COUNSEL\"\n",
    "\n",
    "| Family Size       | Gross Annual Income          | \n",
    "| ----------------- |:----------------------------:| \n",
    "| 1                 | $13,266                      |         \n",
    "|                   |                              |\n",
    "| 3                 | $22,462                      |\n",
    " \n",
    "For each additional person add\n",
    "$4,598.\n",
    "\n",
    " In the furture I would likly use this data to incorporate family size/ gross annual income calculations in the forms to help people calculate it themselves]\n",
=======
    "[Describes process]\n",
>>>>>>> 269b89b5be7f4b7d189eb314eb6a00343f19ef24
    "\n",
    "## Refinement\n",
    "\n",
    "[Describes process]\n",
    "\n",
    "## Real-World Viability\n",
    "\n",
    "[Describes what's needed]"
   ]
<<<<<<< HEAD
  },
  {
   "cell_type": "code",
   "execution_count": null,
   "metadata": {
    "collapsed": true
   },
   "outputs": [],
   "source": []
  },
  {
   "cell_type": "code",
   "execution_count": null,
   "metadata": {
    "collapsed": true
   },
   "outputs": [],
   "source": []
=======
>>>>>>> 269b89b5be7f4b7d189eb314eb6a00343f19ef24
  }
 ],
 "metadata": {
  "kernelspec": {
   "display_name": "Python 3",
   "language": "python",
   "name": "python3"
  },
  "language_info": {
   "codemirror_mode": {
    "name": "ipython",
    "version": 3
   },
   "file_extension": ".py",
   "mimetype": "text/x-python",
   "name": "python",
   "nbconvert_exporter": "python",
   "pygments_lexer": "ipython3",
   "version": "3.5.2"
  }
 },
 "nbformat": 4,
 "nbformat_minor": 0
}
