{
 "cells": [
  {
   "cell_type": "markdown",
   "metadata": {},
   "source": [
    "# Assigned Counsel and Fee Waiver Bot\n",
    "By [Asara Tenney]\n",
    "\n",
    "I wrote a bot, and you can find it [here](http://www.codingthelaw.org/Fall_2017/work/colarusso/p1/bot.html). To write my bot, we used a tool called [QnA Markup](http://www.qnamarkup.org/). Basically, you create an interactive dicision tree by nesting questions and answers. Here's [my code](bot.txt). \n",
    "\n",
    "## User Testing\n",
    "\n",
    "[Some feedback I got during user testing included to research criminal matter further.  I looked into specifically what would affect someone's ability to obtain a public defender in Maine.  For a response to that feedback I was able to find the following information\n",
    "\n",
    "See \"INCOME TABLE FOR DETERMINATION OF ELIGIBILITY FOR ASSIGNED COUNSEL\"\n",
    ".\n",
    "| Family Size       | Gross Annual Income          | \n",
    "| ----------------- |:----------------------------:| \n",
    "| 1                 | $13,266                      |         \n",
    "| 2                 | $17,864                      |\n",
    "| 3                 | $22,462                      |\n",
    " \n",
    "For each additional person add\n",
    "$4,598.\n",
    "\n",
    " In the furture I would likly use this data to incorporate family size/ gross annual income calculations in the forms to help people calculate it themselves]\n",
    "\n",
    "## Refinement\n",
    "\n",
    "[I changed my code multiple times to include the different variables. \n",
    "please see below for the different versions\n",
    "*First Draft*\n",
    "Q(name):What is your name?\n",
    "X:\n",
    "    Q(1.1):GOTO:2\n",
    "Q(2): Is your matter Civil or Criminal? \n",
    "A: Civil.\n",
    "    Q(2.1):GOTO:3\n",
    "A: Criminal.\n",
    "    Q(2.2):GOTO:4\n",
    "\n",
    "*Second Draft*\n",
    "Q(1): Are you in need of a fee waiver or a public defender?\n",
    "A: Yes\n",
    "Q(name):What is your name?\n",
    "X:\n",
    "            Q(1.1.1):GOTO:partyname\n",
    "Q(partyname):What is your opposing party's name?\n",
    "X:\n",
    "            Q(1.1.2):GOTO:address\n",
    "Q(address):What is your address?\n",
    "X:\n",
    "            Q(1.1.3):GOTO:telephone\n",
    "Q(telephone): What is your telephone number?\n",
    "X:\n",
    "            Q(1.1.4):GOTO:3\n",
    "Q(3): Is your matter Civil or Criminal? \n",
    "A: Civil.\n",
    "     Q(3.1):GOTO:4\n",
    "A: Criminal.\n",
    "    Q(3.2):GOTO:5\n",
    "(this version was not properly aligned and I got multiple errors)\n",
    "\n",
    "*See the final working code below*\n",
    "Q(1): Are you in need of a fee waiver or a public defender?\n",
    "A: Yes\n",
    "\tQ(name):What is your name?\n",
    "\tX:\n",
    "\t\tQ(1.1.1):GOTO:partyname\n",
    "Q(partyname):What is your opposing party's name?\n",
    "X:\n",
    "\tQ(2.1):GOTO:address \n",
    "Q(address):What is your address?\n",
    "X:\n",
    "\tQ(3.1):GOTO:telephone \n",
    "Q(telephone): What is your telephone number?\n",
    "X:\n",
    "\tQ(4.1):GOTO:5 \n",
    "Q(5): Is your matter Civil or Criminal? \n",
    "A: Civil.\n",
    "\tQ(5.1):GOTO:6\n",
    "A: Criminal.\n",
    "\tQ(5.2):GOTO:7]\n",
    "\n",
    "## Real-World Viability\n",
    "\n",
    "[While I was able to input all the important questions/variables into the code itself in order to create the mailmerg for the \"application to proceed without paying fees\" form.  This project will also needs a \"supporting affidavit.\" In order for this to be viable in the real world, both forms would need to generate with all the detailed information, specific to the clients legal need.]"
   ]
  },
  {
   "cell_type": "code",
   "execution_count": 7,
   "metadata": {},
   "outputs": [
    {
     "ename": "SyntaxError",
     "evalue": "invalid syntax (<ipython-input-7-f311bbf71a15>, line 1)",
     "output_type": "error",
     "traceback": [
      "\u001b[0;36m  File \u001b[0;32m\"<ipython-input-7-f311bbf71a15>\"\u001b[0;36m, line \u001b[0;32m1\u001b[0m\n\u001b[0;31m    Asara Tenney\u001b[0m\n\u001b[0m               ^\u001b[0m\n\u001b[0;31mSyntaxError\u001b[0m\u001b[0;31m:\u001b[0m invalid syntax\n"
     ]
    }
   ],
   "source": [
    "Asara Tenney"
   ]
  },
  {
   "cell_type": "code",
   "execution_count": null,
   "metadata": {
    "collapsed": true
   },
   "outputs": [],
   "source": []
  }
 ],
 "metadata": {
  "kernelspec": {
   "display_name": "Python 3",
   "language": "python",
   "name": "python3"
  },
  "language_info": {
   "codemirror_mode": {
    "name": "ipython",
    "version": 3
   },
   "file_extension": ".py",
   "mimetype": "text/x-python",
   "name": "python",
   "nbconvert_exporter": "python",
   "pygments_lexer": "ipython3",
   "version": "3.6.1"
  }
 },
 "nbformat": 4,
 "nbformat_minor": 1
}
