{
 "cells": [
  {
   "cell_type": "markdown",
   "metadata": {},
   "source": [
    "# Firm Connect: The First Step for Toxic Tort Victims\n",
    "By: Asara Tenney"
   ]
  },
  {
   "cell_type": "markdown",
   "metadata": {},
   "source": [
    "## Process\n",
    "\n",
    "The \"Process\" of this project touches on five central topic areas. 1. Framing 2. Research 3. Ideation & Prototyping 4. User-Testing, and 5. Refinement. The purpose of this section is to tackle the following questions. \n",
    "\n",
    "1. Framing\n",
    "How well can we define the problem facing legal practitioners or consumers. How do we define our relevant stakeholders / users? \n",
    "\n",
    "2. Research. \n",
    "What solutions exist and how can we utilize them to have a better impact on communities?  \n",
    "\n",
    "3. Ideation & Prototyping. \n",
    "How can we explore the available space of potential solutions? Which data-driven skills can we use to address the problem (For examples of Q&A markups and linear regression models click below [http://www.codingthelaw.org/Fall_2017/work/#p4]) \n",
    "\n",
    "4. User Testing. \n",
    "How should we engage in user testing and stay realistic?\n",
    "\n",
    "5. Refinement. \n",
    "How can we integrate feedback from user testing into subsequent versions of the solution?"
   ]
  },
  {
   "cell_type": "markdown",
   "metadata": {},
   "source": [
    "# Framing\n",
    "\n",
    "What is a toxic tort? A toxic tort is a type of personal injury lawsuit where the injury is caused by a toxic substance. According to the Center for Disease Control, the majority of lead poisoning incidents occur through two mediums: Lead paint and leaded pipes.  Lead poisoning can immediate effects including abdominal pain, constipation, fatigue, headaches, irritability, loss of appetite, memory loss, pain or  tingling in the hands and/or feet, and weakness.  However, victims who experience the immediate effects of lead poisoning are typically exposed to high concentrations.  In many cases with lower exposures, symptoms are difficult to detect & long-term exposure causes latent developmental issues.  \n",
    "\n",
    "*Issue 1: Testing Children & Early Detection*\n",
    "\n",
    "Numerous studies have shown children are more suceptible to latent effects than adults, experiencing damage to the brain and nervous system, slowed growth and development, learning and behavior problems (e.g., reduced IQ, ADHD, juvenile delinquency, and criminal behavior), and hearing and speech problems. [https://www.cdc.gov/nceh/lead/publications/books/plpyc/chapter2.htm#Effects%20of%20lead]\n",
    "In my research of Massachusetts law, I found that Masschusetts has a number of laws that protect children and families using early detection requirements. Children must first get tested at 9-12 months, then again at 2 and 3 years old. Children who live in areas designated as \"high-risk neighborhoods must also get tested at 4 years old:\n",
    "\n",
    "<center><br>Boston</br>\n",
    "\t\t<br>Haverhill</br>\n",
    "\t\t<br>New Bedford</br>\n",
    "\t\t<br>Brockton</br>\n",
    "\t\t<br>Holyoke</br>\n",
    "\t\t<br>Springfield</br>\n",
    "\t\t<br>Chelsea</br>\n",
    "\t\t<br>Lawrence</br>\n",
    "\t\t<br>Taunton</br>\n",
    "\t\t<br>Fall River</br>\n",
    "\t\t<br>Lowell</br>\n",
    "\t\t<br>Worcester</br>\n",
    "\t\t<br>Fitchburg</br>\n",
    "\t\t<br>Lynn</br></center>\n",
    "\n",
    "Tests may either be administered by a physician or at a local health clinic. Parents can also contact the Childhood Lead Poisoning Prevention Program at (800) 532-9571.\n",
    "\n",
    "*Issue 2: Testing for and Abating Lead-based Paint*\n",
    "\n",
    "Another potential issue a user could experience is not knowing how or when test for lead. If there is paint chips or peeling paint in an apartment, this is a good indication that lead paint was used.  The most likely places for lead paint are near windows, window sills, painted cabinets, baseboards, and doors. Lead can also be in the soil around a building.  Tenants have a few options here\n",
    "\n",
    "<br>1. Ask their local Board of Health or the Childhood Lead Poisoning Prevention Program for a free lead inspection.</br> \n",
    "\t\t\t\t<br>2. Do the testing themselves with a home lead test kit. These can be purchased online or at a hardware store.</br> \n",
    "\t\t\t\t<br>3. Hire a licensed lead inspector. If the inspector finds lead, the landlord must pay the tenant back for the inspection.</br>  \n",
    " \t\t\t\t<br>The landlord must remove or cover any dangerous levels of lead that are found.  If they refuse to do this, a tenent has the right to sue in court.<center></br>  \n",
    "\n",
    "\n",
    "*Issue 3: Reporting Disrimination and Retaliation*\n",
    "\n",
    "While reviewing news articles and the Center for Disease Control website, I found another common issue involving lead poisoning is landlord-tenant discrimination. Families with young children may have experienced discrimination in the process of renting an apartment. They also may experience acts of retaliation for reporting violations. \n",
    "\n",
    "Two Massachusetts laws are on point here: \n",
    "\n",
    "MGL 151B s. 4(11) Discrimination Against Families with Young Children\u000b",
    " and \n",
    "\n",
    "MGL 186 s. 18 Reprisals Against Tenants for Reporting Violations.  \n",
    "\n",
    "M.G.L. c. 151B, § 4 (11) prohibits discrimination in the leasing or renting of accommodations to any person because the person has a child or children who shall occupy the premises with such person. MGL 186 s. 18 prohibits threats and acts of reprisal against a tenant who reports a violation of law or commences a judicial or administrative proceeding against the property owner.  The landlord may not terminate tenancy, increase rent, or substantially alter the terms of the lease within a 6 month time frame, otherwise a presumption is created that the property owner must rebut with clear and convincing evidence there was no reprisal. "
   ]
  },
  {
   "cell_type": "markdown",
   "metadata": {},
   "source": [
    "### Research\n",
    "\n",
    "This is clearly a lot of information to take in.  And frankly, resources for lead poisoning are widely dispersed  throughout the web.  In my own research, I came across countless websites seeking to provide resources to victims of lead poisoning; I found one for what to do if you or your child has lead poisoning. I found another with a list of toxic tort firms to call. There were over 5 websites on how to get a free lead inspection.  There were countless websites on how to handle a discrimination claim. However, what I could not find was a single website with all of this in one place. \n",
    "\n",
    "I began thinking: Given the vast array of information out there, how can we get those steps all in one place? Also ahat if the user needs to take steps on their own prior to hiring an attorney?  How can we make getting the basic facts of what happened on paper in a discrimination claim quicker? "
   ]
  },
  {
   "cell_type": "markdown",
   "metadata": {},
   "source": [
    "### Ideation & Prototyping\n",
    "\n",
    "I chose to use Q&A markup here because I found there was a need to simplify access to resources for individuals experiencing lead issues.  The Q&A can direct a user to a list of toxic tort firms, info on how to get testing or an inspection, and other necessary information for lead poisoning issues. The second valuable function of Q&A is document generation.  This feature is valuable here because it can generate a sample letter to send to a landlord requesting a lead inspection.  The Q & A can also ascertain key preliminary evidence for a landlord discrimination claim. \n",
    "Using Q&A markup in Project One, I made a series of questions geared towards indigent defendants in the State of Maine.  The end result was a system that automatically directed a user to resources by asking about their personal information.  By asking specific questions about the user's issue, the Q&A tailors the solution to the particular problem the user is experiencing.  The user can quickly get to resources they need because those resources are based on their responses. Another benefit is the Q&A can ideally discern whether their problem is actually a legal question.  If that legal question has a remedy the system will outline the necessary steps they should take next. By pinpointing the legal question, this cuts down on excess information and saves valuable time.  \n",
    "\n"
   ]
  },
  {
   "cell_type": "markdown",
   "metadata": {},
   "source": [
    "### User Testing\n",
    "\n",
    "*Student A at Suffolk Law School* \n",
    "\n",
    "Student A Bio: The first user has two small children and rent in a building older than 1978.  They wanted to know what ages their children should be tested by their primary care physician. Second, they mentioned they had discussed lead with their landlord before, but weren't sure if they should ask their landlord about a new lead inspection.  They said there could be paint in their garage that is chipping and they live in the Boston area.  Also, just to be safe, they wanted to know what to do if their landlord retaliated against them at any point for reporting a violation.  I asked them the following question about their experience using Firm Connect.\n",
    "\n",
    "What would you change about the system ?\n",
    "\n",
    "I wouldn't change anything really in my process with this system. It was pretty straightforward and it got me to where I needed to go.  I wanted information on when my children should be tested for lead and what to do should I ever have issues with retaliation from my landlord.  \n",
    "\n",
    "Did you feel like it took too long to get through the questions?\n",
    "No, not at all this went very quickly. Only took me a few minutes and I didn't really feel as though I was going in circles with the questioning.  \n",
    "\n",
    "Did it address your needs as a user?\n",
    "Definitely.  I was looking to know what the ages were to test my children and those questions were asked right at the beginning.  Next, I am pretty sure I now have the information I need regading what I should do if I think my apartment had lead in it. I have discussed this with my landlord before, but I wasn't 100% sure that he gave me all the information that was necessary.  Also, to be safe I wanted to find out if there were laws that protect people if your landlord retaliates against you for reporting a violation of Mass lead laws..   \n",
    "\n",
    "Did you get the information you need ?\n",
    "Yes. The only feedback I have is that the final prompt I got at the end about the reprisal law was a little wordy.  May you could simplify or cut that down to make it a little more simplified. \n",
    "\n",
    "Do you feel more confident in your options after using this tool?\n",
    "Yes. You mentioned there is a lot of information out there but this keeps everything together which makes the whole process easier. \n",
    "\n",
    "*Student B at Suffolk Law School*\n",
    "\n",
    "Bio: The second user do not have a family but is looking for a new apartment. They are more or less aware that there are laws against lead but aren't really sure where to look to find all the necessary information. A lot of the apartments they've looked at are in older buildings in the South End & South Boston Area.  When they do decide to rent they want to know that there has been a lead inspection done and how to know they have gotten all the appropriate documentation.  They also were interest to know what laws applied to them even if they do not have small children living in the home. \n",
    "\n",
    "What would you change about the system ?\n",
    "\n",
    "I was able to navigate the questions pretty easily which was helpful. I thought the part where it downloads the form directly to your computer was really helpful because it cuts down on the time if you need to write the facts if there was an issue with discrimination. When I went to the part where I answered no children for a discrimination claim I noticed the form was downloading with my name that I used.  This isn't necessarily something I would change but it was not really the title of the document that I would want to use so I just had to change it myself afterwards.  Either way, I liked the concept of being able to get the facts on paper and downloaded into the document quickly, even if I didn't think the discrimination issue was because I had small children. I also like that the law was right there so I could look at it if I had this problem. \n",
    "\n",
    "Did you feel like it took too long to get through the questions?\n",
    "Not really.  Under 2 minutes and I was done. \n",
    "\n",
    "Did it address your needs as a user?\n",
    "Yes, I was curious to know if there were laws that still applied to me even if I did not have a family so it was helpful to get this information to protect myself in the future.  \n",
    "\n",
    "Did you get the information you need ?\n",
    "Yes.\n",
    "\n",
    "Do you feel more confident in your options after using this tool?\n",
    "It's great to have this kind of system when you are in the process of renting an apartment.  The rental process is stressful enough so it's helpful to be able to check worrying about lead poisoning off the list. "
   ]
  },
  {
   "cell_type": "markdown",
   "metadata": {},
   "source": [
    "### Refinement\n",
    "Student A\n",
    "The only issue I really had to address here was user A's feedback that the reprisal statute prompt was too complicated. I decided to shorten the discussion of the law and just offer a brief sentence that this type of conduct is illegal and bring the user directly to the link instead.  That way, they can at least know the remedy exists if they decided to consult with an attorney in the future.\n",
    "\n",
    "Student B\n",
    "The second comment by user B regarding the download file name was another option of something I could change with the code.  The user mentioned it downloads using whatever name the user puts in as the file name.  The user may want to change it to something personalized and not their own name.  I decided to leave this particular point as is. I made this choice due to the fact that finding the file in the downloads folder isn't too complicated for a user and doesn't add too much additional time to change the file name.  For those reasons, I didn't think it cause the user too many issues and left it as it. "
   ]
  },
  {
   "cell_type": "markdown",
   "metadata": {},
   "source": [
    "## Product \n",
    "\n",
    "<center><br>Intro Pitch</br></center> \n",
    "During Week 10, I conducted a five-minute presentation that briefly introduced the problem of lead poisoning.  I thought it was important to discuss main points. One, framing how this issue touches multiple areas of the law and two, that this affects local communities in Massachusetts.  Primarily, legal issues surrounding lead poisoning are not merely limited to toxic torts.  In fact, landlord tenant discrimination that results from costs associated with compliance is more common than one might think.  My secondary goal was to frame the issue so that it was clear lead poisoning was not occuring in some archane place, but here in our own modernized community.  My hope in doing this was to create awareness and perhaps incentive people to become more involved in finding solutions.  \n",
    "[http://localhost:8888/view/Desktop/2L/Coding%20in%20the%20Law/codingthelaw/Fall_2017/work/asaratenney/Firm%20Connect%20.pptx]\n",
    "\n",
    "\n"
   ]
  },
  {
   "cell_type": "markdown",
   "metadata": {},
   "source": [
    "### Impact & Efficiencies. \n",
    "How can this project increase the efficiency or expand the reach of existing practice?\n",
    "\n",
    "My inspiration behind this project began with the hope of developing a solution to connect toxic tort victims to representation.  I was particularly inspired by one class speaker, Nicole Bradick, the Chief Strategy Officer at CuroLegal http://www.curolegal.com. Nicole's presentation of products like https://veteranslegalcheckup.com/ and https://hatecrimehelp.com illuminated how the legal community can use personalized tech-tools to get people the information and the advocacy resources they need. \n",
    "\n",
    "Veterans legal checkup, for example, seeks to address the issues veterans frequently experience. Some areas of law the program is geared towards are on employment law, family law, and housing. According to Mrs. Bradick's interview with the ABA, one of the biggest reasons there is a justice gap for her users is because many users are not aware their problem is a legal issue with an actionable remedy. \n",
    "\n",
    "Due to this lack of information users are not seeking services from an attorney or utilizing the justice system. Bradick sought to mitigate this problem by providing free and easily accessible information to veterans so that they may help solve problems in their lives through connecting with attorneys or other information services.  To apply that approach to my own project, I wanted to first find out what types of legal issues my own users were are experiencing and see if I could tailor this project to provide everyday people with the information leading them to both remedies under Massachusetts law and applicable resources on the web. \n",
    "\n"
   ]
  },
  {
   "cell_type": "markdown",
   "metadata": {},
   "source": [
    "# Real World Viability. \n",
    "\n",
    "I'd hope that my project would be able to help people in the real world as soon as possible.  I think the areas of law that I addressed and how they are connected in the questioning could stay the same because they allow the user to navigate the issues they come across in the real world.  I tried to keep in mind the fact a user may not just be experiencing one issue and the questioning should account for that.  Ie: Student A wanted to check *both* what age their children should be tested *and* what laws protect them if their landlord retaliated.  Student B wanted to check *both* what documents their landlord was required to give them *and* whether any laws protected them even if they didn't have small children living in the home. I was able to incorporate this combination of issues by researching first what issues are even out there and then the law that covers those issues. \n",
    "\n",
    "For legal purposes I would probably want someone to draft a disclaimer that I could use with this project.  I know there are professional code rules governing creating attorney-client relationship, solicitation, and the unlicenesed practice of law so it would be important to add all the necessarily legal disclaimers prior to making this useful in the real world."
   ]
  },
  {
   "cell_type": "markdown",
   "metadata": {},
   "source": [
    "## Sustainability.\n",
    "\n",
    "The first thing that will need to be consistently updated here are the laws surrounding lead paint in Massachusetts, whether they be landlord disclosure requirements or discrimination laws. This is because it's important that the laws ultimately given to the user are still valid. I don't want there to be anything in it to give misrepresentations or false information. The last thing I would want would be to disadvantage anyone through the use of this project. \n",
    "\n",
    "The second thing that will need to be checked on and updated is any information connected to the Center for Disease Control's website.  The research surrounding toxic substances is constantly evolving. Scientist and doctors are learning more and more about how environmental pollutants affect our health.  For example, the CDC recently lowered the \"safe\" concentration that may be found in a child's blood.  This is likely due to the fact that researchers are still learning how toxic lead really is and its harmful effect on children.  Finally, because some of the information in my project could have a directed impact on a childs health, it is really imporant that all the information be updated and maintained here so that it stays current with scientific studies and information on their website. "
   ]
  }
 ],
 "metadata": {
  "celltoolbar": "Attachments",
  "kernelspec": {
   "display_name": "Python 3",
   "language": "python",
   "name": "python3"
  },
  "language_info": {
   "codemirror_mode": {
    "name": "ipython",
    "version": 3
   },
   "file_extension": ".py",
   "mimetype": "text/x-python",
   "name": "python",
   "nbconvert_exporter": "python",
   "pygments_lexer": "ipython3",
   "version": "3.6.1"
  }
 },
 "nbformat": 4,
 "nbformat_minor": 2
}
