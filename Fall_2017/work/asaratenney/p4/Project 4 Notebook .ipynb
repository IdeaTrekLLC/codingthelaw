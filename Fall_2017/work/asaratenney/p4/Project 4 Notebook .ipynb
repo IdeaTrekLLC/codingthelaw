{
 "cells": [
  {
   "cell_type": "markdown",
   "metadata": {},
   "source": [
    "# Firm Connect: The First Step for Toxic Tort Victims\n",
    "By: Asara Tenney"
   ]
  },
  {
   "cell_type": "markdown",
   "metadata": {},
   "source": [
    "## Process\n",
    "\n",
    "The \"Process\" of this project touches on five central topic areas. 1. Framing 2. Research 3. Ideation & Prototyping 4. User-Testing, and 5. Refinement. The purpose of this section is to tackle the following questions. \n",
    "\n",
    "1. Framing\n",
    "How well can we define the problem facing legal practitioners or consumers. How do we define our relevant stakeholders / users? \n",
    "\n",
    "2. Research. \n",
    "What solutions exist and how can we utilize them to have a better impact on communities?  \n",
    "\n",
    "3. Ideation & Prototyping. \n",
    "How can we explore the available space of potential solutions? Which data-driven skills can we use to address the problem (For examples of Q&A markups and linear regression models click below [http://www.codingthelaw.org/Fall_2017/work/#p4]) \n",
    "\n",
    "4. User Testing. \n",
    "How should we engage in user testing and stay realistic?\n",
    "\n",
    "5. Refinement. \n",
    "How can we integrate feedback from user testing into subsequent versions of the solution?"
   ]
  },
  {
   "attachments": {},
   "cell_type": "markdown",
   "metadata": {},
   "source": [
    "### Framing\n",
    "\n",
    "*Testing Children & Early Detection\n",
    "\n",
    "What is a toxic tort? A toxic tort is a type of personal injury lawsuit where the injury is caused by a toxic substance. According to the Center for Disease Control, the majority of lead poisoning incidents occur through two mediums: Lead paint and leaded pipes.  Lead poisoning can immediate effects including abdominal pain, constipation, fatigue, headaches, irritability, loss of appetite, memory loss, pain or  tingling in the hands and/or feet, and weakness.  However, victims who experience the immediate effects of lead poisoning are typically exposed to high concentrations.  In many cases with lower exposures, symptoms are difficult to detect & long-term exposure causes latent developmental issues.  Numerous studies have shown children are more suceptible to latent effects than adults, experiencing damage to the brain and nervous system, slowed growth and development, learning and behavior problems (e.g., reduced IQ, ADHD, juvenile delinquency, and criminal behavior), and hearing and speech problems. [https://www.cdc.gov/nceh/lead/publications/books/plpyc/chapter2.htm#Effects%20of%20lead]\n",
    "In my research of Massachusetts law, I found that Masschusetts has a number of laws that protect children and families using early detection requirements. Children must first get tested at 9-12 months, then again at 2 and 3 years old. Children who live in areas designated as \"high-risk neighborhoods must also get tested at 4 years old:\n",
    "\n",
    "Boston\tHaverhill\tNew Bedford\n",
    "Brockton\tHolyoke\tSpringfield\n",
    "Chelsea\tLawrence\tTaunton\n",
    "Fall River\tLowell\tWorcester\n",
    "Fitchburg\tLynn\n",
    "\n",
    "Tests may either be administered by a physician or at a local health clinic. Parents can also contact the Childhood Lead Poisoning Prevention Program at (800) 532-9571.\n",
    "\n",
    "*Testing for and Abating Lead-based Paint\n",
    "\n",
    "Another potential issue a user could experience is not knowing how or when test for lead. \n",
    "\n",
    "If there is paint chips or peeling paint in an apartment, this is a good indication that lead paint was used.  The most likely places for lead paint are near windows, window sills, painted cabinets, baseboards, and doors. Lead can also be in the soil around a building.  Tenants have a few options here\n",
    "\n",
    "1. If a child under 6 years old lives in the home, a tenant may ask a landlord to have the apartment tested for lead in writing. \n",
    "2. If the landlord does not schedule a licensed lead inspector to inspect the tenant may either:\n",
    "A. Ask your local Board of Health or the Childhood Lead Poisoning Prevention Program for a free lead inspection.\n",
    "B. Do the testing themselves with a home lead test kit. These can be purchased online or at a hardware store.\n",
    "C. Hire a licensed lead inspector. If the inspector finds lead, the landlord must pay you back for the inspection.\n",
    "\n",
    "The landlord must remove or cover any dangerous levels of lead that are found.  If they refuse to do this, a tenent has the right to sue in court. \n",
    "\n",
    "*Reporting Disrimination and Retaliation \n",
    "\n",
    "While reviewing news articles and the Center for Disease Control website, I found another common issue involving lead poisoning is landlord-tenant discrimination. Families with young children may have experience discrimination or acts of retaliation for reporting violations. Two Massachusetts laws are on point here: \n",
    "\n",
    "MGL 151B s. 4(11) Discrimination Against Families with Young Children\u000b",
    " and \n",
    "\n",
    "MGL 186 s. 18 Reprisals Against Tenants for Reporting Violations.  \n",
    "\n",
    "M.G.L. c. 151B, § 4 (11) prohibits discrimination in the leasing or renting of accommodations to any person because the person has a child or children who shall occupy the premises with such person. MGL 186 s. 18 prohibits threats and acts of reprisal against a tenant who reports a violation of law or commences a judicial or administrative proceeding against the property owner.  The landlord may not terminate tenancy, increase rent, or substantially alter the terms of the lease within a 6 month time frame, otherwise a presumption is created that the property owner must rebut with clear and convincing evidence there was no reprisal. \n",
    "\n"
   ]
  },
  {
   "cell_type": "markdown",
   "metadata": {},
   "source": [
    "### Research\n",
    "\n",
    "This is clearly a lot of information to take in.  And frankly, resources for lead poisoning are dispersed intermittenly throughout the web.  In my own research, I came across countless website seeking to provide resources to victims of lead poisoning; one for what to do if you or your child is a victim of lead poisoning, another with a list of toxic tort firms to call, two on how to get a lead inspection, even more on how to handle a discrimination claim a. However, what I could not find was a single website with all of this in one place. \n",
    "\n",
    "Toxic tort firms may be listed with a simple google search, but what if you need to take steps on your own prior to hiring an attorney? Given the vast array of information out, how can we get those steps all in one place? "
   ]
  },
  {
   "cell_type": "markdown",
   "metadata": {},
   "source": [
    "### Ideation & Prototyping\n",
    "\n",
    "Using Q&A markup in Project One, I made a series of questions geared towards indigent defendants in the State of Maine.  The end result was a system that automatically directed a user to resources by asking about their personal information.  By asking specific questions about the user's issue, the Q&A tailors the solution to the particular problem the user is experiencing.  The user can quickly get to resources they need because those resources are based on their responses. Another benefit is the Q&A can ideally discern whether their problem is actually a legal question.  If that legal question has a remedy the system will outline the necessary steps they should take next. By pinpointing the legal question, this cuts down on excess information and saves valuable time.  \n",
    "\n",
    "I chose to use Q&A markup here because I found there was a need to simplify access to resources for individuals experiencing lead issues.  The Q&A can direct a user to a list of toxic tort firms, info on how to get testing or an inspection, and other necessary information for lead poisoning issues. The second valuable function of Q&A is document generation.  This feature is valuable here because it can generate a sample letter to send to a landlord requesting a lead inspection.  The Q & A can also ascertain key preliminary evidence for a landlord discrimination claim. "
   ]
  },
  {
   "cell_type": "markdown",
   "metadata": {},
   "source": [
    "### User Testing"
   ]
  },
  {
   "cell_type": "markdown",
   "metadata": {},
   "source": [
    "### Refinement"
   ]
  },
  {
   "attachments": {},
   "cell_type": "markdown",
   "metadata": {},
   "source": [
    "## Product \n",
    "\n",
    "###Intro Pitch \n",
    "During week 10, I conducted a five-minute presentation that briefly introduced the problem of lead poisoning.  I thought it was important to discuss main points. One, framing how this issue touches multiple areas of the law and two, that this affects local communities in Massachusetts.  Primarily, legal issues surrounding lead poisoning are not merely limited to toxic torts.  In fact, landlord tenant discrimination that results from costs associated with compliance is more common than one might think.  My secondary goal was to frame the issue so that it was clear lead poisoning was not occuring in some archane place, but here in our own modernized community.  My hope in doing this was to create awareness and perhaps incentive people to become more involved in finding solutions for victims.  \n",
    "[http://localhost:8888/view/Desktop/2L/Coding%20in%20the%20Law/codingthelaw/Fall_2017/work/asaratenney/Firm%20Connect%20.pptx]\n",
    "\n",
    "###Inspiration\n",
    "My inspiration behind this project began with the hope of developing a solution to connect toxic tort victims to representation.  I was particularly inspired by one class speaker, Nicole Bradick, the Chief Strategy Officer at CuroLegal http://www.curolegal.com. Nicole's presentation of products like https://veteranslegalcheckup.com/ and https://hatecrimehelp.com illuminated how the legal community can use tech-tools to get people the personalized information and the advocacy resources they need. \n",
    "\n",
    "For example, Veterans legal checkup seeks address the issues veterans frequently experience. Some areas of law the program focus's on employment, family law, and housing. According to Mrs. Bradick's interview with ABA, one of the biggest reasons there is a justice gap is veterans are not aware their problem is a legal issue with an actionable remedy. Due to this lack of information they are not seeking services from an attorney or utilizing the justice system. Bradick seeks to mitigate this problem by providing free and easily accessible information to veterans so that they may help sold problems in their lives by connecting with attorneys or other services.  To apply that approach to my own project, I wanted to first find out what types of legal issues victims are experiencing and see if I could tailor this project in order to provide victims with the information to lead them to an actionable remedy under Massachusetts law. \n",
    "\n"
   ]
  },
  {
   "cell_type": "markdown",
   "metadata": {},
   "source": [
    "### Impact & Efficiencies. \n",
    "How can this project increase the efficiency or expand the reach of existing practice?\n"
   ]
  },
  {
   "cell_type": "markdown",
   "metadata": {},
   "source": [
    "# Real World Viability. \n",
    "\n"
   ]
  },
  {
   "cell_type": "markdown",
   "metadata": {},
   "source": [
    "## Sustainability."
   ]
  }
 ],
 "metadata": {
  "celltoolbar": "Attachments",
  "kernelspec": {
   "display_name": "Python 3",
   "language": "python",
   "name": "python3"
  },
  "language_info": {
   "codemirror_mode": {
    "name": "ipython",
    "version": 3
   },
   "file_extension": ".py",
   "mimetype": "text/x-python",
   "name": "python",
   "nbconvert_exporter": "python",
   "pygments_lexer": "ipython3",
   "version": "3.6.1"
  }
 },
 "nbformat": 4,
 "nbformat_minor": 2
}
