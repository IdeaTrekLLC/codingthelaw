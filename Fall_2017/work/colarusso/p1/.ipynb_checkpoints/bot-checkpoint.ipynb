{
 "cells": [
  {
   "cell_type": "markdown",
   "metadata": {},
   "source": [
    "# Assigned Counsel and Fee Waiver Bot\n",
    "By [Author's name](https://example.com) \n",
    "\n",
    "I wrote a bot, and you can find it [here](http://www.codingthelaw.org/Fall_2017/work/colarusso/p1/indigent_cal.html). To write my bot, we used a tool called QnA Markup. The basic idea is that you create an interactive dicision tree by nesting questions and answers. Here's [my code](indigent_cal.txt). \n",
    "\n",
    "## User Testing\n",
    "\n",
    "[Describes process]\n",
    "\n",
    "## Refinement\n",
    "\n",
    "[Describes process]\n",
    "\n",
    "## Real-World Viability\n",
    "\n",
    "[Describes what's needed]"
   ]
  }
 ],
 "metadata": {
  "kernelspec": {
   "display_name": "Python 3",
   "language": "python",
   "name": "python3"
  },
  "language_info": {
   "codemirror_mode": {
    "name": "ipython",
    "version": 3
   },
   "file_extension": ".py",
   "mimetype": "text/x-python",
   "name": "python",
   "nbconvert_exporter": "python",
   "pygments_lexer": "ipython3",
   "version": "3.5.2"
  }
 },
 "nbformat": 4,
 "nbformat_minor": 0
}
