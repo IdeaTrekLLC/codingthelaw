{
 "cells": [
  {
   "cell_type": "markdown",
   "metadata": {},
   "source": [
    "Adapted from the notebook found at [How to Build a Law Bot](https://lawyerist.com/how-build-law-bot/)\n",
    "\n",
    "## Install libraries\n",
    "\n",
    "If you haven't already, you may need to install some dependencies. On the command line, run the following to install/update gspread, oauth2client, PyOpenSSL, and python-twitter.\n",
    "```\n",
    "pip install gspread\n",
    "pip install --upgrade oauth2client\n",
    "pip install PyOpenSSL\n",
    "pip install python-twitter\n",
    "```\n",
    "Library installs are one and done. So after doing this once, you should be all set. \n",
    "\n",
    "## Import modules and set variables\n",
    "\n",
    "Now we're getting into the bot's code. This is what will run every time your bot is called. To make sure it behaves as expected, replace the placeholder values found below in the `document_key`, `credentials`, `consumer_key`, `consumer_secret`, `access_token_key`, and `access_token_secret` variables with relevant values (e.g., your access credentials). \n",
    "\n",
    "You will need to create a new Google Sheet (same instructions as [last time](https://lawyerist.com/126074/online-forms-meet-local-document-automation-cut-and-paste-coding/)). You **MUST** add a first row with headings. If you don't, the below code won't work. In this example, just make four columns filled with zeros. Also, delete rows 2-999. This is because the code below appends values to the end of your sheet. So if you fail to remove rows 2-999, values will be appended to row 1000. Additionally, it looks at the last row of the sheet for your old values. So if you fail to delete 2-999, instead of seeing your row of zeros, it will look at the blank row 999.\n",
    "\n",
    "As for a Twitter account and Twitter credentials, follow the instruction in [this post](https://lawyerist.com/?p=127093). \n",
    "\n",
    "*NOTE: You should be reading all of the comments (i.e., text following a #)*"
   ]
  },
  {
   "cell_type": "code",
   "execution_count": 11,
   "metadata": {
    "collapsed": true
   },
   "outputs": [],
   "source": [
    "# Load the module for visiting and reading websites.\n",
    "import urllib.request\n",
    "# Load the module for running regular expressions (regex).\n",
    "import re \n",
    "# Load the module for date and time stuff.\n",
    "import datetime\n",
    "# Define the variable now as equal to the current date and time.\n",
    "now = datetime.datetime.now()"
   ]
  },
  {
   "cell_type": "code",
   "execution_count": 12,
   "metadata": {
    "collapsed": true
   },
   "outputs": [],
   "source": [
    "# Set the URLs you want to scrape.\n",
    "url_1 = \"http://www.codingthelaw.org/\"\n",
    "url_2 = \"http://www.codingthelaw.org/Fall_2017/work/\""
   ]
  },
  {
   "cell_type": "code",
   "execution_count": 13,
   "metadata": {
    "collapsed": true
   },
   "outputs": [],
   "source": [
    "# Load the module for accessing Google Sheets.\n",
    "import gspread\n",
    "# Load the module needed for securely communicating with Google Sheets.\n",
    "from oauth2client.service_account import ServiceAccountCredentials\n",
    "# The scope for your access credentials\n",
    "scope = ['https://spreadsheets.google.com/feeds']\n",
    "\n",
    "# Your spreadsheet's ID\n",
    "document_key = \"1Nr66RqtUg-1fP6K8C2OgVJWIU195E1Xja0ZqWZKQlus\"\n",
    "# Your Google project's .json key\n",
    "credentials = ServiceAccountCredentials.from_json_keyfile_name('../../../../../key.json', scope)\n",
    "\n",
    "# Use your credentials to authorize yourself.\n",
    "gc = gspread.authorize(credentials)\n",
    "# Open up the Sheet with the defined ID.\n",
    "wks = gc.open_by_key(document_key)\n",
    "\n",
    "#########################################\n",
    "#\n",
    "#  NOTE: The name of the sheet you are \n",
    "#  trying to access should be in the \n",
    "#  parenthetical below (e.g., Data). By\n",
    "#  Default this is probably \"Sheet1\".\n",
    "#\n",
    "#########################################\n",
    "worksheet = wks.worksheet(\"Sheet1\")\n",
    "\n",
    "# Count the number of rows in your Sheet &\n",
    "# resize to remove blank rows.\n",
    "worksheet.resize(worksheet.row_count)"
   ]
  },
  {
   "cell_type": "code",
   "execution_count": 14,
   "metadata": {},
   "outputs": [
    {
     "data": {
      "text/html": [
       "<div>\n",
       "<style>\n",
       "    .dataframe thead tr:only-child th {\n",
       "        text-align: right;\n",
       "    }\n",
       "\n",
       "    .dataframe thead th {\n",
       "        text-align: left;\n",
       "    }\n",
       "\n",
       "    .dataframe tbody tr th {\n",
       "        vertical-align: top;\n",
       "    }\n",
       "</style>\n",
       "<table border=\"1\" class=\"dataframe\">\n",
       "  <thead>\n",
       "    <tr style=\"text-align: right;\">\n",
       "      <th></th>\n",
       "      <th>TImestamp</th>\n",
       "      <th>URL 1</th>\n",
       "      <th>URL 2</th>\n",
       "      <th>All together now</th>\n",
       "    </tr>\n",
       "  </thead>\n",
       "  <tbody>\n",
       "    <tr>\n",
       "      <th>0</th>\n",
       "      <td>0</td>\n",
       "      <td>0</td>\n",
       "      <td>0</td>\n",
       "      <td>0</td>\n",
       "    </tr>\n",
       "  </tbody>\n",
       "</table>\n",
       "</div>"
      ],
      "text/plain": [
       "   TImestamp  URL 1  URL 2  All together now\n",
       "0          0      0      0                 0"
      ]
     },
     "execution_count": 14,
     "metadata": {},
     "output_type": "execute_result"
    }
   ],
   "source": [
    "# download spreadsheet\n",
    "import csv\n",
    "csvfile = \"output.csv\"\n",
    "list_of_lists = worksheet.get_all_values()\n",
    "with open(csvfile, \"w\") as output:\n",
    "    writer = csv.writer(output, lineterminator='\\n')\n",
    "    writer.writerows(list_of_lists)\n",
    "\n",
    "import pandas as pd\n",
    "output = pd.read_csv(csvfile)\n",
    "output[:3]"
   ]
  },
  {
   "cell_type": "code",
   "execution_count": 15,
   "metadata": {},
   "outputs": [],
   "source": [
    "# Import the relevant Twitter libraries so you can use Twitter.\n",
    "import twitter\n",
    "from twitter import TwitterError\n",
    "\n",
    "with open('../../../../../key.txt', 'r') as myfile:\n",
    "    key=myfile.read()\n",
    "    \n",
    "with open('../../../../../secret.txt', 'r') as myfile:\n",
    "    secret=myfile.read()\n",
    "    \n",
    "with open('../../../../../token_key.txt', 'r') as myfile:\n",
    "    token_key=myfile.read()\n",
    "\n",
    "with open('../../../../../token_secret.txt', 'r') as myfile:\n",
    "    token_secret=myfile.read()\n",
    "\n",
    "# Set you Twitter API credentials.\n",
    "api = twitter.Api(consumer_key=key,\n",
    "                  consumer_secret=secret,\n",
    "                  access_token_key=token_key,\n",
    "                  access_token_secret=token_secret)"
   ]
  },
  {
   "cell_type": "markdown",
   "metadata": {},
   "source": [
    "## Read the contents of your first webpage\n",
    "\n",
    "When you run the next cell, your program will visit the first URL you defined above. It will then print out that page's HTML. "
   ]
  },
  {
   "cell_type": "code",
   "execution_count": 16,
   "metadata": {
    "scrolled": true
   },
   "outputs": [
    {
     "name": "stdout",
     "output_type": "stream",
     "text": [
      "b'<!DOCTYPE html PUBLIC \"-//W3C//DTD XHTML 1.0 Transitional//EN\" \"http://www.w3.org/TR/xhtml1/DTD/xhtml1-transitional.dtd\"> \\n<HTML xmlns=\"http://www.w3.org/1999/xhtml\"\\n      xmlns:og=\"http://ogp.me/ns#\"\\n      xmlns:fb=\"http://www.facebook.com/2008/fbml\"> \\n<HEAD>\\n\\t<title>Coding the Law: An Introduction to Algorithms in the Law</title>\\n\\t<base href=\"http://www.codingthelaw.org/Fall_2017/\">\\n\\t<meta http-equiv=\"Content-type\" content=\"text/html;charset=UTF-8\"/> \\n\\t<meta name=\"viewport\" content=\"width=device-width; initial-scale=1.0; maximum-scale=1.0; user-scalable=0;\" />\\n\\t<meta name=\"apple-mobile-web-app-capable\" content=\"no\" />\\n\\t<meta name=\"apple-mobile-web-app-status-bar-style\" content=\"black\" /> \\n\\t<meta property=\"og:type\" content=\"website\"/>\\n\\t<meta property=\"og:title\" content=\"Coding the Law\"/>\\n\\t<meta property=\"og:description\" content=\"Learn how to think about thinking machines in the law by building your own. In this project-based course, open to non-programmers and coders alike, we will explore the technical, legal, and ethical dimensions behind the use of computer algorithms by legal practitioners and the justice system. Projects range from the creation of simple document review and automation tools to the construction of expert systems and narrow AIs.\"/>\\n\\t<meta property=\"og:image\" content=\"\"/>\\n\\t<meta http-equiv=\"X-UA-Compatible\" content=\"IE=edge\" />\\n\\t<link rel=\"shortcut icon\" type=\"image/x-icon\" href=\"../favicon.ico\">\\n\\t<link rel=\"apple-touch-icon\" href=\"/images/icon.png\"/> \\n\\t<link rel=\"stylesheet\" href=\"http://code.jquery.com/ui/1.11.1/themes/smoothness/jquery-ui.css\">\\n\\t<link rel=\"stylesheet\" type=\"text/css\" href=\"/Fall_2017/css/style.css\">\\n\\t<script src=\"http://code.jquery.com/jquery-1.11.1.min.js\"></script>\\n  \\t<script src=\"http://code.jquery.com/jquery-1.10.2.js\"></script>\\n  \\t<script src=\"http://code.jquery.com/ui/1.11.1/jquery-ui.js\"></script>\\n</HEAD>\\n<BODY BGCOLOR=\"#ffffff\" BACKGROUND=\"\" MARGINWIDTH=\"0\" MARGINHEIGHT=\"0\">\\n<FORM name=\"FORM\" id=\"FORM\"><div id=\"conversation\" style=\"margin:15px auto 0 auto;padding:0 15px;max-width:600px\">\\n<div id=\"icon\" style=\"background-size: 110px 99px;background-image: url(\\'http://www.codingthelaw.org/images/max_headroom.gif\\');\"></div>\\n<h1 style=\"text-align:center;\">Coding the Law<center style=\"margin-top:10px;\"><span class=\"subtitle\">Suffolk Law School: Fall 2017</span></center></h1>\\n<div class=\"menu_bar\">\\n<p style=\"text-align:center;\">\\n<a href=\"/\" class=\"menu\">\\xc2\\xa0About\\xc2\\xa0</a>  \\n<a href=\"work/\" class=\"menu\">\\xc2\\xa0Student&nbsp;Work </a>\\n<a href=\"https://codingthelawfall2017.slack.com/\" class=\"menu\" target=\"_new\">\\xc2\\xa0Slack\\xc2\\xa0</a>  \\n</div>\\n<p class=\"quote\">\\xe2\\x80\\x9cWhat I cannot create, I do not understand.\\xe2\\x80\\x9d <font size=-1>Richard Feynman</font></p>\\n<p>Learn how to think about thinking machines in the law by building your own. In this project-based course, open to non-programmers and coders alike, we will explore the technical, legal, and ethical dimensions behind the use of computer algorithms by legal practitioners and the justice system. Projects range from the creation of simple document review and automation tools to the construction of expert systems and narrow AIs.</p>\\n<p>When possible, projects will address real-world access to justice needs, expanding and improving free online legal information tools.</p>\\n\\n<p>Instructor: <a href=\"https://twitter.com/colarusso\">@Colarusso</a>; \\n<a href=\"https://docs.google.com/document/d/1Y54RLtakiodZxaq8nzQ_nFpEaVlX_z34BCKswa6u_Sw/\">Syllabus</a>; \\n<a href=\"https://docs.google.com/document/d/1eXiBRi0prftumoufZ3tricWx-tz7nzJPHB91wvSudQ4/\">Class, Reading, and Work Schedule</a>\\n</p>\\n\\n<p>Project Rubrics:</p>\\n<ul>\\n<li><a href=\"https://docs.google.com/document/d/1zLexK65v3nWaez0A-b1aK4of-rQl1MW4ic8ZZFBOFYM/\">Expert Systems and Document Automation</a></li> \\n<li><a href=\"https://docs.google.com/document/d/1fEhH23ESHwpJw_bT1w5BQet2iv1GAGx4_e9-Yj_KH1Y/\">Web scraping, API\\'s, and Twitter Bots</a></li>  \\n<li><a href=\"https://docs.google.com/document/d/1luojz5DXNIBUejaqXMpChheno81PwWEUe9geDkdAhLE/\">Modeling for Insight, Classification, and Prediction (Data Science)</a></li> \\n<li><a href=\"https://docs.google.com/document/d/1tYqeUK9sLHmfFuXK-FMhCFR5_PXGdzhq746qW95SPGg/\">Making a Difference (Final Project)</a></li>\\n</ul>\\n\\n<div style=\"margin:25px 0;padding:5px;border-top:solid 1px #888;text-align:right;text-color:#555;\"> \\n<font size=-1><a href=\"credits/\">credits</a> | last updated 2017-08-23 <a href=\"https://drive.google.com/drive/folders/0B3NYcage24bhZlJUSjFwT2dTaE0\" style=\"text-decoration:none;color:#555;\">\\xcf\\x80</a></font>\\n</div>\\n\\n</BODY>\\n</HTML>'\n"
     ]
    }
   ],
   "source": [
    "p_1 = urllib.request.build_opener(urllib.request.HTTPCookieProcessor).open(url_1).read()\n",
    "print(p_1)"
   ]
  },
  {
   "cell_type": "markdown",
   "metadata": {},
   "source": [
    "## Parse the site's contents\n",
    "\n",
    "Scan the above HTML for the content you are trying to extract. Cut and paste the HTML above into the TEST STRING box over at [Regex 101](https://regex101.com/) and craft a regex that captures your desired content. \n",
    "\n",
    "Remember the parenthetical is the group you're pulling out. Once you have a working regex, plug it into the code below, and run the cell. If it worked, you'll see you scraped data as an output. "
   ]
  },
  {
   "cell_type": "code",
   "execution_count": 17,
   "metadata": {},
   "outputs": [
    {
     "name": "stdout",
     "output_type": "stream",
     "text": [
      "Coding the Law: An Introduction to Algorithms in the Law\n"
     ]
    }
   ],
   "source": [
    "res_1 = re.search(b'<title>(.*)</title>',p_1)\n",
    "print(res_1.group(1).decode('UTF-8'))"
   ]
  },
  {
   "cell_type": "markdown",
   "metadata": {},
   "source": [
    "## Read the contents of your second webpage\n",
    "\n",
    "Same deal as above, but now we're looking at your second URL. "
   ]
  },
  {
   "cell_type": "code",
   "execution_count": 18,
   "metadata": {
    "scrolled": true
   },
   "outputs": [
    {
     "name": "stdout",
     "output_type": "stream",
     "text": [
      "b'<!DOCTYPE html PUBLIC \"-//W3C//DTD XHTML 1.0 Transitional//EN\" \"http://www.w3.org/TR/xhtml1/DTD/xhtml1-transitional.dtd\"> \\n<HTML xmlns=\"http://www.w3.org/1999/xhtml\"\\n      xmlns:og=\"http://ogp.me/ns#\"\\n      xmlns:fb=\"http://www.facebook.com/2008/fbml\"> \\n<HEAD>\\n\\t<title>Coding the Law: Student Work</title>\\n\\t<meta http-equiv=\"Content-type\" content=\"text/html;charset=UTF-8\"/> \\n\\t<meta name=\"viewport\" content=\"width=device-width; initial-scale=1.0; maximum-scale=1.0; user-scalable=0;\" />\\n\\t<meta name=\"apple-mobile-web-app-capable\" content=\"no\" />\\n\\t<meta name=\"apple-mobile-web-app-status-bar-style\" content=\"black\" /> \\n\\t<meta property=\"og:type\" content=\"website\"/>\\n\\t<meta property=\"og:title\" content=\"Coding the Law: Student Work\"/>\\n\\t<meta property=\"og:description\" content=\"Learn how to think about thinking machines in the law by building your own. In this project-based course, open to non-programmers and coders alike, we will explore the technical, legal, and ethical dimensions behind the use of computer algorithms by legal practitioners and the justice system. Projects range from the creation of simple document review and automation tools to the construction of expert systems and narrow AIs.\"/>\\n\\t<meta property=\"og:image\" content=\"\"/>\\n\\t<meta http-equiv=\"X-UA-Compatible\" content=\"IE=edge\" />\\n\\t<link rel=\"shortcut icon\" type=\"image/x-icon\" href=\"../favicon.ico\">\\n\\t<link rel=\"apple-touch-icon\" href=\"/images/icon.png\"/> \\n\\t<link rel=\"stylesheet\" href=\"http://code.jquery.com/ui/1.11.1/themes/smoothness/jquery-ui.css\">\\n\\t<link rel=\"stylesheet\" type=\"text/css\" href=\"../css/style.css\">\\n\\t<script src=\"http://code.jquery.com/jquery-1.11.1.min.js\"></script>\\n  \\t<script src=\"http://code.jquery.com/jquery-1.10.2.js\"></script>\\n  \\t<script src=\"http://code.jquery.com/ui/1.11.1/jquery-ui.js\"></script>\\n</HEAD>\\n<BODY BGCOLOR=\"#ffffff\" BACKGROUND=\"\" MARGINWIDTH=\"0\" MARGINHEIGHT=\"0\">\\n<FORM name=\"FORM\" id=\"FORM\"><div id=\"conversation\" style=\"margin:15px auto 0 auto;padding:0 15px;max-width:600px\">\\n<div id=\"icon\" style=\"background-size: 110px 99px;background-image: url(\\'http://www.codingthelaw.org/images/max_headroom.gif\\');\"></div>\\n<h1 style=\"text-align:center;\">Coding the Law<center style=\"margin-top:10px;\"><span class=\"subtitle\">Suffolk Law School: Fall 2017</span></center></h1>\\n<div class=\"menu_bar\">\\n<p style=\"text-align:center;\">\\n<a href=\"/\" class=\"menu\">\\xc2\\xa0About\\xc2\\xa0</a>\\n<a href=\"../work/\" class=\"menu\">\\xc2\\xa0Student&nbsp;Work </a>\\n<a href=\"https://codingthelawfall2017.slack.com/\" class=\"menu\" target=\"_new\">\\xc2\\xa0Slack\\xc2\\xa0</a>  \\n</div>\\n<h2>Student Work</h2>\\nThe following is a showcase of student work.\\n<h3>Expert Systems and Document Automation</h3>\\n<p><a href=\"https://docs.google.com/document/d/1zLexK65v3nWaez0A-b1aK4of-rQl1MW4ic8ZZFBOFYM/\">Challenge</a>: For a given jurisdiction, create a \"chatbot\" to determine if someone is eligible for appointed counsel, fee waivers, or the like. The bot should provide users with a set of action items to obtain any such aid, including copies of any applicable court forms pre-filled with data obtained from interaction with the bot.</p>\\n<h4>Student Projects <span style=\"background:yellow\">(in progress)</span></h4>\\n<ul>\\n<li>California (<a href=\"http://www.codingthelaw.org/Fall_2017/work/shentail/p1/bot.html\">Bot</a>, <a href=\"http://www.codingthelaw.org/Fall_2017/work/shentail/p1/notebook.html\">Notebook</a>)</li>\\n<li>Connecticut (<a href=\"http://www.codingthelaw.org/Fall_2017/work/devonbodey/p1/bot.html\">Bot</a>, <a href=\"http://www.codingthelaw.org/Fall_2017/work/devonbodey/p1/notebook.html\">Notebook</a>)</li>\\n<li>Florida (<a href=\"http://www.codingthelaw.org/Fall_2017/work/agallino/p1/bot.html\">Bot</a>, <a href=\"http://www.codingthelaw.org/Fall_2017/work/agallino/p1/notebook.html\">Notebook</a>)</li>\\n<li>Georgia (<a href=\"http://www.codingthelaw.org/Fall_2017/work/aambrogio/p1/bot.html\">Bot</a>, <a href=\"http://www.codingthelaw.org/Fall_2017/work/aambrogio/p1/notebook.html\">Notebook</a>)</li>\\n<li>Illinois (<a href=\"http://www.codingthelaw.org/Fall_2017/work/c0ding7h314w/p1/bot.html\">Bot</a>, <a href=\"http://www.codingthelaw.org/Fall_2017/work/c0ding7h314w/p1/notebook.html\">Notebook</a>)</li>\\n<li>Maine (<a href=\"http://www.codingthelaw.org/Fall_2017/work/asaratenney/p1/bot.html\">Bot</a>, <a href=\"http://www.codingthelaw.org/Fall_2017/work/asaratenney/p1/notebook.html\">Notebook</a>)</li>\\n<li>Maryland (<a href=\"http://www.codingthelaw.org/Fall_2017/work/bcrockett3/p1/bot.html\">Bot</a>, <a href=\"http://www.codingthelaw.org/Fall_2017/work/bcrockett3/p1/notebook.html\">Notebook</a>)</li>\\n<li>Massachusetts (<a href=\"http://www.codingthelaw.org/Fall_2017/work/scasey44/p1/bot.html\">Bot</a>, <a href=\"http://www.codingthelaw.org/Fall_2017/work/scasey44/p1/notebook.html\">Notebook</a>)</li>\\n<li>New Hampshire (<a href=\"http://www.codingthelaw.org/Fall_2017/work/edumore/p1/bot.html\">Bot</a>, <a href=\"http://www.codingthelaw.org/Fall_2017/work/edumore/p1/notebook.html\">Notebook</a>)</li>\\n<li>New Jersey (<a href=\"http://www.codingthelaw.org/Fall_2017/work/asilpavuthi/p1/bot.html\">Bot</a>, <a href=\"http://www.codingthelaw.org/Fall_2017/work/asilpavuthi/p1/notebook.html\">Notebook</a>)</li>\\n<li>New York (<a href=\"http://www.codingthelaw.org/Fall_2017/work/moiucihdaa/p1/bot.html\">Bot</a>, <a href=\"http://www.codingthelaw.org/Fall_2017/work/moiucihdaa/p1/notebook.html\">Notebook</a>)</li>\\n<li>North Carolina (<a href=\"http://www.codingthelaw.org/Fall_2017/work/cwood3/p1/bot.html\">Bot</a>, <a href=\"http://www.codingthelaw.org/Fall_2017/work/cwood3/p1/notebook.html\">Notebook</a>)</li>\\n<li>Ohio (<a href=\"http://www.codingthelaw.org/Fall_2017/work/JeffGitsIt/p1/bot.html\">Bot</a>, <a href=\"http://www.codingthelaw.org/Fall_2017/work/JeffGitsIt/p1/notebook.html\">Notebook</a>)</li>\\n<li>Rhode Island (<a href=\"http://www.codingthelaw.org/Fall_2017/work/Kriddr/p1/bot.html\">Bot</a>, <a href=\"http://www.codingthelaw.org/Fall_2017/work/Kriddr/p1/notebook.html\">Notebook</a>)</li>\\n<li>Texas (<a href=\"http://www.codingthelaw.org/Fall_2017/work/mmorgan/p1/bot.html\">Bot</a>, <a href=\"http://www.codingthelaw.org/Fall_2017/work/mmorgan/p1/notebook.html\">Notebook</a>)</li>\\n<li>Vermont (<a href=\"http://www.codingthelaw.org/Fall_2017/work/jmm11009/p1/bot.html\">Bot</a>, <a href=\"http://www.codingthelaw.org/Fall_2017/work/jmm11009/p1/notebook.html\">Notebook</a>)</li>\\n<li>Virginia (<a href=\"http://www.codingthelaw.org/Fall_2017/work/lchen26/p1/bot.html\">Bot</a>, <a href=\"http://www.codingthelaw.org/Fall_2017/work/lchen26/p1/notebook.html\">Notebook</a>)</li>\\n</ul>\\n<h3>Web scraping, API\\'s, and Twitter Bots</h3>\\n<p><a href=\"https://docs.google.com/document/d/1fEhH23ESHwpJw_bT1w5BQet2iv1GAGx4_e9-Yj_KH1Y/\">Challenge</a>: Create a bot that monitors information on the Web and tweets in response to changes in that information.</p>\\n<ul>\\n<li>Links to student work pending.</li>\\n</ul>\\n<h3>Modeling for Insight, Classification, and Prediction (Data Science)</h3>\\n<p><a href=\"https://docs.google.com/document/d/1luojz5DXNIBUejaqXMpChheno81PwWEUe9geDkdAhLE/\">Challenge</a>: Model a system and implement an API allowing others to use your model.</p>\\n<ul>\\n<li>Links to student work pending.</li>\\n</ul>\\n<h3>Making a Difference, Final Projects</h3>\\n<p><a href=\"https://docs.google.com/document/d/1tYqeUK9sLHmfFuXK-FMhCFR5_PXGdzhq746qW95SPGg/\">Challenge</a>: Partner with an external party to create a technical solution using some combination of the above technologies. This solution must solve a real-world problem.</p>\\n<ul>\\n<li>Links to student work pending.</li>\\n</ul>\\n\\n<div style=\"margin:25px 0;padding:5px;border-top:solid 1px #888;text-align:right;text-color:#555;\">\\n<font size=-1><a href=\"../credits/\">credits</a> | last updated 2017-09-26</font>\\n</div>\\n</BODY>\\n</HTML>'\n"
     ]
    }
   ],
   "source": [
    "p_2 = urllib.request.build_opener(urllib.request.HTTPCookieProcessor).open(url_2).read()\n",
    "print(p_2)"
   ]
  },
  {
   "cell_type": "markdown",
   "metadata": {},
   "source": [
    "## Parse the site's contents\n",
    "\n",
    "Again, the same as above, but with a new regex on a new page."
   ]
  },
  {
   "cell_type": "code",
   "execution_count": 19,
   "metadata": {},
   "outputs": [
    {
     "name": "stdout",
     "output_type": "stream",
     "text": [
      "Coding the Law: Student Work\n"
     ]
    }
   ],
   "source": [
    "res_2 = re.search(b'<title>(.*)</title>',p_2)  \n",
    "print(res_2.group(1).decode('UTF-8'))"
   ]
  },
  {
   "cell_type": "markdown",
   "metadata": {},
   "source": [
    "## Combine Stuff\n",
    "\n",
    "Now we're going to take the values you found above and do something with them. The new thing you'll be seeing in this code is the If statement. In Python, if you type `if [some evaluation]:` then the code directly below that statement and indented once will run only if that evaluation is true. For example:"
   ]
  },
  {
   "cell_type": "code",
   "execution_count": 20,
   "metadata": {
    "collapsed": true
   },
   "outputs": [],
   "source": [
    "# The If statment below says: If the variables res_1 and res_2 actually exist, do what follows.\n",
    "if res_1 and res_2: \n",
    "    # Make sure res_1 is in a format we can read (that's the \"decode\" part)\n",
    "    # output_1 equal to regex match on page one.\n",
    "    output_1 = res_1.group(1).decode('UTF-8')\n",
    "    # Do the same thing as above but for res_2\n",
    "    output_2 = res_2.group(1).decode('UTF-8')\n",
    "    # Combine titles. Then store the value in the variable named \"titles.\"\n",
    "    titles = output_1 + \" AND \" + output_2"
   ]
  },
  {
   "cell_type": "code",
   "execution_count": 21,
   "metadata": {},
   "outputs": [
    {
     "name": "stdout",
     "output_type": "stream",
     "text": [
      "0 | 0 | 0 | 0\n"
     ]
    }
   ],
   "source": [
    "# Print out the old values stored in your sheet \n",
    "# Note: The first time you run this code, it will be empty as nothing has yet to be stored in your sheet.\n",
    "print(\"%s | %s | %s | %s\"%(worksheet.row_values(worksheet.row_count)[1],worksheet.row_values(worksheet.row_count)[2],worksheet.row_values(worksheet.row_count)[3],worksheet.row_values(worksheet.row_count)[2]))"
   ]
  },
  {
   "cell_type": "code",
   "execution_count": 22,
   "metadata": {},
   "outputs": [
    {
     "name": "stdout",
     "output_type": "stream",
     "text": [
      "2017-10-11 17:32:02.410198 | Coding the Law: An Introduction to Algorithms in the Law | Coding the Law: Student Work | Coding the Law: An Introduction to Algorithms in the Law AND Coding the Law: Student Work\n"
     ]
    }
   ],
   "source": [
    "# Print the new values pulled from your pages\n",
    "print(\"%s | %s | %s | %s\"%(now,output_1,output_2,titles))"
   ]
  },
  {
   "cell_type": "markdown",
   "metadata": {},
   "source": [
    "## Post to Twitter and Save to Google"
   ]
  },
  {
   "cell_type": "code",
   "execution_count": 23,
   "metadata": {},
   "outputs": [
    {
     "name": "stdout",
     "output_type": "stream",
     "text": [
      "P1 Title is Coding the Law: An Introduction to Algorithms in the Law\n",
      "P2 Title is Coding the Law: Student Work\n",
      "Titles: Coding the Law: An Introduction to Algorithms in the Law AND Coding the Law: Student Work\n"
     ]
    }
   ],
   "source": [
    "if res_1 and res_2: \n",
    "    # Again, the above tells the program to continue with what follows only if res_1 and res_2 exist\n",
    "    \n",
    "    if (float(worksheet.row_values(worksheet.row_count)[1]) != output_1) or (float(worksheet.row_values(worksheet.row_count)[2]) != output_2):\n",
    "        # The above If statment, says to continue only if the old sheet vales and \n",
    "        # the new pulled values are not equal (!=) to eachother. \n",
    "        \n",
    "        if (float(worksheet.row_values(worksheet.row_count)[1]) != output_1):\n",
    "            # The above If statment says to continue only if the first value is \n",
    "            # different from the last version stored in the sheet.\n",
    "                            \n",
    "            # Go ahead and tweet out the update. Here you need to know about a Twitter API limitation.\n",
    "            # Twitter will not Tweet the same tweet a second time if it is too close to the first instance.\n",
    "            # In such cases, it will throw an error. The `try:` and `except TwitterError:` constructions are\n",
    "            # similar to If statements. However, they will try the first block of code first, and only try \n",
    "            # the second block if it runs into a Twitter error. Here, the second try tweaks the language\n",
    "            # just enough that it isn't a duplicate Tweet.\n",
    "            try:\n",
    "                # Post to Twitter.\n",
    "                #print ('P1 Title is %s'%(output_1))\n",
    "                status = api.PostUpdate('P1 Title is %s'%(output_1))\n",
    "                print(status.text)\n",
    "            except TwitterError:\n",
    "                # Post to Twitter.\n",
    "                #print ('P1 Title: %s'%(output_1))\n",
    "                status = api.PostUpdate('P1 Title: %s'%(output_1))\n",
    "                print(status.text)\n",
    "\n",
    "        # What follows is effctivly the above but for the second value.         \n",
    "        if ((float(worksheet.row_values(worksheet.row_count)[2]) != output_2)):\n",
    "\n",
    "            try:\n",
    "                #print ('P2 Title is %s'%(output_2))\n",
    "                status = api.PostUpdate('P2 Title is %s'%(output_2))\n",
    "                print(status.text)\n",
    "            except TwitterError:\n",
    "                #print ('P2 Title: %s'%(output_2))\n",
    "                status = api.PostUpdate('P2 Title is %s'%(output_2))\n",
    "                print(status.text)\n",
    "                \n",
    "        try:\n",
    "            #print ('Titles: %s'%(output_2))\n",
    "            status = api.PostUpdate('Titles: %s'%(titles))\n",
    "            print(status.text)\n",
    "        except TwitterError:\n",
    "            #print ('T1 + T2: %s'%(output_2))\n",
    "            status = api.PostUpdate('T1 + T2: %s'%(titles))\n",
    "            print(status.text)\n",
    "                \n",
    "        worksheet.append_row([now,output_1,output_2,titles])"
   ]
  },
  {
   "cell_type": "code",
   "execution_count": null,
   "metadata": {
    "collapsed": true
   },
   "outputs": [],
   "source": []
  }
 ],
 "metadata": {
  "kernelspec": {
   "display_name": "Python 3",
   "language": "python",
   "name": "python3"
  },
  "language_info": {
   "codemirror_mode": {
    "name": "ipython",
    "version": 3
   },
   "file_extension": ".py",
   "mimetype": "text/x-python",
   "name": "python",
   "nbconvert_exporter": "python",
   "pygments_lexer": "ipython3",
   "version": "3.6.1"
  }
 },
 "nbformat": 4,
 "nbformat_minor": 1
}
