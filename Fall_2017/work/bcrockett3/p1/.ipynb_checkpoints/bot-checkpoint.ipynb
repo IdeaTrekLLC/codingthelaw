{
 "cells": [
  {
   "cell_type": "markdown",
   "metadata": {},
   "source": [
    "# Maryland Assigned Counsel and Fee Waiver Bot\n",
    "By Bianca Crockett \n",
    "\n",
    "I wrote a bot, and you can find it [here](http://www.codingthelaw.org/Fall_2017/work/bcrockett3/p1/bot.html). To write my bot, we used a tool called [QnA Markup](http://www.qnamarkup.org/). Basically, you create an interactive dicision tree by nesting questions and answers. Here's [my code](bot.txt). \n",
    "\n",
    "## User Testing\n",
    "For testing, I made phone calls to Venable LLP at their Towson, Maryland, Rockville, Maryland, and Baltimore, Maryland offices with no response as they transferred me over to dead lines and provided no emails. I also called Thatcher Law firm in Greenbelt Maryland,The Mckeon Law firm, ans Stravitz Law firm and was also unfortunately met with no response. Concerning peer testing, Justin and I exchanged comments fairly late for me to take advantage of feedback, but he was effective in pointing out to me that my Goto tags failed to work and that I was on the right track with the resources I included in the chat bot. [Here](codingthelaw/Fall_2017/work/bcrockett3/p1/Comment.png) you can see the feedback I incorporated and I have included my [beta test](http://www.codingthelaw/Fall_2017/work/bcrockett3/p1/beta%20test.txt) as well.      \n",
    "\n",
    "\n",
    "## Refinement\n",
    "I researched Maryland's guidelines on fee waivers and appointment of counsel and found out that the rules are quite ambiguous and largely up to the court. I took apart what I could from the fee waiver and information from Maryland Rules, Rule 4-215 as well as the Maryland Office of Public Defenders website http://www.opd.state.md.us/.\n",
    "\n",
    "Once the research was done, I started to write out different variables and draw out the order I wanted my bot to flow in. After learning about fedpov(), I decided to use this to calculate the need for an individual to make no more than 100% over the poverty level. I also learned about mail merging and with many issues concerning the url, was able to make it work once I took the actual name from the url and also reverted the mailmerge document back to a word document and reuploaded it. I used this [form](codingthelaw/Fall_2017/work/bcrockett3/p1/waiver.docx) converted from a [pdf](http://mdcourts.gov/courtforms/joint/ccdc090.pdf) for the mail merge. I spent the remainder of the time fixing small areas that made little sense to a lay person and also fixing switching out a couple of sources that I left in from testing what I could do for the state I actually desired to work on for personal reasons. [Here](codingthelaw/Fall_2017/work/bcrockett3/p1/bot.txt) is my final bot. \n",
    "\n",
    "\n",
    "## Real-World Viability\n",
    "\n",
    "I wish to make this bot viable, but feel that it needs a lot of work. Maryland has a complicated system and it seems that a more robust flow of information may be needed along with perhaps revamping of the flow of questions. I, however, believe that what I have is a good start and accomplishes enough for someone to have an idea of where they stand and what they will need to do as the next step in their situation. Also, adding too much information can be overwhelming and that was a big concern of mine that a person would find answering these questions to be too much of a monotonous task to complete.\n",
    "\n"
   ]
  },
  {
   "cell_type": "code",
   "execution_count": null,
   "metadata": {
    "collapsed": true
   },
   "outputs": [],
   "source": []
  }
 ],
 "metadata": {
  "kernelspec": {
   "display_name": "Python 3",
   "language": "python",
   "name": "python3"
  },
  "language_info": {
   "codemirror_mode": {
    "name": "ipython",
    "version": 3
   },
   "file_extension": ".py",
   "mimetype": "text/x-python",
   "name": "python",
   "nbconvert_exporter": "python",
   "pygments_lexer": "ipython3",
   "version": "3.6.1"
  }
 },
 "nbformat": 4,
 "nbformat_minor": 1
}
