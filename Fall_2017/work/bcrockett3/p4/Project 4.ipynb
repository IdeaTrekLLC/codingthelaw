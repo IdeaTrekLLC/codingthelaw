{
 "cells": [
  {
   "cell_type": "code",
   "execution_count": 9,
   "metadata": {},
   "outputs": [
    {
     "ename": "SyntaxError",
     "evalue": "invalid syntax (<ipython-input-9-8d58e0bf2eab>, line 3)",
     "output_type": "error",
     "traceback": [
      "\u001b[0;36m  File \u001b[0;32m\"<ipython-input-9-8d58e0bf2eab>\"\u001b[0;36m, line \u001b[0;32m3\u001b[0m\n\u001b[0;31m    By [Bianca Crockett]\u001b[0m\n\u001b[0m                      ^\u001b[0m\n\u001b[0;31mSyntaxError\u001b[0m\u001b[0;31m:\u001b[0m invalid syntax\n"
     ]
    }
   ],
   "source": [
    "# Appointment of Counsel Request Bot\n",
    "\n",
    "By [Bianca Crockett]\n",
    "\n",
    "### User Testing\n",
    "My Partner was initially Melissa Rothstein from the Maryland Office of the Public Defender. Unfortunately as I was progressing in my project, Melissa becamse unavailable due to a vacation trip. I was, however, able to acquire information through a phone call, concerning what she wanted to see my project. \n",
    "She first wanted the bot to be a tool for people to use to fill out a form to bring to the Court Commissioner.\n",
    "This is because, as she explained it, that the Commissioner makes the final decision. She pointed me to (http://mgaleg.maryland.gov/2017RS/Chapters_noln/CH_606_sb0714e.pdf)\n",
    "  (http://mdcourts.gov/district/forms/general/dc099.pdf) and (http://www.courts.state.md.us/district/forms/general/dc099br.pdf) for this information. She informed me that there would be no definitive way of determining eligibility for the appointment of counel that would be satisfying to the client, and instead to find a way to give the client information about what they would need. She also was unfamiliar with fee waivers and\n",
    "gave me the option to just focus solely on counsel as to not cause confusion.\n",
    "Through this suggestion, I turned the determination bot into a request form bot. After speaking with Melissa Rothstein, I was directed to speak with Cathie Copper who has yet to provide me feedback in our correspondence with eachother. I did not acquire any additional information from Cathie and proceeded as Melissa and I discussed earlier.\n",
    "\n",
    "### Framing\n",
    "As described by Melissa Rothstein, this bot helps individuals understand what they need to do to confirm if they are eligible for \n",
    "appointment of counsel.\n",
    "\n",
    "### Real-World Viability \n",
    "This bot as it is now can be used for bringing information to the court to determine if someone is eligible for appointment of counsel. A person\n",
    "could go through the steps of answering all the questions, print a form, and bring it down to the Office of the Court Commissioner along with any relevant forms as described and await approval.\n",
    "\n",
    "### Intro Pitch\n",
    "My powerpoint presentation can be found (http://www.codingthelaw.org/Fall_2017/work/bcrockett3/Final%20Project/Bianca%20Final%20Project%20Part%201.pptx)\n",
    "\n",
    "### Refinement\n",
    "In terms of incorporating feedback, I had to work with what Melissa Rothstein gave me and go from there. She only saw the project that I created from Project 1, so no feedback\n",
    "was taken into consideration as I progressed other than what she told me from our initial phone call. Cathie Copper who took over for Melissa Rothstein was unable to give any feedback, and therefore I\n",
    "had to take the intiative and put in what I felt was most important from our conversation.\n",
    "\n",
    "### Documentation\n",
    "The language of the bot is straight forward. I made sure to match the questions up with the form along with small explanations of certain parts\n",
    "in parenthesis such as examples of liquidated assets. The questions are simple enough where a normal person would not need aid in answering them.\n",
    "\n",
    "### Ideation and Prototyping\n",
    "I originally thought I was going to make something similar to my first project, where it would be a bot that determines indigency. After speaking with Melissa Rothstein, I determined that a better way to build this project would be to start over and think about\n",
    "what questions would be needed for a Court Commissioner to know if a person qualifies for appointed counsel in Maryland.\n",
    "\n",
    "\n",
    "[Final Draft](http://www.codingthelaw.org/Fall_2017/work/bcrockett3/p4/legalbot.txt)\n",
    " \n",
    "\n"
   ]
  },
  {
   "cell_type": "code",
   "execution_count": null,
   "metadata": {
    "collapsed": true
   },
   "outputs": [],
   "source": []
  },
  {
   "cell_type": "code",
   "execution_count": null,
   "metadata": {
    "collapsed": true
   },
   "outputs": [],
   "source": []
  }
 ],
 "metadata": {
  "kernelspec": {
   "display_name": "Python 3",
   "language": "python",
   "name": "python3"
  },
  "language_info": {
   "codemirror_mode": {
    "name": "ipython",
    "version": 3
   },
   "file_extension": ".py",
   "mimetype": "text/x-python",
   "name": "python",
   "nbconvert_exporter": "python",
   "pygments_lexer": "ipython3",
   "version": "3.6.1"
  }
 },
 "nbformat": 4,
 "nbformat_minor": 2
}
