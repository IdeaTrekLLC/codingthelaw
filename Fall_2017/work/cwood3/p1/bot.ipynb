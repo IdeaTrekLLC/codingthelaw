{
 "cells": [
  {
   "cell_type": "markdown",
   "metadata": {},
   "source": [
    "# Assigned Counsel and Fee Waiver Bot\n",
    "By [Charmaine Wood](https://example.com) \n",
    "\n",
    "I wrote a bot, and you can find it [here](http://www.codingthelaw.org/Fall_2017/work/cwood3/p1/bot.html). To write my bot, we used a tool called [QnA Markup](http://www.qnamarkup.org/). Basically, you create an interactive dicision tree by nesting questions and answers. Here's [my code](bot.txt). \n",
    "\n",
    "## User Testing\n",
    "\n",
    "I this process, I was instructed to complete a few tasks involving reaching my jurisdiction, peer testing beta versions of the chatbot with a partner, contacting a few law firms in North Carolina to review my \"final\" product and incorporating feedback to the beta version.\n",
    "\n",
    "My partner provided me with this feedback:\n",
    "[Feedback from John Kelley](http://www.codingthelaw.org/Fall_2017/work/cwood3/p1/Feedback.docx)\n",
    "This information allowed me to focus on the information that is relevant to the project and not on the appointment process tiself. I was also able to pinpoint how I needed the math to work in order to determine if the person is indigent or not.\n",
    "\n",
    "I actually decided to work with North Carolina for this project because I know someone who is a private attorney in the state. I first reached out to her to work with me and review my \"final\" chatbot and she said that she will try to make the time to do it. I sent her the \"final\" version Wednesday (8/27/17) night when I made that appropriate changes. I am hoping to receive feedback within the next couple of days. I plan to reach out and touch base on Wednesday (10/4/2017) if I do not hear from her.\n",
    "\n",
    "Overall, I really feel like I made a good product that is representative from the information I found regarding appointment and fee waivers in North Carolina.\n",
    "\n",
    "\n",
    "## Refinement\n",
    "\n",
    "I went through a few modifications throughout this process. \n",
    "\n",
    "The first alteraction occurred at the beginning of the project. I found myself more focused on the attorney's process of being able to be appointed instead of the clients process to receive appointment. I feel like this occurred because the information for the client is very vague when reading the statutes. This is where I decided I need to switch gears as to the resources I was using. I began reading more case law and secondary sources (specifically articles regarding appointment of an attorney and information regarding the affidavit of indigency).\n",
    "\n",
    "The second alteraction occurred when I received my peer review. I noticed that I actually forgot to put in the calculations because I was unable to find the thresholds. At first glance it seemed to me that the judge looked at the affidavit and decided but there is a bit more to the process. I realized that the affidavit is one of the most important documents but is reviewed prior ro actual appointment and is determined by the clerk of the court. After reading that it became apparant to me that the individual must have specific thresholds that (s)he referrs to when reviewing the documents so I did some deeper reach. Finding the conditions for civil was easy. The criminal side proved to be difficult. I am still unsure if the threshold I used is 100% accurate but I decided to use the information I did find and hope for the best.\n",
    "\n",
    "The final alteraction I made was simple format changes. After developing the pre-fill document I decided that some of the questins needed to change order so I reworded or completely changed the placement of the questions.\n",
    "\n",
    "## Real-World Viability\n",
    "\n",
    "Overall, I feel that the product I develop is one that will be able to provide the necessary infromation to someone beginning the process. It is definitely rough at the moment and I definitely need to continue researxhing and working on it so that the information provided is 100% accurate. At the moment the pre-filled formed only has the most broad variables but in the future I hope to receive more specific information so that the entire form could be filled out after a person goes through the chatbot."
   ]
  },
  {
   "cell_type": "code",
   "execution_count": null,
   "metadata": {
    "collapsed": true
   },
   "outputs": [],
   "source": []
  },
  {
   "cell_type": "code",
   "execution_count": null,
   "metadata": {
    "collapsed": true
   },
   "outputs": [],
   "source": []
  }
 ],
 "metadata": {
  "kernelspec": {
   "display_name": "Python 2",
   "language": "python",
   "name": "python2"
  },
  "language_info": {
   "codemirror_mode": {
    "name": "ipython",
    "version": 2
   },
   "file_extension": ".py",
   "mimetype": "text/x-python",
   "name": "python",
   "nbconvert_exporter": "python",
   "pygments_lexer": "ipython2",
   "version": "2.7.13"
  }
 },
 "nbformat": 4,
 "nbformat_minor": 1
}
