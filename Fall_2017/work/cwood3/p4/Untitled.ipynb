{
 "cells": [
  {
   "cell_type": "markdown",
   "metadata": {},
   "source": [
    "# Final Project: Georgia Sale of Property - Seller Information\n",
    "### By: Charmaine Wood\n",
    "\n",
    "\n",
    "## General Information\n",
    "\n",
    "I wrote a bot, and you can find it [here](http://www.codingthelaw.org/Fall_2017/work/cwood3/p4/Seller.html). To write my bot, we used a tool called [QnA Markup](http://www.qnamarkup.org/). Basically, you create an interactive dicision tree by nesting questions and answers. Here's [my code](Seller.txt).\n",
    "\n",
    "My partner for this project was essentially two companies that work together on a daily basis. The main partner was Nyaas and the \"silent\" partner who I was developing the bot for was Weissman. I originally reached out to Nyaas to see if there was anything I could do for them and they point me into contact with Weissman. After some consideration Weissman decided that Nyaas was the best entity to contact if I had question regarding the information that was needed for the chatbot. I form that I used for the chatbot is an electric form that is only accessable through Closing Connect and each person needs to obtain authorization to access it, so I am not able accurate show it be attaching it to the notebook. The idea behind the chatbot is to create a tool that clients can use when the begin the process to sell property that would be interactive and make the collection process more efficient. The chatbot will guide them through the normal questions on the electric form and create a pre-filled documents of there information that they can give to the attorney representing their sale. \n",
    "\n",
    "I actively spoke with point person, James Adler, an employee at Nyaas to understand the forms and how they saw the chatbot being used. In addition to speaking to James daily, I spoke with the owner of Nyaas through email a few times. I sent him my first version and he sent back comments which you can look at here: [Feedback from Matt](http://www.codingthelaw.org/Fall_2017/work/cwood3/p4/Revision through email.rft).\n",
    "\n",
    "In additional to comminicating with my partner, I was responsible for delivering a 5 minute pitch to the class in regards to the project and where I saw it going. I do believe that it came out better then I originally thought. There are definitely a few areas that need improvement and I have already made arrangements with my partners to continue working on the project to make sure it is exactly what they want.\n",
    "\n",
    "## Process\n",
    "\n",
    "### Framing\n",
    "Weissman's clients tend to have a difficult time providing all of the necessary information to the representative attorneies. The can always contact their attornies when they are unsure if what to provide but that can end up costing a lot of money and some annoyance on the attornies' end. This project aims to make the collection of information more efficient and effective for both the attornies and the clients.\n",
    "\n",
    "### Research\n",
    "when I spoke with Matt (owner of Nyaas) I gave him examples of the projects I would be doing this year in my class and he said that he had an idea but had to reach other to Weissman to see if they would be interested in using a chatbot develed through QnA. All parties were excited to begin the project. Once I received the access to Closing Connect I began reviewing the information and organizating it in a way that would work to obtain all the necessary information.\n",
    "\n",
    "### Prototyping\n",
    "This was not to difficult after organizing the information. There are a lot of components that need to obtain, specifically that there can be multiple sellers and they may not all be of the same entity (an individual and a corporation can own the property and need to be involved in the selling process. There is still a few area that need improvement, such as reformatting the pre-filled formed in a way that the non-appliable cells can be hidden and that is something I am exploring with James, my point person.\n",
    "\n",
    "### User Testing\n",
    "As mentioned before I had two individuals in Nyaas that I relied on to test my prototypes, James and Matt. James and I worked together at least once a week to go through the chatbot and see what we can do to improve the wording or format. After we thought it was acceptable I would send the version to Matt to look at and provide me with feedback: [Feedback from Matt](http://www.codingthelaw.org/Fall_2017/work/cwood3/p4/Revision through email.rft).\n",
    "\n",
    "Since this is a busy company there are times that I have to wait a week over so to obtain feedback from Matt. I recently sent him the latest version and I am waiting on his feedback.\n",
    "\n",
    "### Refinement\n",
    "I mostly spot areas to fine tune when I go through the chatbot myself or when I am working with James. Matts comments tend to be focus on the working or the actually QnA (which I let him know I have no control over it). I reformatted what I could based off of Matt's comments and plan to do so after this project is due for the class.\n",
    "\n",
    "## Product\n",
    "\n",
    "### Intro Pitch\n",
    "Before beginning this project I had to present my idea to the class through an intro-pitch. This was a five minute presentation as to what I wanted to do after speaking with my partner and where I saw the project going. There are not a lot of words in my pitch but it can be found [here](http://www.codingthelaw.org/Fall_2017/work/cwood3/p4/projectproposal.pptx)"
   ]
  },
  {
   "cell_type": "code",
   "execution_count": null,
   "metadata": {
    "collapsed": true
   },
   "outputs": [],
   "source": []
  }
 ],
 "metadata": {
  "kernelspec": {
   "display_name": "Python 3",
   "language": "python",
   "name": "python3"
  },
  "language_info": {
   "codemirror_mode": {
    "name": "ipython",
    "version": 3
   },
   "file_extension": ".py",
   "mimetype": "text/x-python",
   "name": "python",
   "nbconvert_exporter": "python",
   "pygments_lexer": "ipython3",
   "version": "3.6.2"
  }
 },
 "nbformat": 4,
 "nbformat_minor": 2
}
