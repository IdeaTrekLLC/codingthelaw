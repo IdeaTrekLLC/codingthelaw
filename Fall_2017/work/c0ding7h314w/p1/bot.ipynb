{
 "cells": [
  {
   "cell_type": "markdown",
   "metadata": {},
   "source": [
    "# Assigned Counsel and Fee Waiver Bot\n",
    "By Christopher Lacenere \n",
    "\n",
    "I wrote a bot, and you can find it [here](http://www.codingthelaw.org/Fall_2017/work/c0ding7h314w/p1/bot.html). To write my bot, we used a tool called [QnA Markup](http://www.qnamarkup.org/). Basically, you create an interactive dicision tree by nesting questions and answers. Here's [my code](http://www.codingthelaw.org/Fall_2017/work/c0ding7h314w/p1/bot.txt).\n",
    "\n",
    "## User Testing\n",
    "\n",
    "Admittedly, I was unable to get a beta version to my peer tester in time because I still had not found the rules on criminal cases and for juveniles.\n",
    "\n",
    "However, once this information was found I sent my code to my peer tester and received some useful feedback.  In particular my peer tester found my determination of qualifying as indigent in a criminal case to because my bot did not give any details about requisite financial status to obtain counsel. It merely stated I need not be completely without funds, and that I need to fill out an affidavit with information necessary for the court to make a determination.  Basically, I did not have sections on qualifying or not qualifying for criminal cases; I just spat out the law. Also, he said my bot did not specify what that information needs to be.\n",
    "\n",
    "I therefore changed my code to not just spit out the law, without giving the user a sense of whether they might qualify or not.  I instead made my first question very concise: \"Do you lack financial resources on a practical basis to retain counsel?  In other words, although you need not be entirely without funds, would it be impractical for you to afford an attorney?\"  Then, based on this answer, I took the user to newly created sections explaining to the user on qualifying or not qualifying for criminal cases.  \n",
    "\n",
    "Although Illinois does not have a strict set of rules for criminal cases as in some jurisdictions, I also added some examples of basic information that one might add to the affidavit for criminal cases, such as income, property, savings, and expenses.\n",
    "\n",
    "Overall, I felt the feedback was good and that the changes I made based on it improved the user experience.\n",
    "\n",
    "The code for my peer tested bot can be found [here](http://www.codingthelaw.org/Fall_2017/work/c0ding7h314w/p1/bot-peer-tested.txt) and the code containing the revisions based on feedback can be found [here](http://www.codingthelaw.org/Fall_2017/work/c0ding7h314w/p1/bot.txt).\n",
    "\n",
    "--\n",
    "\n",
    "I also performed peer testing and found that when I ignored a special rule asking whether the person owned property over 2,500, I got what appeared to be correct answers for the categories.\n",
    "\n",
    "However, I did find a glitch for both civil and criminal cases wherein if if the user had no income, but owned property greater than 2,500, the bot would say you don't qualify because you make over 200% of the poverty line.  This did not seem right and I suggested he add an additional explanation as to why the user wouldn't qualify if this is indeed how Florida works, or adjust what leads to disqualification/qualification if you are dirt poor but have an asset over 2,500.\n",
    "\n",
    "--\n",
    "\n",
    "I reached out to six Illinois legal aid organizations via their \"contact us\" form on their websites with the following message:\n",
    "\n",
    "\"Dear Sir or Madam,\n",
    "\n",
    "I am currently a third year night student at Suffolk Law School in Boston.  I am currently taking a course on computer coding as it relates to the law.  For our first project, I am creating a \"chatbot\" to determine if someone is eligible for appointed counsel, fee waivers, or the like, in the state of Illinois.  The bot will provide users with a set of action items to obtain any such aid, including copies of any applicable court forms pre-filled with data obtained from interaction with the bot.\n",
    "\n",
    "I was wondering whether someone at your organization would consider looking at my final product and giving me some feedback in about three weeks regarding its usefulness?\n",
    "\n",
    "Thank you,\n",
    "Christopher Lacenere\"\n",
    "\n",
    "\n",
    "On September 6, 2017, I contacted the following pro bono organizations via the listed URLS:\n",
    "\n",
    "https://www.illinoislegalaid.org/email/node/94096/field_contact_email (Illinois Legal Aid)\n",
    "\n",
    "http://www.clclaw.org/contact.aspx (Chicago Legal Clinic)\n",
    "\n",
    "http://www.cvls.org/contact (Chicago Volunteer Legal Services)\n",
    "\n",
    "\n",
    "On September 12, 2017, I contacted the following pro bono organizations via the listed URLS:\n",
    "\n",
    "https://www.accessliving.org/contact (Legal Clinic for the Disabled)\n",
    "\n",
    "https://kanecountybar.org/contact-us (Kane County Bar Association)\n",
    "\n",
    "http://www.dupagelegalaid.org/contact-us.html (DuPage Legal Aid)\n",
    "\n",
    "\n",
    "I have not yet heard back from any of the contacted organizations.\n",
    "\n",
    "\n",
    "## Refinement\n",
    "\n",
    "[Describes process]\n",
    "\n",
    "## Real-World Viability\n",
    "\n",
    "[Describes what's needed]"
   ]
  },
  {
   "cell_type": "code",
   "execution_count": null,
   "metadata": {
    "collapsed": true
   },
   "outputs": [],
   "source": []
  },
  {
   "cell_type": "code",
   "execution_count": null,
   "metadata": {
    "collapsed": true
   },
   "outputs": [],
   "source": []
  }
 ],
 "metadata": {
  "kernelspec": {
   "display_name": "Python 3",
   "language": "python",
   "name": "python3"
  },
  "language_info": {
   "codemirror_mode": {
    "name": "ipython",
    "version": 3
   },
   "file_extension": ".py",
   "mimetype": "text/x-python",
   "name": "python",
   "nbconvert_exporter": "python",
   "pygments_lexer": "ipython3",
   "version": "3.6.1"
  }
 },
 "nbformat": 4,
 "nbformat_minor": 1
}
