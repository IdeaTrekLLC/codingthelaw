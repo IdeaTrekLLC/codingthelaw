{
 "cells": [
  {
   "cell_type": "markdown",
   "metadata": {},
   "source": [
    "# Assigned Counsel and Fee Waiver Bot\n",
    "By Christopher Lacenere \n",
    "\n",
    "I wrote a bot, and you can find it [here](http://www.codingthelaw.org/Fall_2017/work/c0ding7h314w/p4/bot v2.html). To write my bot, we used a tool called [QnA Markup](http://www.qnamarkup.org/). Basically, you create an interactive dicision tree by nesting questions and answers. Here's [my code](http://www.codingthelaw.org/Fall_2017/work/c0ding7h314w/p1/bot.txt).\n",
    "\n",
    "## Framing\n",
    "\n",
    "The problem is that is not as easy as it sounds to calculate patent expiration dates and this can often be combersome or time consuming.  Many factors are involved, including the date the patent was filed or issued (different law applies depending on these), the number of days of extension that the patent's term is given (through Patent Term Adjusments (PTA) or Patent Term Extensions (PTE), and whether terminal disclaimers have been filed.  Terminal disclaimers are filings that essentially say that you agree that your patent will expire at the same time as another related patent.  \n",
    "\n",
    "## Research\n",
    "\n",
    "There are many descriptions on the web of how to calculate a patent's term.  All require user input -- and for good reason.   The US Patent and Trademark Ofiice (USPTO) does not keep track of when patents expire because the calculation is unique for each patent and too untrustworthy to automate.   The USPTO does provide and Excel spreadheet to calculate patent term based on user input that can be found [here](https://www.uspto.gov/patent/laws-and-regulations/patent-term-calculator).  However, the spreashseet requires more information than is necessary to calculate a patent expiration date under any given situation.  My bot attempts to streamline the process.\n",
    "\n",
    "## Ideation and Protyping\n",
    "\n",
    "The first solution that occured to me was to simply mimic the spereadsheet provided by the patent office, but as stated above, the spreashseet requires more information than is necessary to calculate a patent expiration date under any given situation.  The second sollution I opted for was to tap into an API in order to gather information, such that minimal user input would be required.  Howver, through the experience of myself and others, too many errors exist at the USPTO's website to trust such an automatic approach.  Instead I chose to streamline the approach, asking only the minimum number of questions that are required to determine the patent expiration date under the given circumstances.\n",
    "\n",
    "## User Testing\n",
    "\n",
    "Two attorneys tested my product, Dr. Elizabeth S. and Emmanuel F., both attorneys at my firm and both who would be real-world users.  Dr. S. thought that I did a nice job and thought that including hyperlinks would be a good idea to guide the use through the process, which I incorporated into my final version.  Mr. F. had more substantive comments, for example, he thought it would be better to define the patent filing date, priority dates, and terminal disclaimer dates in more detail in order not to confuse the user.   I encorporated all of his suggestions as well.   In addition, he found that the bot could give results that were one day off.  I explained to him that this was liikely a leap year problem and that I addressed it the best I could by defining a year as 326.25 days, but that this may be unresolvable at this time.\n",
    "\n",
    "A second round of testing uncovered some typos, which I corrected.  \n",
    "\n",
    "\n",
    "## Refinement\n",
    "\n",
    "As discussed above, all user comments were taken into account and incorporated into the final project.  r. S. thought that I did a nice job and thought that including hyperlinks would be a good idea to guide the use through the process, which I incorporated into my final version.  Mr. F. had more substantive comments, for example, he thought it would be better to define the patent filing date, priority dates, and terminal disclaimer dates in more detail in order not to confuse the user.   I encorporated all of his suggestions as well.   In addition, he found that the bot could give results that were one day off.  I explained to him that this was liikely a leap year problem and that I addressed it the best I could by defining a year as 326.25 days, but that this may be unresolvable at this time.\n",
    "\n",
    "A second round of testing uncovered some typos, which I corrected.  Various versions can be found in my p4 folder.\n",
    "\n",
    "\n",
    "## Intro Pitch\n",
    "\n",
    "A five minute pitch was given in class, explaining the problem of for users of calculationg patent epxiration dates.  I described my approach to acheiving this goal, the inputs that were necessary and the desired result.  I also emailed Professor Colarusso the name of my partner.\n",
    "\n",
    "\n",
    "## Complexity/Robustness\n",
    "\n",
    "\n",
    "The algorithm applies the law as it stands today.  Data scraping, etc., is practically not an option for patent attorneys.  The fact of the matter is that each input must be gathered and double-checked manually in order to ensure accurate results.  To many errors exist on the USPTO website, Google Patents, and other databases in order to trust the automated collection of the required data.  \"Close enough\" is not an acceptable answer to a foreign client asking for a patent's expiration date.\n",
    "\n",
    "## Impact & Efficiencies\n",
    "\n",
    "The bot I created decreases the time to patent calculation, compared to say the USPTO's Excell spreadsheet in that it only asks the bare required questions in order to arrrive at the correct answer.  It greatly improves the simplicity of the calculation to user in an intuative way, allowing or less billable time being required to make such a calculation, and improving the efficiency of attorneys seaking a solution.\n",
    "\n",
    "## Fitnesss/Completeness\n",
    "\n",
    "The project does directly adresss the goals of the users and does what it was desined for.  It calculates patent expiry dates defined under various laws.\n",
    "\n",
    "## Documentation\n",
    "\n",
    "Suffficient documentation esists to address user needs.  (Seee emails uploaded to p4 folder). Several rounds of testing were involved and I incorporated   suggestionsn from each of these.\n",
    "\n",
    "\n",
    "## Real World Viability\n",
    "\n",
    "The project is absolutelty ready for real world use except for one pronlem.  The leap year problem.  Somwtimes, depending on the date given the answer can be one day off.  I tried toincorptate the leap year by using a year of 365.25 days, but this oes not always work in real world circumstaces.  Further refinemenet is required.\n",
    "\n",
    "## Sustainabilty\n",
    "\n",
    "The project is susteainable under current law.  Should thhe USPTO or the law change the requirements for patent term eligibility, the bot can easily be modified to adjust to eny such changes.\n",
    "\n",
    "## Emails\n",
    "\n",
    "All of the emails confirming the above can be found in the p4 folder.   Thanks."
   ]
  },
  {
   "cell_type": "code",
   "execution_count": null,
   "metadata": {
    "collapsed": true
   },
   "outputs": [],
   "source": []
  },
  {
   "cell_type": "code",
   "execution_count": null,
   "metadata": {
    "collapsed": true
   },
   "outputs": [],
   "source": []
  }
 ],
 "metadata": {
  "kernelspec": {
   "display_name": "Python 3",
   "language": "python",
   "name": "python3"
  },
  "language_info": {
   "codemirror_mode": {
    "name": "ipython",
    "version": 3
   },
   "file_extension": ".py",
   "mimetype": "text/x-python",
   "name": "python",
   "nbconvert_exporter": "python",
   "pygments_lexer": "ipython3",
   "version": "3.6.1"
  }
 },
 "nbformat": 4,
 "nbformat_minor": 1
}
