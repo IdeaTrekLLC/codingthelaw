{
 "cells": [
  {
   "cell_type": "markdown",
   "metadata": {},
   "source": [
    "# Final Project: Legal Entity Determiner\n",
    "by [Anon Silpavuthi](http://www.linkedin.com/in/anon-silpavuthi-83001bb1)\n",
    "\n",
    "## Introduction\n",
    "In this project, I created a chatbot for my partner, Suffolk University Law School's Intellectual Property & Entrepreneurship Clinic. Suffolk Law School’s Intellectual Property & Entrepreneurship Clinic (IPEC) provides free legal services to appropriate clients with limited resources on issues relating to new and emerging businesses, with a focus on intellectual property (copyrights, trademarks, patents, and trade secrets). I worked with Loletta Darden, who is an Associate Clinical Professor and IPEC supervisor for this project.\n",
    "\n",
    "Click [here](http://www.suffolk.edu/law/academics/clinics/21858.php) to learn more about IPEC.\n",
    "\n",
    "## Process\n",
    "\n",
    "### Framing\n",
    "As one of the student attorneys in IPEC, I find that one of the most common issues that small business or entrepreneur cleints need help with is forming a business and choosing an appropriate legal entity. The problem is the fact that most clients come in without knowing what type of entity they want incorporate as or without any knowledge of the differences between different types of entity, which usually waste a lot of time during the client interview. Therefore, it would be a big time saving if clients or potential clients can get a general idea of what are the differences between each type of legal entity and a general idea of what they should be. The goal is to create a tool that will educate and suggest users and potential clients of what entity they should incorporate as. \n",
    "\n",
    "### Research\n",
    "I \n",
    "\n",
    "### Ideation & Prototyping\n",
    "I was thinking about several potential solutions. I did make a lot of prototypes because I decided to do things by hand first. I basically started with many different versions of hand-drawn decision trees. A final version of the decision three can be found [here](http://www.codingthelaw.org/Fall_2017/work/asilpavuthi/p4/decisiontree.pdf) An early prototype of the chat bot itself can be found [here](http://www.codingthelaw.org/Fall_2017/work/asilpavuthi/p4/prototype.txt). \n",
    "\n",
    "### User Testing\n",
    "I had other IPEC students test the chat bot in-person. My partner had many chances to test it in-person as well as over the email. The latest testing feedback that I received from my partner over the email can be found [here](http://www.codingthelaw.org/Fall_2017/work/asilpavuthi/p4/feedback.png).\n",
    "\n",
    "### Refinement \n",
    "Most of the testing occurred in-person, I was able to refine the product immidiately. Most of the feedbacks that I received in-person are about the design such as structure of the question of the qna and as you can compare it to the early prototype, there has been significant changes.\n",
    "\n",
    "## Product\n",
    "\n",
    "### Intro Pitch\n",
    "A powerpoint presentation of an intro pitch that I made earlier in the semester can be found [here](http://www.codingthelaw.org/Fall_2017/work/asilpavuthi/p4/presentation.pptx).\n",
    "### Complexity \n",
    "This project relies on the QnA system. Initially, document automaton was going to be one of the expert system that I use for potential client to fulfill the IPEC client intake form. However, after a discussion with my partner, we decided to postpone this for future improvement instead because it would require a lot of permissions and we will also have to work with Suffolk University's website administrator.\n",
    "### Impact\n",
    "It would be difficult to give a number of how much impact this would make to IPEC but this project has a potential to make a significant impact IPEC in regards to client counseling and interviewing. This bot can potentially save a lot of time for both the IPEC clients and IPEC supervisor and students.\n",
    "### Completeness\n",
    "-------------------- \n",
    "### Documentation\n",
    "-----------\n",
    "### Real World Viability\n",
    "I believe that this chat bot is ready for real-world use as is as long as users are looking for a suggestion limited to Limited Liability Corporation, C Corporation, and S Corporation. I also believe that it is ready for real-world use as a general informaiton of each legal entity. As stated at the heading of the bot, this bot is never meant to give user a definite decision nor legal advice.\n",
    "\n",
    "### Sustainability\n",
    "There is a clear plan for continued operation and updates. The goal is to eventually put this chat bot up on the website like the chat bot on [Committee for Public Counsel Services's website](https://www.publiccounsel.net/). This chat bot will likely appear on IPEC's client intake page and the goal is to get it done by the May 2018.\n",
    "\n",
    "Another main improvement would be incorporating decision tree structure of other entities such as Partnership, Sole-propriatorship, or Benefit Corporation into the chatbot."
   ]
  },
  {
   "cell_type": "code",
   "execution_count": null,
   "metadata": {
    "collapsed": true
   },
   "outputs": [],
   "source": []
  }
 ],
 "metadata": {
  "kernelspec": {
   "display_name": "Python 3",
   "language": "python",
   "name": "python3"
  },
  "language_info": {
   "codemirror_mode": {
    "name": "ipython",
    "version": 3
   },
   "file_extension": ".py",
   "mimetype": "text/x-python",
   "name": "python",
   "nbconvert_exporter": "python",
   "pygments_lexer": "ipython3",
   "version": "3.6.1"
  }
 },
 "nbformat": 4,
 "nbformat_minor": 2
}
