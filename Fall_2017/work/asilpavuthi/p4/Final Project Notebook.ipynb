{
 "cells": [
  {
   "cell_type": "markdown",
   "metadata": {},
   "source": [
    "# Final Project: Legal Entity Determiner\n",
    "by [Anon Silpavuthi](http://www.linkedin.com/in/anon-silpavuthi-83001bb1)\n",
    "\n",
    "## Introduction\n",
    "I created a chat bot for my partner, Suffolk University Law School's Intellectual Property & Entrepreneurship Clinic. The chat bot will help users determine what type of legal entity they should structure their business as. The complete version of the chat bot can be found [here](http://www.codingthelaw.org/Fall_2017/work/asilpavuthi/p4/bot.html). The text code of the bot can be found here\n",
    "\n",
    "Suffolk Law School’s Intellectual Property & Entrepreneurship Clinic (IPEC) provides free legal services to appropriate clients with limited resources on issues relating to new and emerging businesses, with a focus on intellectual property (copyrights, trademarks, patents, and trade secrets). I worked with Loletta Darden, who is an Associate Clinical Professor and IPEC supervisor for this project.\n",
    "\n",
    "Click [here](http://www.suffolk.edu/law/academics/clinics/21858.php) to learn more about IPEC.\n",
    "\n",
    "## Process\n",
    "\n",
    "### Framing\n",
    "As one of the student attorneys in IPEC, I find that one of the most common issues that small business or entrepreneur cleints have is forming a business and choosing an appropriate legal entity, which in most cases, part of the main reasons why they come and seek help from IPEC. The problem is the fact that most clients come in without knowing what type of entity they want incorporate as or without any knowledge of the differences between different types of entity, which usually waste a lot of time during the client interview. Therefore, it would be a big time saving if clients or potential clients can get a general idea of what are the differences between each type of legal entity and a general idea of what they should be. The goal is to create a tool that will educate and suggest users and potential clients of what entity they should incorporate as. \n",
    "\n",
    "### Research\n",
    "Before I start, I conducted an extensive search to see whether there are identical similar products. I have also consulted with my partner and other professors at Suffolk University Law School who familiar with the Legal Tech field. I got several suggestions on which product might be similar to mine but it turns out that there are no product on the market that actually doing the same thing.\n",
    "\n",
    "Thereafter, I decided to proceed with the project by conducting an extensive research on different types of legal entity. With a help of another IPEC who is a Corporate Examiner at the Secretary of State, I was able to come up with this [table](http://www.codingthelaw.org/Fall_2017/work/asilpavuthi/p4/table.pdf) of all the potential differentiation and advantages of legal entities. \n",
    "\n",
    "After one consultation session with my partner, I decided that for the purpose of this project, this bot will only determine 3 type of legal entities which are Limited Liability Corporation, C Corporation, and S Corporation. The reason for that is to observe whether this bot will work out first and all IPEC clients fall within these 3 entities anyway. My partner and I decided that the other entities will be included in future improvement.\n",
    "\n",
    "I then started conducting another extensive research on the specific questions I should ask in the bot and start writing a decision tree, which can you find a final version in the Ideation & Prototyping below.\n",
    "\n",
    "As you can see in the bot, I used [investopedia](https://www.investopedia.com/) many times. I consulted my partner and we both agreed that this would be the best source of information for now because it is very user-friendly and it contains videos explaining legal terms that users might not understand.\n",
    "\n",
    "\n",
    "### Ideation & Prototyping\n",
    "I was thinking about several potential solutions. I did make a lot of prototypes because I decided to do things by hand first. I basically started with many different versions of hand-drawn decision trees. A final version of the decision tree can be found [here](http://www.codingthelaw.org/Fall_2017/work/asilpavuthi/p4/decisiontree.pdf) An early prototype of the chat bot itself can be found [here](http://www.codingthelaw.org/Fall_2017/work/asilpavuthi/p4/prototype.txt). \n",
    "\n",
    "### User Testing\n",
    "I had two other IPEC students test the chat bot in-person. My partner had many chances to test it in-person as well as over the email. The latest testing feedback that I received from my partner over the email can be found [here](http://www.codingthelaw.org/Fall_2017/work/asilpavuthi/p4/feedback.png).\n",
    "\n",
    "### Refinement \n",
    "Most of the testing occurred in-person, I was able to refine the product immidiately. Most of the feedbacks that I received in-person are about the design such as structure of the question of the qna and as you can compare it to the early prototype, there has been significant changes.\n",
    "\n",
    "I was also able to rrefine the product after the latest feedback. However, I was unable to change some of the minor suggestions that my partner suggested because it would be quite time consuming and I would need her to re-approve that so I decided to leave that for future improvement.\n",
    "\n",
    "## Product\n",
    "\n",
    "### Intro Pitch\n",
    "A powerpoint presentation of an intro pitch that I made earlier in the semester can be found [here](http://www.codingthelaw.org/Fall_2017/work/asilpavuthi/p4/presentation.pptx).\n",
    "### Complexity \n",
    "This project relies on the QnA system. Initially, document automation was going to be one of the expert system that I use for potential client to fulfill the IPEC client intake form. However, after a discussion with my partner, we decided to postpone this for future improvement instead because it would require a lot of permissions and we will also have to work with Suffolk University's website administrator.\n",
    "### Impact\n",
    "It would be difficult to give a number of how much impact this would make to IPEC but this project has a potential to make a significant impact IPEC in regards to client counseling and interviewing. This bot can potentially save a lot of time for both the IPEC clients and IPEC supervisor and students.\n",
    "### Completeness\n",
    "This bot directly addresses the stated problem listed above. If users go through this chat bot, there is a high chance that they will be familiar with different types of legal entity or get a general idea of what entity they might want to consider. Users will also be able to learn the terms if they click the hyperlink in each question as suggested in the instruction of the bot. Therefore, this would directly addresses the problem and save a lot of time for IPEC clients and students. \n",
    "### Documentation\n",
    "Well written and approachable for the overwhelming majority of potential users. Sufficient to address all likely user concerns as well as important edge cases. \n",
    "\n",
    "The bot contains a well written and approachable information for the overwhelming majority of potential users. \n",
    "### Real World Viability\n",
    "I believe that this chat bot is ready for real-world use as is as long as users are looking for a suggestion limited to Limited Liability Corporation, C Corporation, and S Corporation. I also believe that it is ready for real-world use as a general informaiton of each legal entity. As stated at the heading of the bot, this bot is never meant to give user a definite decision nor legal advice.\n",
    "\n",
    "### Sustainability\n",
    "There is a clear plan for continued operation and updates. The goal is to eventually put this chat bot up on the website like the chat bot on Committee for Public Counsel Services's [website](https://www.publiccounsel.net/). This chat bot will likely appear on IPEC's client intake page and the goal is to get it done by the May 2018.\n",
    "\n",
    "Another main improvement would be incorporating decision tree structure of other entities such as Partnership, Sole-propriatorship, or Benefit Corporation into the chatbot."
   ]
  },
  {
   "cell_type": "code",
   "execution_count": null,
   "metadata": {
    "collapsed": true
   },
   "outputs": [],
   "source": []
  }
 ],
 "metadata": {
  "kernelspec": {
   "display_name": "Python 3",
   "language": "python",
   "name": "python3"
  },
  "language_info": {
   "codemirror_mode": {
    "name": "ipython",
    "version": 3
   },
   "file_extension": ".py",
   "mimetype": "text/x-python",
   "name": "python",
   "nbconvert_exporter": "python",
   "pygments_lexer": "ipython3",
   "version": "3.6.1"
  }
 },
 "nbformat": 4,
 "nbformat_minor": 2
}
