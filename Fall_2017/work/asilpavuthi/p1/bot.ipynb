{
 "cells": [
  {
   "cell_type": "markdown",
   "metadata": {},
   "source": [
    "# Assigned Counsel and Fee Waiver Bot\n",
    "By [Anon Silpavuthi](http://www.linkedin.com/in/anon-silpavuthi-83001bb1) \n",
    "\n",
    "I wrote a bot, and you can find it [here](http://www.codingthelaw.org/Fall_2017/work/asilpavuthi/p1/bot.html). To write my bot, we used a tool called [QnA Markup](http://www.qnamarkup.org/). Basically, you create an interactive dicision tree by nesting questions and answers. Here's [my code](http://www.codingthelaw.org/Fall_2017/work/asilpavuthi/p1/bot.txt). \n",
    "\n",
    "## User Testing\n",
    "\n",
    "I've sent 5 emails to legal services in New Jersey but I did not any responses. I also called one of the legal services but was told that they are very busy and wouldn't be able to help. \n",
    "[Here](http://www.codingthelaw.org/Fall_2017/work/asilpavuthi/p1/emailtoattorney.png) is the screenshot of one of the emails.\n",
    "\n",
    "I also received feedback from Sean Casey. I find his feedback helpful. He said that he had to do some of the multiplication himself so I made it clear in the final version and I also fixed the javascript.\n",
    "[Here](http://www.codingthelaw.org/Fall_2017/work/asilpavuthi/p1/peerfeedback.png) is the screenshot of the feedback and [here](http://www.codingthelaw.org/Fall_2017/work/asilpavuthi/p1/Beta 1.txt) is the beta version of the code that Sean was testing.\n",
    "\n",
    "Apart from these two feedbacks, I also asked a few friends in the clinical programs to take test it out but unfortunately, since they tested it out in person, I don't have it on the records, but I incorporate their feedback into the codes right away.\n",
    "\n",
    "## Refinement\n",
    "\n",
    "After researching the requirements for fee waiver and appointment of counsel for New Jersey. I realized that New Jersey doesn't have a very clear requirements for fee waiver and appointment of counsel, courts will be the final authority to decide it. However, there are a few things that are clear and I came up with the fundamental requirements which are:\n",
    "\n",
    "    1) Making below 150% of federal powerty level and having less than $2,500 in liquid assets for fee waiver.\n",
    "\n",
    "    2) Making below 125% of federal poverty level for free appointment of counsel. \n",
    "\n",
    "I then started drawing decision tree on a piece of paper, listing down I need to know from the user in order to determine their eligibility and incorporated those lists that I have in the decision three into the qna.\n",
    "\n",
    "After that, I wrote this javascript which calculated the number of people in the household \n",
    "\n",
    "\n",
    "## Real-World Viability\n",
    "\n",
    "My goal is to make it as viable as possible. I am using the actual application in support that user can actually submit to court, if this is fill out correctly, all he has to do is print it out and sign."
   ]
  },
  {
   "cell_type": "markdown",
   "metadata": {},
   "source": []
  },
  {
   "cell_type": "code",
   "execution_count": null,
   "metadata": {
    "collapsed": true
   },
   "outputs": [],
   "source": []
  }
 ],
 "metadata": {
  "kernelspec": {
   "display_name": "Python 3",
   "language": "python",
   "name": "python3"
  },
  "language_info": {
   "codemirror_mode": {
    "name": "ipython",
    "version": 3
   },
   "file_extension": ".py",
   "mimetype": "text/x-python",
   "name": "python",
   "nbconvert_exporter": "python",
   "pygments_lexer": "ipython3",
   "version": "3.6.1"
  }
 },
 "nbformat": 4,
 "nbformat_minor": 1
}
