{
 "cells": [
  {
   "cell_type": "markdown",
   "metadata": {},
   "source": [
    "Adapted from the notebook found at [How to Build a Law Bot](https://lawyerist.com/how-build-law-bot/)\n",
    "\n",
    "## Install libraries\n",
    "\n",
    "If you haven't already, you may need to install some dependencies. On the command line, run the following to install/update gspread, oauth2client, PyOpenSSL, and python-twitter.\n",
    "```\n",
    "pip install gspread\n",
    "pip install --upgrade oauth2client\n",
    "pip install PyOpenSSL\n",
    "pip install python-twitter\n",
    "```\n",
    "Library installs are one and done. So after doing this once, you should be all set. \n",
    "\n",
    "## Import modules and set variables\n",
    "\n",
    "Now we're getting into the bot's code. This is what will run every time your bot is called. To make sure it behaves as expected, replace the placeholder values found below in the `document_key`, `credentials`, `consumer_key`, `consumer_secret`, `access_token_key`, and `access_token_secret` variables with relevant values (e.g., your access credentials). \n",
    "\n",
    "You will need to create a new Google Sheet (same instructions as [last time](https://lawyerist.com/126074/online-forms-meet-local-document-automation-cut-and-paste-coding/)). You **MUST** add a first row with headings. If you don't, the below code won't work. In this example, just make four columns filled with zeros. Also, delete rows 2-999. This is because the code below appends values to the end of your sheet. So if you fail to remove rows 2-999, values will be appended to row 1000. Additionally, it looks at the last row of the sheet for your old values. So if you fail to delete 2-999, instead of seeing your row of zeros, it will look at the blank row 999.\n",
    "\n",
    "As for a Twitter account and Twitter credentials, follow the instruction in [this post](https://lawyerist.com/?p=127093). \n",
    "\n",
    "*NOTE: You should be reading all of the comments (i.e., text following a #)*"
   ]
  },
  {
   "cell_type": "code",
   "execution_count": 21,
   "metadata": {
    "collapsed": true
   },
   "outputs": [],
   "source": [
    "# Load the module for visiting and reading websites.\n",
    "import urllib.request\n",
    "# Load the module for running regular expressions (regex).\n",
    "import re \n",
    "# Load the module for date and time stuff.\n",
    "import datetime\n",
    "# Define the variable now as equal to the current date and time.\n",
    "now = datetime.datetime.now()"
   ]
  },
  {
   "cell_type": "code",
   "execution_count": 22,
   "metadata": {
    "collapsed": true
   },
   "outputs": [],
   "source": [
    "# Set the URLs you want to scrape.\n",
    "url_1 = \"http://mmlake.org/LakeWaterLevel.html\"\n",
    "url_2 = \"http://mmlake.org/\""
   ]
  },
  {
   "cell_type": "code",
   "execution_count": 24,
   "metadata": {},
   "outputs": [
    {
     "ename": "FileNotFoundError",
     "evalue": "[Errno 2] No such file or directory: '../../../../../SheetsBot-7c811819a7a6.json'",
     "output_type": "error",
     "traceback": [
      "\u001b[0;31m---------------------------------------------------------------------------\u001b[0m",
      "\u001b[0;31mFileNotFoundError\u001b[0m                         Traceback (most recent call last)",
      "\u001b[0;32m<ipython-input-24-b411a92336c6>\u001b[0m in \u001b[0;36m<module>\u001b[0;34m()\u001b[0m\n\u001b[1;32m      9\u001b[0m \u001b[0mdocument_key\u001b[0m \u001b[0;34m=\u001b[0m \u001b[0;34m\"1Kl-1YKoyN0oKa73zfIiixZxwbHdvMa7Blenmzhy3_U8\"\u001b[0m\u001b[0;34m\u001b[0m\u001b[0m\n\u001b[1;32m     10\u001b[0m \u001b[0;31m# Your Google project's .json key\u001b[0m\u001b[0;34m\u001b[0m\u001b[0;34m\u001b[0m\u001b[0m\n\u001b[0;32m---> 11\u001b[0;31m \u001b[0mcredentials\u001b[0m \u001b[0;34m=\u001b[0m \u001b[0mServiceAccountCredentials\u001b[0m\u001b[0;34m.\u001b[0m\u001b[0mfrom_json_keyfile_name\u001b[0m\u001b[0;34m(\u001b[0m\u001b[0;34m'../../../../../SheetsBot-7c811819a7a6.json'\u001b[0m\u001b[0;34m,\u001b[0m \u001b[0mscope\u001b[0m\u001b[0;34m)\u001b[0m\u001b[0;34m\u001b[0m\u001b[0m\n\u001b[0m\u001b[1;32m     12\u001b[0m \u001b[0;34m\u001b[0m\u001b[0m\n\u001b[1;32m     13\u001b[0m \u001b[0;31m# Use your credentials to authorize yourself.\u001b[0m\u001b[0;34m\u001b[0m\u001b[0;34m\u001b[0m\u001b[0m\n",
      "\u001b[0;32m/anaconda/lib/python3.6/site-packages/oauth2client/service_account.py\u001b[0m in \u001b[0;36mfrom_json_keyfile_name\u001b[0;34m(cls, filename, scopes, token_uri, revoke_uri)\u001b[0m\n\u001b[1;32m    217\u001b[0m                 \u001b[0mthe\u001b[0m \u001b[0mkeyfile\u001b[0m\u001b[0;34m.\u001b[0m\u001b[0;34m\u001b[0m\u001b[0m\n\u001b[1;32m    218\u001b[0m         \"\"\"\n\u001b[0;32m--> 219\u001b[0;31m         \u001b[0;32mwith\u001b[0m \u001b[0mopen\u001b[0m\u001b[0;34m(\u001b[0m\u001b[0mfilename\u001b[0m\u001b[0;34m,\u001b[0m \u001b[0;34m'r'\u001b[0m\u001b[0;34m)\u001b[0m \u001b[0;32mas\u001b[0m \u001b[0mfile_obj\u001b[0m\u001b[0;34m:\u001b[0m\u001b[0;34m\u001b[0m\u001b[0m\n\u001b[0m\u001b[1;32m    220\u001b[0m             \u001b[0mclient_credentials\u001b[0m \u001b[0;34m=\u001b[0m \u001b[0mjson\u001b[0m\u001b[0;34m.\u001b[0m\u001b[0mload\u001b[0m\u001b[0;34m(\u001b[0m\u001b[0mfile_obj\u001b[0m\u001b[0;34m)\u001b[0m\u001b[0;34m\u001b[0m\u001b[0m\n\u001b[1;32m    221\u001b[0m         return cls._from_parsed_json_keyfile(client_credentials, scopes,\n",
      "\u001b[0;31mFileNotFoundError\u001b[0m: [Errno 2] No such file or directory: '../../../../../SheetsBot-7c811819a7a6.json'"
     ]
    }
   ],
   "source": [
    "# Load the module for accessing Google Sheets.\n",
    "import gspread\n",
    "# Load the module needed for securely communicating with Google Sheets.\n",
    "from oauth2client.service_account import ServiceAccountCredentials\n",
    "# The scope for your access credentials\n",
    "scope = ['https://spreadsheets.google.com/feeds']\n",
    "\n",
    "# Your spreadsheet's ID\n",
    "document_key = \"1Kl-1YKoyN0oKa73zfIiixZxwbHdvMa7Blenmzhy3_U8\"\n",
    "# Your Google project's .json key\n",
    "credentials = ServiceAccountCredentials.from_json_keyfile_name('../../../../../SheetsBot-7c811819a7a6.json', scope)\n",
    "\n",
    "# Use your credentials to authorize yourself.\n",
    "gc = gspread.authorize(credentials)\n",
    "# Open up the Sheet with the defined ID.\n",
    "wks = gc.open_by_key(document_key)\n",
    "\n",
    "#########################################\n",
    "#\n",
    "#  NOTE: The name of the sheet you are \n",
    "#  trying to access should be in the \n",
    "#  parenthetical below (e.g., Data). By\n",
    "#  Default this is probably \"Sheet1\".\n",
    "#\n",
    "#########################################\n",
    "worksheet = wks.worksheet(\"Sheet1\")\n",
    "\n",
    "# Count the number of rows in your Sheet &\n",
    "# resize to remove blank rows.\n",
    "worksheet.resize(worksheet.row_count)"
   ]
  },
  {
   "cell_type": "code",
   "execution_count": 25,
   "metadata": {},
   "outputs": [
    {
     "ename": "RequestError",
     "evalue": "(401, '401: b\\'<HTML>\\\\n<HEAD>\\\\n<TITLE>Unauthorized</TITLE>\\\\n</HEAD>\\\\n<BODY BGCOLOR=\"#FFFFFF\" TEXT=\"#000000\">\\\\n<H1>Unauthorized</H1>\\\\n<H2>Error 401</H2>\\\\n</BODY>\\\\n</HTML>\\\\n\\'')",
     "output_type": "error",
     "traceback": [
      "\u001b[0;31m---------------------------------------------------------------------------\u001b[0m",
      "\u001b[0;31mRequestError\u001b[0m                              Traceback (most recent call last)",
      "\u001b[0;32m<ipython-input-25-63f049a7c324>\u001b[0m in \u001b[0;36m<module>\u001b[0;34m()\u001b[0m\n\u001b[1;32m      1\u001b[0m \u001b[0;31m# download spreadsheet\u001b[0m\u001b[0;34m\u001b[0m\u001b[0;34m\u001b[0m\u001b[0m\n\u001b[0;32m----> 2\u001b[0;31m \u001b[0mlist_of_lists\u001b[0m \u001b[0;34m=\u001b[0m \u001b[0mworksheet\u001b[0m\u001b[0;34m.\u001b[0m\u001b[0mget_all_values\u001b[0m\u001b[0;34m(\u001b[0m\u001b[0;34m)\u001b[0m\u001b[0;34m\u001b[0m\u001b[0m\n\u001b[0m\u001b[1;32m      3\u001b[0m \u001b[0;32mwith\u001b[0m \u001b[0mopen\u001b[0m\u001b[0;34m(\u001b[0m\u001b[0mcsvfile\u001b[0m\u001b[0;34m,\u001b[0m \u001b[0;34m\"w\"\u001b[0m\u001b[0;34m)\u001b[0m \u001b[0;32mas\u001b[0m \u001b[0moutput\u001b[0m\u001b[0;34m:\u001b[0m\u001b[0;34m\u001b[0m\u001b[0m\n\u001b[1;32m      4\u001b[0m     \u001b[0mwriter\u001b[0m \u001b[0;34m=\u001b[0m \u001b[0mcsv\u001b[0m\u001b[0;34m.\u001b[0m\u001b[0mwriter\u001b[0m\u001b[0;34m(\u001b[0m\u001b[0moutput\u001b[0m\u001b[0;34m,\u001b[0m \u001b[0mlineterminator\u001b[0m\u001b[0;34m=\u001b[0m\u001b[0;34m'\\n'\u001b[0m\u001b[0;34m)\u001b[0m\u001b[0;34m\u001b[0m\u001b[0m\n\u001b[1;32m      5\u001b[0m     \u001b[0mwriter\u001b[0m\u001b[0;34m.\u001b[0m\u001b[0mwriterows\u001b[0m\u001b[0;34m(\u001b[0m\u001b[0mlist_of_lists\u001b[0m\u001b[0;34m)\u001b[0m\u001b[0;34m\u001b[0m\u001b[0m\n",
      "\u001b[0;32m/anaconda/lib/python3.6/site-packages/gspread/models.py\u001b[0m in \u001b[0;36mget_all_values\u001b[0;34m(self)\u001b[0m\n\u001b[1;32m    417\u001b[0m         \"\"\"Returns a list of lists containing all cells' values as strings.\n\u001b[1;32m    418\u001b[0m         \"\"\"\n\u001b[0;32m--> 419\u001b[0;31m         \u001b[0mcells\u001b[0m \u001b[0;34m=\u001b[0m \u001b[0mself\u001b[0m\u001b[0;34m.\u001b[0m\u001b[0m_fetch_cells\u001b[0m\u001b[0;34m(\u001b[0m\u001b[0;34m)\u001b[0m\u001b[0;34m\u001b[0m\u001b[0m\n\u001b[0m\u001b[1;32m    420\u001b[0m \u001b[0;34m\u001b[0m\u001b[0m\n\u001b[1;32m    421\u001b[0m         \u001b[0;31m# defaultdicts fill in gaps for empty rows/cells not returned by gdocs\u001b[0m\u001b[0;34m\u001b[0m\u001b[0;34m\u001b[0m\u001b[0m\n",
      "\u001b[0;32m/anaconda/lib/python3.6/site-packages/gspread/models.py\u001b[0m in \u001b[0;36m_fetch_cells\u001b[0;34m(self)\u001b[0m\n\u001b[1;32m    329\u001b[0m \u001b[0;34m\u001b[0m\u001b[0m\n\u001b[1;32m    330\u001b[0m     \u001b[0;32mdef\u001b[0m \u001b[0m_fetch_cells\u001b[0m\u001b[0;34m(\u001b[0m\u001b[0mself\u001b[0m\u001b[0;34m)\u001b[0m\u001b[0;34m:\u001b[0m\u001b[0;34m\u001b[0m\u001b[0m\n\u001b[0;32m--> 331\u001b[0;31m         \u001b[0mfeed\u001b[0m \u001b[0;34m=\u001b[0m \u001b[0mself\u001b[0m\u001b[0;34m.\u001b[0m\u001b[0mclient\u001b[0m\u001b[0;34m.\u001b[0m\u001b[0mget_cells_feed\u001b[0m\u001b[0;34m(\u001b[0m\u001b[0mself\u001b[0m\u001b[0;34m)\u001b[0m\u001b[0;34m\u001b[0m\u001b[0m\n\u001b[0m\u001b[1;32m    332\u001b[0m         \u001b[0;32mreturn\u001b[0m \u001b[0;34m[\u001b[0m\u001b[0mCell\u001b[0m\u001b[0;34m(\u001b[0m\u001b[0mself\u001b[0m\u001b[0;34m,\u001b[0m \u001b[0melem\u001b[0m\u001b[0;34m)\u001b[0m \u001b[0;32mfor\u001b[0m \u001b[0melem\u001b[0m \u001b[0;32min\u001b[0m \u001b[0mfeed\u001b[0m\u001b[0;34m.\u001b[0m\u001b[0mfindall\u001b[0m\u001b[0;34m(\u001b[0m\u001b[0m_ns\u001b[0m\u001b[0;34m(\u001b[0m\u001b[0;34m'entry'\u001b[0m\u001b[0;34m)\u001b[0m\u001b[0;34m)\u001b[0m\u001b[0;34m]\u001b[0m\u001b[0;34m\u001b[0m\u001b[0m\n\u001b[1;32m    333\u001b[0m \u001b[0;34m\u001b[0m\u001b[0m\n",
      "\u001b[0;32m/anaconda/lib/python3.6/site-packages/gspread/client.py\u001b[0m in \u001b[0;36mget_cells_feed\u001b[0;34m(self, worksheet, visibility, projection, params)\u001b[0m\n\u001b[1;32m    174\u001b[0m             \u001b[0murl\u001b[0m \u001b[0;34m=\u001b[0m \u001b[0;34m'%s?%s'\u001b[0m \u001b[0;34m%\u001b[0m \u001b[0;34m(\u001b[0m\u001b[0murl\u001b[0m\u001b[0;34m,\u001b[0m \u001b[0mparams\u001b[0m\u001b[0;34m)\u001b[0m\u001b[0;34m\u001b[0m\u001b[0m\n\u001b[1;32m    175\u001b[0m \u001b[0;34m\u001b[0m\u001b[0m\n\u001b[0;32m--> 176\u001b[0;31m         \u001b[0mr\u001b[0m \u001b[0;34m=\u001b[0m \u001b[0mself\u001b[0m\u001b[0;34m.\u001b[0m\u001b[0msession\u001b[0m\u001b[0;34m.\u001b[0m\u001b[0mget\u001b[0m\u001b[0;34m(\u001b[0m\u001b[0murl\u001b[0m\u001b[0;34m)\u001b[0m\u001b[0;34m\u001b[0m\u001b[0m\n\u001b[0m\u001b[1;32m    177\u001b[0m         \u001b[0;32mreturn\u001b[0m \u001b[0mElementTree\u001b[0m\u001b[0;34m.\u001b[0m\u001b[0mfromstring\u001b[0m\u001b[0;34m(\u001b[0m\u001b[0mr\u001b[0m\u001b[0;34m.\u001b[0m\u001b[0mcontent\u001b[0m\u001b[0;34m)\u001b[0m\u001b[0;34m\u001b[0m\u001b[0m\n\u001b[1;32m    178\u001b[0m \u001b[0;34m\u001b[0m\u001b[0m\n",
      "\u001b[0;32m/anaconda/lib/python3.6/site-packages/gspread/httpsession.py\u001b[0m in \u001b[0;36mget\u001b[0;34m(self, url, params, **kwargs)\u001b[0m\n\u001b[1;32m     71\u001b[0m \u001b[0;34m\u001b[0m\u001b[0m\n\u001b[1;32m     72\u001b[0m     \u001b[0;32mdef\u001b[0m \u001b[0mget\u001b[0m\u001b[0;34m(\u001b[0m\u001b[0mself\u001b[0m\u001b[0;34m,\u001b[0m \u001b[0murl\u001b[0m\u001b[0;34m,\u001b[0m \u001b[0mparams\u001b[0m\u001b[0;34m=\u001b[0m\u001b[0;32mNone\u001b[0m\u001b[0;34m,\u001b[0m \u001b[0;34m**\u001b[0m\u001b[0mkwargs\u001b[0m\u001b[0;34m)\u001b[0m\u001b[0;34m:\u001b[0m\u001b[0;34m\u001b[0m\u001b[0m\n\u001b[0;32m---> 73\u001b[0;31m         \u001b[0;32mreturn\u001b[0m \u001b[0mself\u001b[0m\u001b[0;34m.\u001b[0m\u001b[0mrequest\u001b[0m\u001b[0;34m(\u001b[0m\u001b[0;34m'GET'\u001b[0m\u001b[0;34m,\u001b[0m \u001b[0murl\u001b[0m\u001b[0;34m,\u001b[0m \u001b[0mparams\u001b[0m\u001b[0;34m=\u001b[0m\u001b[0mparams\u001b[0m\u001b[0;34m,\u001b[0m \u001b[0;34m**\u001b[0m\u001b[0mkwargs\u001b[0m\u001b[0;34m)\u001b[0m\u001b[0;34m\u001b[0m\u001b[0m\n\u001b[0m\u001b[1;32m     74\u001b[0m \u001b[0;34m\u001b[0m\u001b[0m\n\u001b[1;32m     75\u001b[0m     \u001b[0;32mdef\u001b[0m \u001b[0mdelete\u001b[0m\u001b[0;34m(\u001b[0m\u001b[0mself\u001b[0m\u001b[0;34m,\u001b[0m \u001b[0murl\u001b[0m\u001b[0;34m,\u001b[0m \u001b[0mparams\u001b[0m\u001b[0;34m=\u001b[0m\u001b[0;32mNone\u001b[0m\u001b[0;34m,\u001b[0m \u001b[0;34m**\u001b[0m\u001b[0mkwargs\u001b[0m\u001b[0;34m)\u001b[0m\u001b[0;34m:\u001b[0m\u001b[0;34m\u001b[0m\u001b[0m\n",
      "\u001b[0;32m/anaconda/lib/python3.6/site-packages/gspread/httpsession.py\u001b[0m in \u001b[0;36mrequest\u001b[0;34m(self, method, url, data, params, headers, files, json)\u001b[0m\n\u001b[1;32m     67\u001b[0m         \u001b[0;32mif\u001b[0m \u001b[0mresponse\u001b[0m\u001b[0;34m.\u001b[0m\u001b[0mstatus_code\u001b[0m \u001b[0;34m>\u001b[0m \u001b[0;36m399\u001b[0m\u001b[0;34m:\u001b[0m\u001b[0;34m\u001b[0m\u001b[0m\n\u001b[1;32m     68\u001b[0m             raise RequestError(response.status_code, \"{0}: {1}\".format(\n\u001b[0;32m---> 69\u001b[0;31m                 response.status_code, response.content))\n\u001b[0m\u001b[1;32m     70\u001b[0m         \u001b[0;32mreturn\u001b[0m \u001b[0mresponse\u001b[0m\u001b[0;34m\u001b[0m\u001b[0m\n\u001b[1;32m     71\u001b[0m \u001b[0;34m\u001b[0m\u001b[0m\n",
      "\u001b[0;31mRequestError\u001b[0m: (401, '401: b\\'<HTML>\\\\n<HEAD>\\\\n<TITLE>Unauthorized</TITLE>\\\\n</HEAD>\\\\n<BODY BGCOLOR=\"#FFFFFF\" TEXT=\"#000000\">\\\\n<H1>Unauthorized</H1>\\\\n<H2>Error 401</H2>\\\\n</BODY>\\\\n</HTML>\\\\n\\'')"
     ]
    }
   ],
   "source": [
    "# download spreadsheet\n",
    "list_of_lists = worksheet.get_all_values()\n",
    "with open(csvfile, \"w\") as output:\n",
    "    writer = csv.writer(output, lineterminator='\\n')\n",
    "    writer.writerows(list_of_lists)\n",
    "\n",
    "import pandas as pd\n",
    "output = pd.read_csv(csvfile)\n",
    "output[:3]"
   ]
  },
  {
   "cell_type": "code",
   "execution_count": null,
   "metadata": {
    "collapsed": true
   },
   "outputs": [],
   "source": [
    "# Import the relevant Twitter libraries so you can use Twitter.\n",
    "import twitter\n",
    "from twitter import TwitterError\n",
    "\n",
    "# create the following four text files and add them to the same diretctry as you \n",
    "# Google API key. In each file add the appropriate value found when retrieving your \n",
    "# Twitter credentials\n",
    "\n",
    "with open('../../../../../key.txt', 'r') as myfile:\n",
    "    key=myfile.read()\n",
    "    \n",
    "with open('../../../../../secret.txt', 'r') as myfile:\n",
    "    secret=myfile.read()\n",
    "    \n",
    "with open('../../../../../token_key.txt', 'r') as myfile:\n",
    "    token_key=myfile.read()\n",
    "\n",
    "with open('../../../../../token_secret.txt', 'r') as myfile:\n",
    "    token_secret=myfile.read()\n",
    "\n",
    "# Set you Twitter API credentials.\n",
    "api = twitter.Api(consumer_key=key,\n",
    "                  consumer_secret=secret,\n",
    "                  access_token_key=token_key,\n",
    "                  access_token_secret=token_secret)"
   ]
  },
  {
   "cell_type": "markdown",
   "metadata": {},
   "source": [
    "## Read the contents of your first webpage\n",
    "\n",
    "When you run the next cell, your program will visit the first URL you defined above. It will then print out that page's HTML. "
   ]
  },
  {
   "cell_type": "code",
   "execution_count": 30,
   "metadata": {
    "scrolled": true
   },
   "outputs": [
    {
     "name": "stdout",
     "output_type": "stream",
     "text": [
      "b'\\xef\\xbb\\xbf<!DOCTYPE html PUBLIC \"-//W3C//DTD XHTML 1.0 Transitional//EN\" \"http://www.w3.org/TR/xhtml1/DTD/xhtml1-transitional.dtd\">\\n<html dir=\"ltr\" xmlns=\"http://www.w3.org/1999/xhtml\">\\n\\n<!-- #BeginTemplate \"mmla_08_masterpage.dwt\" -->\\n\\n<head>\\n<meta http-equiv=\"Content-Type\" content=\"text/html; charset=utf-8\" />\\n\\n<link rel=\"shortcut icon\" href=\"/images/favicon.ico\" type=\"image/x-icon\" /> \\n\\n<!-- #BeginEditable \"doctitle\" -->\\n<title>Lake Level</title>\\n<meta name=\"description\" content=\"News from around and of Merrymeeting Lake\" />\\n<style type=\"text/css\">\\n\\n\\n\\n\\n\\n\\n\\n\\n\\n\\n\\n\\n\\n\\n\\n\\n\\n\\n\\n\\n\\n\\n\\n\\n\\n\\n\\n\\n\\n\\n\\n\\n\\n\\n\\n\\n\\n\\n\\n\\n\\n\\n\\n\\n\\n\\n\\n\\n\\n\\n\\n\\n\\n\\n\\n\\n\\n\\n\\n\\n\\n\\n\\n\\n\\n\\n\\n\\n\\n\\n\\n\\n\\n\\n\\n\\n\\n\\n.auto-style3 {\\n\\tfont-family: \"Comic Sans MS\";\\n\\tmargin-left: 60px;\\n\\tfont-size: medium;\\n\\tcolor: #000000;\\n}\\n.auto-style4 {\\n\\tfont-family: \"Comic Sans MS\";\\n\\tfont-size: large;\\n}\\n</style>\\n<!-- #EndEditable -->\\n<link rel=\"stylesheet\" type=\"text/css\" href=\"mmla_08_masterstyles.css\" />\\n<style type=\"text/css\">\\n\\n.pagelogonoboarder {\\n\\tborder-width: 0;\\n}\\n.pagetableboarder {\\n\\tborder: 1px solid #FFFFFF;\\n}\\n.pageheaderpicture {\\n\\tmargin-left: 15px;\\n\\tmargin-right: 15px;\\n}\\n#top_picture_location {\\n\\tmargin-left: 100px;\\n\\tmargin-right: 100px;\\n}\\n.picture_caption {\\n\\ttext-align: center;\\n}\\n</style>\\n<base target=\"_blank\" />\\n</head>\\n\\n<body>\\n\\n<table cellpadding=\"0\" cellspacing=\"0\" align=\"center\" class=\"pagetableboarder\" style=\"width: 95%; \">\\n\\t<!-- MSTableType=\"layout\" -->\\n\\t<tr>\\n\\t\\t<td id=\"container\" colspan=\"2\" class=\"auto-style1\">\\n\\t\\t<!-- MSCellType=\"ContentHead\" -->\\n\\t\\t<a href=\"http://mmlake.org/\">\\n\\t\\t<img alt=\"MMLA logo\" src=\"images/smallPageHeaderLogo.gif\" width=\"148\" height=\"130\" longdesc=\"MMLA logo of loon floating in front of marsh\" class=\"pagelogonoboarder\" style=\"float: left\" /></a>&nbsp;&nbsp;&nbsp;&nbsp;&nbsp;&nbsp;&nbsp;&nbsp;&nbsp;&nbsp;&nbsp;&nbsp;&nbsp;&nbsp;&nbsp;&nbsp;&nbsp;&nbsp;\\n\\t\\t<img alt=\"\" src=\"images/CalmLake.jpg\" width=\"600\" height=\"278\" id=\"top_nav\" class=\"auto-style2\" /><br />\\n\\t\\t<br />\\n\\t\\t</td>\\n\\t\\t</tr>\\n\\t<tr id=\"top_nav\">\\n\\t\\t<td valign=\"top\" id=\"top_nav\" colspan=\"2\" style=\"height: 35px\">\\n\\t\\t<!-- MSCellType=\"ContentHead\" -->\\n\\t\\t<ul>\\n\\t<li><a href=\"http://mmlake.org/\">Home</a></li>\\n\\t<li><a href=\"http://mmlake.hopto.org:25110/axis-cgi/mjpg/video.cgi?camera=1&resolution=704x480&1503067243291\">LakeCam</a></li>\\n\\t<li><a href=\"http://mmlake.org/mmla_08_association.htm\">Association</a></li>\\n\\t<li><a href=\"http://mmlake.org/mmla_08_links.htm\">Links</a></li>\\n\\t<li><a href=\"http://mmlake.org/LakeWaterLevel.html\">Lake Level</a></li>\\n\\t<li><a href=\"http://mmlake.org/mmla_08_archives.htm\">Archives</a></li>\\n\\t\\t</ul>\\n\\t\\t</td>\\n\\t</tr>\\n\\t<tr>\\n\\t\\t<td valign=\"top\" id=\"container\">\\n\\t\\t<!-- MSCellType=\"ContentBody\" -->\\n\\t\\t<!-- #BeginEditable \"td%23container\" -->\\n\\t\\t<p class=\"news_header\">\\n\\t\\tAs of 1-October-2017</p>\\n\\t\\t<p class=\"news_story\">\\n\\t\\tNow that Fall has arrived, the water temperature and level are dropping \\n\\t\\tfaster now. While all the boards remain in the dam, the lower outflow \\n\\t\\tpipe has been opened, allowing water to drain through. (Check out the \\n\\t\\twater clarity in the dam gauge photo!)</p>\\n\\t\\t<p class=\"news_story\">\\n\\t\\t<img alt=\"\" height=\"90%\" src=\"img15.jpg\" width=\"90%\" /></p>\\n\\t\\t<p class=\"news_story\">\\n\\t\\t<img alt=\"\" height=\"40%\" src=\"images/2017/Oct1-17.JPG\" width=\"40%\" />\\n\\t\\t<img alt=\"\" height=\"40%\" src=\"images/2017/Oct1A-17.JPG\" width=\"40%\" /></p>\\n\\t\\t<p class=\"news_header\">\\n\\t\\tAs of 18-September-2017</p>\\n\\t\\t<p class=\"news_story\">\\n\\t\\tThe water level rose slightly since the beginning of September due to a \\n\\t\\theavy rain a week ago. Boards are still in and the level is the highest \\n\\t\\tit\\'s been at this time of year for many years.&nbsp; Nice with all the \\n\\t\\tbeautiful weather we are having.</p>\\n\\t\\t<p class=\"news_story\">\\n\\t\\t&nbsp;</p>\\n\\t\\t<p class=\"news_story\">\\n\\t\\t<img alt=\"\" height=\"90%\" src=\"images/2017/WaterLevel9-18-17.jpg\" width=\"90%\" /></p>\\n\\t\\t<p class=\"news_story\">\\n\\t\\t&nbsp;</p>\\n\\t\\t<p class=\"news_header\">\\n\\t\\tAs of 1-September-2017</p>\\n\\t\\t<p class=\"news_story\">\\n\\t\\tThe water level dropped another 5\" in August.&nbsp;Looks like September \\n\\t\\tlevel will remain good for boating. Spillway is still \\n\\t\\tclosed, all boards are in though the water level is well below them.</p>\\n\\t\\t<p class=\"news_story\">\\n\\t\\t&nbsp;<img alt=\"\" height=\"90%\" src=\"img13.jpg\" width=\"90%\" /></p>\\n\\t\\t<p class=\"news_story\">\\n\\t\\t<img alt=\"\" height=\"40%\" src=\"images/2017/Sept17W2.JPG\" width=\"40%\" />\\n\\t\\t<img alt=\"\" height=\"40%\" src=\"images/2017/Sept17W1.JPG\" width=\"40%\" /> </p>\\n\\t\\t<p class=\"news_story\">\\n\\t\\t<img alt=\"\" height=\"40%\" src=\"images/2017/Sept17W3.JPG\" width=\"40%\" /></p>\\n\\t\\t<p class=\"news_story\">\\n\\t\\t</p>\\n\\t\\t<p class=\"news_story\">\\n\\t\\t&nbsp;</p>\\n\\t\\t<p class=\"news_story\">\\n\\t\\t&nbsp;</p>\\n\\t\\t<p class=\"news_header\">\\n\\t\\tAs of 1-August-2017</p>\\n\\t\\t<p class=\"news_story\">\\n\\t\\tThe water level dropped about 5\" in July.&nbsp; Spillway is dry and \\n\\t\\tclosed, outflow pipe no longer showing flow either.</p>\\n\\t\\t<p class=\"news_header\">\\n\\t\\t<img alt=\"\" height=\"90%\" src=\"img12.jpg\" width=\"90%\" /></p>\\n\\t\\t<p class=\"news_story\">\\n\\t\\t&nbsp;</p>\\n\\t\\t<p class=\"news_header\">\\n\\t\\t<img alt=\"\" height=\"40%\" src=\"images/2017/IMG_0613.JPG\" width=\"40%\" /><img alt=\"\" height=\"40%\" src=\"images/2017/IMG_0615.JPG\" width=\"40%\" /><img alt=\"\" height=\"40%\" src=\"images/2017/IMG_0611.JPG\" width=\"40%\" /></p>\\n\\t\\t<p class=\"news_header\">\\n\\t\\tAs of 1-July-2017</p>\\n\\t\\t<span class=\"auto-style4\">The lake is just below full level (648.5\\').&nbsp; \\n\\t\\tNow at 648.4\\'. The spillway is now dry, but water still flowing strongly \\n\\t\\tfrom outflow pipe.<br />\\n\\t\\t<br />\\n\\t\\t<img alt=\"\" height=\"90%\" src=\"img10.jpg\" width=\"90%\" /></span><p class=\"news_story\">\\n\\t\\t<img alt=\"\" height=\"40%\" src=\"images/2017/IMG_0581.JPG\" width=\"40%\" /></p>\\n\\t\\t<p class=\"news_story\">\\n\\t\\t<img alt=\"\" height=\"40%\" src=\"images/2017/IMG_0575.JPG\" width=\"40%\" /></p>\\n\\t\\t<p class=\"news_story\">\\n\\t\\t<img alt=\"\" height=\"40%\" src=\"images/2017/IMG_0577.JPG\" width=\"40%\" /></p>\\n\\t\\t<p class=\"news_header\">\\n\\t\\tAs of 15-June-2017</p>\\n\\t\\t<span class=\"auto-style4\">The lake is now at normal, full, level, \\n\\t\\t648.5\\'. This level is what will be maintained assuming consistent \\n\\t\\trainfall and outflow. But typically, reduced rainfall in the summer, \\n\\t\\tincreased water use by the hatchery, and normal evaporation, cause the \\n\\t\\tlake level to slowly drop through July and August.<br />\\n\\t\\t<br />\\n\\t\\t<img alt=\"\" height=\"90%\" src=\"img19.jpg\" width=\"90%\" /></span><p class=\"news_header\">\\n\\t\\t&nbsp;As of 1-June-2017</p>\\n\\t\\t<p class=\"news_story\">\\n\\t\\tWhile the level of the lake has receeded in the past few weeks, down \\n\\t\\tabout 4-5\" from the last report, it is still above normal levels. \\n\\t\\tAnother 1+ inches of rain is forecast for the next 24 hours, and the \\n\\t\\tinput streams are all running high. We probably won\\'t see a noticable \\n\\t\\tdrop in the level for another few weeks. </p>\\n\\t\\t<p class=\"news_story\">\\n\\t\\tThe good news is that the forecast finally shows a break in this rainy, \\n\\t\\traw, and cold pattern we\\'ve been stuck in all spring.&nbsp; It appears \\n\\t\\tthings will start to improve for summer activites later this week and \\n\\t\\tweekend.&nbsp; Let\\'s hope they are right!</p>\\n\\t\\t<p class=\"news_story\">\\n\\t\\t&nbsp;</p>\\n\\t\\t<p class=\"news_story\">\\n\\t\\t<img alt=\"\" height=\"90%\" src=\"img8.jpg\" width=\"90%\" /></p>\\n\\t\\t<p class=\"news_header\">\\n\\t\\t&nbsp;</p>\\n\\t\\t<p class=\"news_header\">\\n\\t\\t<img alt=\"\" height=\"90%\" src=\"images/2017/IMG_0528.JPG\" width=\"90%\" /></p>\\n\\t\\t<p class=\"news_header\">\\n\\t\\t&nbsp;</p>\\n\\t\\t<p class=\"news_header\">\\n\\t\\tAs of 15-May-2017</p>\\n\\t\\t<p class=\"news_story\">\\n\\t\\t<img alt=\"\" height=\"90%\" src=\"img7.jpg\" width=\"90%\" /></p>\\n\\t\\t<p class=\"news_story\">\\n\\t\\tThe lake level is now approximately 6\" above normal Spring full lake \\n\\t\\tlevel (see pictures below). I\\'ve heard many comments about people never \\n\\t\\tseeing the lake so high.&nbsp; Apparently many have short memories. In \\n\\t\\t2006, the lake level came close to overtopping the dam, and there was \\n\\t\\textensive flooding. There were severe road washouts in the whole Lakes \\n\\t\\tRegion. Levels were also higher in 2007 and 2010. (see here for \\n\\t\\tWinnipesaukee lake level history\\n\\t\\t<a href=\"http://www.bizer.com/bztnews.htm#lakelevel\">\\n\\t\\thttp://www.bizer.com/bztnews.htm#lakelevel</a> . Also see\\n\\t\\t<a href=\"http://www.nws.noaa.gov/floodsafety/states/nh-flood.shtml\">\\n\\t\\thttp://www.nws.noaa.gov/floodsafety/states/nh-flood.shtml</a> )</p>\\n\\t\\t<p class=\"news_story\">\\n\\t\\t648.5\\' is the normal, spring lake level in years when we have a normal \\n\\t\\tsnow melt and spring rains.&nbsp; This year is the first in several when \\n\\t\\tthe snow pack has been \"normal\", and the first in several years where \\n\\t\\tthe lake has begun the season at full level (or as is the case as of \\n\\t\\tthis week, 6\" above). We\\'ve had a LOT of rain in the past several weeks. \\n\\t\\tIt is pretty amazing what a difference 6\" can make when you look at \\n\\t\\tshoreline levels and docks.&nbsp; There are several docks on the lake \\n\\t\\tthat are currently close to or under water.</p>\\n\\t\\t<p class=\"news_story\">\\n\\t\\tTo answer the question of why Fish &amp; Game doesn\\'t just pull more boards \\n\\t\\tout of the dam to let the level drop again, you need to consider the \\n\\t\\twhole watershed of which Merrymeeting is a part.&nbsp; The Merrymeeting \\n\\t\\tRiver and Marsh, Lake Winnipesaukee, and the Merrimack River are all \\n\\t\\talso well above normal spring levels.&nbsp; If too much water from \\n\\t\\tMerrymeeting is released too fast, it will cause flooding in the whole \\n\\t\\twatershed downstream. Therefore it needs to be released slowly and \\n\\t\\tcarefully.&nbsp; The good news is we finally have an extended forecast \\n\\t\\twith little rain and sunny days.&nbsp; The continued flow over the \\n\\t\\tsluiceway, coupled with normal evaporation, should hopefully drop the \\n\\t\\tlevel quickly. We will appreciate this water in late July when the lake \\n\\t\\tlevel is still reasonalble for water activites, unlike what we\\'ve \\n\\t\\texperienced in recent years.&nbsp; On a hot day, the lake level can drop \\n\\t\\t1\" or more just from evaporation!</p>\\n\\t\\t<p class=\"news_story\">\\n\\t\\t<img alt=\"\" height=\"892\" src=\"images/2017/Level.jpg\" width=\"764\" /></p>\\n\\t\\t<p class=\"news_story\">\\n\\t\\t&nbsp;</p>\\n\\t\\t<p class=\"news_header\">\\n\\t\\t<img alt=\"\" height=\"90%\" src=\"images/2017/DSC_0418.JPG\" width=\"90%\" /></p>\\n\\t\\t<p class=\"news_header\">\\n\\t\\t&nbsp;</p>\\n\\t\\t<p class=\"news_header\">\\n\\t\\t<img alt=\"\" height=\"90%\" src=\"images/2017/DSC_0419.JPG\" width=\"90%\" /></p>\\n\\t\\t<p class=\"news_header\">\\n\\t\\tAs of 2-May-2017</p>\\n\\t\\t<p class=\"news_story\">\\n\\t\\tAll of the boards were added to the dam sluceway shortly after ice-out \\n\\t\\t(mid-April).&nbsp; The lake level rose quickly due to snow melt runoff \\n\\t\\tand ongoing rains. As of 2-May, the lake is at full level, higher than \\n\\t\\tit\\'s been at this time in several years, and the water is about to start \\n\\t\\toverflowwing into the sluceway.</p>\\n\\t\\t<p class=\"news_header\">\\n\\t\\t<img alt=\"\" height=\"90%\" src=\"img11.jpg\" width=\"90%\" /></p>\\n\\t\\t<p class=\"news_header\">\\n\\t\\t<img alt=\"\" height=\"80%\" src=\"images/2017/DSC_0390.JPG\" width=\"80%\" /></p>\\n\\t\\t<p class=\"news_header\">\\n\\t\\t&nbsp;</p>\\n\\t\\t<p class=\"news_header\">\\n\\t\\t<img alt=\"\" height=\"80%\" src=\"images/2017/DSC_0387.JPG\" width=\"80%\" /></p>\\n\\t\\t<p class=\"news_header\">\\n\\t\\t&nbsp;</p>\\n<!-- #EndEditable -->\\n\\t\\t</td>\\n\\t\\t<td valign=\"top\" id=\"right_col\" style=\"right: 1px; \">\\n\\t\\t<!-- MSCellType=\"NavBody\" -->\\n\\t\\t<!-- #BeginEditable \"td%23right_col\" -->\\n\\t\\t<p>&nbsp;</p>\\n<!-- #EndEditable -->\\n\\t\\t</td>\\n\\t</tr>\\n\\t<tr>\\n\\t\\t<td valign=\"top\" id=\"footer\" colspan=\"2\" class=\"auto-style3\">\\n\\t\\t<!-- MSCellType=\"ContentFoot\" -->\\n\\t\\t\\xc2\\xa9 copyright 2017 Merryeeting Lake Association&nbsp;<br />\\n\\t\\tPO Box 468, New Durham, NH 03855 or email:<a href=\"mailto:mmla@mmlake.org\">mmla@mmlake.org</a><br />\\n\\t\\tAll rights reserved.&nbsp;&nbsp;&nbsp;&nbsp; \\n\\t\\tSite comments?\\n\\t\\t<a href=\"mailto:webmaster@mmlake.org?subject=Comment on MMLA website\">\\n\\t\\twebmaster@mmlake.org</a></td>\\n\\t</tr>\\n\\t<tr>\\n\\t\\t<td style=\"width: 691px\">&nbsp;</td>\\n\\t\\t<td style=\"width: 199px; height: 1px;\"></td>\\n\\t\\t</tr>\\n</table>\\n<a href=\"http://mmlake.org/mmla_links.htm\"></a>\\n\\n</body>\\n\\n<!-- #EndTemplate -->\\n\\n</html>\\n'\n"
     ]
    }
   ],
   "source": [
    "p_1 = urllib.request.build_opener(urllib.request.HTTPCookieProcessor).open(url_1).read()\n",
    "print(p_1)"
   ]
  },
  {
   "cell_type": "markdown",
   "metadata": {},
   "source": [
    "## Parse the site's contents\n",
    "\n",
    "Scan the above HTML for the content you are trying to extract. Cut and paste the HTML above into the TEST STRING box over at [Regex 101](https://regex101.com/) and craft a regex that captures your desired content. \n",
    "\n",
    "Remember the parenthetical is the group you're pulling out. Once you have a working regex, plug it into the code below, and run the cell. If it worked, you'll see you scraped data as an output. "
   ]
  },
  {
   "cell_type": "code",
   "execution_count": 31,
   "metadata": {},
   "outputs": [
    {
     "name": "stdout",
     "output_type": "stream",
     "text": [
      "\n",
      "\t\tAs of 1-October-2017\n"
     ]
    }
   ],
   "source": [
    "res_1 = re.search(b'<p class=\\\"news_header\\\">([^<]*)</p>',p_1)\n",
    "output_1 = res_1.group(1).decode('UTF-8')\n",
    "print(output_1)"
   ]
  },
  {
   "cell_type": "markdown",
   "metadata": {},
   "source": [
    "## Read the contents of your second webpage\n",
    "\n",
    "Same deal as above, but now we're looking at your second URL. "
   ]
  },
  {
   "cell_type": "code",
   "execution_count": 32,
   "metadata": {
    "scrolled": true
   },
   "outputs": [
    {
     "name": "stdout",
     "output_type": "stream",
     "text": [
      "b'\\xef\\xbb\\xbf<!DOCTYPE html PUBLIC \"-//W3C//DTD XHTML 1.0 Transitional//EN\" \"http://www.w3.org/TR/xhtml1/DTD/xhtml1-transitional.dtd\">\\n<html dir=\"ltr\" xmlns=\"http://www.w3.org/1999/xhtml\">\\n\\n<!-- #BeginTemplate \"mmla_08_masterpage.dwt\" -->\\n\\n<head>\\n<meta http-equiv=\"Content-Type\" content=\"text/html; charset=utf-8\" />\\n\\n<link rel=\"shortcut icon\" href=\"/images/favicon.ico\" type=\"image/x-icon\" /> \\n\\n<!-- #BeginEditable \"doctitle\" -->\\n<title>Welcome to Merrymeeting Lake</title>\\n<style type=\"text/css\">\\n\\n\\n\\n\\n\\n\\n\\n\\n\\n\\n\\n\\n\\n\\n\\n\\nh2\\n\\t{margin: 5.0pt 0in;\\n\\tfont-size:10.5pt;\\n\\tfont-family:\"Century Gothic\",sans-serif;\\n\\tcolor:#A5B592;\\n\\t}\\nh1\\n\\t{margin-bottom:.0001pt;\\n\\tline-height:24.0pt;\\n\\tfont-size:19.5pt;\\n\\tfont-family:\"Helvetica\",sans-serif;\\n\\tcolor:#202020;\\n\\tmargin-left: 0in;\\n\\tmargin-right: 0in;\\n\\tmargin-top: 0in;\\n}\\n.auto-style1 {\\n\\tmargin-left: 20px;\\n\\tcolor: #000000;\\n}\\n.auto-style2 {\\n\\tfont-family: \"Comic Sans MS\";\\n\\tmargin-left: 20px;\\n\\tfont-size: medium;\\n\\tcolor: #000000;\\n\\ttext-align: left;\\n}\\n.auto-style3 {\\n\\tfont-size: 11.0pt;\\n\\tfont-family: Calibri, sans-serif;\\n\\tmargin-left: 0in;\\n\\tmargin-right: 0in;\\n\\tmargin-top: 0in;\\n\\tmargin-bottom: .0001pt;\\n}\\n.auto-style4 {\\n\\tfont-family: \"Comic Sans MS\";\\n\\tmargin-left: 20px;\\n\\tfont-size: small;\\n\\tcolor: #000000;\\n}\\n.auto-style5 {\\n\\tfont-size: large;\\n}\\n.auto-style6 {\\n\\tline-height: 115%;\\n\\tfont-size: large;\\n}\\n</style>\\n<!-- #EndEditable -->\\n<link rel=\"stylesheet\" type=\"text/css\" href=\"mmla_08_masterstyles.css\" />\\n<style type=\"text/css\">\\n\\n.pagelogonoboarder {\\n\\tborder-width: 0;\\n}\\n.pagetableboarder {\\n\\tborder: 1px solid #FFFFFF;\\n}\\n.pageheaderpicture {\\n\\tmargin-left: 15px;\\n\\tmargin-right: 15px;\\n}\\n#top_picture_location {\\n\\tmargin-left: 100px;\\n\\tmargin-right: 100px;\\n}\\n.picture_caption {\\n\\ttext-align: center;\\n}\\n</style>\\n<base target=\"_blank\" />\\n</head>\\n\\n<body>\\n\\n<table cellpadding=\"0\" cellspacing=\"0\" align=\"center\" class=\"pagetableboarder\" style=\"width: 95%; \">\\n\\t<!-- MSTableType=\"layout\" -->\\n\\t<tr>\\n\\t\\t<td id=\"container\" colspan=\"2\" class=\"auto-style1\">\\n\\t\\t<!-- MSCellType=\"ContentHead\" -->\\n\\t\\t<a href=\"http://mmlake.org/\">\\n\\t\\t<img alt=\"MMLA logo\" src=\"images/smallPageHeaderLogo.gif\" width=\"148\" height=\"130\" longdesc=\"MMLA logo of loon floating in front of marsh\" class=\"pagelogonoboarder\" style=\"float: left\" /></a>&nbsp;&nbsp;&nbsp;&nbsp;&nbsp;&nbsp;&nbsp;&nbsp;&nbsp;&nbsp;&nbsp;&nbsp;&nbsp;&nbsp;&nbsp;&nbsp;&nbsp;&nbsp;\\n\\t\\t<img alt=\"\" src=\"images/CalmLake.jpg\" width=\"600\" height=\"278\" id=\"top_nav\" class=\"auto-style2\" /><br />\\n\\t\\t<br />\\n\\t\\t</td>\\n\\t\\t</tr>\\n\\t<tr id=\"top_nav\">\\n\\t\\t<td valign=\"top\" id=\"top_nav\" colspan=\"2\" style=\"height: 35px\">\\n\\t\\t<!-- MSCellType=\"ContentHead\" -->\\n\\t\\t<ul>\\n\\t<li><a href=\"http://mmlake.org/\">Home</a></li>\\n\\t<li><a href=\"http://mmlake.hopto.org:25110/axis-cgi/mjpg/video.cgi?camera=1&resolution=704x480&1503067243291\">LakeCam</a></li>\\n\\t<li><a href=\"http://mmlake.org/mmla_08_association.htm\">Association</a></li>\\n\\t<li><a href=\"http://mmlake.org/mmla_08_links.htm\">Links</a></li>\\n\\t<li><a href=\"http://mmlake.org/LakeWaterLevel.html\">Lake Level</a></li>\\n\\t<li><a href=\"http://mmlake.org/mmla_08_archives.htm\">Archives</a></li>\\n\\t\\t</ul>\\n\\t\\t</td>\\n\\t</tr>\\n\\t<tr>\\n\\t\\t<td valign=\"top\" id=\"container\">\\n\\t\\t<!-- MSCellType=\"ContentBody\" -->\\n\\t\\t<!-- #BeginEditable \"td%23container\" -->\\n\\t\\t<p class=\"news_header\">\\n\\t\\tUpdate on Logging of Birch Ridge</p>\\n\\t\\t<p align=\"center\" class=\"MsoNormal\">\\n\\t\\t<b style=\"mso-bidi-font-weight:\\nnormal\"><span style=\"font-size:16.0pt;line-height:115%\">Dillon Investments, LLC \\n\\t\\tAcquires Former Red Oak Ridge LLC Property on Birch Ridge<o:p></o:p></span></b></p>\\n\\t\\t<p class=\"MsoNormal\">\\n\\t\\t<span class=\"auto-style5\" style=\"line-height: 115%\">As many have now \\n\\t\\theard, in mid-August, over 1900 acres of land on Birch Ridge, formerly \\n\\t\\towned by Red Oak Ridge, LLC (controlled by Gruss and Company) was \\n\\t\\tpurchased</span> <span class=\"auto-style5\" style=\"line-height: 115%\">for \\n\\t\\t$2.575mm by Dillon Investments, LLC (Dillon) of Anson, ME, primarily a \\n\\t\\tlogging/timber company.<o:p></o:p></span></p>\\n\\t\\t<p class=\"auto-style6\">Within days, a Notice of Intent to Cut Wood or \\n\\t\\tTimber was filed with the New Hampshire Department of Revenue \\n\\t\\tAdministration and the Town of New Durham. The permit was quickly \\n\\t\\tapproved and logging has begun on the slopes above Broad Cove.<o:p></o:p></p>\\n\\t\\t<p class=\"MsoNormal\">\\n\\t\\t<span class=\"auto-style5\" style=\"line-height: 115%\">The Notice of Intent \\n\\t\\tindicates that the areas will be \\xe2\\x80\\x9cclear cut\\xe2\\x80\\x9d, taking all available \\n\\t\\ttimber and byproducts. Unfortunately, all of this is legal and allowed \\n\\t\\tin the State of NH. There are few restrictions on a landowner cutting on \\n\\t\\ttheir property unless they are within 250\\xe2\\x80\\x99 of a water body covered by \\n\\t\\tthe Shoreland Protection Act, which is not the case here. The area \\n\\t\\tinvolved is almost everything on the south and east sides of South Shore \\n\\t\\tRoad, starting at the fish hatchery and going to the end of South Shore \\n\\t\\tRoad (to view the parcels involved, go to the </span>\\n\\t\\t<a href=\"http://www.caigisonline.com/New_DurhamNH/Default.aspx?Splash=True\" target=\"_blank\">\\n\\t\\t<span class=\"auto-style5\" style=\"line-height: 115%; background: white\">\\n\\t\\tInteractive Tax Map Data</span></a><span class=\"auto-style5\"> link on \\n\\t\\tthe </span><a href=\"http://www.mmlake.org/links\">\\n\\t\\t<span class=\"auto-style5\">www.mmlake.org/links</span></a><span class=\"auto-style5\"> \\n\\t\\tpage, and search for all parcels owned by \\xe2\\x80\\x9cDillon\\xe2\\x80\\x9d) </span>\\n\\t\\t<span style=\"font-size:\\n12.0pt;line-height:115%\"><o:p></o:p></span></p>\\n\\t\\t<p class=\"auto-style6\">The quick sale to Dillon was surprising in that \\n\\t\\tthe NH Forest Society had been quietly negotiating along with support \\n\\t\\tfrom the MMLA and other conservation organizations to purchase the \\n\\t\\tproperties from Gruss and Company. Unfortunately, Gruss decided to sell \\n\\t\\tto Dillon without considering alternative offers or notifying us of the \\n\\t\\timpending sale.<o:p></o:p></p>\\n\\t\\t<p class=\"MsoNormal\"><span style=\"line-height: 115%\">\\n\\t\\t<span class=\"auto-style5\" style=\"mso-spacerun:yes\">&nbsp;</span></span><span class=\"auto-style5\" style=\"line-height: 115%\">In \\n\\t\\t2010, an alliance between the Merrymeeting Lake Association (MMLA), the \\n\\t\\tTown of New Durham, The Society for the Protection of New Hampshire \\n\\t\\tForests (Forest Society), and the New Hampshire Community Heritage \\n\\t\\tProgram attempted to purchase this property from Gruss. At that time, \\n\\t\\tthe appraised value of the land was $2.6mm which was below Red Oak\\xe2\\x80\\x99s \\n\\t\\topinion of the property\\xe2\\x80\\x99s value. As a result, negotiations were \\n\\t\\tunsuccessful, though frustratingly, the property was sold to Dillon for \\n\\t\\tabout the same amount 8 years later.<o:p></o:p></span></p>\\n\\t\\t<p class=\"auto-style6\">The MMLA is working with forestry rangers from \\n\\t\\tthe New Hampshire Division of Forests and Lands and with the Town of New \\n\\t\\tDurham Forester regarding the current logging activity. We have direct \\n\\t\\tconnections to the governor\\xe2\\x80\\x99s office and other state agencies to ensure \\n\\t\\tthat all logging activities follow correct procedures. These entities \\n\\t\\twill continue to monitor the harvesting process, with particular \\n\\t\\temphasis on signs of silting after major rain events. The MMLA water \\n\\t\\ttesting team will also continue to monitor the water quality of the lake \\n\\t\\tfor any potential impact.<o:p></o:p></p>\\n\\t\\t<p class=\"auto-style6\">We are also working to ascertain Dillon \\n\\t\\tInvestments\\xe2\\x80\\x99 intentions regarding the property,<a name=\"_GoBack\"></a> \\n\\t\\tand we will continue to have ongoing discussions with Dillon, the state, \\n\\t\\tNew Durham, and others on current plans and future options for the \\n\\t\\tproperties involved.<o:p></o:p></p>\\n\\t\\t<p class=\"MsoNormal\">\\n\\t\\t<span class=\"auto-style5\" style=\"line-height: 115%\">If you have any \\n\\t\\tquestions or concerns, please direct them to the MMLA Board of Directors \\n\\t\\tat email </span><a href=\"mailto:mmla@mmlake.org\">\\n\\t\\t<span class=\"auto-style5\" style=\"line-height: 115%\">mmla@mmlake.org</span></a><span class=\"auto-style5\" style=\"line-height: 115%\">.</span><span style=\"line-height: 115%\"><span class=\"auto-style5\" style=\"mso-spacerun:yes\">&nbsp;\\n\\t\\t</span></span><span style=\"font-size:12.0pt;\\nline-height:115%\"><span class=\"auto-style5\" style=\"line-height: 115%\">We would \\n\\t\\task that abutters noticing any issues with silting on their property \\n\\t\\tand/or in the springs that run down the ridge into the lake should \\n\\t\\timmediately contact the MMLA. While these recent changes are upsetting \\n\\t\\tto most, our best chance to manage this is to coordinate all input and \\n\\t\\tcommunications through the association. Unorganized and fractured \\n\\t\\tcontact with the parties involved will not be helpful.</span><b style=\"mso-bidi-font-weight:normal\"><o:p></o:p></b></span></p>\\n\\t\\t<p class=\"auto-style6\">We will continue to update you and provide you \\n\\t\\twith any new information as it becomes available.<o:p></o:p></p>\\n\\t\\t<p class=\"auto-style6\">Regards,<o:p></o:p></p>\\n\\t\\t<p class=\"MsoNormal\">\\n\\t\\t<span class=\"auto-style5\" style=\"line-height: 115%\">The MMLA Board of \\n\\t\\tDirectors<br />\\n\\t\\temail: </span><a href=\"mailto:mmla@mmlake.org\">\\n\\t\\t<span class=\"auto-style5\" style=\"line-height: 115%\">mmla@mmlake.org</span></a><span style=\"font-size:12.0pt;\\nline-height:115%\"> </span></p>\\n\\t\\t<p class=\"MsoNormal\">&nbsp;</p>\\n\\t\\t<p class=\"MsoNormal\">&nbsp;</p>\\n\\t\\t<p class=\"news_header\">\\n\\t\\tMMLA LakeCam is Back!</p>\\n\\t\\t<p class=\"news_story\">\\n\\t\\tThe marina network reconfiguration is complete and the LakeCam is now \\n\\t\\tback! The first time you click on the link above, you will be asked for \\n\\t\\ta username: mmlaguest and a password: mmla . If your internet browser \\n\\t\\tallows you to store this info, I suggest you do so and you won\\'t need to \\n\\t\\tenter this information again.</p>\\n\\t\\t<p class=\"news_story\">\\n\\t\\tAlso, please be considerate to your neighbors and friends on this \\n\\t\\twebsite. Don\\'t start the video stream and leave it going for long \\n\\t\\tperiods of time. The camera server has limited bandwidth and concurrent \\n\\t\\tlink capabilities.&nbsp; Too many concurrent users may cause all to be \\n\\t\\tlocked out.</p>\\n\\t\\t<p class=\"news_story\">\\n\\t\\tWe may upgrade the camera to a better, high-def, version if we can \\n\\t\\tentice enough members to join in 2017 and beyond.&nbsp; If you enjoy \\n\\t\\tthis service, please renew your membership if you have not done so.&nbsp; \\n\\t\\tYour dues support our ability to provide services such as this one.</p>\\n<!-- #EndEditable -->\\n\\t\\t</td>\\n\\t\\t<td valign=\"top\" id=\"right_col\" style=\"right: 1px; \">\\n\\t\\t<!-- MSCellType=\"NavBody\" -->\\n\\t\\t<!-- #BeginEditable \"td%23right_col\" -->\\n\\t\\t<p class=\"news_header\">Did you forget to renew?</p>\\n\\t\\t<p class=\"picture_caption\"><span class=\"news_story\">Use the buttons \\n\\t\\tbelow to upate your MMLA membership and optional donations for \\n\\t\\t2017</span></p>\\n\\t\\t<p class=\"news_story\">Or use memberhip form\\n\\t\\t<a href=\"MMLA_documents/2017MembershipDrive-Blank.pdf\">here</a> and mail \\n\\t\\tto:</p>\\n\\t\\t<p class=\"auto-style4\">MMLA, PO Box 468<br />\\n\\t\\tNew Durham, NH 03855</p>\\n\\t\\t<p class=\"picture_caption\"><span class=\"news_story\">The funds are \\n\\t\\tdescribed in our&nbsp;newsletter or under the \"Assocation\" link on this \\n\\t\\twebsite.</span></p>\\n\\n\\n\\n<form target=\"paypal\" action=\"https://www.paypal.com/cgi-bin/webscr\" method=\"post\">\\n<input type=\"hidden\" name=\"cmd\" value=\"_s-xclick\">\\n<input type=\"hidden\" name=\"hosted_button_id\" value=\"6KEVZDNNWGYHC\">\\n<table>\\n<tr><td><input type=\"hidden\" name=\"on0\" value=\"Select dues and donation amounts\">Select dues and donation amounts<br />\\n\\tand add to cart.&nbsp; Click on Vew Cart when done.<br />\\n\\t</td></tr><tr><td><select name=\"os0\">\\n\\t<option value=\"Membership Dues\">Membership Dues $50.00 USD</option>\\n\\t<option value=\"Water Quality Fund -\">Water Quality Fund - $100.00 USD</option>\\n\\t<option value=\"Water Quality Fund --\">Water Quality Fund -- $50.00 USD</option>\\n\\t<option value=\"Water Quality Fund ---\">Water Quality Fund --- $25.00 USD</option>\\n\\t<option value=\"Watershed Conservation -\">Watershed Conservation - $100.00 USD</option>\\n\\t<option value=\"Watershed Conservation --\">Watershed Conservation -- $50.00 USD</option>\\n\\t<option value=\"Watershed Conservation ---\">Watershed Conservation --- $25.00 USD</option>\\n</select> </td></tr>\\n</table>\\n<input type=\"hidden\" name=\"currency_code\" value=\"USD\">\\n<input type=\"image\" src=\"https://www.paypalobjects.com/en_US/i/btn/btn_cart_LG.gif\" border=\"0\" name=\"submit\" alt=\"PayPal - The safer, easier way to pay online!\">\\n<img alt=\"\" border=\"0\" src=\"https://www.paypalobjects.com/en_US/i/scr/pixel.gif\" width=\"1\" height=\"1\">\\n</form>\\n\\n\\n<form target=\"paypal\" action=\"https://www.paypal.com/cgi-bin/webscr\" method=\"post\" >\\n<input type=\"hidden\" name=\"cmd\" value=\"_cart\">\\n<input type=\"hidden\" name=\"business\" value=\"JRJJH82R3F8RU\">\\n<input type=\"hidden\" name=\"display\" value=\"1\">\\n<input type=\"image\" src=\"https://www.paypalobjects.com/en_US/i/btn/btn_viewcart_LG.gif\" border=\"0\" name=\"submit\" alt=\"PayPal - The safer, easier way to pay online!\">\\n<img alt=\"\" border=\"0\" src=\"https://www.paypalobjects.com/en_US/i/scr/pixel.gif\" width=\"1\" height=\"1\">\\n\\n\\t<p></p>\\n\\t<p>If you would like to make a memorial or other donation to the MMLA, \\n\\tplease use the button below.</p>\\n\\n</form>\\n\\n<form action=\"https://www.paypal.com/cgi-bin/webscr\" method=\"post\" target=\"_top\">\\n<input type=\"hidden\" name=\"cmd\" value=\"_s-xclick\">\\n<input type=\"hidden\" name=\"hosted_button_id\" value=\"78TSETQC7KP6N\">\\n<input type=\"image\" src=\"https://www.paypalobjects.com/en_US/i/btn/btn_donateCC_LG.gif\" border=\"0\" name=\"submit\" alt=\"PayPal - The safer, easier way to pay online!\">\\n<img alt=\"\" border=\"0\" src=\"https://www.paypalobjects.com/en_US/i/scr/pixel.gif\" width=\"1\" height=\"1\">\\n</form>\\n\\n\\t\\t\\n\\t\\t<p class=\"auto-style12\">\\n\\t\\t&nbsp;</p>\\n\\t\\t<p class=\"news_header\">Weather</p>\\n\\t\\t<p>\\n\\t\\t<a target=\"_blank\" href=\"http://www.wunderground.com/US/NH/New_Durham.html?bannertypeclick=infoboxtr\">\\n<img src=\"http://banners.wunderground.com/weathersticker/infoboxtr/language/www/US/NH/New_Durham.gif\" alt=\"Click for New Durham, New Hampshire Forecast\" class=\"style7\" /></a>\\n</p>\\n<!-- #EndEditable -->\\n\\t\\t</td>\\n\\t</tr>\\n\\t<tr>\\n\\t\\t<td valign=\"top\" id=\"footer\" colspan=\"2\" class=\"auto-style3\">\\n\\t\\t<!-- MSCellType=\"ContentFoot\" -->\\n\\t\\t\\xc2\\xa9 copyright 2017 Merryeeting Lake Association&nbsp;<br />\\n\\t\\tPO Box 468, New Durham, NH 03855 or email:<a href=\"mailto:mmla@mmlake.org\">mmla@mmlake.org</a><br />\\n\\t\\tAll rights reserved.&nbsp;&nbsp;&nbsp;&nbsp; \\n\\t\\tSite comments?\\n\\t\\t<a href=\"mailto:webmaster@mmlake.org?subject=Comment on MMLA website\">\\n\\t\\twebmaster@mmlake.org</a></td>\\n\\t</tr>\\n\\t<tr>\\n\\t\\t<td style=\"width: 691px\">&nbsp;</td>\\n\\t\\t<td style=\"width: 199px; height: 1px;\"></td>\\n\\t\\t</tr>\\n</table>\\n<a href=\"http://mmlake.org/mmla_links.htm\"></a>\\n\\n</body>\\n\\n<!-- #EndTemplate -->\\n\\n</html>\\n'\n"
     ]
    }
   ],
   "source": [
    "p_2 = urllib.request.build_opener(urllib.request.HTTPCookieProcessor).open(url_2).read()\n",
    "print(p_2)"
   ]
  },
  {
   "cell_type": "markdown",
   "metadata": {},
   "source": [
    "## Parse the site's contents\n",
    "\n",
    "Again, the same as above, but with a new regex on a new page."
   ]
  },
  {
   "cell_type": "code",
   "execution_count": 33,
   "metadata": {},
   "outputs": [
    {
     "name": "stdout",
     "output_type": "stream",
     "text": [
      "http://mmlake.org/LakeWaterLevel.html\n"
     ]
    }
   ],
   "source": [
    "res_2 = re.search(b'<li><a href=\"(http://mmlake.org/LakeWaterLevel.html)\">Lake Level</a></li>',p_2)  \n",
    "output_2 = res_2.group(1).decode('UTF-8')\n",
    "print(output_2)"
   ]
  },
  {
   "cell_type": "markdown",
   "metadata": {},
   "source": []
  },
  {
   "cell_type": "code",
   "execution_count": null,
   "metadata": {
    "collapsed": true
   },
   "outputs": [],
   "source": []
  },
  {
   "cell_type": "code",
   "execution_count": 34,
   "metadata": {},
   "outputs": [
    {
     "ename": "RequestError",
     "evalue": "(401, '401: b\\'<HTML>\\\\n<HEAD>\\\\n<TITLE>Unauthorized</TITLE>\\\\n</HEAD>\\\\n<BODY BGCOLOR=\"#FFFFFF\" TEXT=\"#000000\">\\\\n<H1>Unauthorized</H1>\\\\n<H2>Error 401</H2>\\\\n</BODY>\\\\n</HTML>\\\\n\\'')",
     "output_type": "error",
     "traceback": [
      "\u001b[0;31m---------------------------------------------------------------------------\u001b[0m",
      "\u001b[0;31mRequestError\u001b[0m                              Traceback (most recent call last)",
      "\u001b[0;32m<ipython-input-34-620564b36fe6>\u001b[0m in \u001b[0;36m<module>\u001b[0;34m()\u001b[0m\n\u001b[1;32m      1\u001b[0m \u001b[0;31m# Print out the old values stored in your sheet\u001b[0m\u001b[0;34m\u001b[0m\u001b[0;34m\u001b[0m\u001b[0m\n\u001b[1;32m      2\u001b[0m \u001b[0;31m# Note: The first time you run this code, it will be empty as nothing has yet to be stored in your sheet.\u001b[0m\u001b[0;34m\u001b[0m\u001b[0;34m\u001b[0m\u001b[0m\n\u001b[0;32m----> 3\u001b[0;31m \u001b[0mprint\u001b[0m\u001b[0;34m(\u001b[0m\u001b[0;34m\"%s | %s | %s | %s\"\u001b[0m\u001b[0;34m%\u001b[0m\u001b[0;34m(\u001b[0m\u001b[0mworksheet\u001b[0m\u001b[0;34m.\u001b[0m\u001b[0mrow_values\u001b[0m\u001b[0;34m(\u001b[0m\u001b[0mworksheet\u001b[0m\u001b[0;34m.\u001b[0m\u001b[0mrow_count\u001b[0m\u001b[0;34m)\u001b[0m\u001b[0;34m[\u001b[0m\u001b[0;36m1\u001b[0m\u001b[0;34m]\u001b[0m\u001b[0;34m,\u001b[0m\u001b[0mworksheet\u001b[0m\u001b[0;34m.\u001b[0m\u001b[0mrow_values\u001b[0m\u001b[0;34m(\u001b[0m\u001b[0mworksheet\u001b[0m\u001b[0;34m.\u001b[0m\u001b[0mrow_count\u001b[0m\u001b[0;34m)\u001b[0m\u001b[0;34m[\u001b[0m\u001b[0;36m2\u001b[0m\u001b[0;34m]\u001b[0m\u001b[0;34m,\u001b[0m\u001b[0mworksheet\u001b[0m\u001b[0;34m.\u001b[0m\u001b[0mrow_values\u001b[0m\u001b[0;34m(\u001b[0m\u001b[0mworksheet\u001b[0m\u001b[0;34m.\u001b[0m\u001b[0mrow_count\u001b[0m\u001b[0;34m)\u001b[0m\u001b[0;34m[\u001b[0m\u001b[0;36m3\u001b[0m\u001b[0;34m]\u001b[0m\u001b[0;34m,\u001b[0m\u001b[0mworksheet\u001b[0m\u001b[0;34m.\u001b[0m\u001b[0mrow_values\u001b[0m\u001b[0;34m(\u001b[0m\u001b[0mworksheet\u001b[0m\u001b[0;34m.\u001b[0m\u001b[0mrow_count\u001b[0m\u001b[0;34m)\u001b[0m\u001b[0;34m[\u001b[0m\u001b[0;36m2\u001b[0m\u001b[0;34m]\u001b[0m\u001b[0;34m)\u001b[0m\u001b[0;34m)\u001b[0m\u001b[0;34m\u001b[0m\u001b[0m\n\u001b[0m",
      "\u001b[0;32m/anaconda/lib/python3.6/site-packages/gspread/models.py\u001b[0m in \u001b[0;36mrow_values\u001b[0;34m(self, row)\u001b[0m\n\u001b[1;32m    471\u001b[0m         \u001b[0mend_cell\u001b[0m \u001b[0;34m=\u001b[0m \u001b[0mrowcol_to_a1\u001b[0m\u001b[0;34m(\u001b[0m\u001b[0mrow\u001b[0m\u001b[0;34m,\u001b[0m \u001b[0mself\u001b[0m\u001b[0;34m.\u001b[0m\u001b[0mcol_count\u001b[0m\u001b[0;34m)\u001b[0m\u001b[0;34m\u001b[0m\u001b[0m\n\u001b[1;32m    472\u001b[0m \u001b[0;34m\u001b[0m\u001b[0m\n\u001b[0;32m--> 473\u001b[0;31m         \u001b[0mrow_cells\u001b[0m \u001b[0;34m=\u001b[0m \u001b[0mself\u001b[0m\u001b[0;34m.\u001b[0m\u001b[0mrange\u001b[0m\u001b[0;34m(\u001b[0m\u001b[0;34m'%s:%s'\u001b[0m \u001b[0;34m%\u001b[0m \u001b[0;34m(\u001b[0m\u001b[0mstart_cell\u001b[0m\u001b[0;34m,\u001b[0m \u001b[0mend_cell\u001b[0m\u001b[0;34m)\u001b[0m\u001b[0;34m)\u001b[0m\u001b[0;34m\u001b[0m\u001b[0m\n\u001b[0m\u001b[1;32m    474\u001b[0m         \u001b[0;32mreturn\u001b[0m \u001b[0;34m[\u001b[0m\u001b[0mcell\u001b[0m\u001b[0;34m.\u001b[0m\u001b[0mvalue\u001b[0m \u001b[0;32mfor\u001b[0m \u001b[0mcell\u001b[0m \u001b[0;32min\u001b[0m \u001b[0mrow_cells\u001b[0m\u001b[0;34m]\u001b[0m\u001b[0;34m\u001b[0m\u001b[0m\n\u001b[1;32m    475\u001b[0m \u001b[0;34m\u001b[0m\u001b[0m\n",
      "\u001b[0;32m/anaconda/lib/python3.6/site-packages/gspread/models.py\u001b[0m in \u001b[0;36mwrapper\u001b[0;34m(self, *args, **kwargs)\u001b[0m\n\u001b[1;32m     70\u001b[0m             \u001b[0;32mpass\u001b[0m\u001b[0;34m\u001b[0m\u001b[0m\n\u001b[1;32m     71\u001b[0m \u001b[0;34m\u001b[0m\u001b[0m\n\u001b[0;32m---> 72\u001b[0;31m         \u001b[0;32mreturn\u001b[0m \u001b[0mmethod\u001b[0m\u001b[0;34m(\u001b[0m\u001b[0mself\u001b[0m\u001b[0;34m,\u001b[0m \u001b[0;34m*\u001b[0m\u001b[0margs\u001b[0m\u001b[0;34m,\u001b[0m \u001b[0;34m**\u001b[0m\u001b[0mkwargs\u001b[0m\u001b[0;34m)\u001b[0m\u001b[0;34m\u001b[0m\u001b[0m\n\u001b[0m\u001b[1;32m     73\u001b[0m \u001b[0;34m\u001b[0m\u001b[0m\n\u001b[1;32m     74\u001b[0m     \u001b[0;32mreturn\u001b[0m \u001b[0mwrapper\u001b[0m\u001b[0;34m\u001b[0m\u001b[0m\n",
      "\u001b[0;32m/anaconda/lib/python3.6/site-packages/gspread/models.py\u001b[0m in \u001b[0;36mrange\u001b[0;34m(self, name)\u001b[0m\n\u001b[1;32m    410\u001b[0m         feed = self.client.get_cells_feed(\n\u001b[1;32m    411\u001b[0m             \u001b[0mself\u001b[0m\u001b[0;34m,\u001b[0m\u001b[0;34m\u001b[0m\u001b[0m\n\u001b[0;32m--> 412\u001b[0;31m             \u001b[0mparams\u001b[0m\u001b[0;34m=\u001b[0m\u001b[0;34m{\u001b[0m\u001b[0;34m'range'\u001b[0m\u001b[0;34m:\u001b[0m \u001b[0mname\u001b[0m\u001b[0;34m,\u001b[0m \u001b[0;34m'return-empty'\u001b[0m\u001b[0;34m:\u001b[0m \u001b[0;34m'true'\u001b[0m\u001b[0;34m}\u001b[0m\u001b[0;34m\u001b[0m\u001b[0m\n\u001b[0m\u001b[1;32m    413\u001b[0m         )\n\u001b[1;32m    414\u001b[0m         \u001b[0;32mreturn\u001b[0m \u001b[0;34m[\u001b[0m\u001b[0mCell\u001b[0m\u001b[0;34m(\u001b[0m\u001b[0mself\u001b[0m\u001b[0;34m,\u001b[0m \u001b[0melem\u001b[0m\u001b[0;34m)\u001b[0m \u001b[0;32mfor\u001b[0m \u001b[0melem\u001b[0m \u001b[0;32min\u001b[0m \u001b[0mfeed\u001b[0m\u001b[0;34m.\u001b[0m\u001b[0mfindall\u001b[0m\u001b[0;34m(\u001b[0m\u001b[0m_ns\u001b[0m\u001b[0;34m(\u001b[0m\u001b[0;34m'entry'\u001b[0m\u001b[0;34m)\u001b[0m\u001b[0;34m)\u001b[0m\u001b[0;34m]\u001b[0m\u001b[0;34m\u001b[0m\u001b[0m\n",
      "\u001b[0;32m/anaconda/lib/python3.6/site-packages/gspread/client.py\u001b[0m in \u001b[0;36mget_cells_feed\u001b[0;34m(self, worksheet, visibility, projection, params)\u001b[0m\n\u001b[1;32m    174\u001b[0m             \u001b[0murl\u001b[0m \u001b[0;34m=\u001b[0m \u001b[0;34m'%s?%s'\u001b[0m \u001b[0;34m%\u001b[0m \u001b[0;34m(\u001b[0m\u001b[0murl\u001b[0m\u001b[0;34m,\u001b[0m \u001b[0mparams\u001b[0m\u001b[0;34m)\u001b[0m\u001b[0;34m\u001b[0m\u001b[0m\n\u001b[1;32m    175\u001b[0m \u001b[0;34m\u001b[0m\u001b[0m\n\u001b[0;32m--> 176\u001b[0;31m         \u001b[0mr\u001b[0m \u001b[0;34m=\u001b[0m \u001b[0mself\u001b[0m\u001b[0;34m.\u001b[0m\u001b[0msession\u001b[0m\u001b[0;34m.\u001b[0m\u001b[0mget\u001b[0m\u001b[0;34m(\u001b[0m\u001b[0murl\u001b[0m\u001b[0;34m)\u001b[0m\u001b[0;34m\u001b[0m\u001b[0m\n\u001b[0m\u001b[1;32m    177\u001b[0m         \u001b[0;32mreturn\u001b[0m \u001b[0mElementTree\u001b[0m\u001b[0;34m.\u001b[0m\u001b[0mfromstring\u001b[0m\u001b[0;34m(\u001b[0m\u001b[0mr\u001b[0m\u001b[0;34m.\u001b[0m\u001b[0mcontent\u001b[0m\u001b[0;34m)\u001b[0m\u001b[0;34m\u001b[0m\u001b[0m\n\u001b[1;32m    178\u001b[0m \u001b[0;34m\u001b[0m\u001b[0m\n",
      "\u001b[0;32m/anaconda/lib/python3.6/site-packages/gspread/httpsession.py\u001b[0m in \u001b[0;36mget\u001b[0;34m(self, url, params, **kwargs)\u001b[0m\n\u001b[1;32m     71\u001b[0m \u001b[0;34m\u001b[0m\u001b[0m\n\u001b[1;32m     72\u001b[0m     \u001b[0;32mdef\u001b[0m \u001b[0mget\u001b[0m\u001b[0;34m(\u001b[0m\u001b[0mself\u001b[0m\u001b[0;34m,\u001b[0m \u001b[0murl\u001b[0m\u001b[0;34m,\u001b[0m \u001b[0mparams\u001b[0m\u001b[0;34m=\u001b[0m\u001b[0;32mNone\u001b[0m\u001b[0;34m,\u001b[0m \u001b[0;34m**\u001b[0m\u001b[0mkwargs\u001b[0m\u001b[0;34m)\u001b[0m\u001b[0;34m:\u001b[0m\u001b[0;34m\u001b[0m\u001b[0m\n\u001b[0;32m---> 73\u001b[0;31m         \u001b[0;32mreturn\u001b[0m \u001b[0mself\u001b[0m\u001b[0;34m.\u001b[0m\u001b[0mrequest\u001b[0m\u001b[0;34m(\u001b[0m\u001b[0;34m'GET'\u001b[0m\u001b[0;34m,\u001b[0m \u001b[0murl\u001b[0m\u001b[0;34m,\u001b[0m \u001b[0mparams\u001b[0m\u001b[0;34m=\u001b[0m\u001b[0mparams\u001b[0m\u001b[0;34m,\u001b[0m \u001b[0;34m**\u001b[0m\u001b[0mkwargs\u001b[0m\u001b[0;34m)\u001b[0m\u001b[0;34m\u001b[0m\u001b[0m\n\u001b[0m\u001b[1;32m     74\u001b[0m \u001b[0;34m\u001b[0m\u001b[0m\n\u001b[1;32m     75\u001b[0m     \u001b[0;32mdef\u001b[0m \u001b[0mdelete\u001b[0m\u001b[0;34m(\u001b[0m\u001b[0mself\u001b[0m\u001b[0;34m,\u001b[0m \u001b[0murl\u001b[0m\u001b[0;34m,\u001b[0m \u001b[0mparams\u001b[0m\u001b[0;34m=\u001b[0m\u001b[0;32mNone\u001b[0m\u001b[0;34m,\u001b[0m \u001b[0;34m**\u001b[0m\u001b[0mkwargs\u001b[0m\u001b[0;34m)\u001b[0m\u001b[0;34m:\u001b[0m\u001b[0;34m\u001b[0m\u001b[0m\n",
      "\u001b[0;32m/anaconda/lib/python3.6/site-packages/gspread/httpsession.py\u001b[0m in \u001b[0;36mrequest\u001b[0;34m(self, method, url, data, params, headers, files, json)\u001b[0m\n\u001b[1;32m     67\u001b[0m         \u001b[0;32mif\u001b[0m \u001b[0mresponse\u001b[0m\u001b[0;34m.\u001b[0m\u001b[0mstatus_code\u001b[0m \u001b[0;34m>\u001b[0m \u001b[0;36m399\u001b[0m\u001b[0;34m:\u001b[0m\u001b[0;34m\u001b[0m\u001b[0m\n\u001b[1;32m     68\u001b[0m             raise RequestError(response.status_code, \"{0}: {1}\".format(\n\u001b[0;32m---> 69\u001b[0;31m                 response.status_code, response.content))\n\u001b[0m\u001b[1;32m     70\u001b[0m         \u001b[0;32mreturn\u001b[0m \u001b[0mresponse\u001b[0m\u001b[0;34m\u001b[0m\u001b[0m\n\u001b[1;32m     71\u001b[0m \u001b[0;34m\u001b[0m\u001b[0m\n",
      "\u001b[0;31mRequestError\u001b[0m: (401, '401: b\\'<HTML>\\\\n<HEAD>\\\\n<TITLE>Unauthorized</TITLE>\\\\n</HEAD>\\\\n<BODY BGCOLOR=\"#FFFFFF\" TEXT=\"#000000\">\\\\n<H1>Unauthorized</H1>\\\\n<H2>Error 401</H2>\\\\n</BODY>\\\\n</HTML>\\\\n\\'')"
     ]
    }
   ],
   "source": [
    "# Print out the old values stored in your sheet \n",
    "# Note: The first time you run this code, it will be empty as nothing has yet to be stored in your sheet.\n",
    "print(\"%s | %s | %s | %s\"%(worksheet.row_values(worksheet.row_count)[1],worksheet.row_values(worksheet.row_count)[2],worksheet.row_values(worksheet.row_count)[3],worksheet.row_values(worksheet.row_count)[2]))"
   ]
  },
  {
   "cell_type": "code",
   "execution_count": 35,
   "metadata": {},
   "outputs": [
    {
     "name": "stdout",
     "output_type": "stream",
     "text": [
      "2017-10-25 15:20:47.106043 | \n",
      "\t\tAs of 1-October-2017 | http://mmlake.org/LakeWaterLevel.html | Coding the Law: An Introduction to Algorithms in the Law AND Coding the Law: Student Work\n"
     ]
    }
   ],
   "source": [
    "# Print the new values pulled from your pages\n",
    "print(\"%s | %s | %s | %s\"%(now,output_1,output_2,titles))"
   ]
  },
  {
   "cell_type": "markdown",
   "metadata": {},
   "source": [
    "## Post to Twitter and Save to Google"
   ]
  },
  {
   "cell_type": "code",
   "execution_count": 36,
   "metadata": {},
   "outputs": [
    {
     "ename": "SyntaxError",
     "evalue": "invalid syntax (<ipython-input-36-27286ee33ae0>, line 1)",
     "output_type": "error",
     "traceback": [
      "\u001b[0;36m  File \u001b[0;32m\"<ipython-input-36-27286ee33ae0>\"\u001b[0;36m, line \u001b[0;32m1\u001b[0m\n\u001b[0;31m    if ((worksheet.row_values(worksheet.row_count)[1]) != output_1)\u001b[0m\n\u001b[0m                                                                    ^\u001b[0m\n\u001b[0;31mSyntaxError\u001b[0m\u001b[0;31m:\u001b[0m invalid syntax\n"
     ]
    }
   ],
   "source": [
    "if ((worksheet.row_values(worksheet.row_count)[1]) != output_1) \n",
    "or (float(worksheet.row_values(worksheet.row_count)[2]) != output_2):\n",
    "            try:\n",
    "                status = api.PostUpdate('The Lake Level changed %s as seen here:%s'%(output_1,output_2))\n",
    "                print(status.text)\n",
    "            except TwitterError:\n",
    "                # Post to Twitter.\n",
    "                #print ('P1 Title: %s'%(output_1))\n",
    "                status = api.PostUpdate('The Lake Level stayed the same')\n",
    "                print(status.text)\n",
    "        worksheet.append_row([now,output_1,output_2])"
   ]
  },
  {
   "cell_type": "code",
   "execution_count": null,
   "metadata": {
    "collapsed": true
   },
   "outputs": [],
   "source": []
  },
  {
   "cell_type": "code",
   "execution_count": null,
   "metadata": {
    "collapsed": true
   },
   "outputs": [],
   "source": []
  }
 ],
 "metadata": {
  "kernelspec": {
   "display_name": "Python 3",
   "language": "python",
   "name": "python3"
  },
  "language_info": {
   "codemirror_mode": {
    "name": "ipython",
    "version": 3
   },
   "file_extension": ".py",
   "mimetype": "text/x-python",
   "name": "python",
   "nbconvert_exporter": "python",
   "pygments_lexer": "ipython3",
   "version": "3.6.1"
  }
 },
 "nbformat": 4,
 "nbformat_minor": 1
}
