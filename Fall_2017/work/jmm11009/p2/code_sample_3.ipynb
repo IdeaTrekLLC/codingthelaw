{
 "cells": [
  {
   "cell_type": "code",
   "execution_count": 95,
   "metadata": {},
   "outputs": [
    {
     "ename": "SyntaxError",
     "evalue": "invalid syntax (<ipython-input-95-d474d4329406>, line 2)",
     "output_type": "error",
     "traceback": [
      "\u001b[0;36m  File \u001b[0;32m\"<ipython-input-95-d474d4329406>\"\u001b[0;36m, line \u001b[0;32m2\u001b[0m\n\u001b[0;31m    I made a twitter bot to monitor the Lake level at Merrymeeting Lake, New Durham, New Hampshire. You can find it here [@MMLakeLevels] (https://twitter.com/MMLakeLevels). The\u001b[0m\n\u001b[0m         ^\u001b[0m\n\u001b[0;31mSyntaxError\u001b[0m\u001b[0;31m:\u001b[0m invalid syntax\n"
     ]
    }
   ],
   "source": [
    "\n",
    "# MerryMeeting Lake\n",
    "I made a twitter bot to monitor the Lake level at Merrymeeting Lake, New Durham, New Hampshire. You can find it here [@MMLakeLevels] (https://twitter.com/MMLakeLevels). The \n",
    "Merrymeeting Lake association monitors the levels of the lake on a monthly basis and updates the public on whether the lake levels are falling, rising, or in the case of the spring and winther, whether the lake has frozen or melted.\n",
    "\n",
    "## Scraping & Saving\n",
    "I scraped the Merrymeeting Lake webpage by using the code below. \n",
    "\n",
    "## Tweeting\n",
    "My twitter bot will hopefully tweet everytime the Merrymeeting Lake Association updates the status of the lake. \n",
    "\n",
    "## Process\n",
    "The first twitter bot I wanted to create was for a sports team and would have tweeted the teams wins and losses. However, because the way the team updates their webpage I was forced to choose something else. I was unsure about what I wanted to do next. Merrymeeting Lake is a place that is special to me, it is a place I spent a lot of time with my grandfather, who has now passed. My grandfather and I were always interested in the levels of the lake and when it had frozen and melted. This is how I came upon my current twitter bot.\n",
    "\n",
    "# Looking Ahead"
   ]
  },
  {
   "cell_type": "code",
   "execution_count": 2,
   "metadata": {
    "collapsed": true
   },
   "outputs": [],
   "source": [
    "# Load the module for visiting and reading websites.\n",
    "import urllib.request\n",
    "# Load the module for running regular expressions (regex).\n",
    "import re \n",
    "# Load the module for date and time stuff.\n",
    "import datetime\n",
    "# Define the variable now as equal to the current date and time.\n",
    "now = datetime.datetime.now()"
   ]
  },
  {
   "cell_type": "code",
   "execution_count": 3,
   "metadata": {
    "collapsed": true
   },
   "outputs": [],
   "source": [
    "# Set the URL you want to scrape.\n",
    "url_1 = \"http://mmlake.org/LakeWaterLevel.html\"\n",
    "url_2 = \"http://mmlake.org/\"\n",
    "\n",
    "# If you want to scrape data from multiple pages, you can, \n",
    "# just replicate the above and below but change url_1 to url_2 et al."
   ]
  },
  {
   "cell_type": "code",
   "execution_count": 4,
   "metadata": {
    "collapsed": true
   },
   "outputs": [],
   "source": [
    "# Load the module for accessing Google Sheets.\n",
    "import gspread\n",
    "# Load the module needed for securely communicating with Google Sheets.\n",
    "from oauth2client.service_account import ServiceAccountCredentials\n",
    "# The scope for your access credentials\n",
    "scope = ['https://spreadsheets.google.com/feeds']\n",
    "\n",
    "# Your spreadsheet's ID\n",
    "document_key = \"1Kl-1YKoyN0oKa73zfIiixZxwbHdvMa7Blenmzhy3_U8\" \n",
    "#              ^^^^^^^^^^^ SWAP OUT FOR YOUR DOCUMENT ID/KEY\n",
    "# Your Google project's .json key\n",
    "credentials = ServiceAccountCredentials.from_json_keyfile_name('../../../../../SheetsBot-7c811819a7a6.json', scope)\n",
    "#                                                                              ^^^^^^^^ SWAP OUT FOR YOUR JSON KEY\n",
    "# Use your credentials to authorize yourself.\n",
    "gc = gspread.authorize(credentials)\n",
    "# Open up the Sheet with the defined ID.\n",
    "wks = gc.open_by_key(document_key)\n",
    "\n",
    "#########################################\n",
    "#\n",
    "#  NOTE: The name of the sheet you are \n",
    "#  trying to access should be in the \n",
    "#  parenthetical below (e.g., Data). By\n",
    "#  Default this is probably \"Sheet1\".\n",
    "#\n",
    "#########################################\n",
    "worksheet = wks.worksheet(\"Sheet1\")\n",
    "\n",
    "# Count the number of rows in your Sheet &\n",
    "# resize to remove blank rows.\n",
    "worksheet.resize(worksheet.row_count)"
   ]
  },
  {
   "cell_type": "code",
   "execution_count": 5,
   "metadata": {},
   "outputs": [
    {
     "name": "stdout",
     "output_type": "stream",
     "text": [
      "['0', '0', '0', '0']\n"
     ]
    }
   ],
   "source": [
    "# Print out the old values stored in your sheet \n",
    "# Note: The first time you run this code, it will be empty as nothing has yet to be stored in your sheet.\n",
    "\n",
    "print(worksheet.row_values(worksheet.row_count))\n",
    "#############################\n",
    "# DELETE CELL AFTER TESTING\n",
    "#############################"
   ]
  },
  {
   "cell_type": "code",
   "execution_count": 6,
   "metadata": {
    "collapsed": true
   },
   "outputs": [],
   "source": [
    "# Import the relevant Twitter libraries so you can use Twitter.\n",
    "import twitter\n",
    "from twitter import TwitterError\n",
    "\n",
    "# create the following four text files and add them to the same diretctry as you \n",
    "# Google API key. In each file add the appropriate value found when retrieving your \n",
    "# Twitter credentials\n",
    "\n",
    "with open('../../../../../key.txt', 'r') as myfile:\n",
    "    key=myfile.read()\n",
    "    \n",
    "with open('../../../../../secret.txt', 'r') as myfile:\n",
    "    secret=myfile.read()\n",
    "    \n",
    "with open('../../../../../token_key.txt', 'r') as myfile:\n",
    "    token_key=myfile.read()\n",
    "\n",
    "with open('../../../../../token_secret.txt', 'r') as myfile:\n",
    "    token_secret=myfile.read()\n",
    "\n",
    "# Set you Twitter API credentials.\n",
    "api = twitter.Api(consumer_key=key,\n",
    "                  consumer_secret=secret,\n",
    "                  access_token_key=token_key,\n",
    "                  access_token_secret=token_secret)"
   ]
  },
  {
   "cell_type": "markdown",
   "metadata": {},
   "source": [
    "## Read the contents of your first webpage\n",
    "\n",
    "When you run the next cell, your program will visit the first URL you defined above. It will then print out that page's HTML. "
   ]
  },
  {
   "cell_type": "code",
   "execution_count": 7,
   "metadata": {
    "scrolled": true
   },
   "outputs": [
    {
     "name": "stdout",
     "output_type": "stream",
     "text": [
      "b'\\xef\\xbb\\xbf<!DOCTYPE html PUBLIC \"-//W3C//DTD XHTML 1.0 Transitional//EN\" \"http://www.w3.org/TR/xhtml1/DTD/xhtml1-transitional.dtd\">\\n<html dir=\"ltr\" xmlns=\"http://www.w3.org/1999/xhtml\">\\n\\n<!-- #BeginTemplate \"mmla_08_masterpage.dwt\" -->\\n\\n<head>\\n<meta http-equiv=\"Content-Type\" content=\"text/html; charset=utf-8\" />\\n\\n<link rel=\"shortcut icon\" href=\"/images/favicon.ico\" type=\"image/x-icon\" /> \\n\\n<!-- #BeginEditable \"doctitle\" -->\\n<title>Lake Level</title>\\n<meta name=\"description\" content=\"News from around and of Merrymeeting Lake\" />\\n<style type=\"text/css\">\\n\\n\\n\\n\\n\\n\\n\\n\\n\\n\\n\\n\\n\\n\\n\\n\\n\\n\\n\\n\\n\\n\\n\\n\\n\\n\\n\\n\\n\\n\\n\\n\\n\\n\\n\\n\\n\\n\\n\\n\\n\\n\\n\\n\\n\\n\\n\\n\\n\\n\\n\\n\\n\\n\\n\\n\\n\\n\\n\\n\\n\\n\\n\\n\\n\\n\\n\\n\\n\\n\\n\\n\\n\\n\\n\\n\\n\\n\\n.auto-style3 {\\n\\tfont-family: \"Comic Sans MS\";\\n\\tmargin-left: 60px;\\n\\tfont-size: medium;\\n\\tcolor: #000000;\\n}\\n.auto-style4 {\\n\\tfont-family: \"Comic Sans MS\";\\n\\tfont-size: large;\\n}\\n</style>\\n<!-- #EndEditable -->\\n<link rel=\"stylesheet\" type=\"text/css\" href=\"mmla_08_masterstyles.css\" />\\n<style type=\"text/css\">\\n\\n.pagelogonoboarder {\\n\\tborder-width: 0;\\n}\\n.pagetableboarder {\\n\\tborder: 1px solid #FFFFFF;\\n}\\n.pageheaderpicture {\\n\\tmargin-left: 15px;\\n\\tmargin-right: 15px;\\n}\\n#top_picture_location {\\n\\tmargin-left: 100px;\\n\\tmargin-right: 100px;\\n}\\n.picture_caption {\\n\\ttext-align: center;\\n}\\n</style>\\n<base target=\"_blank\" />\\n</head>\\n\\n<body>\\n\\n<table cellpadding=\"0\" cellspacing=\"0\" align=\"center\" class=\"pagetableboarder\" style=\"width: 95%; \">\\n\\t<!-- MSTableType=\"layout\" -->\\n\\t<tr>\\n\\t\\t<td id=\"container\" colspan=\"2\" class=\"auto-style1\">\\n\\t\\t<!-- MSCellType=\"ContentHead\" -->\\n\\t\\t<a href=\"http://mmlake.org/\">\\n\\t\\t<img alt=\"MMLA logo\" src=\"images/smallPageHeaderLogo.gif\" width=\"148\" height=\"130\" longdesc=\"MMLA logo of loon floating in front of marsh\" class=\"pagelogonoboarder\" style=\"float: left\" /></a>&nbsp;&nbsp;&nbsp;&nbsp;&nbsp;&nbsp;&nbsp;&nbsp;&nbsp;&nbsp;&nbsp;&nbsp;&nbsp;&nbsp;&nbsp;&nbsp;&nbsp;&nbsp;\\n\\t\\t<img alt=\"\" src=\"images/CalmLake.jpg\" width=\"600\" height=\"278\" id=\"top_nav\" class=\"auto-style2\" /><br />\\n\\t\\t<br />\\n\\t\\t</td>\\n\\t\\t</tr>\\n\\t<tr id=\"top_nav\">\\n\\t\\t<td valign=\"top\" id=\"top_nav\" colspan=\"2\" style=\"height: 35px\">\\n\\t\\t<!-- MSCellType=\"ContentHead\" -->\\n\\t\\t<ul>\\n\\t<li><a href=\"http://mmlake.org/\">Home</a></li>\\n\\t<li><a href=\"http://mmlake.hopto.org:25110/axis-cgi/mjpg/video.cgi?camera=1&resolution=704x480&1503067243291\">LakeCam</a></li>\\n\\t<li><a href=\"http://mmlake.org/mmla_08_association.htm\">Association</a></li>\\n\\t<li><a href=\"http://mmlake.org/mmla_08_links.htm\">Links</a></li>\\n\\t<li><a href=\"http://mmlake.org/LakeWaterLevel.html\">Lake Level</a></li>\\n\\t<li><a href=\"http://mmlake.org/mmla_08_archives.htm\">Archives</a></li>\\n\\t\\t</ul>\\n\\t\\t</td>\\n\\t</tr>\\n\\t<tr>\\n\\t\\t<td valign=\"top\" id=\"container\">\\n\\t\\t<!-- MSCellType=\"ContentBody\" -->\\n\\t\\t<!-- #BeginEditable \"td%23container\" -->\\n\\t\\t<p class=\"news_header\">\\n\\t\\tAs of 1-October-2017</p>\\n\\t\\t<p class=\"news_story\">\\n\\t\\tNow that Fall has arrived, the water temperature and level are dropping \\n\\t\\tfaster now. While all the boards remain in the dam, the lower outflow \\n\\t\\tpipe has been opened, allowing water to drain through. (Check out the \\n\\t\\twater clarity in the dam gauge photo!)</p>\\n\\t\\t<p class=\"news_story\">\\n\\t\\t<img alt=\"\" height=\"90%\" src=\"img15.jpg\" width=\"90%\" /></p>\\n\\t\\t<p class=\"news_story\">\\n\\t\\t<img alt=\"\" height=\"40%\" src=\"images/2017/Oct1-17.JPG\" width=\"40%\" />\\n\\t\\t<img alt=\"\" height=\"40%\" src=\"images/2017/Oct1A-17.JPG\" width=\"40%\" /></p>\\n\\t\\t<p class=\"news_header\">\\n\\t\\tAs of 18-September-2017</p>\\n\\t\\t<p class=\"news_story\">\\n\\t\\tThe water level rose slightly since the beginning of September due to a \\n\\t\\theavy rain a week ago. Boards are still in and the level is the highest \\n\\t\\tit\\'s been at this time of year for many years.&nbsp; Nice with all the \\n\\t\\tbeautiful weather we are having.</p>\\n\\t\\t<p class=\"news_story\">\\n\\t\\t&nbsp;</p>\\n\\t\\t<p class=\"news_story\">\\n\\t\\t<img alt=\"\" height=\"90%\" src=\"images/2017/WaterLevel9-18-17.jpg\" width=\"90%\" /></p>\\n\\t\\t<p class=\"news_story\">\\n\\t\\t&nbsp;</p>\\n\\t\\t<p class=\"news_header\">\\n\\t\\tAs of 1-September-2017</p>\\n\\t\\t<p class=\"news_story\">\\n\\t\\tThe water level dropped another 5\" in August.&nbsp;Looks like September \\n\\t\\tlevel will remain good for boating. Spillway is still \\n\\t\\tclosed, all boards are in though the water level is well below them.</p>\\n\\t\\t<p class=\"news_story\">\\n\\t\\t&nbsp;<img alt=\"\" height=\"90%\" src=\"img13.jpg\" width=\"90%\" /></p>\\n\\t\\t<p class=\"news_story\">\\n\\t\\t<img alt=\"\" height=\"40%\" src=\"images/2017/Sept17W2.JPG\" width=\"40%\" />\\n\\t\\t<img alt=\"\" height=\"40%\" src=\"images/2017/Sept17W1.JPG\" width=\"40%\" /> </p>\\n\\t\\t<p class=\"news_story\">\\n\\t\\t<img alt=\"\" height=\"40%\" src=\"images/2017/Sept17W3.JPG\" width=\"40%\" /></p>\\n\\t\\t<p class=\"news_story\">\\n\\t\\t</p>\\n\\t\\t<p class=\"news_story\">\\n\\t\\t&nbsp;</p>\\n\\t\\t<p class=\"news_story\">\\n\\t\\t&nbsp;</p>\\n\\t\\t<p class=\"news_header\">\\n\\t\\tAs of 1-August-2017</p>\\n\\t\\t<p class=\"news_story\">\\n\\t\\tThe water level dropped about 5\" in July.&nbsp; Spillway is dry and \\n\\t\\tclosed, outflow pipe no longer showing flow either.</p>\\n\\t\\t<p class=\"news_header\">\\n\\t\\t<img alt=\"\" height=\"90%\" src=\"img12.jpg\" width=\"90%\" /></p>\\n\\t\\t<p class=\"news_story\">\\n\\t\\t&nbsp;</p>\\n\\t\\t<p class=\"news_header\">\\n\\t\\t<img alt=\"\" height=\"40%\" src=\"images/2017/IMG_0613.JPG\" width=\"40%\" /><img alt=\"\" height=\"40%\" src=\"images/2017/IMG_0615.JPG\" width=\"40%\" /><img alt=\"\" height=\"40%\" src=\"images/2017/IMG_0611.JPG\" width=\"40%\" /></p>\\n\\t\\t<p class=\"news_header\">\\n\\t\\tAs of 1-July-2017</p>\\n\\t\\t<span class=\"auto-style4\">The lake is just below full level (648.5\\').&nbsp; \\n\\t\\tNow at 648.4\\'. The spillway is now dry, but water still flowing strongly \\n\\t\\tfrom outflow pipe.<br />\\n\\t\\t<br />\\n\\t\\t<img alt=\"\" height=\"90%\" src=\"img10.jpg\" width=\"90%\" /></span><p class=\"news_story\">\\n\\t\\t<img alt=\"\" height=\"40%\" src=\"images/2017/IMG_0581.JPG\" width=\"40%\" /></p>\\n\\t\\t<p class=\"news_story\">\\n\\t\\t<img alt=\"\" height=\"40%\" src=\"images/2017/IMG_0575.JPG\" width=\"40%\" /></p>\\n\\t\\t<p class=\"news_story\">\\n\\t\\t<img alt=\"\" height=\"40%\" src=\"images/2017/IMG_0577.JPG\" width=\"40%\" /></p>\\n\\t\\t<p class=\"news_header\">\\n\\t\\tAs of 15-June-2017</p>\\n\\t\\t<span class=\"auto-style4\">The lake is now at normal, full, level, \\n\\t\\t648.5\\'. This level is what will be maintained assuming consistent \\n\\t\\trainfall and outflow. But typically, reduced rainfall in the summer, \\n\\t\\tincreased water use by the hatchery, and normal evaporation, cause the \\n\\t\\tlake level to slowly drop through July and August.<br />\\n\\t\\t<br />\\n\\t\\t<img alt=\"\" height=\"90%\" src=\"img19.jpg\" width=\"90%\" /></span><p class=\"news_header\">\\n\\t\\t&nbsp;As of 1-June-2017</p>\\n\\t\\t<p class=\"news_story\">\\n\\t\\tWhile the level of the lake has receeded in the past few weeks, down \\n\\t\\tabout 4-5\" from the last report, it is still above normal levels. \\n\\t\\tAnother 1+ inches of rain is forecast for the next 24 hours, and the \\n\\t\\tinput streams are all running high. We probably won\\'t see a noticable \\n\\t\\tdrop in the level for another few weeks. </p>\\n\\t\\t<p class=\"news_story\">\\n\\t\\tThe good news is that the forecast finally shows a break in this rainy, \\n\\t\\traw, and cold pattern we\\'ve been stuck in all spring.&nbsp; It appears \\n\\t\\tthings will start to improve for summer activites later this week and \\n\\t\\tweekend.&nbsp; Let\\'s hope they are right!</p>\\n\\t\\t<p class=\"news_story\">\\n\\t\\t&nbsp;</p>\\n\\t\\t<p class=\"news_story\">\\n\\t\\t<img alt=\"\" height=\"90%\" src=\"img8.jpg\" width=\"90%\" /></p>\\n\\t\\t<p class=\"news_header\">\\n\\t\\t&nbsp;</p>\\n\\t\\t<p class=\"news_header\">\\n\\t\\t<img alt=\"\" height=\"90%\" src=\"images/2017/IMG_0528.JPG\" width=\"90%\" /></p>\\n\\t\\t<p class=\"news_header\">\\n\\t\\t&nbsp;</p>\\n\\t\\t<p class=\"news_header\">\\n\\t\\tAs of 15-May-2017</p>\\n\\t\\t<p class=\"news_story\">\\n\\t\\t<img alt=\"\" height=\"90%\" src=\"img7.jpg\" width=\"90%\" /></p>\\n\\t\\t<p class=\"news_story\">\\n\\t\\tThe lake level is now approximately 6\" above normal Spring full lake \\n\\t\\tlevel (see pictures below). I\\'ve heard many comments about people never \\n\\t\\tseeing the lake so high.&nbsp; Apparently many have short memories. In \\n\\t\\t2006, the lake level came close to overtopping the dam, and there was \\n\\t\\textensive flooding. There were severe road washouts in the whole Lakes \\n\\t\\tRegion. Levels were also higher in 2007 and 2010. (see here for \\n\\t\\tWinnipesaukee lake level history\\n\\t\\t<a href=\"http://www.bizer.com/bztnews.htm#lakelevel\">\\n\\t\\thttp://www.bizer.com/bztnews.htm#lakelevel</a> . Also see\\n\\t\\t<a href=\"http://www.nws.noaa.gov/floodsafety/states/nh-flood.shtml\">\\n\\t\\thttp://www.nws.noaa.gov/floodsafety/states/nh-flood.shtml</a> )</p>\\n\\t\\t<p class=\"news_story\">\\n\\t\\t648.5\\' is the normal, spring lake level in years when we have a normal \\n\\t\\tsnow melt and spring rains.&nbsp; This year is the first in several when \\n\\t\\tthe snow pack has been \"normal\", and the first in several years where \\n\\t\\tthe lake has begun the season at full level (or as is the case as of \\n\\t\\tthis week, 6\" above). We\\'ve had a LOT of rain in the past several weeks. \\n\\t\\tIt is pretty amazing what a difference 6\" can make when you look at \\n\\t\\tshoreline levels and docks.&nbsp; There are several docks on the lake \\n\\t\\tthat are currently close to or under water.</p>\\n\\t\\t<p class=\"news_story\">\\n\\t\\tTo answer the question of why Fish &amp; Game doesn\\'t just pull more boards \\n\\t\\tout of the dam to let the level drop again, you need to consider the \\n\\t\\twhole watershed of which Merrymeeting is a part.&nbsp; The Merrymeeting \\n\\t\\tRiver and Marsh, Lake Winnipesaukee, and the Merrimack River are all \\n\\t\\talso well above normal spring levels.&nbsp; If too much water from \\n\\t\\tMerrymeeting is released too fast, it will cause flooding in the whole \\n\\t\\twatershed downstream. Therefore it needs to be released slowly and \\n\\t\\tcarefully.&nbsp; The good news is we finally have an extended forecast \\n\\t\\twith little rain and sunny days.&nbsp; The continued flow over the \\n\\t\\tsluiceway, coupled with normal evaporation, should hopefully drop the \\n\\t\\tlevel quickly. We will appreciate this water in late July when the lake \\n\\t\\tlevel is still reasonalble for water activites, unlike what we\\'ve \\n\\t\\texperienced in recent years.&nbsp; On a hot day, the lake level can drop \\n\\t\\t1\" or more just from evaporation!</p>\\n\\t\\t<p class=\"news_story\">\\n\\t\\t<img alt=\"\" height=\"892\" src=\"images/2017/Level.jpg\" width=\"764\" /></p>\\n\\t\\t<p class=\"news_story\">\\n\\t\\t&nbsp;</p>\\n\\t\\t<p class=\"news_header\">\\n\\t\\t<img alt=\"\" height=\"90%\" src=\"images/2017/DSC_0418.JPG\" width=\"90%\" /></p>\\n\\t\\t<p class=\"news_header\">\\n\\t\\t&nbsp;</p>\\n\\t\\t<p class=\"news_header\">\\n\\t\\t<img alt=\"\" height=\"90%\" src=\"images/2017/DSC_0419.JPG\" width=\"90%\" /></p>\\n\\t\\t<p class=\"news_header\">\\n\\t\\tAs of 2-May-2017</p>\\n\\t\\t<p class=\"news_story\">\\n\\t\\tAll of the boards were added to the dam sluceway shortly after ice-out \\n\\t\\t(mid-April).&nbsp; The lake level rose quickly due to snow melt runoff \\n\\t\\tand ongoing rains. As of 2-May, the lake is at full level, higher than \\n\\t\\tit\\'s been at this time in several years, and the water is about to start \\n\\t\\toverflowwing into the sluceway.</p>\\n\\t\\t<p class=\"news_header\">\\n\\t\\t<img alt=\"\" height=\"90%\" src=\"img11.jpg\" width=\"90%\" /></p>\\n\\t\\t<p class=\"news_header\">\\n\\t\\t<img alt=\"\" height=\"80%\" src=\"images/2017/DSC_0390.JPG\" width=\"80%\" /></p>\\n\\t\\t<p class=\"news_header\">\\n\\t\\t&nbsp;</p>\\n\\t\\t<p class=\"news_header\">\\n\\t\\t<img alt=\"\" height=\"80%\" src=\"images/2017/DSC_0387.JPG\" width=\"80%\" /></p>\\n\\t\\t<p class=\"news_header\">\\n\\t\\t&nbsp;</p>\\n<!-- #EndEditable -->\\n\\t\\t</td>\\n\\t\\t<td valign=\"top\" id=\"right_col\" style=\"right: 1px; \">\\n\\t\\t<!-- MSCellType=\"NavBody\" -->\\n\\t\\t<!-- #BeginEditable \"td%23right_col\" -->\\n\\t\\t<p>&nbsp;</p>\\n<!-- #EndEditable -->\\n\\t\\t</td>\\n\\t</tr>\\n\\t<tr>\\n\\t\\t<td valign=\"top\" id=\"footer\" colspan=\"2\" class=\"auto-style3\">\\n\\t\\t<!-- MSCellType=\"ContentFoot\" -->\\n\\t\\t\\xc2\\xa9 copyright 2017 Merryeeting Lake Association&nbsp;<br />\\n\\t\\tPO Box 468, New Durham, NH 03855 or email:<a href=\"mailto:mmla@mmlake.org\">mmla@mmlake.org</a><br />\\n\\t\\tAll rights reserved.&nbsp;&nbsp;&nbsp;&nbsp; \\n\\t\\tSite comments?\\n\\t\\t<a href=\"mailto:webmaster@mmlake.org?subject=Comment on MMLA website\">\\n\\t\\twebmaster@mmlake.org</a></td>\\n\\t</tr>\\n\\t<tr>\\n\\t\\t<td style=\"width: 691px\">&nbsp;</td>\\n\\t\\t<td style=\"width: 199px; height: 1px;\"></td>\\n\\t\\t</tr>\\n</table>\\n<a href=\"http://mmlake.org/mmla_links.htm\"></a>\\n\\n</body>\\n\\n<!-- #EndTemplate -->\\n\\n</html>\\n'\n"
     ]
    }
   ],
   "source": [
    "p_1 = urllib.request.build_opener(urllib.request.HTTPCookieProcessor).open(url_1).read()\n",
    "print(p_1)"
   ]
  },
  {
   "cell_type": "markdown",
   "metadata": {},
   "source": [
    "------------------------------------\n",
    "\n",
    "# One Data Point, One Match\n",
    "\n",
    "## Parse the site's contents \n",
    "\n",
    "Scan the above HTML for the content you are trying to extract. Cut and paste the HTML above into the TEST STRING box over at [Regex 101](https://regex101.com/) and craft a regex that captures your desired content. Be sure to use the Python flavor.\n",
    "\n",
    "Remember the parenthetical is the group you're pulling out. Once you have a working regex, plug it into the code below, and run the cell. If it worked, you'll see you scraped data as an output. "
   ]
  },
  {
   "cell_type": "code",
   "execution_count": 13,
   "metadata": {},
   "outputs": [
    {
     "name": "stdout",
     "output_type": "stream",
     "text": [
      "\n",
      "\t\tAs of 1-October-2017\n"
     ]
    }
   ],
   "source": [
    "res_1 = re.search(b'<p class=\\\"news_header\\\">([^<]*)</p>',p_1)\n",
    "b'<p class=\\\"news_header\\\">([^<]*)</p>"
   ]
  },
  {
   "cell_type": "markdown",
   "metadata": {},
   "source": [
    "p_2 = urllib.request.build_opener(urllib.request.HTTPCookieProcessor).open(url_2).read()\n",
    "print(p_2)"
   ]
  },
  {
   "cell_type": "markdown",
   "metadata": {},
   "source": [
    "res_2= re.search(b'<li><a href=\"(http://mmlake.org/LakeWaterLevel.html)\">Lake Level</a></li>\n",
    "output_2 = res_2.group(1).decode('UTF-8')\n",
    "print(output_2)"
   ]
  },
  {
   "cell_type": "code",
   "execution_count": null,
   "metadata": {
    "collapsed": true
   },
   "outputs": [],
   "source": [
    "if (res_1 and (worksheet.row_values(worksheet.row_count)[1]) != output_1):\n",
    "    # The above If statment, says to continue only if the we actuall got some data from the page\n",
    "    # and the old sheet vales and the new pulled values are not equal (!=) to eachother. \n",
    "\n",
    "    # Go ahead and tweet out the update. Here you need to know about a Twitter API limitation.\n",
    "    # Twitter will not Tweet the same tweet a second time if it is too close to the first instance.\n",
    "    # In such cases, it will throw an error. The `try:` and `except TwitterError:` constructions are\n",
    "    # similar to If statements. However, they will try the first block of code first, and only try \n",
    "    # the second block if it runs into a Twitter error. Here, the second try tweaks the language\n",
    "    # just enough that it isn't a duplicate Tweet.\n",
    "    try:\n",
    "        # Post to Twitter.\n",
    "        #print ('P1 Title is %s'%(output_1))\n",
    "        status = api.PostUpdate('P1 Title is %s'%(output_1))\n",
    "        print(status.text)\n",
    "    except TwitterError:\n",
    "        # Post to Twitter.\n",
    "        #print ('P1 Title: %s'%(output_1))\n",
    "        status = api.PostUpdate('P1 Title: %s'%(output_1))\n",
    "        print(status.text)\n",
    "\n",
    "    # Save to Google only after Tweeting\n",
    "    worksheet.append_row([now,output_1])"
   ]
  },
  {
   "cell_type": "code",
   "execution_count": null,
   "metadata": {
    "collapsed": true
   },
   "outputs": [],
   "source": [
    "print(worksheet.row_values(worksheet.row_count))\n",
    "#############################\n",
    "# DELETE CELL AFTER TESTING\n",
    "#############################"
   ]
  },
  {
   "cell_type": "code",
   "execution_count": null,
   "metadata": {
    "collapsed": true
   },
   "outputs": [],
   "source": []
  },
  {
   "cell_type": "markdown",
   "metadata": {},
   "source": [
    "## Post to Twitter and Save to Google (Two Data Point, One Match)"
   ]
  },
  {
   "cell_type": "code",
   "execution_count": null,
   "metadata": {
    "collapsed": true
   },
   "outputs": [],
   "source": [
    "if (res_1 and (worksheet.row_values(worksheet.row_count)[1]) != output_1\n",
    "          and (worksheet.row_values(worksheet.row_count)[2]) != output_2):\n",
    "    # same as above but now comparing two values\n",
    "    \n",
    "    try:\n",
    "        # Post to Twitter.\n",
    "        status = api.PostUpdate('%s %s'%(output_2,output_1))\n",
    "        print(status.text)\n",
    "    except TwitterError:\n",
    "        # Post to Twitter.\n",
    "        status = api.PostUpdate('%s %s'%(output_2,output_1))\n",
    "        print(status.text)\n",
    "\n",
    "    # Save to Google only after Tweeting\n",
    "    worksheet.append_row([now,output_1,output_2])"
   ]
  },
  {
   "cell_type": "code",
   "execution_count": null,
   "metadata": {
    "collapsed": true
   },
   "outputs": [],
   "source": [
    "print(worksheet.row_values(worksheet.row_count))\n",
    "#############################\n",
    "# DELETE CELL AFTER TESTING\n",
    "#############################"
   ]
  },
  {
   "cell_type": "markdown",
   "metadata": {},
   "source": []
  },
  {
   "cell_type": "code",
   "execution_count": null,
   "metadata": {
    "collapsed": true
   },
   "outputs": [],
   "source": []
  },
  {
   "cell_type": "code",
   "execution_count": null,
   "metadata": {
    "collapsed": true
   },
   "outputs": [],
   "source": []
  },
  {
   "cell_type": "code",
   "execution_count": null,
   "metadata": {
    "collapsed": true
   },
   "outputs": [],
   "source": []
  },
  {
   "cell_type": "code",
   "execution_count": null,
   "metadata": {
    "collapsed": true
   },
   "outputs": [],
   "source": []
  }
 ],
 "metadata": {
  "kernelspec": {
   "display_name": "Python 3",
   "language": "python",
   "name": "python3"
  },
  "language_info": {
   "codemirror_mode": {
    "name": "ipython",
    "version": 3
   },
   "file_extension": ".py",
   "mimetype": "text/x-python",
   "name": "python",
   "nbconvert_exporter": "python",
   "pygments_lexer": "ipython3",
   "version": "3.6.2"
  }
 },
 "nbformat": 4,
 "nbformat_minor": 1
}
