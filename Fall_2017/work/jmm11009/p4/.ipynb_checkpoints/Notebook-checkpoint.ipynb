{
 "cells": [
  {
   "cell_type": "markdown",
   "metadata": {},
   "source": [
    "# Capstone Project - Law Office & Google Forms\n",
    "By: Justin Martino \n",
    "For my capstone project, I decided to work with my dad, attorney Peter Martino. Attorney Martino's webpage can be found here [https://eastbostonlaw.com/]. Attorney Martino runs a small firm made up of two practicing lawyers and two secretaries. The firm is a general practice focusing primarily on Bankruptcy, Real Estate, Personal Injury, Criminal, Family Law, and Wills/Estates. \n",
    " \n",
    "\n",
    "\n",
    "## Process\n",
    "   My initial meeting with Attorney Martino raised some potential ideas for my capstone project. Attorney Martino explained to me that because the firm is so small in both the number of practicing lawyers and also staff that it is vita that each component is working efficiently. By this he meant that it is important that both secretary staff and practicing lawyers make the most of the time that they are in the office. We brainstormed some potential ideas and came up with some very general problems that we could address. First, Attorney Martino explained that a lot of time is wasted by interviewing and talking to clients to gain some very general info. Often times he feels like, a secretary has to stop doing something of more importance to interview a new potential client that just walked in through the door. This is very common because of the busy location of the practice. In addition, Attorney Martino mentioned two other general problems. The practice has a data base of standard letters that are used for a variety of different matters. These letters are very easy to produce but are time consuming because it forces the secretaries to go through the standard letters and fill them in with the clients information (such as name, address, issue at hand, etc). This is a time consuming process for a mindless task. Lastly, Attorney Martino mentioned that there is a disconnect between the secretaries knowing who is avaialble on a given day and who is in court and not avaialable.\n",
    "    After speaking to Attorney Martino I started to brainstorm and research some possible solutions to his problems. First, I thought of my old friend QNA markup as a possible solution. I figured I could use the QNA to create a questionaire to gather some basic information from new clients. In addition, I knew that it had the potential to automate documents. I went back and looked at my project one and thought about some of the strengths and weaknesses of that project. I remembered most how much of a struggle it was to put together my QNA markup because of my relatively low experience level using QNA prior to that project. However, I also remember at the end of the project how much more comfortable I felt, and that relieved some of those concerns. I started to look at the automation of documents from QNA markup and thought that this could potentially be a very powerful tool.\n",
    "    Next, I decided to meet with Professor Colarusso to discuss the research of my project so far. Professor Colarusso liked where my project was heading but he had another possible solution in mind. Professor Colarusso mentioned using Google forms. Google forms is able to do alot of the same things that QNA markup does (i.e, asking questions, interacting with a user, eliminating answers etc), but without the headache of creating the code yourself. Professor Colarusso also thought that I could use Google forms to automate documents and also to create a calendar system of availability. However, I thought because I had never used Google forms it would be vital that I look at the system myself and decide if this was something that I would be comfortable with. From there, I went back to the drawing board and started fooling around with google forms. I finally \n",
    "Prototyping --> \n",
    "User Testing --> \n",
    "Refinement -->\n",
    "\n",
    "\n",
    "## Product\n",
    "My pitch --> Power Point\n",
    "Complexity/Robustness --> Discuss expert system (google form) + document automation \n",
    "Impact --> Efficiencey\n",
    "Fit Completeness --> does it fix our problem\n",
    "Documentation --> User manual\n",
    "Real World Viability -->\n",
    "Sustainability -->\n",
    "\n",
    "## RESULTS:\n",
    "From the regression that I ran I had some very interesting results. First, from my calculation I found that 11% of the ballot had a likely chance of getting into the Hall of Fame. My regression was 86% accurate. Below are the results of my regression, which are also located at the bottom of this code. \n",
    "Logistic Regression\n",
    "Accuracey: 0.857142857143\n",
    "\n",
    "True Negatives: 5\n",
    "False Positives: 0\n",
    "False Negatives: 1\n",
    "True Positives: 1\n",
    "Recall: 1.0\n",
    "Precision: 0.5\n",
    "F1 Score: 0.666666666667\n",
    "\n",
    "Decision Tree\n",
    "Accuracey: 1.0\n",
    "\n",
    "True Negatives: 5\n",
    "False Positives: 0\n",
    "False Negatives: 0\n",
    "True Positives: 2\n",
    "Recall: 1.0\n",
    "Precision: 1.0\n"
   ]
  },
  {
   "cell_type": "code",
   "execution_count": null,
   "metadata": {
    "collapsed": true
   },
   "outputs": [],
   "source": []
  },
  {
   "cell_type": "code",
   "execution_count": null,
   "metadata": {
    "collapsed": true
   },
   "outputs": [],
   "source": []
  }
 ],
 "metadata": {
  "kernelspec": {
   "display_name": "Python 3",
   "language": "python",
   "name": "python3"
  },
  "language_info": {
   "codemirror_mode": {
    "name": "ipython",
    "version": 3
   },
   "file_extension": ".py",
   "mimetype": "text/x-python",
   "name": "python",
   "nbconvert_exporter": "python",
   "pygments_lexer": "ipython3",
   "version": "3.6.1"
  }
 },
 "nbformat": 4,
 "nbformat_minor": 1
}
