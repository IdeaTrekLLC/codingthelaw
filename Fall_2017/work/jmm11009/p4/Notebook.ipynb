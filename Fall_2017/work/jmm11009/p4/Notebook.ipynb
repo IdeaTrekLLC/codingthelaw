{
 "cells": [
  {
   "cell_type": "markdown",
   "metadata": {},
   "source": [
    "# CAPSTONE  - Law Office & Google Forms\n",
    "By: Justin Martino \n",
    "For my capstone project, I decided to work with my dad, attorney Peter Martino. Attorney Martino's webpage can be found here [https://eastbostonlaw.com/]. Attorney Martino runs a small firm made up of two practicing lawyers and two secretaries. The firm is a general practice focusing primarily on Bankruptcy, Real Estate, Personal Injury, Criminal, Family Law, and Wills/Estates. "
   ]
  },
  {
   "cell_type": "code",
   "execution_count": 1,
   "metadata": {},
   "outputs": [
    {
     "ename": "IndentationError",
     "evalue": "unexpected indent (<ipython-input-1-6dce152fe279>, line 4)",
     "output_type": "error",
     "traceback": [
      "\u001b[0;36m  File \u001b[0;32m\"<ipython-input-1-6dce152fe279>\"\u001b[0;36m, line \u001b[0;32m4\u001b[0m\n\u001b[0;31m    My initial meeting with Attorney Martino raised some potential ideas for my capstone project. Attorney Martino explained to me that because the firm is so small in both the number of practicing lawyers and also staff that it is vita that each component is working efficiently. By this he meant that it is important that both secretary staff and practicing lawyers make the most of the time that they are in the office. We brainstormed some potential ideas and came up with some very general problems that we could address. First, Attorney Martino explained that a lot of time is wasted by interviewing and talking to clients to gain some very general info. Often times he feels like, a secretary has to stop doing something of more importance to interview a new potential client that just walked in through the door. This is very common because of the busy location of the practice. In addition, Attorney Martino mentioned two other general problems. The practice has a data base of standard letters that are used for a variety of different matters. These letters are very easy to produce but are time consuming because it forces the secretaries to go through the standard letters and fill them in with the clients information (such as name, address, issue at hand, etc). This is a time consuming process for a mindless task. Lastly, Attorney Martino mentioned that there is a disconnect between the secretaries knowing who is avaialble on a given day and who is in court and not avaialable.\u001b[0m\n\u001b[0m    ^\u001b[0m\n\u001b[0;31mIndentationError\u001b[0m\u001b[0;31m:\u001b[0m unexpected indent\n"
     ]
    }
   ],
   "source": [
    "\n",
    "# PROCESS\n",
    "#### THE PROBLEM:\n",
    "    My initial meeting with Attorney Martino raised some potential ideas for my capstone project. Attorney Martino explained to me that because the firm is so small in both the number of practicing lawyers and also staff that it is vita that each component is working efficiently. By this he meant that it is important that both secretary staff and practicing lawyers make the most of the time that they are in the office. We brainstormed some potential ideas and came up with some very general problems that we could address. First, Attorney Martino explained that a lot of time is wasted by interviewing and talking to clients to gain some very general info. Often times he feels like, a secretary has to stop doing something of more importance to interview a new potential client that just walked in through the door. This is very common because of the busy location of the practice. In addition, Attorney Martino mentioned two other general problems. The practice has a data base of standard letters that are used for a variety of different matters. These letters are very easy to produce but are time consuming because it forces the secretaries to go through the standard letters and fill them in with the clients information (such as name, address, issue at hand, etc). This is a time consuming process for a mindless task. Lastly, Attorney Martino mentioned that there is a disconnect between the secretaries knowing who is avaialble on a given day and who is in court and not avaialable.\n",
    "#### THE RESEARCH:\n",
    "    After speaking to Attorney Martino I started to brainstorm and research some possible solutions to his problems. First, I thought of my old friend QNA markup as a possible solution. I figured I could use the QNA to create a questionaire to gather some basic information from new clients. In addition, I knew that it had the potential to automate documents. I went back and looked at my project one and thought about some of the strengths and weaknesses of that project. I remembered most how much of a struggle it was to put together my QNA markup because of my relatively low experience level using QNA prior to that project. However, I also remember at the end of the project how much more comfortable I felt, and that relieved some of those concerns. I started to look at the automation of documents from QNA markup and thought that this could potentially be a very powerful tool.\n",
    "    Next, I decided to meet with Professor Colarusso to discuss the research of my project so far. Professor Colarusso liked where my project was heading but he had another possible solution in mind. Professor Colarusso mentioned using Google forms. Google forms is able to do alot of the same things that QNA markup does (i.e, asking questions, interacting with a user, eliminating answers etc), but without the headache of creating the code yourself. Professor Colarusso also thought that I could use Google forms to automate documents and also to create a calendar system of availability. However, I thought because I had never used Google forms it would be vital that I look at the system myself and decide if this was something that I would be comfortable with. From there, I went back to the drawing board and started fooling around with google forms. I finally realized that Professor Colarusso was right, Google Forms is a very powerful tool. \n",
    "    I also realized that there were some ethical issues that I needed to research before I really started to pound the pavement on my project. First, because I would be collecting information from clients I needed to understand when the client-attorney relationship is created. I also needed to look into the ethical guidelines about collecting confidential information. After completing this research, I met again with Professor Colarusso to discuss this research and to hear his thoughts. We both came to the same conclusion, that it would be safest to use a two form system. One form would be used for new clients and the other form would be used for clients who have signed a retainer form. \n",
    "#### THE PROTOTYPE:\n",
    "    I fooled around with both QNA markup and Google forms. Although I thought QNA markup had potential to be very powerful I felt that I could accomplish alot more because of my relatively low experience as a coder.\n",
    "    My process of prototyping was a little different than your normal innovator. First, I wanted to understand what my work flow would look like and how my project would fit into this flow. I thought by doing this I could tailor my project in the best way to solve our problem. Below is a diagram that Professor Colarusso and I created. Basically, the forms were split in two categories. Form 1 would be used for New clients, this information would be very limited. Form 2 would be used for existing clients that have already signed a retainer form and we do not have to worry about any client-attorney issues. From there Attorney Martino would use the form for an initial meeting. After that meeting with a client, more information can be added to the google form and a file will be create for new clients, with the information gathered from the Google Form as the first piece of documentation in the file. After the second meeting with the client, Attorney Martino or the secretary can download the google sheet to be used in document automation. The image below is the diagram that Professor Colarusso and I created. \n",
    "    ![IMG_1291.jpg](attachment:IMG_1291.jpg)\n",
    "#### USER TESTING:\n",
    "    Test 1: Friend, Frank\n",
    "    Form: Form 2, Existing Cleint\n",
    "    Type of CAse: PErsonal Injury\n",
    "    Notes: The format of the intake needs to be tweaked. I should not have to go through all the forms but only the ones that are applicable to me. \n",
    "    Test 2: Secretary: Lauren\n",
    "            Form: Form 2, Existing Client\n",
    "            Type of Case: Personal Injury\n",
    "     Notes: The question asking what my health insurance company is needs to be switched from a multiple choice type answer to a fill-in-the blank.\n",
    "     Also, it could be useful to make a form strictly with insurance company information that could possibly make the automating process a little bit easier.\n",
    "     I did attempt to do the automation but the directions needed clarification. Attorney Martino helped me a little bit and I was able to figure it out he understood the process better than I do. \n",
    "     Test 3: Secretary: Lauren\n",
    "             Form: Form 1, New Client\n",
    "             Type of Case: Refinance Loan\n",
    "             Notes: I decided to use Form 1 because for this type of letter I really only needed the address to make the automation process easier. I think we need to tweak the questions a little bit so that they are tailored to the letter, that way automation can be more efficient. Also, making sure all the forms and xcel sheets are in the same location.\n",
    "   Test 4: \n",
    "     Tester: Secretary, Kelly\n",
    "     Form: Form 2, Existing Client\n",
    "     Type of Case: Personal Injury\n",
    "     Notes: The automation process worked alot better when you had me fill in my address specifically in mailing form. This way it lines up in the form and makes things much easier. However, there some issues in the form itself that I may have caused. For some reason I was forced to go through a lot of unnecessary forms instead of being able to submit after completing the section that I wanted to. This will need to be tweaked. \n",
    "     Test 5: \n",
    "     Tester: Secretary, Kelly\n",
    "     Form: Appointment Scheduler\n",
    "     Notes: I think this format of the appointment scheduler is better than the previous one. Originally, you only had times for that day. But by creating sections for each day you can allow Attorney Martino to fill in the times that he is unavailable and people can make appointments that way. This will be better and there will be less of a chance of oversheduling.\n",
    "These are only some of the comments that I received in my user testing. I tried to incorporate some of the more important ones for each section. However, alot of the user testing was done face to face with me. This was actually really beneficial because although they were only testing the product they were able to gain some useful experience. \n",
    "#### REFINEMENT:\n",
    "    This will be a constance process of refining. I think the forms have huge potential to be a very powerful tool for Attorney Martino. But this will have to be a constant process of tweaking the form to get the results we want. For example, I learned that I could make the document automation process a lot more efficient if I had the intake tell the client exactly what I need. Therefore, I included descriptions in some questions to have the client fill in mailing addresses so that they would fit in a letter. This is only one example and the more testing I do the more improvements I will be able to make. "
   ]
  },
  {
   "cell_type": "markdown",
   "metadata": {
    "collapsed": true
   },
   "source": [
    "# PRODUCT\n",
    "#### INTRO PITCH: The actual Powerpoint for my Pitch is saved in p4 folder.\n",
    "    Here is an outline:\n",
    "        Problem: Organization and efficiencey. \n",
    "        Solution: Google Form that can be used as an intake.\n",
    "#### PRODUCT FEATURES:\n",
    "    Three Google forms:\n",
    "        1. Form 1: Basic intake for clients that have not signed a retainer.\n",
    "        2. Form 2: More detailed intake for clients that have signed a retainer.\n",
    "        3. Form 3: Appointment Schedule using the choice eliminator.\n",
    "#### IMPACT AND EFFICIENCEY: \n",
    "    In my p4 folder you can find a letter of satisfaction from Attorney Martino addressing some of these issues. The product has the potential to be very powerful and efficient. However, this is going to take some time and will be a work in progress. For example, the document automation will be much more powerful in a year or some substantial period of time where we have been able to collect alot of data on clients. This will allow us to have one universal xcel sheet that we can automate documents with instead of having to create an xcel sheet everytime. In the beginnign, this will be slow but it should pay off in the long run.\n",
    "   \n",
    "#### FIT AND COMPLETENESS:\n",
    "    Right now the product is not game ready. We will have to continuously collect information and also tweak the form. We can continuously tweak the form so that it can be more tailored to the letters and documents that we are producing in high volumes. Agai however, this will be a work in progress, in the beginning this will seem slow. I have already personally pondered this question myself, about whether this google form will actually be beneficial. I came to the conclusion it will, but as the old saying goes, \"Rome was not built in a day\". Therefore, although I believe this form is not \"complete\" it will continue to evolve into a highly powerful tool. Some of the documents are not automated yet, but again by continuously testing the product and implementing changes we can automate more documents."
   ]
  }
 ],
 "metadata": {
  "celltoolbar": "Attachments",
  "kernelspec": {
   "display_name": "Python 3",
   "language": "python",
   "name": "python3"
  },
  "language_info": {
   "codemirror_mode": {
    "name": "ipython",
    "version": 3
   },
   "file_extension": ".py",
   "mimetype": "text/x-python",
   "name": "python",
   "nbconvert_exporter": "python",
   "pygments_lexer": "ipython3",
   "version": "3.6.1"
  }
 },
 "nbformat": 4,
 "nbformat_minor": 1
}
