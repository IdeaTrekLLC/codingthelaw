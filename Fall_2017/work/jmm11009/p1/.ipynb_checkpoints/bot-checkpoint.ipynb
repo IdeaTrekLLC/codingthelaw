{
 "cells": [
  {
   "cell_type": "markdown",
   "metadata": {
    "collapsed": true
   },
   "source": []
  },
  {
   "cell_type": "code",
   "execution_count": null,
   "metadata": {
    "collapsed": true
   },
   "outputs": [],
   "source": []
  },
  {
   "cell_type": "markdown",
   "metadata": {},
   "source": [
    "# Assigned Counsel and Fee Waiver Bot\n",
    "By [Justin Martino](https://twitter.com/martino) \n",
    "\n",
    "I wrote a bot, and you can find it [here](http://www.codingthelaw.org/Fall_2017/work/jmm11009/p1/bot.html). To write my bot, we used a tool called [QnA Markup](http://www.qnamarkup.org/). Basically, you create an interactive dicision tree by nesting questions and answers. Here's [my code](bot.txt). \n",
    "\n",
    "## User Testing\n",
    "\n",
    "\n",
    "    I think my peer-user testing could have been better if my peer-tester and I had done our perr-review testing on time. Because it was late, the feedback was both limited and hard to incorporate because the due date was approaching so rapidly. However, I was able to receive some structural feedback as some of my GOTO tags were not functioning correctly because of the spacing, this was important to fix before finalizing my bot. You can find \n",
    "    Some of my most beneficial feedback was received when visiting Professor Colarusso in office hours. At the beginning of the process, I struggled with some minor problems that were causing my outputs not to function properly. However, once I overcame this obstacle in office hours my bot really started to take off. After this I was able to incorporate two documents that could be automated using the users feedback from the bot.\n",
    "1c) How successful was the student at engaging attorneys in their bot’s jurisdiction?\n",
    "I reached out to a couple of different attorneys in Vermont but I did not receive any response from any of the lawyers I reached out to. \n",
    "\n",
    "## Refinement\n",
    "How well does the student integrate feedback from user testing into subsequent versions of their solution?\n",
    "\n",
    "\n",
    "## Real-World Viability\n",
    "\n",
    "I think my product could use some improvement before it is real world ready. "
   ]
  },
  {
   "cell_type": "code",
   "execution_count": null,
   "metadata": {
    "collapsed": true
   },
   "outputs": [],
   "source": []
  },
  {
   "cell_type": "code",
   "execution_count": null,
   "metadata": {
    "collapsed": true
   },
   "outputs": [],
   "source": []
  }
 ],
 "metadata": {
  "kernelspec": {
   "display_name": "Python 3",
   "language": "python",
   "name": "python3"
  },
  "language_info": {
   "codemirror_mode": {
    "name": "ipython",
    "version": 3
   },
   "file_extension": ".py",
   "mimetype": "text/x-python",
   "name": "python",
   "nbconvert_exporter": "python",
   "pygments_lexer": "ipython3",
   "version": "3.6.1"
  }
 },
 "nbformat": 4,
 "nbformat_minor": 1
}
