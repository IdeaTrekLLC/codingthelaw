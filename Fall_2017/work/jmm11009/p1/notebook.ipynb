{
 "cells": [
  {
   "cell_type": "markdown",
   "metadata": {
    "collapsed": true
   },
   "source": []
  },
  {
   "cell_type": "code",
   "execution_count": null,
   "metadata": {
    "collapsed": true
   },
   "outputs": [],
   "source": []
  },
  {
   "attachments": {},
   "cell_type": "markdown",
   "metadata": {},
   "source": [
    "# Assigned Counsel and Fee Waiver Bot\n",
    "By [Justin Martino](https://twitter.com/martino) \n",
    "\n",
    "I wrote a bot, and you can find it [here](http://www.codingthelaw.org/Fall_2017/work/jmm11009/p1/bot.html). To write my bot, we used a tool called [QnA Markup](http://www.qnamarkup.org/). Basically, you create an interactive dicision tree by nesting questions and answers. Here's [my code](bot.txt). \n",
    "\n",
    "## User Testing\n",
    "\n",
    "\n",
    "    I think my peer-user testing could have been better if my peer-tester and I had done our perr-review testing on time. Because it was late, the feedback was both limited and hard to incorporate because the due date was approaching so rapidly. However, I was able to receive some structural feedback as some of my GOTO tags were not functioning correctly because of the spacing, this was important to fix before finalizing my bot. You can find the interaction between my Peer-tester and I here [\n",
    "    Some of my most beneficial feedback was received when visiting Professor Colarusso in office hours. At the beginning of the process, I struggled with some minor problems that were causing my outputs not to function properly. However, once I overcame this obstacle in office hours my bot really started to take off. After this I was able to incorporate two documents that could be automated using the users feedback from the bot.\n",
    "    I reached out to a couple of different attorneys in Vermont but I did not receive any response from any of the lawyers I reached out to. I found three different lawyers [here](https://www.lawyers.com/?&site=466&cid=ppc:100&source=Google-LDC&mkwid=s8ZJRGBzg|pcrid|182225507161|pkw|lawyer%20directory|pmt|p|pdv|c|slid||&gclid=Cj0KCQjw9afOBRDWARIsAJW4nvw1H9HRr7jRSjPFZ5l9KI5lUjCRAI5NwUpWSMsBrAG-qHJvo9xNcKIaAuQsEALw_wcB)\n",
    "\n",
    "## Refinement\n",
    "I think my greatest refinement period came last week when I met with Professor Collarusso. My original QNA text was very basic. I was having a hard time incorporating my document automation into my code but after meeting with Professor Collarusso I was able to succesfully incorporate two documents that could be automated. \n",
    "\n",
    "\n",
    "## Real-World Viability\n",
    "\n",
    "I think my product could use some improvement before it is real world ready. "
   ]
  },
  {
   "cell_type": "code",
   "execution_count": null,
   "metadata": {
    "collapsed": true
   },
   "outputs": [],
   "source": []
  },
  {
   "cell_type": "code",
   "execution_count": null,
   "metadata": {
    "collapsed": true
   },
   "outputs": [],
   "source": []
  },
  {
   "cell_type": "code",
   "execution_count": null,
   "metadata": {
    "collapsed": true
   },
   "outputs": [],
   "source": []
  },
  {
   "cell_type": "code",
   "execution_count": null,
   "metadata": {
    "collapsed": true
   },
   "outputs": [],
   "source": []
  }
 ],
 "metadata": {
  "kernelspec": {
   "display_name": "Python 3",
   "language": "python",
   "name": "python3"
  },
  "language_info": {
   "codemirror_mode": {
    "name": "ipython",
    "version": 3
   },
   "file_extension": ".py",
   "mimetype": "text/x-python",
   "name": "python",
   "nbconvert_exporter": "python",
   "pygments_lexer": "ipython3",
   "version": "3.6.1"
  }
 },
 "nbformat": 4,
 "nbformat_minor": 1
}
