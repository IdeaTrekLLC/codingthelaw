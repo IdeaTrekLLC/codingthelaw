{
 "cells": [
  {
   "cell_type": "markdown",
   "metadata": {
    "collapsed": true
   },
   "source": [
    "# Assigned Counsel and Fee Waiver Bot\n",
    "By [lchen26] \n",
    "\n",
    "I wrote a bot, and you can find it [here](http://www.codingthelaw.org/Fall_2017/work/lchen26/p1/bot.html). To write my bot, we used a tool called [QnA Markup](http://www.qnamarkup.org/). Basically, you create an interactive dicision tree by nesting questions and answers. Here's [my code](http://www.codingthelaw.org/Fall_2017/work/lchen26/p1/bot.txt). \n",
    "\n",
    "## User Testing\n",
    "In This process, I did peer testing with my partner.\n",
    "\n",
    "## Refinement\n",
    "\n",
    "To refine this, I did research into the relevant laws. The two codes are § 17.1-606 and \n",
    "\n",
    "## Real-World Viability\n",
    "\n",
    "I am continuing to work on adapting based on feedback"
   ]
  },
  {
   "cell_type": "markdown",
   "metadata": {},
   "source": []
  }
 ],
 "metadata": {
  "kernelspec": {
   "display_name": "Python 3",
   "language": "python",
   "name": "python3"
  },
  "language_info": {
   "codemirror_mode": {
    "name": "ipython",
    "version": 3
   },
   "file_extension": ".py",
   "mimetype": "text/x-python",
   "name": "python",
   "nbconvert_exporter": "python",
   "pygments_lexer": "ipython3",
   "version": "3.6.1"
  }
 },
 "nbformat": 4,
 "nbformat_minor": 2
}
