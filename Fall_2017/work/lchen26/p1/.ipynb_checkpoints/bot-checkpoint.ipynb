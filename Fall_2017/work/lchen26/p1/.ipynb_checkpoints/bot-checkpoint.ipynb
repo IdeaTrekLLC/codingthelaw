{
 "cells": [
  {
   "attachments": {},
   "cell_type": "markdown",
   "metadata": {
    "collapsed": true
   },
   "source": [
    "## Assigned Counsel and Fee Waiver Bot\n",
    "By lchen26 \n",
    "\n",
    "I wrote a bot, and you can find it [here](http://www.codingthelaw.org/Fall_2017/work/lchen26/p1/bot.html). To write my bot, we used a tool called [QnA Markup](http://www.qnamarkup.org/). Basically, you create an interactive decision tree by nesting questions and answers. Here's [my code](http://www.codingthelaw.org/Fall_2017/work/lchen26/p1/bot.txt). \n",
    "\n",
    "## User Testing\n",
    "In this process, I did peer testing with my partner. My partner gave me this feedback:\n",
    "\n",
    "[Feedback from Jeffrey Price](http://www.codingthelaw.org/Fall_2017/work/lchen26/p1/screenshotJeffPriceFeedback.png)\n",
    "\n",
    "\n",
    "In addition, I reached out to a lawyer in Virginia for feedback. Here was his feedback:\n",
    "\n",
    "[Lawyer Feedback](http://www.codingthelaw.org/Fall_2017/work/lchen26/p1/screenshotLawyerFeedback.png)\n",
    "\n",
    "\n",
    "Finally, I collected feedback anonymously. I used Google Forms and received these [results](http://www.codingthelaw.org/Fall_2017/work/lchen26/p1/feedback.xlsx) \n",
    "\n",
    "## Research and Refinement\n",
    "\n",
    "I went through several refinement steps. \n",
    "In the first draft, there was the rough ideas of what the jurisdiction required and creating templates for both the civil and criminal aspects of the bot.\n",
    "Here is the [copy](https://codingthelawfall2017.slack.com/files/U6RKE9K4Z/F700CQ6V6/project1.txt) I sent my partner where I added in basic calculations and javascript functions.\n",
    "Following the feedback from my partner, I refined the bot to include more cues and also included the more automated calculations.\n",
    "For the copy I sent out for anonymous feedback, I refined the bot to include links to clarify and to cite appropriate law.\n",
    "\n",
    "For my research, I looked into the relevant laws in Virginia. The two codes are [§ 17.1-606](https://law.lis.virginia.gov/vacode/17.1-606/ \"Official Virginia Code on fee waiver process in civil cases\") and [§ 19.2-159](https://law.lis.virginia.gov/vacode/19.2-159/ \"Official Virginia Code on determination of indigency (for appointment of counsel in criminal cases and fee waivers in civil cases)\"). I also looked at [this](http://humbrechtlaw.com/misdemeanors-in-virginia/) for clarification on how to classify the various crimes in terms of determination of counsel (which was based off of [§ 18.2-11](https://law.lis.virginia.gov/vacode/18.2-11/ \"Official Virginia Code that classifies the different types of misdemeanors\").\n",
    "Based on the feedback I received, I researched on the actual determination of the equivalent of Miranda rights in Virginia. In Virginia, the prerequisite of the appointment of counsel is [§ 19.2-160](https://law.lis.virginia.gov/vacode/title19.2/chapter10/section19.2-160/).\n",
    "\n",
    "The most important refinements needed were making the bot more accessible to users. This included adding more clarifying information and fixing up the interface (to compensate for the GOTO tags). In addition, I tweaked the calculations to work properly (as I had set it up improperly).\n",
    "\n",
    "The only bugs/improvements I have not been able to address were getting all the fields to be auto-populated, how to let the bot record the data when going through the process again without quitting the bot.\n",
    "\n",
    "I also added in this [photo](https://pixabay.com/en/graphics-court-justice-design-882726/) to replace the default one. The photo is CC0 Creative Commons (Free for commercial use and no attribution required).\n",
    "\n",
    "\n",
    "\n",
    "\n",
    "## Real-World Viability\n",
    "\n",
    "This bot is likely viable as-is. However, there is always room for improvement. If I would like to make it more polished, I would have a more robust set of values that are auto-filled. Currently it only has a small list of values that are recorded, and to make it more viable, it would provide the option to transfer that data to the pdfs of the fillable forms. In addition, I would collect data from both the criminal and civil sides for that data transfer. In addition, I would continue to accept feedback to tweak any bugs that are found."
   ]
  },
  {
   "cell_type": "markdown",
   "metadata": {},
   "source": []
  }
 ],
 "metadata": {
  "kernelspec": {
   "display_name": "Python 3",
   "language": "python",
   "name": "python3"
  },
  "language_info": {
   "codemirror_mode": {
    "name": "ipython",
    "version": 3
   },
   "file_extension": ".py",
   "mimetype": "text/x-python",
   "name": "python",
   "nbconvert_exporter": "python",
   "pygments_lexer": "ipython3",
   "version": "3.6.1"
  }
 },
 "nbformat": 4,
 "nbformat_minor": 2
}
