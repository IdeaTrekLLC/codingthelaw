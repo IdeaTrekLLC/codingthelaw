{
 "cells": [
  {
   "attachments": {},
   "cell_type": "markdown",
   "metadata": {
    "collapsed": true
   },
   "source": [
    "## Assigned Counsel and Fee Waiver Bot\n",
    "By lchen26 \n",
    "\n",
    "I wrote a bot, and you can find it [here](http://www.codingthelaw.org/Fall_2017/work/lchen26/p1/bot.html). To write my bot, we used a tool called [QnA Markup](http://www.qnamarkup.org/). Basically, you create an interactive decision tree by nesting questions and answers. Here's [my code](http://www.codingthelaw.org/Fall_2017/work/lchen26/p1/bot.txt). \n",
    "\n",
    "## User Testing\n",
    "In This process, I did peer testing with my partner. My partner gave me this feedback:\n",
    "In addition, I had a lawyer go over the chatbot. Here was his feedback: \n",
    "\n",
    "[Feedback from Jeffrey Price](http://www.codingthelaw.org/Fall_2017/work/lchen26/p1/screenshotJeffPriceFeedback.png)\n",
    "\n",
    "\n",
    "In addition, I reached out to a lawyer in Virginia for feedback. Here was his feedback:\n",
    "\n",
    "[Lawyer Feedback](http://www.codingthelaw.org/Fall_2017/work/lchen26/p1/screenshotJeffPriceFeedback.png)\n",
    "\n",
    "\n",
    "Finally, I collected feedback anonymously. I used Google Forms and received these [results](http://www.codingthelaw.org/Fall_2017/work/lchen26/p1/feedback.xlsx) \n",
    "\n",
    "## Research and Refinement\n",
    "\n",
    "To refine this, I did research into the relevant laws in Virginia. The two codes are [§ 17.1-606](https://law.lis.virginia.gov/vacode/17.1-606/ \"Official Virginia Code on fee waiver process in civil cases\") and [§ 19.2-159](https://law.lis.virginia.gov/vacode/19.2-159/ \"Official Virginia Code on determination of indigency (for appointment of counsel in criminal cases and fee waivers in civil cases)\"). \n",
    "\n",
    "Based on the feedback I received, I researched on the actual determination of the equivalent of Miranda rights in Virginia. In Virginia, the prerequisite of the appointment of counsel is [§ 19.2-160](https://law.lis.virginia.gov/vacode/title19.2/chapter10/section19.2-160/).\n",
    "\n",
    "I also added in a new photo: CC0 (no attribution needed)\n",
    "\n",
    "\n",
    "\n",
    "## Real-World Viability\n",
    "\n",
    "I am continuing to work on adapting based on feedback. To make it more viable, I would have a more robust set of values to be filled. Currently it only has a small list of values that are recorded, and to make it more viable, it would provide the option"
   ]
  },
  {
   "cell_type": "markdown",
   "metadata": {},
   "source": []
  }
 ],
 "metadata": {
  "kernelspec": {
   "display_name": "Python 3",
   "language": "python",
   "name": "python3"
  },
  "language_info": {
   "codemirror_mode": {
    "name": "ipython",
    "version": 3
   },
   "file_extension": ".py",
   "mimetype": "text/x-python",
   "name": "python",
   "nbconvert_exporter": "python",
   "pygments_lexer": "ipython3",
   "version": "3.6.1"
  }
 },
 "nbformat": 4,
 "nbformat_minor": 2
}
