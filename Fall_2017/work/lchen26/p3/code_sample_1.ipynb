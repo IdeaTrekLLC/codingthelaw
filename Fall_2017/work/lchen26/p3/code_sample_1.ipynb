{
 "cells": [
  {
   "cell_type": "markdown",
   "metadata": {},
   "source": [
    "# Project Three: Likelihood of Pregnancy based on Race and Age\n",
    "\n",
    "The project is to predict if there is a significant likelihood of pregnancy using the race and age of a unmarried woman as factors based on US data from 2006-2015.\n"
   ]
  },
  {
   "cell_type": "code",
   "execution_count": 46,
   "metadata": {
    "collapsed": true
   },
   "outputs": [],
   "source": [
    "import os\n",
    "try:\n",
    "    inputFunc = raw_input\n",
    "except NameError:\n",
    "    inputFunc = input\n",
    "\n",
    "import pandas as pd\n",
    "from pandas.tseries.holiday import USFederalHolidayCalendar\n",
    "from pandas.tseries.offsets import CustomBusinessDay\n",
    "import numpy as np\n",
    " \n",
    "import seaborn as sns\n",
    "from statsmodels.formula.api import ols\n",
    "\n",
    "from sklearn import linear_model\n",
    "from sklearn import metrics\n",
    "\n",
    "from sklearn.linear_model import LogisticRegression\n",
    "from patsy import dmatrices\n",
    "\n",
    "import matplotlib.pyplot as plt\n",
    "%matplotlib inline\n",
    "import numpy as np\n",
    "from sklearn.metrics import accuracy_score\n",
    "from sklearn.metrics import confusion_matrix\n",
    "\n",
    "import matplotlib.pyplot as plt\n",
    "\n",
    "import random\n",
    "\n",
    "\n",
    "def evaluate(pred, labels_test):\n",
    "    acc = accuracy_score(pred, labels_test)\n",
    "    print (\"Accuracey: %s\"%acc)\n",
    "    tn, fp, fn, tp = confusion_matrix(labels_test, pred).ravel()\n",
    "\n",
    "    recall = tp / (tp + fp)\n",
    "    percision = tp / (tp + fn)\n",
    "    f1 = (2 / ((1/recall)+(1/percision)))\n",
    "\n",
    "    print (\"\")\n",
    "    print (\"True Negatives: %s\"%tn)\n",
    "    print (\"False Positives: %s\"%fp)\n",
    "    print (\"False Negatives: %s\"%fn)\n",
    "    print (\"True Positives: %s\"%tp)\n",
    "    print (\"Recall: %s\"%recall)\n",
    "    print (\"Precision: %s\"%percision)\n",
    "    print (\"F1 Score: %s\"%f1)\n",
    "\n",
    "def plot_bound(Z_val,data,col1,col2,binary):\n",
    "\n",
    "    x_min = float(data.iloc[:,[col1]].min())-float(data.iloc[:,[col1]].min())*0.10 \n",
    "    x_max = float(data.iloc[:,[col1]].max()+float(data.iloc[:,[col1]].min())*0.10)\n",
    "    y_min = 0.0; \n",
    "    y_max = float(training.iloc[:,[col2]].max())+float(training.iloc[:,[col2]].max())*0.10\n",
    "    h_x = (x_max-x_min)/100  # step size in the mesh\n",
    "    h_y = (y_max-y_min)/100  # step size in the mesh\n",
    "    xx, yy = np.meshgrid(np.arange(x_min, x_max, h_x), np.arange(y_min, y_max, h_y))\n",
    "    if binary == 1:\n",
    "        Z = clf.predict(np.c_[xx.ravel(), yy.ravel()])   \n",
    "        Z = np.where(Z==\"Y\",1,0)\n",
    "    else:\n",
    "        Z = clf.predict_proba(np.c_[xx.ravel(), yy.ravel()])[:, 1]\n",
    "\n",
    "    Z = Z.reshape(xx.shape)\n",
    "    plt.xlim(xx.min(), xx.max())\n",
    "    plt.ylim(yy.min(), yy.max())\n",
    "    plt.pcolormesh(xx, yy, Z)\n",
    "    plt.show()"
   ]
  },
  {
   "cell_type": "markdown",
   "metadata": {},
   "source": [
    "## Data Cleaning\n",
    "\n",
    "I retrieved this data from data.gov. Here I'm loading an edited version of unmarried_woman.csv from: https://catalog.data.gov/dataset/nonmarital-birth-rates-by-race-and-hispanic-origin-for-women-aged-15-44-united-states-1970. I used that data to create a table that relies on two variables to possibly affect the target variable.\n"
   ]
  },
  {
   "cell_type": "code",
   "execution_count": 47,
   "metadata": {},
   "outputs": [
    {
     "data": {
      "text/html": [
       "<div>\n",
       "<style>\n",
       "    .dataframe thead tr:only-child th {\n",
       "        text-align: right;\n",
       "    }\n",
       "\n",
       "    .dataframe thead th {\n",
       "        text-align: left;\n",
       "    }\n",
       "\n",
       "    .dataframe tbody tr th {\n",
       "        vertical-align: top;\n",
       "    }\n",
       "</style>\n",
       "<table border=\"1\" class=\"dataframe\">\n",
       "  <thead>\n",
       "    <tr style=\"text-align: right;\">\n",
       "      <th></th>\n",
       "      <th>Year</th>\n",
       "      <th>Age</th>\n",
       "      <th>Race</th>\n",
       "      <th>Birth_Rate</th>\n",
       "    </tr>\n",
       "  </thead>\n",
       "  <tbody>\n",
       "    <tr>\n",
       "      <th>0</th>\n",
       "      <td>2015-01-01</td>\n",
       "      <td>15-19 years</td>\n",
       "      <td>All Races</td>\n",
       "      <td>20.2</td>\n",
       "    </tr>\n",
       "    <tr>\n",
       "      <th>1</th>\n",
       "      <td>2015-01-01</td>\n",
       "      <td>15-19 years</td>\n",
       "      <td>Asian or Pacific Islander total</td>\n",
       "      <td>5.5</td>\n",
       "    </tr>\n",
       "    <tr>\n",
       "      <th>2</th>\n",
       "      <td>2015-01-01</td>\n",
       "      <td>15-19 years</td>\n",
       "      <td>Black total</td>\n",
       "      <td>31.5</td>\n",
       "    </tr>\n",
       "    <tr>\n",
       "      <th>3</th>\n",
       "      <td>2015-01-01</td>\n",
       "      <td>15-19 years</td>\n",
       "      <td>Hispanic</td>\n",
       "      <td>31.6</td>\n",
       "    </tr>\n",
       "    <tr>\n",
       "      <th>4</th>\n",
       "      <td>2015-01-01</td>\n",
       "      <td>15-19 years</td>\n",
       "      <td>Non-Hispanic white</td>\n",
       "      <td>13.9</td>\n",
       "    </tr>\n",
       "  </tbody>\n",
       "</table>\n",
       "</div>"
      ],
      "text/plain": [
       "        Year          Age                             Race  Birth_Rate\n",
       "0 2015-01-01  15-19 years                        All Races        20.2\n",
       "1 2015-01-01  15-19 years  Asian or Pacific Islander total         5.5\n",
       "2 2015-01-01  15-19 years                      Black total        31.5\n",
       "3 2015-01-01  15-19 years                         Hispanic        31.6\n",
       "4 2015-01-01  15-19 years               Non-Hispanic white        13.9"
      ]
     },
     "execution_count": 47,
     "metadata": {},
     "output_type": "execute_result"
    }
   ],
   "source": [
    "raw_data_df = pd.read_csv('unmarried_woman.csv', parse_dates=[0]) \n",
    "raw_data_df.head()"
   ]
  },
  {
   "cell_type": "markdown",
   "metadata": {},
   "source": [
    "## Filtering Data and Training Data\n",
    "I started filtering through the data, making sense of the different variables and the certain number of entries. I edited the entries for the variables so that they would all appear as numerical values. I also created a new column, which I named Pregnancy, which would gauge if there is a likelihood that the woman would become pregnant. This column uses the Birth_Rate column, and if that number is greater than 50, it would be \"Y\" for pregnancy likelihood. Otherwise it would be \"N\".\n",
    "\n",
    "I made a table to train the data to use the variables age and race to gauge birth rate. This table falls under pregnant_class.df and will be used to analyze the data to make predictions."
   ]
  },
  {
   "cell_type": "code",
   "execution_count": 48,
   "metadata": {},
   "outputs": [
    {
     "name": "stdout",
     "output_type": "stream",
     "text": [
      "['15-19 years' '20-24 years' '25-29 years' '30-34 years' '35-39 years'\n",
      " '40-44 years']\n",
      "['All Races' 'Asian or Pacific Islander total' 'Black total' 'Hispanic'\n",
      " 'Non-Hispanic white' 'White total']\n",
      "[  20.2    5.5   31.5   31.6   13.9   18.8   22.     6.2   34.4   15.\n",
      "   20.3   24.     7.2   38.5   37.6   16.2   21.9   26.7    8.1   43.4\n",
      "   41.8   17.8   24.1   28.4    8.6   46.7   44.7   25.5   31.1    9.2\n",
      "   50.8   50.    27.9   34.    10.6   55.9   56.7   21.8   30.4   35.9\n",
      "   11.4   59.7   62.4   22.5   31.9   36.5   11.9   61.3   65.4   22.6\n",
      "   32.3   35.5   12.    61.1   65.9   21.6   17.9   94.2   87.9   43.3\n",
      "   54.6   61.6   19.4   97.4   92.3   44.4   63.1   20.7  100.7   93.1\n",
      "   45.6   56.9   64.7  103.5   96.5   46.6   58.3   66.7   22.3  106.9\n",
      "  100.6   47.8   60.1   70.    23.2  112.6  110.5   49.5   63.4   74.4\n",
      "   25.3  119.5  125.4   51.4   67.3   78.1   26.4  124.   141.    52.9\n",
      "   70.9   79.8   27.1  125.3  153.8   53.4   72.6   79.1   26.8  125.5\n",
      "  155.1   52.6   71.7   66.9   28.8   91.9  109.1   48.8   63.3   67.6\n",
      "   31.4   93.3  111.2   49.1   63.5  112.    47.6   62.5   67.2   35.2\n",
      "   91.2  113.2   63.2   67.8   35.1   92.4  116.2   63.8   69.2   35.\n",
      "   92.5  123.9   48.    65.8   73.    36.2   95.6  139.4   49.3   69.7\n",
      "   75.7   33.5   97.   151.1   73.1   76.9   99.1  161.1   50.7   74.3\n",
      "   75.4   30.5   98.   160.7   72.4   60.3   47.3   63.9  101.4   59.8\n",
      "   58.1   47.    67.    97.3   43.1   57.7   56.6   44.1   60.6  100.1\n",
      "   40.9   56.2   56.3   43.6   59.6  103.9   40.2   42.3   59.1  106.\n",
      "   39.2   40.    58.6  105.8   38.7   56.8   57.1  112.4   37.9   58.8\n",
      "  121.6   38.4   60.    58.    36.9   59.9  127.    37.2   59.5   55.3\n",
      "   58.4  122.9   55.5   34.1   33.6   32.6   24.8   34.8   33.4   36.    32.\n",
      "   58.2   24.2   31.8   30.9   30.1   29.7   57.6   29.9   27.    28.9\n",
      "   30.6   29.6   26.6   27.8   61.7   30.7   27.3   63.7   20.    30.2\n",
      "   30.3   28.5   20.4   28.7   28.    64.9   19.2   29.1    9.    11.2\n",
      "    9.1   18.1    6.8    8.2    8.5   12.6    8.8   16.8    6.5    7.6\n",
      "    8.3    8.4    6.1    7.7   12.1   16.5    9.9    7.8    6.     8.\n",
      "   16.3    5.8   17.1    7.5   10.8    5.2    7.3    7.4   14.9    4.6\n",
      "    9.4   14.8    4.5    6.3]\n"
     ]
    }
   ],
   "source": [
    "\n",
    "print(raw_data_df[\"Age\"].unique())\n",
    "print(raw_data_df[\"Race\"].unique())\n",
    "print(raw_data_df[\"Birth_Rate\"].unique())"
   ]
  },
  {
   "cell_type": "code",
   "execution_count": 49,
   "metadata": {},
   "outputs": [
    {
     "data": {
      "text/html": [
       "<div>\n",
       "<style>\n",
       "    .dataframe thead tr:only-child th {\n",
       "        text-align: right;\n",
       "    }\n",
       "\n",
       "    .dataframe thead th {\n",
       "        text-align: left;\n",
       "    }\n",
       "\n",
       "    .dataframe tbody tr th {\n",
       "        vertical-align: top;\n",
       "    }\n",
       "</style>\n",
       "<table border=\"1\" class=\"dataframe\">\n",
       "  <thead>\n",
       "    <tr style=\"text-align: right;\">\n",
       "      <th></th>\n",
       "      <th>Year</th>\n",
       "      <th>Age</th>\n",
       "      <th>Race</th>\n",
       "      <th>Birth_Rate</th>\n",
       "    </tr>\n",
       "  </thead>\n",
       "  <tbody>\n",
       "    <tr>\n",
       "      <th>60</th>\n",
       "      <td>2015-01-01</td>\n",
       "      <td>20-24 years</td>\n",
       "      <td>All Races</td>\n",
       "      <td>59.7</td>\n",
       "    </tr>\n",
       "    <tr>\n",
       "      <th>61</th>\n",
       "      <td>2015-01-01</td>\n",
       "      <td>20-24 years</td>\n",
       "      <td>Asian or Pacific Islander total</td>\n",
       "      <td>17.9</td>\n",
       "    </tr>\n",
       "    <tr>\n",
       "      <th>62</th>\n",
       "      <td>2015-01-01</td>\n",
       "      <td>20-24 years</td>\n",
       "      <td>Black total</td>\n",
       "      <td>94.2</td>\n",
       "    </tr>\n",
       "    <tr>\n",
       "      <th>63</th>\n",
       "      <td>2015-01-01</td>\n",
       "      <td>20-24 years</td>\n",
       "      <td>Hispanic</td>\n",
       "      <td>87.9</td>\n",
       "    </tr>\n",
       "    <tr>\n",
       "      <th>64</th>\n",
       "      <td>2015-01-01</td>\n",
       "      <td>20-24 years</td>\n",
       "      <td>Non-Hispanic white</td>\n",
       "      <td>43.3</td>\n",
       "    </tr>\n",
       "  </tbody>\n",
       "</table>\n",
       "</div>"
      ],
      "text/plain": [
       "         Year          Age                             Race  Birth_Rate\n",
       "60 2015-01-01  20-24 years                        All Races        59.7\n",
       "61 2015-01-01  20-24 years  Asian or Pacific Islander total        17.9\n",
       "62 2015-01-01  20-24 years                      Black total        94.2\n",
       "63 2015-01-01  20-24 years                         Hispanic        87.9\n",
       "64 2015-01-01  20-24 years               Non-Hispanic white        43.3"
      ]
     },
     "execution_count": 49,
     "metadata": {},
     "output_type": "execute_result"
    }
   ],
   "source": [
    "raw_data_df[raw_data_df[\"Age\"]=='20-24 years'].head()"
   ]
  },
  {
   "cell_type": "code",
   "execution_count": 50,
   "metadata": {},
   "outputs": [
    {
     "name": "stdout",
     "output_type": "stream",
     "text": [
      "Size of entire table: 360 \n",
      "Size of entires matching filter: 60 \n"
     ]
    }
   ],
   "source": [
    "print(\"Size of entire table: %s \"%len(raw_data_df))\n",
    "print(\"Size of entires matching filter: %s \"%len(raw_data_df[raw_data_df[\"Age\"]==\"20-24 years\"]))"
   ]
  },
  {
   "cell_type": "code",
   "execution_count": 51,
   "metadata": {},
   "outputs": [
    {
     "data": {
      "text/html": [
       "<div>\n",
       "<style>\n",
       "    .dataframe thead tr:only-child th {\n",
       "        text-align: right;\n",
       "    }\n",
       "\n",
       "    .dataframe thead th {\n",
       "        text-align: left;\n",
       "    }\n",
       "\n",
       "    .dataframe tbody tr th {\n",
       "        vertical-align: top;\n",
       "    }\n",
       "</style>\n",
       "<table border=\"1\" class=\"dataframe\">\n",
       "  <thead>\n",
       "    <tr style=\"text-align: right;\">\n",
       "      <th></th>\n",
       "      <th>Year</th>\n",
       "      <th>Age</th>\n",
       "      <th>Race</th>\n",
       "      <th>Birth_Rate</th>\n",
       "    </tr>\n",
       "  </thead>\n",
       "  <tbody>\n",
       "    <tr>\n",
       "      <th>0</th>\n",
       "      <td>2015-01-01</td>\n",
       "      <td>18</td>\n",
       "      <td>1</td>\n",
       "      <td>20.2</td>\n",
       "    </tr>\n",
       "    <tr>\n",
       "      <th>1</th>\n",
       "      <td>2015-01-01</td>\n",
       "      <td>18</td>\n",
       "      <td>2</td>\n",
       "      <td>5.5</td>\n",
       "    </tr>\n",
       "    <tr>\n",
       "      <th>2</th>\n",
       "      <td>2015-01-01</td>\n",
       "      <td>18</td>\n",
       "      <td>3</td>\n",
       "      <td>31.5</td>\n",
       "    </tr>\n",
       "    <tr>\n",
       "      <th>3</th>\n",
       "      <td>2015-01-01</td>\n",
       "      <td>18</td>\n",
       "      <td>4</td>\n",
       "      <td>31.6</td>\n",
       "    </tr>\n",
       "    <tr>\n",
       "      <th>4</th>\n",
       "      <td>2015-01-01</td>\n",
       "      <td>18</td>\n",
       "      <td>5</td>\n",
       "      <td>13.9</td>\n",
       "    </tr>\n",
       "  </tbody>\n",
       "</table>\n",
       "</div>"
      ],
      "text/plain": [
       "        Year Age Race  Birth_Rate\n",
       "0 2015-01-01  18    1        20.2\n",
       "1 2015-01-01  18    2         5.5\n",
       "2 2015-01-01  18    3        31.5\n",
       "3 2015-01-01  18    4        31.6\n",
       "4 2015-01-01  18    5        13.9"
      ]
     },
     "execution_count": 51,
     "metadata": {},
     "output_type": "execute_result"
    }
   ],
   "source": [
    "raw_data_df.loc[raw_data_df['Age'] == '15-19 years', 'Age'] = 18\n",
    "raw_data_df.loc[raw_data_df['Age'] == '20-24 years', 'Age'] = 21\n",
    "raw_data_df.loc[raw_data_df['Age'] == '25-29 years', 'Age'] = 26\n",
    "raw_data_df.loc[raw_data_df['Age'] == '30-34 years', 'Age'] = 30\n",
    "raw_data_df.loc[raw_data_df['Age'] == '35-39 years', 'Age'] = 35\n",
    "raw_data_df.loc[raw_data_df['Age'] == '40-44 years', 'Age'] = 42\n",
    "raw_data_df.loc[raw_data_df['Race'] == 'All Races', 'Race'] = 1\n",
    "raw_data_df.loc[raw_data_df['Race'] == 'Asian or Pacific Islander total', 'Race'] = 2\n",
    "raw_data_df.loc[raw_data_df['Race'] == 'Black total', 'Race'] = 3\n",
    "raw_data_df.loc[raw_data_df['Race'] == 'Hispanic', 'Race'] = 4\n",
    "raw_data_df.loc[raw_data_df['Race'] == 'Non-Hispanic white', 'Race'] = 5\n",
    "raw_data_df.loc[raw_data_df['Race'] == 'White total', 'Race'] = 6\n",
    "raw_data_df.head()\n"
   ]
  },
  {
   "cell_type": "code",
   "execution_count": 52,
   "metadata": {},
   "outputs": [
    {
     "data": {
      "text/html": [
       "<div>\n",
       "<style>\n",
       "    .dataframe thead tr:only-child th {\n",
       "        text-align: right;\n",
       "    }\n",
       "\n",
       "    .dataframe thead th {\n",
       "        text-align: left;\n",
       "    }\n",
       "\n",
       "    .dataframe tbody tr th {\n",
       "        vertical-align: top;\n",
       "    }\n",
       "</style>\n",
       "<table border=\"1\" class=\"dataframe\">\n",
       "  <thead>\n",
       "    <tr style=\"text-align: right;\">\n",
       "      <th></th>\n",
       "      <th>Year</th>\n",
       "      <th>Age</th>\n",
       "      <th>Race</th>\n",
       "      <th>Birth_Rate</th>\n",
       "      <th>Pregnant</th>\n",
       "    </tr>\n",
       "  </thead>\n",
       "  <tbody>\n",
       "    <tr>\n",
       "      <th>0</th>\n",
       "      <td>2015-01-01</td>\n",
       "      <td>18</td>\n",
       "      <td>1</td>\n",
       "      <td>20.2</td>\n",
       "      <td>N</td>\n",
       "    </tr>\n",
       "    <tr>\n",
       "      <th>1</th>\n",
       "      <td>2015-01-01</td>\n",
       "      <td>18</td>\n",
       "      <td>2</td>\n",
       "      <td>5.5</td>\n",
       "      <td>N</td>\n",
       "    </tr>\n",
       "    <tr>\n",
       "      <th>2</th>\n",
       "      <td>2015-01-01</td>\n",
       "      <td>18</td>\n",
       "      <td>3</td>\n",
       "      <td>31.5</td>\n",
       "      <td>N</td>\n",
       "    </tr>\n",
       "    <tr>\n",
       "      <th>3</th>\n",
       "      <td>2015-01-01</td>\n",
       "      <td>18</td>\n",
       "      <td>4</td>\n",
       "      <td>31.6</td>\n",
       "      <td>N</td>\n",
       "    </tr>\n",
       "    <tr>\n",
       "      <th>4</th>\n",
       "      <td>2015-01-01</td>\n",
       "      <td>18</td>\n",
       "      <td>5</td>\n",
       "      <td>13.9</td>\n",
       "      <td>N</td>\n",
       "    </tr>\n",
       "  </tbody>\n",
       "</table>\n",
       "</div>"
      ],
      "text/plain": [
       "        Year Age Race  Birth_Rate Pregnant\n",
       "0 2015-01-01  18    1        20.2        N\n",
       "1 2015-01-01  18    2         5.5        N\n",
       "2 2015-01-01  18    3        31.5        N\n",
       "3 2015-01-01  18    4        31.6        N\n",
       "4 2015-01-01  18    5        13.9        N"
      ]
     },
     "execution_count": 52,
     "metadata": {},
     "output_type": "execute_result"
    }
   ],
   "source": [
    "raw_data_df[\"Pregnant\"] = \"N\"\n",
    "raw_data_df.head()"
   ]
  },
  {
   "cell_type": "code",
   "execution_count": 53,
   "metadata": {},
   "outputs": [
    {
     "data": {
      "text/html": [
       "<div>\n",
       "<style>\n",
       "    .dataframe thead tr:only-child th {\n",
       "        text-align: right;\n",
       "    }\n",
       "\n",
       "    .dataframe thead th {\n",
       "        text-align: left;\n",
       "    }\n",
       "\n",
       "    .dataframe tbody tr th {\n",
       "        vertical-align: top;\n",
       "    }\n",
       "</style>\n",
       "<table border=\"1\" class=\"dataframe\">\n",
       "  <thead>\n",
       "    <tr style=\"text-align: right;\">\n",
       "      <th></th>\n",
       "      <th>Year</th>\n",
       "      <th>Age</th>\n",
       "      <th>Race</th>\n",
       "      <th>Birth_Rate</th>\n",
       "      <th>Pregnant</th>\n",
       "    </tr>\n",
       "  </thead>\n",
       "  <tbody>\n",
       "    <tr>\n",
       "      <th>0</th>\n",
       "      <td>2015-01-01</td>\n",
       "      <td>18</td>\n",
       "      <td>1</td>\n",
       "      <td>20.2</td>\n",
       "      <td>N</td>\n",
       "    </tr>\n",
       "    <tr>\n",
       "      <th>1</th>\n",
       "      <td>2015-01-01</td>\n",
       "      <td>18</td>\n",
       "      <td>2</td>\n",
       "      <td>5.5</td>\n",
       "      <td>N</td>\n",
       "    </tr>\n",
       "    <tr>\n",
       "      <th>2</th>\n",
       "      <td>2015-01-01</td>\n",
       "      <td>18</td>\n",
       "      <td>3</td>\n",
       "      <td>31.5</td>\n",
       "      <td>N</td>\n",
       "    </tr>\n",
       "    <tr>\n",
       "      <th>3</th>\n",
       "      <td>2015-01-01</td>\n",
       "      <td>18</td>\n",
       "      <td>4</td>\n",
       "      <td>31.6</td>\n",
       "      <td>N</td>\n",
       "    </tr>\n",
       "    <tr>\n",
       "      <th>4</th>\n",
       "      <td>2015-01-01</td>\n",
       "      <td>18</td>\n",
       "      <td>5</td>\n",
       "      <td>13.9</td>\n",
       "      <td>N</td>\n",
       "    </tr>\n",
       "  </tbody>\n",
       "</table>\n",
       "</div>"
      ],
      "text/plain": [
       "        Year Age Race  Birth_Rate Pregnant\n",
       "0 2015-01-01  18    1        20.2        N\n",
       "1 2015-01-01  18    2         5.5        N\n",
       "2 2015-01-01  18    3        31.5        N\n",
       "3 2015-01-01  18    4        31.6        N\n",
       "4 2015-01-01  18    5        13.9        N"
      ]
     },
     "execution_count": 53,
     "metadata": {},
     "output_type": "execute_result"
    }
   ],
   "source": [
    "raw_data_df.loc[raw_data_df['Birth_Rate'] > 50, 'Pregnant'] = \"Y\"\n",
    "raw_data_df.head()"
   ]
  },
  {
   "cell_type": "code",
   "execution_count": 54,
   "metadata": {
    "collapsed": true
   },
   "outputs": [],
   "source": [
    "# I'm now going to make a table to be used in training some models\n"
   ]
  },
  {
   "cell_type": "code",
   "execution_count": 55,
   "metadata": {},
   "outputs": [
    {
     "data": {
      "text/html": [
       "<div>\n",
       "<style>\n",
       "    .dataframe thead tr:only-child th {\n",
       "        text-align: right;\n",
       "    }\n",
       "\n",
       "    .dataframe thead th {\n",
       "        text-align: left;\n",
       "    }\n",
       "\n",
       "    .dataframe tbody tr th {\n",
       "        vertical-align: top;\n",
       "    }\n",
       "</style>\n",
       "<table border=\"1\" class=\"dataframe\">\n",
       "  <thead>\n",
       "    <tr style=\"text-align: right;\">\n",
       "      <th></th>\n",
       "      <th>Pregnant</th>\n",
       "      <th>Age</th>\n",
       "      <th>Race</th>\n",
       "    </tr>\n",
       "  </thead>\n",
       "  <tbody>\n",
       "    <tr>\n",
       "      <th>0</th>\n",
       "      <td>N</td>\n",
       "      <td>18</td>\n",
       "      <td>1</td>\n",
       "    </tr>\n",
       "    <tr>\n",
       "      <th>1</th>\n",
       "      <td>N</td>\n",
       "      <td>18</td>\n",
       "      <td>2</td>\n",
       "    </tr>\n",
       "    <tr>\n",
       "      <th>2</th>\n",
       "      <td>N</td>\n",
       "      <td>18</td>\n",
       "      <td>3</td>\n",
       "    </tr>\n",
       "    <tr>\n",
       "      <th>3</th>\n",
       "      <td>N</td>\n",
       "      <td>18</td>\n",
       "      <td>4</td>\n",
       "    </tr>\n",
       "    <tr>\n",
       "      <th>4</th>\n",
       "      <td>N</td>\n",
       "      <td>18</td>\n",
       "      <td>5</td>\n",
       "    </tr>\n",
       "  </tbody>\n",
       "</table>\n",
       "</div>"
      ],
      "text/plain": [
       "  Pregnant Age Race\n",
       "0        N  18    1\n",
       "1        N  18    2\n",
       "2        N  18    3\n",
       "3        N  18    4\n",
       "4        N  18    5"
      ]
     },
     "execution_count": 55,
     "metadata": {},
     "output_type": "execute_result"
    }
   ],
   "source": [
    "# The set will be for classifiers where the target is a class.\n",
    "\n",
    "pregnant_class_df = raw_data_df[[\n",
    "                               'Pregnant', \n",
    "                               'Age',\n",
    "                                'Race'\n",
    "                               ]].copy()\n",
    "pregnant_class_df.head()"
   ]
  },
  {
   "cell_type": "markdown",
   "metadata": {},
   "source": [
    "## Training and Validation\n",
    "\n",
    "Above I created the dataset worth exploring: \n",
    "\n",
    "- **`pregnancy_class_df`**. The data needed to access *pregnancy likelihood* as a categorical variable."
   ]
  },
  {
   "cell_type": "markdown",
   "metadata": {},
   "source": [
    "## pregnant_class_df"
   ]
  },
  {
   "cell_type": "code",
   "execution_count": 56,
   "metadata": {},
   "outputs": [
    {
     "name": "stdout",
     "output_type": "stream",
     "text": [
      "Percentage of Ys: 0.4027777777777778\n",
      "\n"
     ]
    },
    {
     "data": {
      "image/png": "[encoded data removed]",
      "text/plain": [
       "<matplotlib.figure.Figure at 0x1da59fa9e8>"
      ]
     },
     "metadata": {},
     "output_type": "display_data"
    }
   ],
   "source": [
    "data = pregnant_class_df\n",
    "holdout = data.sample(frac=0.05)\n",
    "training = data.loc[~data.index.isin(holdout.index)]\n",
    "\n",
    "# Define the target (y) and feature(s) (X)\n",
    "features_train = training.drop(\"Pregnant\", axis=1).as_matrix(columns=None)\n",
    "labels_train = training[\"Pregnant\"].as_matrix(columns=None)\n",
    "\n",
    "features_test = holdout.drop( \"Pregnant\", axis=1).as_matrix(columns=None)\n",
    "labels_test = holdout[\"Pregnant\"].as_matrix(columns=None)\n",
    "\n",
    "# What percentage of the time is target Y?\n",
    "print(\"Percentage of Ys: %s\\n\"%(len(data[data[\"Pregnant\"]==\"Y\"])/len(data)))\n",
    "\n",
    "#### initial visualization\n",
    "feature_1_no = [features_test[ii][0] for ii in range(0, len(features_test)) if labels_test[ii]==\"N\"]\n",
    "feature_2_no = [features_test[ii][1] for ii in range(0, len(features_test)) if labels_test[ii]==\"N\"]\n",
    "feature_1_yes = [features_test[ii][0] for ii in range(0, len(features_test)) if labels_test[ii]==\"Y\"]\n",
    "feature_2_yes = [features_test[ii][1] for ii in range(0, len(features_test)) if labels_test[ii]==\"Y\"]\n",
    "plt.scatter(feature_1_yes, feature_2_yes, color = \"g\", label=\"Likely Pregnant\")\n",
    "plt.scatter(feature_1_no, feature_2_no, color = \"r\", label=\"Unlikely Pregnant\")\n",
    "plt.legend()\n",
    "plt.xlabel(\"Age\")\n",
    "plt.ylabel(\"Race\")\n",
    "plt.show()\n"
   ]
  },
  {
   "cell_type": "code",
   "execution_count": 57,
   "metadata": {},
   "outputs": [
    {
     "name": "stdout",
     "output_type": "stream",
     "text": [
      "Logistic Regression\n",
      "Accuracey: 0.444444444444\n",
      "\n",
      "True Negatives: 6\n",
      "False Positives: 1\n",
      "False Negatives: 9\n",
      "True Positives: 2\n",
      "Recall: 0.666666666667\n",
      "Precision: 0.181818181818\n",
      "F1 Score: 0.285714285714\n"
     ]
    },
    {
     "data": {
      "image/png": "[encoded data removed]",
      "text/plain": [
       "<matplotlib.figure.Figure at 0x1da5348198>"
      ]
     },
     "metadata": {},
     "output_type": "display_data"
    },
    {
     "name": "stdout",
     "output_type": "stream",
     "text": [
      "\n",
      "Y\n",
      "1.0\n",
      "\n",
      "\n",
      "Decision Tree\n",
      "Accuracey: 0.888888888889\n",
      "\n",
      "True Negatives: 7\n",
      "False Positives: 0\n",
      "False Negatives: 2\n",
      "True Positives: 9\n",
      "Recall: 1.0\n",
      "Precision: 0.818181818182\n",
      "F1 Score: 0.9\n"
     ]
    },
    {
     "data": {
      "image/png": "[encoded data removed]",
      "text/plain": [
       "<matplotlib.figure.Figure at 0x1da589d128>"
      ]
     },
     "metadata": {},
     "output_type": "display_data"
    },
    {
     "name": "stdout",
     "output_type": "stream",
     "text": [
      "Random Forest\n",
      "Accuracey: 1.0\n",
      "\n",
      "True Negatives: 7\n",
      "False Positives: 0\n",
      "False Negatives: 0\n",
      "True Positives: 11\n",
      "Recall: 1.0\n",
      "Precision: 1.0\n",
      "F1 Score: 1.0\n"
     ]
    },
    {
     "data": {
      "image/png": "[encoded data removed]",
      "text/plain": [
       "<matplotlib.figure.Figure at 0x1da5c2dc50>"
      ]
     },
     "metadata": {},
     "output_type": "display_data"
    },
    {
     "name": "stdout",
     "output_type": "stream",
     "text": [
      "SVM\n",
      "Accuracey: 1.0\n",
      "\n",
      "True Negatives: 7\n",
      "False Positives: 0\n",
      "False Negatives: 0\n",
      "True Positives: 11\n",
      "Recall: 1.0\n",
      "Precision: 1.0\n",
      "F1 Score: 1.0\n"
     ]
    }
   ],
   "source": [
    "# Logistic Regression\n",
    "model = LogisticRegression(fit_intercept = False, C = 1e9)\n",
    "clf = model.fit(features_train, labels_train)\n",
    "pred = clf.predict(features_test)\n",
    "print(\"Logistic Regression\")\n",
    "evaluate(pred, labels_test)  \n",
    "plot_bound(\"Y\",holdout,1,2,0)\n",
    "\n",
    "\n",
    "# Test some spot\n",
    "x_test = 70\n",
    "y_test = 16000\n",
    "print(\"\")\n",
    "print(clf.predict([[x_test,y_test]])[0])\n",
    "print(clf.predict_proba([[x_test,y_test]])[0][1])\n",
    "print(\"\")\n",
    "\n",
    "from sklearn import tree\n",
    "clf = tree.DecisionTreeClassifier(min_samples_split=40)\n",
    "clf = clf.fit(features_train, labels_train)\n",
    "pred = clf.predict(features_test)\n",
    "print(\"\\nDecision Tree\")\n",
    "evaluate(pred, labels_test)\n",
    "plot_bound(\"Y\",holdout,1,2,0)\n",
    "\n",
    "\n",
    "\n",
    "from sklearn.ensemble import RandomForestClassifier\n",
    "clf = RandomForestClassifier()\n",
    "clf = clf.fit(features_train, labels_train)\n",
    "pred = clf.predict(features_test)\n",
    "print(\"Random Forest\")\n",
    "evaluate(pred, labels_test)  \n",
    "plot_bound(\"Y\",holdout,1,2,0)\n",
    "\n",
    "\n",
    "from sklearn.svm import SVC\n",
    "clf = SVC(kernel=\"rbf\",probability=True)\n",
    "clf = clf.fit(features_train, labels_train)\n",
    "pred = clf.predict(features_test)\n",
    "print(\"SVM\")\n",
    "evaluate(pred, labels_test)  \n"
   ]
  },
  {
   "cell_type": "markdown",
   "metadata": {},
   "source": [
    "## Result analysis\n",
    "\n",
    "Based on the result, the analysis is that there is a possibility at most ages and races that pregnancy will occur. However, the most common age was the 25-29 range, and the most common races to get pregnant were Hispanics and African-Americans. The logisitical regression was the least accurate with many false negatives, meaning that it was trying "
   ]
  },
  {
   "cell_type": "code",
   "execution_count": null,
   "metadata": {
    "collapsed": true
   },
   "outputs": [],
   "source": []
  },
  {
   "cell_type": "code",
   "execution_count": null,
   "metadata": {
    "collapsed": true,
    "scrolled": true
   },
   "outputs": [],
   "source": [
    "\n",
    "\n"
   ]
  },
  {
   "cell_type": "code",
   "execution_count": null,
   "metadata": {
    "collapsed": true
   },
   "outputs": [],
   "source": []
  }
 ],
 "metadata": {
  "kernelspec": {
   "display_name": "Python 3",
   "language": "python",
   "name": "python3"
  },
  "language_info": {
   "codemirror_mode": {
    "name": "ipython",
    "version": 3
   },
   "file_extension": ".py",
   "mimetype": "text/x-python",
   "name": "python",
   "nbconvert_exporter": "python",
   "pygments_lexer": "ipython3",
   "version": "3.6.1"
  }
 },
 "nbformat": 4,
 "nbformat_minor": 1
}
