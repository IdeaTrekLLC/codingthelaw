{
 "cells": [
  {
   "cell_type": "markdown",
   "metadata": {},
   "source": [
    "# Final Project\n",
    "by Loren Chen and Michael Mckeon\n",
    "\n",
    "Process\n",
    "\n",
    "Framing\n",
    "\n",
    "Research\n",
    "Prototyping\n",
    "User Testing\n",
    "Refinement\n",
    "\n",
    "Product\n",
    "\n",
    "Intro Pitch\n",
    "Complexity\n",
    "Impact\n",
    "Completeness\n",
    "Documentation\n",
    "Real World Viability\n",
    "Sustainability"
   ]
  },
  {
   "cell_type": "code",
   "execution_count": null,
   "metadata": {
    "collapsed": true
   },
   "outputs": [],
   "source": []
  }
 ],
 "metadata": {
  "kernelspec": {
   "display_name": "Python 3",
   "language": "python",
   "name": "python3"
  },
  "language_info": {
   "codemirror_mode": {
    "name": "ipython",
    "version": 3
   },
   "file_extension": ".py",
   "mimetype": "text/x-python",
   "name": "python",
   "nbconvert_exporter": "python",
   "pygments_lexer": "ipython3",
   "version": "3.6.1"
  }
 },
 "nbformat": 4,
 "nbformat_minor": 2
}
