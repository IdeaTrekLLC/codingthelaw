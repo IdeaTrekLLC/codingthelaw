{
 "cells": [
  {
   "cell_type": "markdown",
   "metadata": {},
   "source": [
    "# Final Project: Homeline Tenant Assistance Forms\n",
    "by Loren Chen and Michael McKeon\n",
    "\n",
    "## Process\n",
    "\n",
    "### Framing\n",
    "Tenants in apartments tend to have a huge variety of problems, and they often don't have a streamlined way to approach their landlords. Homeline has created a library of forms for those user to implement. The issue is that many people don't have time to sit down and print out a form to fill out and would rather have a version on their phone or laptop for on the go.\n",
    "\n",
    "### Research\n",
    "The first sort of system that came to mind was [QnA](http://www.qnamarkup.org/). This was one that we used in class and have some experience in. Other systems for this project that came up as possibilities were Google Forms or a more coded system, but with the already built-in functionality of QnA and our familiarity of using it in a legal aid context, this was the most reasonable choice. We also discussed our proposed plan with our partner and they thought that this sort of system would work well as well.\n",
    "\n",
    "### Prototyping\n",
    "The biggest thing\n",
    "\n",
    "### User Testing\n",
    "We had two primary ways of user testing: testing by partner and individual testing.\n",
    "\n",
    "### Refinement\n",
    "\n",
    "## Product\n",
    "\n",
    "### Intro Pitch\n",
    "The intro pitch can be found here.\n",
    "### Complexity\n",
    "TDC\n",
    "### Impact\n",
    "TBC\n",
    "### Completeness\n",
    "TBC\n",
    "### Documentation\n",
    "There is a lot of documentation in the QnA itself as well as in my project folder. Michael and I split up the work\n",
    "### Real World Viability\n",
    "The viability of this was highlighted in the partner letter that was CC'd to you. This more automated process saves costs for both sides, the tenant and the advocate. ...\n",
    "### Sustainability\n",
    "This should be relatively simple to sustain...\n"
   ]
  },
  {
   "cell_type": "code",
   "execution_count": null,
   "metadata": {
    "collapsed": true
   },
   "outputs": [],
   "source": []
  }
 ],
 "metadata": {
  "kernelspec": {
   "display_name": "Python 3",
   "language": "python",
   "name": "python3"
  },
  "language_info": {
   "codemirror_mode": {
    "name": "ipython",
    "version": 3
   },
   "file_extension": ".py",
   "mimetype": "text/x-python",
   "name": "python",
   "nbconvert_exporter": "python",
   "pygments_lexer": "ipython3",
   "version": "3.6.1"
  }
 },
 "nbformat": 4,
 "nbformat_minor": 2
}
