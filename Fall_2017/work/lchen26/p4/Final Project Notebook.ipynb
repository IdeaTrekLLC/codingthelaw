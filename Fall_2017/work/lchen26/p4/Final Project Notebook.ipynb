{
 "cells": [
  {
   "cell_type": "markdown",
   "metadata": {},
   "source": [
    "# Final Project: Homeline Tenant Assistance Forms\n",
    "by Loren Chen and Michael McKeon\n",
    "\n",
    "## Process\n",
    "\n",
    "### Framing\n",
    "Tenants in apartments tend to have a huge variety of problems, and they often don't have a streamlined way to approach their landlords. Homeline has created a library of forms for those user to implement. The issue is that many people don't have time to sit down and print out a form to fill out and would rather have a version on their phone or laptop for on the go.\n",
    "\n",
    "### Research\n",
    "The first sort of system that came to mind was [QnA](http://www.qnamarkup.org/). This was one that we used in class and have some experience in. Other systems for this project that came up as possibilities were \n",
    "\n",
    "### Prototyping\n",
    "\n",
    "### User Testing\n",
    "We had two primary ways of user testing: testing by partner and individual testing.\n",
    "\n",
    "### Refinement\n",
    "\n",
    "## Product\n",
    "\n",
    "### Intro Pitch\n",
    "The intro pitch can be found here.\n",
    "### Complexity\n",
    "### Impact\n",
    "### Completeness\n",
    "### Documentation\n",
    "### Real World Viability\n",
    "### Sustainability"
   ]
  },
  {
   "cell_type": "code",
   "execution_count": null,
   "metadata": {
    "collapsed": true
   },
   "outputs": [],
   "source": []
  }
 ],
 "metadata": {
  "kernelspec": {
   "display_name": "Python 3",
   "language": "python",
   "name": "python3"
  },
  "language_info": {
   "codemirror_mode": {
    "name": "ipython",
    "version": 3
   },
   "file_extension": ".py",
   "mimetype": "text/x-python",
   "name": "python",
   "nbconvert_exporter": "python",
   "pygments_lexer": "ipython3",
   "version": "3.6.1"
  }
 },
 "nbformat": 4,
 "nbformat_minor": 2
}
