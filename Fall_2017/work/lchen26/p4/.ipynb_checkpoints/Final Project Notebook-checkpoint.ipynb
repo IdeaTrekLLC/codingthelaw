{
 "cells": [
  {
   "cell_type": "markdown",
   "metadata": {},
   "source": [
    "# Final Project: Homeline Tenant Assistance\n",
    "by Loren Chen and Michael McKeon\n",
    "\n",
    "In this project, we designed a [chatbot](http://www.codingthelaw.org/Fall_2017/work/lchen26/p4/p4.html) for our partner Homeline that would provide assistants to Minnesota tenants with these [forms](https://homelinemn.org/form-letters/) by guiding them through the questions and pre-filling the answers. As a collaborative project, I was responsible for the intro pitch, initial outreach to the partner, the coding portion for the initial prototype, and the implementation of five of the remaining ten forms, which were these forms: [1](http://www.codingthelaw.org/Fall_2017/work/lchen26/p4/neighbor.docx), [2](http://www.codingthelaw.org/Fall_2017/work/lchen26/p4/deposit.docx) [3](http://www.codingthelaw.org/Fall_2017/work/lchen26/p4/utility.docx), [4](http://www.codingthelaw.org/Fall_2017/work/lchen26/p4/retaliation.docx), and [5](http://www.codingthelaw.org/Fall_2017/work/lchen26/p4/privacy.docx).\n",
    "\n",
    "## Process\n",
    "\n",
    "### Framing\n",
    "Tenants in apartments tend to have a huge variety of problems, and they often don't have a streamlined way to approach their landlords. Homeline has created a library of forms for those users to implement. The issue is that many people don't have time to sit down and print out a form to fill out and would rather have a version on their phone or laptop for on the go. The project aimed to address the needs these tenants who are in need but have no immediate access to printer or can't go to a physical location to request a form. Another aim was to streamline the process so that the partner can later add to their library using the same system.\n",
    "\n",
    "### Research\n",
    "The first sort of system that came to mind was [QnA](http://www.qnamarkup.org/). This was one that we used in class and have some experience in. Other systems for this project that came up as possibilities were Google Forms or a more coded system, but with the already built-in functionality of QnA and our familiarity of using it in a legal aid context, this was the most reasonable choice. We also discussed our proposed plan with our partner and they thought that this sort of system would work well as well.\n",
    "\n",
    "### Prototyping\n",
    "The biggest thing that was of concern was the ability to ask questions of the users and also use those answers to pre-fill forms. There was not much to play around with, and we quickly moved to apply our knowledge of document automation to mail-merging. Throughout the prototyping stage, a bulk of the time was needed to ensure that the code matched up with the mail-merge so it would populate the proper fields. The original prototype can be found [here](http://www.codingthelaw.org/Fall_2017/work/lchen26/p4/finalproject.txt).\n",
    "\n",
    "### User Testing\n",
    "We had two primary ways of user testing: testing by partner and individual testing. The feedback we received from our partner have been through email communication, which have been CC'd. Some of the user testing was in-person with friends and family, while most were done using Google Forms. The main issues that were brought up by the partner after the initial prototype were the lack of examples given to the user. The feedback from Google forms are collected [here](http://www.codingthelaw.org/Fall_2017/work/lchen26/p4/Feedback.xlsx), which was mostly positive with some suggestions that did not take away much from their experience.\n",
    "\n",
    "### Refinement \n",
    "We used this data obtained from user testing to refine the product. For the feedback from the partner, we took immediate steps to incorporate those pieces of advice into our product. For the other testing, there was a selective process. Many of the feedback were merely cosmetic, and were not necessarily critical. In addition, many of the issues that were raised by the users were running against the limitations of the expert system in use, such as the changing of buttons, colors, and downloading directly as PDF. Several refined version of the product's code were immproved upon and reshared: [1](http://www.codingthelaw.org/Fall_2017/work/lchen26/p4/finalprojectalt.txt), [2](http://www.codingthelaw.org/Fall_2017/work/lchen26/p4/finalprojectv2.txt), [3](http://www.codingthelaw.org/Fall_2017/work/lchen26/p4/finalprojectv3.txt), culminating in [4](http://www.codingthelaw.org/Fall_2017/work/lchen26/p4/p4.txt), which is the final status of the project.\n",
    "\n",
    "## Product\n",
    "\n",
    "### Intro Pitch\n",
    "Earlier in the semester, we had to present a basic idea on the project and what direction it would possibly take. The intro pitch I made can be found [here](http://www.codingthelaw.org/Fall_2017/work/lchen26/p4/projectproposal.pptx).\n",
    "### Complexity\n",
    "This project made extensive use of two expert systems: the QnA system and document automation using mail-merge. Every form provided by the partner had to be integrated into the chatbot QnA, and the method of accomplishing that was having the various fields be populated by answers from QnA. With the initial prototype deemed a success, \n",
    "### Impact\n",
    "This has a potential to make a significant impact to the partner's advocacy work. Right now, the forms relied on having a place to print them as well as needing to come in for personal consultation about the various issues. When this chatbot and the embedded document automation is implemented by the partner, the usage of the forms would be more far-reaching because it would be more user-friendly and take less time to complete. In addition, this would allow for more clients due to the automated process.\n",
    "### Completeness\n",
    "This bot I believe serves the purpose of reaching the audience it was meant to. This was only meant to be for those in Minnesota in apartment with landlords, and the most common issues as well as some less commonly seen issues were covered by the document automation. If more is needed, it can easily be implemented to adjust for the added needs of the tenants and advocates.\n",
    "### Documentation\n",
    "There is a lot of documentation in the QnA itself as well as in my project folder. With all the refining of the bot, the language should be clear to all users, especially the partner, having added in examples as seen fit.\n",
    "### Real World Viability\n",
    "The viability of this was highlighted in the partner letter that was CC'd to you. This more automated process saves costs for both sides, the tenant and the advocate. In its current state, the system would do its job more than adequately. Steps that the partner has indicated that could be in the horizon but not needed for usability include the implementation of an API to help the users print their documents remotely and send them to the landlords without a need to access a physical printer. In addition, the partner may decide to add additional forms to the QnA system in the future. Nonetheless, at this stage, it can likely be pushed out for public use. \n",
    "### Sustainability\n",
    "This should be relatively simple to sustain. All the information needed to do so has been sent to the partners. The partner has expressed interest in keeping the project maintained. \n"
   ]
  },
  {
   "cell_type": "code",
   "execution_count": null,
   "metadata": {
    "collapsed": true
   },
   "outputs": [],
   "source": []
  }
 ],
 "metadata": {
  "kernelspec": {
   "display_name": "Python 3",
   "language": "python",
   "name": "python3"
  },
  "language_info": {
   "codemirror_mode": {
    "name": "ipython",
    "version": 3
   },
   "file_extension": ".py",
   "mimetype": "text/x-python",
   "name": "python",
   "nbconvert_exporter": "python",
   "pygments_lexer": "ipython3",
   "version": "3.6.1"
  }
 },
 "nbformat": 4,
 "nbformat_minor": 2
}
