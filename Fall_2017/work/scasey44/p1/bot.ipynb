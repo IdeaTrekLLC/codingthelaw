{
 "cells": [
  {
   "cell_type": "markdown",
   "metadata": {},
   "source": [
    "# Assigned Counsel and Fee Waiver Bot\n",
    "By Sean Casey \n",
    "\n",
    "I am a student in law school.  One of my classes, Coding the Law, studies the intersection between technology and the law.  I wrote a bot, and you can find it [here](http://www.codingthelaw.org/Fall_2017/work/scasey44/p1/bot.html). To write my bot, we used a tool called [QnA Markup](http://www.qnamarkup.org/). Basically, you create an interactive decision tree by nesting questions and answers. Here's [my code](bot.txt). \n",
    "\n",
    "My bot tells a user whether or not they qualify for counsel or legal aid in Massachusetts, and if the user does qualify, downloads the necessary form to file for indigency with a number of fields already filled in.\n",
    "\n",
    "## User Testing\n",
    "My initial beta bot was fairly primitive and did not include any math calculations.  You can find it [here](http://www.codingthelaw.org/Fall_2017/work/scasey44/p1/Project_1_beta.txt).\n",
    "\n",
    "I exchanged feedback with [Anon Silpavuthi](http://www.codingthelaw.org/Fall_2017/work/asilpavuthi/p1/bot.html). Both of our bots were fairly primitive at the time, and have come a long way from our initial beta programs.  My feedback to him can be seen [here](http://www.codingthelaw.org/Fall_2017/work/scasey44/p1/peer_testing.JPG).  His feedback to me can be found [here](http://www.codingthelaw.org/Fall_2017/work/scasey44/p1/beta_feedback.JPG).\n",
    "\n",
    "The testing criteria consisted of five different scenarios to test different outcomes of our bots and was fairly straightforward.  In addition to Anon's testing, I have tested it a number of times to try to find and cure all the potential bugs.\n",
    "\n",
    "## Refinement\n",
    "The feedback I received from Anon lead me to incorporate the math functions to do calculations.  Next, we needed to incorporate forms using the mail merge functionality of Word along with a .csv file as a datasource.  This proved to be the most challenging part of the project.  Once I was able to populate the form with a single variable, multiple variables were easy.\n",
    "\n",
    "I got the word version of the Massachusetts Affadavit of Indigency, and began to incorporate variables that represented user information, that I could use to pre-populate the form for any user of the bot.\n",
    "\n",
    "Once I had a version that was working under expectations, I decided I needed to try to rewrite the entire bot to refactor it as much as possible and so the organization and logic would be easier for a third person to understand.  My main hurdle with this step was the inclusion of comments after GOTO statements which lead to a number of errors.  I would have liked to include more comments to better partition the code, but I was unable to do that.\n",
    "\n",
    "Finally, as I mentioned earlier, I did a lot of testing to try to find any possible bugs.\n",
    "\n",
    "## Real-World Viability\n",
    "In order to determine the real-world viability of my bot, I reached out to 3 attorneys at my firm that do a lot of pro bono work.  They work in a number of clinics that help people that cannot afford legal counsel.\n",
    "\n",
    "[Drew DeVoogd](https://www.mintz.com/professionals/detail/name/andrew-h-devoogd) is a partner at my firm; [Kristina Cary](https://www.mintz.com/professionals/detail/name/kristina-r-cary) is a senior associate; and [Matt Karambelas](https://www.mintz.com/professionals/detail/name/matthew-a-karambelas) is a junior associate.  They have all given me oral feedback on my initial version, that was encouraging, but I am waiting for their feedback on my final version.  When I receive this feedback, I will update this section.\n",
    "\n",
    "In general, I think a system like this has some real-world viability, but I would probably approach the problem with a more flexible programming language, such as python.  QnA has proven very useful for this particular project though.  \n",
    "\n",
    " \n"
   ]
  }
 ],
 "metadata": {
  "kernelspec": {
   "display_name": "Python 3",
   "language": "python",
   "name": "python3"
  },
  "language_info": {
   "codemirror_mode": {
    "name": "ipython",
    "version": 3
   },
   "file_extension": ".py",
   "mimetype": "text/x-python",
   "name": "python",
   "nbconvert_exporter": "python",
   "pygments_lexer": "ipython3",
   "version": "3.6.2"
  }
 },
 "nbformat": 4,
 "nbformat_minor": 1
}
