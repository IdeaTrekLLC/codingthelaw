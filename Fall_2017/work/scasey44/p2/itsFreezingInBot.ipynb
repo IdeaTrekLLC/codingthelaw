{
 "cells": [
  {
   "cell_type": "markdown",
   "metadata": {},
   "source": [
    "Adapted from the notebook found at [How to Build a Law Bot](https://lawyerist.com/how-build-law-bot/)\n",
    "\n",
    "The following bot is called \"It's freezing in...\"  It looks at five weather stations in Alaska, and if it is freezing there, and it is colder than the last check, it tweets out the temperature with the weather station.  I used weather underground weather stations for five different stations in Alaska, so there would be a better chance that it would actually be freezing there.\n",
    "\n",
    "The biggest challenge in this project was the regular expression.  I had a more literal string initially that worked fine on the regex site, but it wouldn't work in my code.  Instead I had to use some wild cards to get rid of the literal parts of the string. If I spent more time with it, I think I could get a more eloquent solution, but the wild card version is fine for the purpose of this bot.  \n",
    "\n",
    "Other challenges included getting familiar with gspread.  I felt the API was a bit incomplete and could have included more exams.  There weren't many useful tutorials either, but the API did make manipulating google spreadsheets rather easy. \n",
    "\n",
    "The following links are for the spreadsheet and the twitter account.\n",
    "https://docs.google.com/spreadsheets/d/1o1UXtdUHmBjZ2lpY5j1WUVZMj6b2SzTsUVcN6PU6YPE/edit?usp=sharing\n",
    "https://twitter.com/itsFreezingIn\n",
    "\n",
    "## Import modules and set variables\n",
    "\n",
    "\n",
    "Now we're getting into the bot's code. This is what will run every time your bot is called. \n",
    "\n",
    "You will need to create a new Google Sheet (same instructions as [last time](https://lawyerist.com/126074/online-forms-meet-local-document-automation-cut-and-paste-coding/)). Delete rows 2-999. This is because the code below appends values to the end of your sheet. So if you fail to remove rows 2-999, values will be appended to row 1000. Additionally, it looks at the last row of the sheet for your old values. So right off the bat it will be looking at your one solitary row. Also, delete columns D through Z to avoind having to print a bunch of empty columns.\n",
    "\n",
    "As for a Twitter account and Twitter credentials, follow the instruction in [this post](https://lawyerist.com/?p=127093). "
   ]
  },
  {
   "cell_type": "code",
   "execution_count": 117,
   "metadata": {},
   "outputs": [],
   "source": [
    "# Load the module for visiting and reading websites.\n",
    "import urllib.request\n",
    "# Load the module for running regular expressions (regex).\n",
    "import re \n",
    "# Load the module for date and time stuff.\n",
    "import datetime\n",
    "# Define the variable now as equal to the current date and time.\n",
    "now = datetime.datetime.now()"
   ]
  },
  {
   "cell_type": "code",
   "execution_count": 125,
   "metadata": {},
   "outputs": [],
   "source": [
    "#Weather station URL List\n",
    "url_list = [\"https://www.wunderground.com/personal-weather-station/dashboard?ID=KAKALASK2#history\", \n",
    "            \"https://www.wunderground.com/personal-weather-station/dashboard?ID=KAKALASK3#history\",\n",
    "            \"https://www.wunderground.com/personal-weather-station/dashboard?ID=KAKALASK5#history\",\n",
    "            \"https://www.wunderground.com/personal-weather-station/dashboard?ID=KAKALASK6#history\",\n",
    "            \"https://www.wunderground.com/personal-weather-station/dashboard?ID=KAKALASK8#history\"\n",
    "           ]\n",
    "#Weather station list\n",
    "station_list = [\"KALASKA2\", \"KALASKA3\", \"KALASKA5\", \"KALASKA6\", \"KALASKA8\"]\n"
   ]
  },
  {
   "cell_type": "code",
   "execution_count": 119,
   "metadata": {},
   "outputs": [],
   "source": [
    "# Load the module for accessing Google Sheets.\n",
    "import gspread\n",
    "# Load the module needed for securely communicating with Google Sheets.\n",
    "from oauth2client.service_account import ServiceAccountCredentials\n",
    "# The scope for your access credentials\n",
    "scope = ['https://spreadsheets.google.com/feeds']\n",
    "\n",
    "# Your spreadsheet's ID\n",
    "document_key = \"1o1UXtdUHmBjZ2lpY5j1WUVZMj6b2SzTsUVcN6PU6YPE\" \n",
    "#              ^^^^^^^^^^^ SWAP OUT FOR YOUR DOCUMENT ID/KEY\n",
    "# Your Google project's .json key\n",
    "credentials = ServiceAccountCredentials.from_json_keyfile_name('../../../../../Sheetsbot-45b52a7afea6.json', scope)\n",
    "#                                                                              ^^^^^^^^ SWAP OUT FOR YOUR JSON KEY\n",
    "# Use your credentials to authorize yourself.\n",
    "gc = gspread.authorize(credentials)\n",
    "# Open up the Sheet with the defined ID.\n",
    "wks = gc.open_by_key(document_key)\n",
    "\n",
    "#########################################\n",
    "#\n",
    "#  NOTE: The name of the sheet you are \n",
    "#  trying to access should be in the \n",
    "#  parenthetical below (e.g., Data). By\n",
    "#  Default this is probably \"Sheet1\".\n",
    "#\n",
    "#########################################\n",
    "worksheet = wks.worksheet(\"Sheet1\")\n",
    "\n",
    "# Count the number of rows in your Sheet &\n",
    "# resize to remove blank rows.\n",
    "worksheet.resize(worksheet.row_count)"
   ]
  },
  {
   "cell_type": "code",
   "execution_count": 120,
   "metadata": {},
   "outputs": [
    {
     "name": "stdout",
     "output_type": "stream",
     "text": [
      "['3.3', '-5.2', '-1.1', '43.5', '19.8']\n"
     ]
    }
   ],
   "source": [
    "# Print out the old values stored in your sheet \n",
    "# Note: The first time you run this code, it will be empty as nothing has yet to be stored in your sheet.\n",
    "\n",
    "print(worksheet.row_values(worksheet.row_count))\n",
    "#############################\n",
    "# DELETE CELL AFTER TESTING\n",
    "#############################"
   ]
  },
  {
   "cell_type": "code",
   "execution_count": 121,
   "metadata": {},
   "outputs": [],
   "source": [
    "# Import the relevant Twitter libraries so you can use Twitter.\n",
    "import twitter\n",
    "from twitter import TwitterError\n",
    "\n",
    "# create the following four text files and add them to the same diretctry as you \n",
    "# Google API key. In each file add the appropriate value found when retrieving your \n",
    "# Twitter credentials\n",
    "\n",
    "with open('../../../../../key.txt', 'r') as myfile:\n",
    "    key=myfile.read()\n",
    "    \n",
    "with open('../../../../../secret.txt', 'r') as myfile:\n",
    "    secret=myfile.read()\n",
    "    \n",
    "with open('../../../../../token_key.txt', 'r') as myfile:\n",
    "    token_key=myfile.read()\n",
    "\n",
    "with open('../../../../../token_secret.txt', 'r') as myfile:\n",
    "    token_secret=myfile.read()\n",
    "\n",
    "# Set you Twitter API credentials.\n",
    "api = twitter.Api(consumer_key=key,\n",
    "                  consumer_secret=secret,\n",
    "                  access_token_key=token_key,\n",
    "                  access_token_secret=token_secret)"
   ]
  },
  {
   "cell_type": "markdown",
   "metadata": {},
   "source": [
    "## Read the contents of each webpage and store the results in a list\n",
    "Iterate through the url_list, read the contents, and store the contents in our results_list for later use."
   ]
  },
  {
   "cell_type": "code",
   "execution_count": 122,
   "metadata": {
    "scrolled": true
   },
   "outputs": [],
   "source": [
    "results_list = []\n",
    "for item in url_list:\n",
    "    results_list.append(urllib.request.build_opener(urllib.request.HTTPCookieProcessor).open(item).read())\n",
    "    "
   ]
  },
  {
   "cell_type": "markdown",
   "metadata": {},
   "source": [
    "------------------------------------\n",
    "\n",
    "# Get the current temperature from each of the weather stations\n",
    "\n",
    "Iterate through the list of site html and parse out the current temperature and put it in our temp_list."
   ]
  },
  {
   "cell_type": "code",
   "execution_count": 123,
   "metadata": {},
   "outputs": [
    {
     "name": "stdout",
     "output_type": "stream",
     "text": [
      "1.3\n",
      "-5.2\n",
      "3.1\n",
      "46.8\n",
      "23.8\n"
     ]
    }
   ],
   "source": [
    "temp_list = [];\n",
    "for idx in results_list:\n",
    "    res_1 = re.search(b\"<div id=.*curTemp.*>\\n\\t<span class=.*temperature.*>\\n\\t\\t<span class=.*wx-value.*>(.*)</span>\",idx)\n",
    "    output_1 = res_1.group(1).decode('UTF-8')\n",
    "    temp_list.append(output_1)\n",
    "    print(output_1)"
   ]
  },
  {
   "cell_type": "markdown",
   "metadata": {},
   "source": [
    "## Post to Google and determine if we are going to tweet it out.  We only tweet when it's colder than the last check and it's freezing there."
   ]
  },
  {
   "cell_type": "code",
   "execution_count": 124,
   "metadata": {},
   "outputs": [
    {
     "name": "stdout",
     "output_type": "stream",
     "text": [
      "It's freezing in KALASKA2!!!  It's 1.3 fahrenheit outside!!!\n"
     ]
    }
   ],
   "source": [
    "#Append the new data to the spreadsheet and then compare the last two rows to see if it's colder.  If it is, then we will tweet it out.\n",
    "worksheet.append_row(temp_list)\n",
    "row_vals = worksheet.row_values(worksheet.row_count)\n",
    "row_vals2 = worksheet.row_values(worksheet.row_count-1)\n",
    "\n",
    "count=0;\n",
    "\n",
    "#Iterate through the two lists\n",
    "while count < worksheet.col_count:\n",
    "    \n",
    "    if(float(row_vals[count]) > 32.0):\n",
    "        count+=1\n",
    "        continue\n",
    "    #Have to account for the chance of an empty value\n",
    "    if row_vals[count] is not None and row_vals2[count] is not None:\n",
    "        #Is it colder at a particular weather station?\n",
    "        if (row_vals[count]< row_vals2[count]):\n",
    "            place = station_list[count]\n",
    "            postText = \"It's freezing in %s!!!  It's %s degrees fahrenheit outside!!!\"%(place, row_vals[count])\n",
    "            try:\n",
    "               # Post to Twitter.\n",
    "                status = api.PostUpdate(postText)\n",
    "                print(status.text)\n",
    "            except TwitterError:\n",
    "                # Post to Twitter.\n",
    "                status = api.PostUpdate(postText)\n",
    "                print(status.text)\n",
    "    count+=1\n"
   ]
  }
 ],
 "metadata": {
  "kernelspec": {
   "display_name": "Python 3",
   "language": "python",
   "name": "python3"
  },
  "language_info": {
   "codemirror_mode": {
    "name": "ipython",
    "version": 3
   },
   "file_extension": ".py",
   "mimetype": "text/x-python",
   "name": "python",
   "nbconvert_exporter": "python",
   "pygments_lexer": "ipython3",
   "version": "3.6.2"
  }
 },
 "nbformat": 4,
 "nbformat_minor": 1
}
