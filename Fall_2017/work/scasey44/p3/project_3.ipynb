{
 "cells": [
  {
   "cell_type": "markdown",
   "metadata": {},
   "source": [
    "# Project Three Notebook - Anyone Home?\n",
    "\n",
    "\n",
    "\n",
    "I downloaded my data from https://archive.ics.uci.edu/ml/machine-learning-databases/00357/.  The site in which I got my data is as follows: https://archive.ics.uci.edu/ml/datasets/Occupancy+Detection+.  It's an archive of machine learning datasets.  My particular dataset is directed to Occupancy Detection based on various variables including temperature, light, humidity, CO2, and HumidityRatio.\n",
    "\n",
    "In regards to \"Data Wrangling\" I ensured that I only had number data.  There is a date column in my csv file that I did not remove, but when I coereced the data, the date became numbers.  I did not use the date column for any of my models.\n",
    "\n",
    "In regards to \"Training and Cross Validation\" I used a linear regression comparing all the different variables from my dataset minus the date.  The plots and the actual validations make me believe that it's not a very good model.  I attempted to do a logarithmic regression as well, but when I actually attempted to run the regression, I had errors that I was unable to solve on my own.  Part of the problem my be because I do not really understand the dataset.  Another issue is that I have missed the previous class where we discussed this project. I have ensured that I was able to run the code samples and complete this assignment.\n",
    "\n",
    "In regards to a \"Working Model\" I believe I have a working model, but I do not believe it's a very good model.\n",
    "\n"
   ]
  },
  {
   "cell_type": "code",
   "execution_count": 8,
   "metadata": {},
   "outputs": [],
   "source": [
    "import os\n",
    "try:\n",
    "    inputFunc = raw_input\n",
    "except NameError:\n",
    "    inputFunc = input\n",
    "\n",
    "import pandas as pd\n",
    "from pandas.tseries.holiday import USFederalHolidayCalendar\n",
    "from pandas.tseries.offsets import CustomBusinessDay\n",
    "import numpy as np\n",
    " \n",
    "import seaborn as sns\n",
    "from statsmodels.formula.api import ols\n",
    "\n",
    "from sklearn import linear_model\n",
    "from sklearn import metrics\n",
    "\n",
    "from sklearn.linear_model import LogisticRegression\n",
    "from patsy import dmatrices\n",
    "\n",
    "import matplotlib.pyplot as plt\n",
    "%matplotlib inline\n",
    "import numpy as np\n",
    "from sklearn.metrics import accuracy_score\n",
    "from sklearn.metrics import confusion_matrix\n",
    "\n",
    "import matplotlib.pyplot as plt\n",
    "\n",
    "import random\n",
    "\n",
    "\n",
    "\n",
    "# Custom functions\n",
    "\n",
    "def evaluate(pred, labels_test):\n",
    "    acc = accuracy_score(pred, labels_test)\n",
    "    print (\"Accuracey: %s\"%acc)\n",
    "    tn, fp, fn, tp = confusion_matrix(labels_test, pred).ravel()\n",
    "\n",
    "    recall = tp / (tp + fp)\n",
    "    percision = tp / (tp + fn)\n",
    "    f1 = (2 / ((1/recall)+(1/percision)))\n",
    "\n",
    "    print (\"\")\n",
    "    print (\"True Negatives: %s\"%tn)\n",
    "    print (\"False Positives: %s\"%fp)\n",
    "    print (\"False Negatives: %s\"%fn)\n",
    "    print (\"True Positives: %s\"%tp)\n",
    "    print (\"Recall: %s\"%recall)\n",
    "    print (\"Precision: %s\"%percision)\n",
    "    print (\"F1 Score: %s\"%f1)\n",
    "\n",
    "def plot_bound(Z_val,data,col1,col2,binary):\n",
    "    # Z-val equals \"Yes\" value. E.g., \"Y\" or \"1\". \n",
    "    # data equals df\n",
    "    # col1 and col2 defines which colums to use from data\n",
    "    # Plot binary decision boundary. \n",
    "    # For this, we will assign a color to each\n",
    "    # point in the mesh [x_min, m_max]x[y_min, y_max].\n",
    "    \n",
    "    x_min = float(data.iloc[:,[col1]].min())-float(data.iloc[:,[col1]].min())*0.10 \n",
    "    x_max = float(data.iloc[:,[col1]].max()+float(data.iloc[:,[col1]].min())*0.10)\n",
    "    y_min = 0.0; \n",
    "    y_max = float(training.iloc[:,[col2]].max())+float(training.iloc[:,[col2]].max())*0.10\n",
    "    h_x = (x_max-x_min)/100  # step size in the mesh\n",
    "    h_y = (y_max-y_min)/100  # step size in the mesh\n",
    "    xx, yy = np.meshgrid(np.arange(x_min, x_max, h_x), np.arange(y_min, y_max, h_y))\n",
    "    if binary == 1:\n",
    "        Z = clf.predict(np.c_[xx.ravel(), yy.ravel()])   \n",
    "        Z = np.where(Z==\"Y\",1,0)\n",
    "    else:\n",
    "        Z = clf.predict_proba(np.c_[xx.ravel(), yy.ravel()])[:, 1]\n",
    "    # Put the result into a color plot\n",
    "    Z = Z.reshape(xx.shape)\n",
    "    plt.xlim(xx.min(), xx.max())\n",
    "    plt.ylim(yy.min(), yy.max())\n",
    "    plt.pcolormesh(xx, yy, Z)\n",
    "    plt.show()"
   ]
  },
  {
   "cell_type": "markdown",
   "metadata": {},
   "source": [
    "## Data Cleaning\n",
    "\n",
    "Here we load the data we collected and get it all ready to feed to our statistical model(s). That is, we are trying to make a table with one **target** column and one or more **features**. Here I'm loading happiness.csv from: https://data.somervillema.gov/Happiness/Somerville-Happiness-Survey-responses-2011-2013-20/w898-3dfm Note: you can find information on the data elements at this link. \n"
   ]
  },
  {
   "cell_type": "code",
   "execution_count": 9,
   "metadata": {},
   "outputs": [
    {
     "data": {
      "text/html": [
       "<div>\n",
       "<style>\n",
       "    .dataframe thead tr:only-child th {\n",
       "        text-align: right;\n",
       "    }\n",
       "\n",
       "    .dataframe thead th {\n",
       "        text-align: left;\n",
       "    }\n",
       "\n",
       "    .dataframe tbody tr th {\n",
       "        vertical-align: top;\n",
       "    }\n",
       "</style>\n",
       "<table border=\"1\" class=\"dataframe\">\n",
       "  <thead>\n",
       "    <tr style=\"text-align: right;\">\n",
       "      <th></th>\n",
       "      <th>date</th>\n",
       "      <th>Temperature</th>\n",
       "      <th>Humidity</th>\n",
       "      <th>Light</th>\n",
       "      <th>CO2</th>\n",
       "      <th>HumidityRatio</th>\n",
       "      <th>Occupancy</th>\n",
       "    </tr>\n",
       "  </thead>\n",
       "  <tbody>\n",
       "    <tr>\n",
       "      <th>0</th>\n",
       "      <td>2015-02-02 14:19:00</td>\n",
       "      <td>23.7000</td>\n",
       "      <td>26.272</td>\n",
       "      <td>585.200000</td>\n",
       "      <td>749.200000</td>\n",
       "      <td>0.004764</td>\n",
       "      <td>1</td>\n",
       "    </tr>\n",
       "    <tr>\n",
       "      <th>1</th>\n",
       "      <td>2015-02-02 14:19:00</td>\n",
       "      <td>23.7180</td>\n",
       "      <td>26.290</td>\n",
       "      <td>578.400000</td>\n",
       "      <td>760.400000</td>\n",
       "      <td>0.004773</td>\n",
       "      <td>1</td>\n",
       "    </tr>\n",
       "    <tr>\n",
       "      <th>2</th>\n",
       "      <td>2015-02-02 14:21:00</td>\n",
       "      <td>23.7300</td>\n",
       "      <td>26.230</td>\n",
       "      <td>572.666667</td>\n",
       "      <td>769.666667</td>\n",
       "      <td>0.004765</td>\n",
       "      <td>1</td>\n",
       "    </tr>\n",
       "    <tr>\n",
       "      <th>3</th>\n",
       "      <td>2015-02-02 14:22:00</td>\n",
       "      <td>23.7225</td>\n",
       "      <td>26.125</td>\n",
       "      <td>493.750000</td>\n",
       "      <td>774.750000</td>\n",
       "      <td>0.004744</td>\n",
       "      <td>1</td>\n",
       "    </tr>\n",
       "    <tr>\n",
       "      <th>4</th>\n",
       "      <td>2015-02-02 14:23:00</td>\n",
       "      <td>23.7540</td>\n",
       "      <td>26.200</td>\n",
       "      <td>488.600000</td>\n",
       "      <td>779.000000</td>\n",
       "      <td>0.004767</td>\n",
       "      <td>1</td>\n",
       "    </tr>\n",
       "  </tbody>\n",
       "</table>\n",
       "</div>"
      ],
      "text/plain": [
       "                 date  Temperature  Humidity       Light         CO2  \\\n",
       "0 2015-02-02 14:19:00      23.7000    26.272  585.200000  749.200000   \n",
       "1 2015-02-02 14:19:00      23.7180    26.290  578.400000  760.400000   \n",
       "2 2015-02-02 14:21:00      23.7300    26.230  572.666667  769.666667   \n",
       "3 2015-02-02 14:22:00      23.7225    26.125  493.750000  774.750000   \n",
       "4 2015-02-02 14:23:00      23.7540    26.200  488.600000  779.000000   \n",
       "\n",
       "   HumidityRatio  Occupancy  \n",
       "0       0.004764          1  \n",
       "1       0.004773          1  \n",
       "2       0.004765          1  \n",
       "3       0.004744          1  \n",
       "4       0.004767          1  "
      ]
     },
     "execution_count": 9,
     "metadata": {},
     "output_type": "execute_result"
    }
   ],
   "source": [
    "# Load and peek at your data. Change the file name as needed. \n",
    "raw_data_df = pd.read_csv('dataset.csv', parse_dates=[0]) \n",
    "raw_data_df.head()"
   ]
  },
  {
   "cell_type": "code",
   "execution_count": 10,
   "metadata": {},
   "outputs": [
    {
     "name": "stdout",
     "output_type": "stream",
     "text": [
      "[  585.2          578.4          572.6666667    493.75         488.6\n",
      "   568.6666667    536.3333333    509.           476.           510.           481.5\n",
      "   481.8          475.25         469.           464.           455.           454.\n",
      "   458.           473.           498.4          530.2          533.6\n",
      "   524.25         498.6666667    516.3333333    501.2          522.           520.5\n",
      "   505.2857143    488.3333333    512.           511.           501.5\n",
      "   503.6666667    483.1666667    483.5          470.3333333    480.1428571\n",
      "   474.4          470.           445.           439.           444.25\n",
      "   454.75         455.8          451.6          457.5          471.5\n",
      "   475.6666667    467.75         466.5          467.           459.           449.\n",
      "   462.3333333    456.5          457.           450.25         446.           448.\n",
      "   444.           435.           432.           429.           432.75\n",
      "   436.5          438.           435.4285714    434.           441.5          441.\n",
      "   440.25         433.5          436.2          442.5          443.4\n",
      "   439.8          435.5          430.75         440.6          428.2\n",
      "   432.2          431.75         429.2          433.           428.25\n",
      "   425.4          426.           430.2          428.3333333    424.6\n",
      "   422.5          423.6666667    427.4          421.8          419.           416.2\n",
      "   418.6          415.           310.25           0.           217.2\n",
      "   413.6666667    412.2          413.5          403.5          397.4\n",
      "   399.5          398.3333333    403.           407.6666667    413.           414.\n",
      "   407.4          407.           405.           412.           416.6666667\n",
      "   440.           434.5          446.6666667    449.3333333    454.6666667\n",
      "   453.           449.5          460.           442.           463.\n",
      "   457.75         461.           460.25         479.           474.\n",
      "   472.3333333    477.75         484.           483.           489.           482.\n",
      "   480.6          495.25         484.8333333    499.           490.6          502.\n",
      "   493.           495.6666667    499.4          500.6          506.4285714\n",
      "   503.           518.           513.           511.3333333    518.2          519.\n",
      "   528.           532.8          534.25         523.           526.           538.\n",
      "   532.25         547.5          544.2          535.           534.2\n",
      "   533.6666667    547.           553.4          550.5          543.6666667\n",
      "   550.75         555.           557.6666667    556.4          546.5          543.\n",
      "   544.25         548.           535.7142857    549.3333333    538.6\n",
      "   548.6          548.5          556.6666667    562.           555.6          558.\n",
      "   563.4          570.           565.8333333    553.           561.8333333\n",
      "   562.4          560.6          559.6666667    569.8333333    581.           593.\n",
      "   601.           600.4          616.           603.6          587.5          575.\n",
      "   579.2          584.8          609.6666667    625.6666667    629.6666667\n",
      "   617.           624.8          641.3333333    659.4          644.6          653.\n",
      "   659.           660.           668.5          652.5          652.75\n",
      "   654.2          656.1666667    650.75         663.75         651.\n",
      "   648.3333333    657.8          668.           663.6666667    664.6\n",
      "   662.3333333    647.8          651.6666667    650.           653.75\n",
      "   656.           655.           653.1666667    659.75         338.3333333\n",
      "   197.1666667    184.           173.2          193.           178.           186.\n",
      "   173.5          174.5          169.6666667    168.5          171.           176.\n",
      "   177.25         268.7142857    538.75         627.6          638.           634.\n",
      "   629.           597.75         561.5          598.4          609.6          587.\n",
      "   596.8          595.           608.3333333    611.6          610.2\n",
      "   616.6          609.           599.           594.8          585.75\n",
      "   592.75         586.5          585.           576.75         566.           560.\n",
      "   569.3333333    561.           558.3          558.8          546.           542.8\n",
      "   544.8          541.4          538.4          534.5          538.8          531.\n",
      "   526.8333333    526.75         519.6666667    505.8          503.5\n",
      "   496.2          516.75         503.7142857    498.           481.6\n",
      "   483.4          485.           478.           478.75         465.25\n",
      "   466.           465.6666667    465.           460.4285714    456.1428571\n",
      "   456.8          444.75         441.2857143    447.           441.4\n",
      "   438.6          443.5          429.5          415.5           56.33333333\n",
      "   311.75         409.8          414.6          407.5          406.6\n",
      "   406.2          411.           408.           413.4          437.6666667\n",
      "   447.2          459.25         470.2          475.75         471.\n",
      "   480.25         487.           503.6          509.5          527.25\n",
      "   524.5          529.8          534.           544.           542.5\n",
      "   559.2          567.8          554.           563.           564.5\n",
      "   577.5          578.8          581.6666667    580.           596.           603.4\n",
      "   608.25         606.6666667    612.           611.           624.75\n",
      "   630.4          632.5          652.           643.5          648.6666667\n",
      "   767.          1419.5         1697.25        1209.8          685.75\n",
      "   684.75         679.4          683.           692.           693.8          689.\n",
      "   693.75         686.5          698.25         694.8333333    690.           696.8\n",
      "   710.           722.           732.           735.           719.2\n",
      "   723.3333333    729.           738.           734.4          747.           745.2\n",
      "   746.3333333    737.8          745.           740.5          754.           763.\n",
      "   758.25         755.5          772.75         774.5          769.8\n",
      "   758.3333333    775.75         775.           783.4          789.6\n",
      "   797.5          799.           782.5          786.1666667    794.25\n",
      "   787.           805.           798.           793.           801.4          808.\n",
      "   809.8          817.           813.        ]\n",
      "[ 23.7         23.718       23.73        23.7225      23.754       23.76\n",
      "  23.736       23.745       23.6         23.64        23.65        23.625\n",
      "  23.61666667  23.66666667  23.575       23.54        23.525       23.5\n",
      "  23.445       23.39        23.37        23.37333333  23.32333333  23.365\n",
      "  23.29        23.30666667  23.272       23.2         23.23        23.215\n",
      "  23.14        23.15        23.18        23.11666667  23.1         23.06\n",
      "  23.02        23.01        23.          22.98166667  22.945       22.956\n",
      "  22.9725      22.912       22.89        22.865       22.87333333  22.815\n",
      "  22.84        22.79        22.772       22.76        22.7         22.7225\n",
      "  22.68        22.64        22.6         22.66666667  22.62        22.625\n",
      "  22.65        22.56        22.58        22.575       22.55        22.56666667\n",
      "  22.525       22.54        22.5         22.52        22.478       22.456\n",
      "  22.4175      22.39        22.35        22.32333333  22.365       22.315\n",
      "  22.29        22.26        22.254       22.23        22.2         22.13333333\n",
      "  22.1         22.15        22.06666667  22.          21.978       21.945\n",
      "  21.92666667  21.89        21.815       21.82333333  21.79        21.7675\n",
      "  21.754       21.7         21.64        21.6         21.5         21.55\n",
      "  21.4725      21.39        21.42666667  21.365       21.32333333  21.34\n",
      "  21.315       21.35666667  21.29        21.254       21.23        21.218\n",
      "  21.2         21.175       21.16666667  21.125       21.1         21.13333333\n",
      "  21.075       21.03333333  21.02        21.025       21.          20.9725\n",
      "  20.96333333  20.89        20.9175      20.912       20.92666667  20.934\n",
      "  20.945       20.85666667  20.865       20.87        20.85        20.81\n",
      "  20.79        20.82333333  20.772       20.73        20.745       20.76\n",
      "  20.7225      20.7675      20.7         20.718       20.736       20.675\n",
      "  20.66666667  20.625       20.65        20.64        20.63333333  20.6\n",
      "  20.575       20.58        20.55        20.56666667  20.525       20.53333333\n",
      "  20.56        20.52        20.5         20.46333333  20.478       20.456\n",
      "  20.42666667  20.4175      20.4725      20.445       20.434       20.39\n",
      "  20.35        20.365       20.34        20.315       20.35666667  20.29\n",
      "  20.32333333  20.272       20.26        20.2675      20.37        20.245\n",
      "  20.236       20.2         20.218       20.2225      20.31        20.33\n",
      "  20.754       20.775       20.815       20.84        20.83        20.87333333\n",
      "  20.978       21.15        21.18333333  21.236       21.2225      21.245\n",
      "  21.26        21.30666667  21.31        21.35        21.4175      21.412\n",
      "  21.456       21.48166667  21.54        21.625       21.66        21.68333333\n",
      "  21.65        21.718       21.76        21.73        21.775       21.77714286\n",
      "  21.84        21.87        21.912       21.90833333  21.934       21.98166667\n",
      "  22.025       22.06        22.05        22.08        22.08333333\n",
      "  22.11666667  22.16666667  22.18        22.16        22.175       22.18333333\n",
      "  22.2225      22.245       22.272       22.30666667  22.33        22.434\n",
      "  22.42666667  22.675       22.745       22.87        22.90833333\n",
      "  22.96333333  23.025       23.05        23.2225      23.26        23.2675\n",
      "  23.245       23.254       23.18571429  23.18333333  23.175       23.218\n",
      "  23.33        23.35        23.315       23.31857143  23.30428571  23.236\n",
      "  23.125       23.08571429  23.06666667  23.01666667  22.96857143  22.9175\n",
      "  22.92666667  22.93714286  22.934       22.7675      22.73        22.715\n",
      "  22.736       22.718       22.66        22.445       22.35666667  22.2675\n",
      "  22.125       21.9175      21.96333333  21.81        21.7225      21.675\n",
      "  21.63333333  21.58        21.56        21.53333333  21.16        21.06\n",
      "  21.06666667  21.08        21.05        20.68        20.66        20.62\n",
      "  20.61666667  20.54        20.48166667  20.71285714  20.956       21.08333333\n",
      "  21.11666667  21.215       21.272       21.865       22.08571429  22.14\n",
      "  22.82333333  23.31        23.456       23.58        23.79        23.89\n",
      "  23.98428571  24.          24.05        24.08        24.1         24.175\n",
      "  24.2         24.218       24.26        24.29        24.33        24.35666667\n",
      "  24.40833333]\n"
     ]
    }
   ],
   "source": [
    "# You can explore unique entires by stating the column and using .unique() like this:\n",
    "print(raw_data_df[\"Light\"].unique())\n",
    "print(raw_data_df[\"Temperature\"].unique())"
   ]
  },
  {
   "cell_type": "code",
   "execution_count": 11,
   "metadata": {
    "scrolled": true
   },
   "outputs": [
    {
     "data": {
      "text/html": [
       "<div>\n",
       "<style>\n",
       "    .dataframe thead tr:only-child th {\n",
       "        text-align: right;\n",
       "    }\n",
       "\n",
       "    .dataframe thead th {\n",
       "        text-align: left;\n",
       "    }\n",
       "\n",
       "    .dataframe tbody tr th {\n",
       "        vertical-align: top;\n",
       "    }\n",
       "</style>\n",
       "<table border=\"1\" class=\"dataframe\">\n",
       "  <thead>\n",
       "    <tr style=\"text-align: right;\">\n",
       "      <th></th>\n",
       "      <th>date</th>\n",
       "      <th>Temperature</th>\n",
       "      <th>Humidity</th>\n",
       "      <th>Light</th>\n",
       "      <th>CO2</th>\n",
       "      <th>HumidityRatio</th>\n",
       "      <th>Occupancy</th>\n",
       "    </tr>\n",
       "  </thead>\n",
       "  <tbody>\n",
       "    <tr>\n",
       "      <th>0</th>\n",
       "      <td>1422886740000000000</td>\n",
       "      <td>23.7000</td>\n",
       "      <td>26.272</td>\n",
       "      <td>585.200000</td>\n",
       "      <td>749.200000</td>\n",
       "      <td>0.004764</td>\n",
       "      <td>1</td>\n",
       "    </tr>\n",
       "    <tr>\n",
       "      <th>1</th>\n",
       "      <td>1422886740000000000</td>\n",
       "      <td>23.7180</td>\n",
       "      <td>26.290</td>\n",
       "      <td>578.400000</td>\n",
       "      <td>760.400000</td>\n",
       "      <td>0.004773</td>\n",
       "      <td>1</td>\n",
       "    </tr>\n",
       "    <tr>\n",
       "      <th>2</th>\n",
       "      <td>1422886860000000000</td>\n",
       "      <td>23.7300</td>\n",
       "      <td>26.230</td>\n",
       "      <td>572.666667</td>\n",
       "      <td>769.666667</td>\n",
       "      <td>0.004765</td>\n",
       "      <td>1</td>\n",
       "    </tr>\n",
       "    <tr>\n",
       "      <th>3</th>\n",
       "      <td>1422886920000000000</td>\n",
       "      <td>23.7225</td>\n",
       "      <td>26.125</td>\n",
       "      <td>493.750000</td>\n",
       "      <td>774.750000</td>\n",
       "      <td>0.004744</td>\n",
       "      <td>1</td>\n",
       "    </tr>\n",
       "    <tr>\n",
       "      <th>4</th>\n",
       "      <td>1422886980000000000</td>\n",
       "      <td>23.7540</td>\n",
       "      <td>26.200</td>\n",
       "      <td>488.600000</td>\n",
       "      <td>779.000000</td>\n",
       "      <td>0.004767</td>\n",
       "      <td>1</td>\n",
       "    </tr>\n",
       "  </tbody>\n",
       "</table>\n",
       "</div>"
      ],
      "text/plain": [
       "                  date  Temperature  Humidity       Light         CO2  \\\n",
       "0  1422886740000000000      23.7000    26.272  585.200000  749.200000   \n",
       "1  1422886740000000000      23.7180    26.290  578.400000  760.400000   \n",
       "2  1422886860000000000      23.7300    26.230  572.666667  769.666667   \n",
       "3  1422886920000000000      23.7225    26.125  493.750000  774.750000   \n",
       "4  1422886980000000000      23.7540    26.200  488.600000  779.000000   \n",
       "\n",
       "   HumidityRatio  Occupancy  \n",
       "0       0.004764          1  \n",
       "1       0.004773          1  \n",
       "2       0.004765          1  \n",
       "3       0.004744          1  \n",
       "4       0.004767          1  "
      ]
     },
     "execution_count": 11,
     "metadata": {},
     "output_type": "execute_result"
    }
   ],
   "source": [
    "# To make sure all of your columns are stored as numbers, use the pd.to_numeric method like so.\n",
    "raw_data_df = raw_data_df.apply(pd.to_numeric, errors='coerce')\n",
    "# errors='coerce' will set things that can't be converted to numbers to NaN\n",
    "# so you'll want to drop these like so.\n",
    "raw_data_df = raw_data_df.dropna()\n",
    "raw_data_df.head()"
   ]
  },
  {
   "cell_type": "code",
   "execution_count": 12,
   "metadata": {},
   "outputs": [
    {
     "data": {
      "text/html": [
       "<div>\n",
       "<style>\n",
       "    .dataframe thead tr:only-child th {\n",
       "        text-align: right;\n",
       "    }\n",
       "\n",
       "    .dataframe thead th {\n",
       "        text-align: left;\n",
       "    }\n",
       "\n",
       "    .dataframe tbody tr th {\n",
       "        vertical-align: top;\n",
       "    }\n",
       "</style>\n",
       "<table border=\"1\" class=\"dataframe\">\n",
       "  <thead>\n",
       "    <tr style=\"text-align: right;\">\n",
       "      <th></th>\n",
       "      <th>Occupancy</th>\n",
       "      <th>Temperature</th>\n",
       "      <th>Humidity</th>\n",
       "      <th>Light</th>\n",
       "      <th>CO2</th>\n",
       "      <th>HumidityRatio</th>\n",
       "    </tr>\n",
       "  </thead>\n",
       "  <tbody>\n",
       "    <tr>\n",
       "      <th>0</th>\n",
       "      <td>1</td>\n",
       "      <td>23.7000</td>\n",
       "      <td>26.272</td>\n",
       "      <td>585.200000</td>\n",
       "      <td>749.200000</td>\n",
       "      <td>0.004764</td>\n",
       "    </tr>\n",
       "    <tr>\n",
       "      <th>1</th>\n",
       "      <td>1</td>\n",
       "      <td>23.7180</td>\n",
       "      <td>26.290</td>\n",
       "      <td>578.400000</td>\n",
       "      <td>760.400000</td>\n",
       "      <td>0.004773</td>\n",
       "    </tr>\n",
       "    <tr>\n",
       "      <th>2</th>\n",
       "      <td>1</td>\n",
       "      <td>23.7300</td>\n",
       "      <td>26.230</td>\n",
       "      <td>572.666667</td>\n",
       "      <td>769.666667</td>\n",
       "      <td>0.004765</td>\n",
       "    </tr>\n",
       "    <tr>\n",
       "      <th>3</th>\n",
       "      <td>1</td>\n",
       "      <td>23.7225</td>\n",
       "      <td>26.125</td>\n",
       "      <td>493.750000</td>\n",
       "      <td>774.750000</td>\n",
       "      <td>0.004744</td>\n",
       "    </tr>\n",
       "    <tr>\n",
       "      <th>4</th>\n",
       "      <td>1</td>\n",
       "      <td>23.7540</td>\n",
       "      <td>26.200</td>\n",
       "      <td>488.600000</td>\n",
       "      <td>779.000000</td>\n",
       "      <td>0.004767</td>\n",
       "    </tr>\n",
       "  </tbody>\n",
       "</table>\n",
       "</div>"
      ],
      "text/plain": [
       "   Occupancy  Temperature  Humidity       Light         CO2  HumidityRatio\n",
       "0          1      23.7000    26.272  585.200000  749.200000       0.004764\n",
       "1          1      23.7180    26.290  578.400000  760.400000       0.004773\n",
       "2          1      23.7300    26.230  572.666667  769.666667       0.004765\n",
       "3          1      23.7225    26.125  493.750000  774.750000       0.004744\n",
       "4          1      23.7540    26.200  488.600000  779.000000       0.004767"
      ]
     },
     "execution_count": 12,
     "metadata": {},
     "output_type": "execute_result"
    }
   ],
   "source": [
    "# I'm now going to make a set of tables to be used in training some models\n",
    "# The first set will be for linear regressions where the traget is numeric.\n",
    "# Happiness\n",
    "occupancy_lin_df = raw_data_df[[\n",
    "                               'Occupancy', \n",
    "                               'Temperature', \n",
    "                               'Humidity',\n",
    "                                'Light',\n",
    "                                'CO2',\n",
    "                                'HumidityRatio'\n",
    "                               ]].copy()\n",
    "occupancy_lin_df.head()"
   ]
  },
  {
   "cell_type": "code",
   "execution_count": 13,
   "metadata": {},
   "outputs": [
    {
     "data": {
      "text/html": [
       "<div>\n",
       "<style>\n",
       "    .dataframe thead tr:only-child th {\n",
       "        text-align: right;\n",
       "    }\n",
       "\n",
       "    .dataframe thead th {\n",
       "        text-align: left;\n",
       "    }\n",
       "\n",
       "    .dataframe tbody tr th {\n",
       "        vertical-align: top;\n",
       "    }\n",
       "</style>\n",
       "<table border=\"1\" class=\"dataframe\">\n",
       "  <thead>\n",
       "    <tr style=\"text-align: right;\">\n",
       "      <th></th>\n",
       "      <th>Occupancy</th>\n",
       "      <th>Temperature</th>\n",
       "      <th>Humidity</th>\n",
       "      <th>Light</th>\n",
       "      <th>CO2</th>\n",
       "      <th>HumidityRatio</th>\n",
       "    </tr>\n",
       "  </thead>\n",
       "  <tbody>\n",
       "    <tr>\n",
       "      <th>0</th>\n",
       "      <td>1</td>\n",
       "      <td>23.7000</td>\n",
       "      <td>26.272</td>\n",
       "      <td>585.200000</td>\n",
       "      <td>749.200000</td>\n",
       "      <td>0.004764</td>\n",
       "    </tr>\n",
       "    <tr>\n",
       "      <th>1</th>\n",
       "      <td>1</td>\n",
       "      <td>23.7180</td>\n",
       "      <td>26.290</td>\n",
       "      <td>578.400000</td>\n",
       "      <td>760.400000</td>\n",
       "      <td>0.004773</td>\n",
       "    </tr>\n",
       "    <tr>\n",
       "      <th>2</th>\n",
       "      <td>1</td>\n",
       "      <td>23.7300</td>\n",
       "      <td>26.230</td>\n",
       "      <td>572.666667</td>\n",
       "      <td>769.666667</td>\n",
       "      <td>0.004765</td>\n",
       "    </tr>\n",
       "    <tr>\n",
       "      <th>3</th>\n",
       "      <td>1</td>\n",
       "      <td>23.7225</td>\n",
       "      <td>26.125</td>\n",
       "      <td>493.750000</td>\n",
       "      <td>774.750000</td>\n",
       "      <td>0.004744</td>\n",
       "    </tr>\n",
       "    <tr>\n",
       "      <th>4</th>\n",
       "      <td>1</td>\n",
       "      <td>23.7540</td>\n",
       "      <td>26.200</td>\n",
       "      <td>488.600000</td>\n",
       "      <td>779.000000</td>\n",
       "      <td>0.004767</td>\n",
       "    </tr>\n",
       "  </tbody>\n",
       "</table>\n",
       "</div>"
      ],
      "text/plain": [
       "   Occupancy  Temperature  Humidity       Light         CO2  HumidityRatio\n",
       "0          1      23.7000    26.272  585.200000  749.200000       0.004764\n",
       "1          1      23.7180    26.290  578.400000  760.400000       0.004773\n",
       "2          1      23.7300    26.230  572.666667  769.666667       0.004765\n",
       "3          1      23.7225    26.125  493.750000  774.750000       0.004744\n",
       "4          1      23.7540    26.200  488.600000  779.000000       0.004767"
      ]
     },
     "execution_count": 13,
     "metadata": {},
     "output_type": "execute_result"
    }
   ],
   "source": [
    "# The second set will be for classifiers where the target is a class.\n",
    "# Happiness\n",
    "occupancy_class_df = raw_data_df[[\n",
    "                               'Occupancy', \n",
    "                               'Temperature', \n",
    "                               'Humidity',\n",
    "                                'Light',\n",
    "                                'CO2',\n",
    "                                'HumidityRatio'\n",
    "                               ]].copy()\n",
    "occupancy_class_df.head()"
   ]
  },
  {
   "cell_type": "markdown",
   "metadata": {},
   "source": [
    "# Training and Validation\n",
    "\n",
    "Above I created two datasets worth exploring: \n",
    "- **`occupancy_lin_df`**. The data needed to access *happiness* along a continuous variable.\n",
    "- **`occupancy_class_df`**. The data needed to access *happiness* as a categorical variable.\n",
    "\n",
    "Let's take them each in turn. "
   ]
  },
  {
   "cell_type": "markdown",
   "metadata": {},
   "source": [
    "## occupancy_lin_df\n",
    "\n"
   ]
  },
  {
   "cell_type": "code",
   "execution_count": 15,
   "metadata": {},
   "outputs": [],
   "source": [
    "data = occupancy_lin_df\n",
    "\n",
    "holdout = data.sample(frac=0.05)\n",
    "training = data.loc[~data.index.isin(holdout.index)]"
   ]
  },
  {
   "cell_type": "code",
   "execution_count": 16,
   "metadata": {},
   "outputs": [
    {
     "data": {
      "text/plain": [
       "<seaborn.axisgrid.FacetGrid at 0xf88e30>"
      ]
     },
     "execution_count": 16,
     "metadata": {},
     "output_type": "execute_result"
    },
    {
     "data": {
      "image/png": "[encoded data removed]",
      "text/plain": [
       "<matplotlib.figure.Figure at 0xf88930>"
      ]
     },
     "metadata": {},
     "output_type": "display_data"
    }
   ],
   "source": [
    "sns.lmplot(x=\"Temperature\", y=\"Occupancy\", data=training, x_estimator=np.mean, order=1)"
   ]
  },
  {
   "cell_type": "code",
   "execution_count": 17,
   "metadata": {},
   "outputs": [
    {
     "data": {
      "text/plain": [
       "<seaborn.axisgrid.FacetGrid at 0x6ff7ab0>"
      ]
     },
     "execution_count": 17,
     "metadata": {},
     "output_type": "execute_result"
    },
    {
     "data": {
      "image/png": "[encoded data removed]",
      "text/plain": [
       "<matplotlib.figure.Figure at 0x71ef250>"
      ]
     },
     "metadata": {},
     "output_type": "display_data"
    }
   ],
   "source": [
    "sns.lmplot(x=\"Humidity\", y=\"Occupancy\", data=training, x_estimator=np.mean, order=1)"
   ]
  },
  {
   "cell_type": "code",
   "execution_count": 18,
   "metadata": {},
   "outputs": [
    {
     "data": {
      "text/plain": [
       "<seaborn.axisgrid.FacetGrid at 0xdd8d3d0>"
      ]
     },
     "execution_count": 18,
     "metadata": {},
     "output_type": "execute_result"
    },
    {
     "data": {
      "image/png": "[encoded data removed]",
      "text/plain": [
       "<matplotlib.figure.Figure at 0xdd8dfd0>"
      ]
     },
     "metadata": {},
     "output_type": "display_data"
    }
   ],
   "source": [
    "sns.lmplot(x=\"Light\", y=\"Occupancy\", data=training, x_estimator=np.mean, order=1)"
   ]
  },
  {
   "cell_type": "code",
   "execution_count": 19,
   "metadata": {},
   "outputs": [
    {
     "data": {
      "text/plain": [
       "<seaborn.axisgrid.FacetGrid at 0x7d9e190>"
      ]
     },
     "execution_count": 19,
     "metadata": {},
     "output_type": "execute_result"
    },
    {
     "data": {
      "image/png": "[encoded data removed]",
      "text/plain": [
       "<matplotlib.figure.Figure at 0xde00530>"
      ]
     },
     "metadata": {},
     "output_type": "display_data"
    }
   ],
   "source": [
    "sns.lmplot(x=\"CO2\", y=\"Occupancy\", data=training, x_estimator=np.mean, order=1)"
   ]
  },
  {
   "cell_type": "code",
   "execution_count": 20,
   "metadata": {},
   "outputs": [
    {
     "data": {
      "text/plain": [
       "<seaborn.axisgrid.FacetGrid at 0xde3a410>"
      ]
     },
     "execution_count": 20,
     "metadata": {},
     "output_type": "execute_result"
    },
    {
     "data": {
      "image/png": "[encoded data removed]",
      "text/plain": [
       "<matplotlib.figure.Figure at 0x6ff7630>"
      ]
     },
     "metadata": {},
     "output_type": "display_data"
    }
   ],
   "source": [
    "sns.lmplot(x=\"HumidityRatio\", y=\"Occupancy\", data=training, x_estimator=np.mean, order=1)"
   ]
  },
  {
   "cell_type": "code",
   "execution_count": 22,
   "metadata": {},
   "outputs": [
    {
     "data": {
      "text/html": [
       "<table class=\"simpletable\">\n",
       "<caption>OLS Regression Results</caption>\n",
       "<tr>\n",
       "  <th>Dep. Variable:</th>        <td>Occupancy</td>    <th>  R-squared:         </th> <td>   0.889</td>\n",
       "</tr>\n",
       "<tr>\n",
       "  <th>Model:</th>                   <td>OLS</td>       <th>  Adj. R-squared:    </th> <td>   0.889</td>\n",
       "</tr>\n",
       "<tr>\n",
       "  <th>Method:</th>             <td>Least Squares</td>  <th>  F-statistic:       </th> <td>   4062.</td>\n",
       "</tr>\n",
       "<tr>\n",
       "  <th>Date:</th>             <td>Mon, 04 Dec 2017</td> <th>  Prob (F-statistic):</th>  <td>  0.00</td> \n",
       "</tr>\n",
       "<tr>\n",
       "  <th>Time:</th>                 <td>22:53:20</td>     <th>  Log-Likelihood:    </th> <td>  1046.7</td>\n",
       "</tr>\n",
       "<tr>\n",
       "  <th>No. Observations:</th>      <td>  2532</td>      <th>  AIC:               </th> <td>  -2081.</td>\n",
       "</tr>\n",
       "<tr>\n",
       "  <th>Df Residuals:</th>          <td>  2526</td>      <th>  BIC:               </th> <td>  -2046.</td>\n",
       "</tr>\n",
       "<tr>\n",
       "  <th>Df Model:</th>              <td>     5</td>      <th>                     </th>     <td> </td>   \n",
       "</tr>\n",
       "<tr>\n",
       "  <th>Covariance Type:</th>      <td>nonrobust</td>    <th>                     </th>     <td> </td>   \n",
       "</tr>\n",
       "</table>\n",
       "<table class=\"simpletable\">\n",
       "<tr>\n",
       "        <td></td>           <th>coef</th>     <th>std err</th>      <th>t</th>      <th>P>|t|</th>  <th>[0.025</th>    <th>0.975]</th>  \n",
       "</tr>\n",
       "<tr>\n",
       "  <th>Intercept</th>     <td>   10.7904</td> <td>    0.813</td> <td>   13.274</td> <td> 0.000</td> <td>    9.196</td> <td>   12.384</td>\n",
       "</tr>\n",
       "<tr>\n",
       "  <th>Temperature</th>   <td>   -0.5494</td> <td>    0.038</td> <td>  -14.362</td> <td> 0.000</td> <td>   -0.624</td> <td>   -0.474</td>\n",
       "</tr>\n",
       "<tr>\n",
       "  <th>Humidity</th>      <td>   -0.2518</td> <td>    0.023</td> <td>  -10.868</td> <td> 0.000</td> <td>   -0.297</td> <td>   -0.206</td>\n",
       "</tr>\n",
       "<tr>\n",
       "  <th>Light</th>         <td>    0.0019</td> <td> 2.44e-05</td> <td>   76.027</td> <td> 0.000</td> <td>    0.002</td> <td>    0.002</td>\n",
       "</tr>\n",
       "<tr>\n",
       "  <th>CO2</th>           <td> -7.87e-05</td> <td> 5.08e-05</td> <td>   -1.550</td> <td> 0.121</td> <td>   -0.000</td> <td> 2.09e-05</td>\n",
       "</tr>\n",
       "<tr>\n",
       "  <th>HumidityRatio</th> <td> 1846.1456</td> <td>  149.148</td> <td>   12.378</td> <td> 0.000</td> <td> 1553.681</td> <td> 2138.610</td>\n",
       "</tr>\n",
       "</table>\n",
       "<table class=\"simpletable\">\n",
       "<tr>\n",
       "  <th>Omnibus:</th>       <td>1838.587</td> <th>  Durbin-Watson:     </th> <td>   0.413</td> \n",
       "</tr>\n",
       "<tr>\n",
       "  <th>Prob(Omnibus):</th>  <td> 0.000</td>  <th>  Jarque-Bera (JB):  </th> <td>56402.300</td>\n",
       "</tr>\n",
       "<tr>\n",
       "  <th>Skew:</th>           <td>-3.072</td>  <th>  Prob(JB):          </th> <td>    0.00</td> \n",
       "</tr>\n",
       "<tr>\n",
       "  <th>Kurtosis:</th>       <td>25.290</td>  <th>  Cond. No.          </th> <td>3.83e+07</td> \n",
       "</tr>\n",
       "</table>"
      ],
      "text/plain": [
       "<class 'statsmodels.iolib.summary.Summary'>\n",
       "\"\"\"\n",
       "                            OLS Regression Results                            \n",
       "==============================================================================\n",
       "Dep. Variable:              Occupancy   R-squared:                       0.889\n",
       "Model:                            OLS   Adj. R-squared:                  0.889\n",
       "Method:                 Least Squares   F-statistic:                     4062.\n",
       "Date:                Mon, 04 Dec 2017   Prob (F-statistic):               0.00\n",
       "Time:                        22:53:20   Log-Likelihood:                 1046.7\n",
       "No. Observations:                2532   AIC:                            -2081.\n",
       "Df Residuals:                    2526   BIC:                            -2046.\n",
       "Df Model:                           5                                         \n",
       "Covariance Type:            nonrobust                                         \n",
       "=================================================================================\n",
       "                    coef    std err          t      P>|t|      [0.025      0.975]\n",
       "---------------------------------------------------------------------------------\n",
       "Intercept        10.7904      0.813     13.274      0.000       9.196      12.384\n",
       "Temperature      -0.5494      0.038    -14.362      0.000      -0.624      -0.474\n",
       "Humidity         -0.2518      0.023    -10.868      0.000      -0.297      -0.206\n",
       "Light             0.0019   2.44e-05     76.027      0.000       0.002       0.002\n",
       "CO2            -7.87e-05   5.08e-05     -1.550      0.121      -0.000    2.09e-05\n",
       "HumidityRatio  1846.1456    149.148     12.378      0.000    1553.681    2138.610\n",
       "==============================================================================\n",
       "Omnibus:                     1838.587   Durbin-Watson:                   0.413\n",
       "Prob(Omnibus):                  0.000   Jarque-Bera (JB):            56402.300\n",
       "Skew:                          -3.072   Prob(JB):                         0.00\n",
       "Kurtosis:                      25.290   Cond. No.                     3.83e+07\n",
       "==============================================================================\n",
       "\n",
       "Warnings:\n",
       "[1] Standard Errors assume that the covariance matrix of the errors is correctly specified.\n",
       "[2] The condition number is large, 3.83e+07. This might indicate that there are\n",
       "strong multicollinearity or other numerical problems.\n",
       "\"\"\""
      ]
     },
     "execution_count": 22,
     "metadata": {},
     "output_type": "execute_result"
    }
   ],
   "source": [
    "model = ols(\"Occupancy ~ Temperature + Humidity + Light + CO2 + HumidityRatio\", training).fit()\n",
    "#model = ols(\"happy ~ age + income + np.power(age, 2) + np.power(income, 2)\", training).fit()\n",
    "model.summary()"
   ]
  },
  {
   "cell_type": "code",
   "execution_count": 23,
   "metadata": {},
   "outputs": [
    {
     "name": "stdout",
     "output_type": "stream",
     "text": [
      "R squared: 0.889383481429\n",
      "Accuracy: 0.836508277887\n"
     ]
    }
   ],
   "source": [
    "# Rerun with SciKitLearn because it's easy to check accuracy\n",
    "features_train = training.drop(\"Occupancy\", axis=1).as_matrix(columns=None)\n",
    "labels_train = training[\"Occupancy\"].as_matrix(columns=None)\n",
    "\n",
    "features_test = holdout.drop(\"Occupancy\", axis=1).as_matrix(columns=None)\n",
    "labels_test = holdout[\"Occupancy\"].as_matrix(columns=None)\n",
    "\n",
    "lm = linear_model.LinearRegression()\n",
    "clf = lm.fit(features_train, labels_train)\n",
    "pred = clf.predict(features_test)\n",
    "accuracy = metrics.r2_score(labemodel = ols(\"Occupancy ~ Temperature + Humidity + Light + CO2 + HumidityRatio\", training).fit()\n",
    "#model = ols(\"happy ~ age + income + np.power(age, 2) + np.power(income, 2)\", training).fit()\n",
    "model.summary()ls_test, pred)\n",
    "print(\"R squared:\",lm.score(features_train,labels_train))\n",
    "print(\"Accuracy:\",accuracy)"
   ]
  },
  {
   "cell_type": "markdown",
   "metadata": {},
   "source": [
    "## occupancy_class_df"
   ]
  },
  {
   "cell_type": "code",
   "execution_count": 25,
   "metadata": {},
   "outputs": [
    {
     "name": "stdout",
     "output_type": "stream",
     "text": [
      "Percentage of Ys: 0.3647279549718574\n",
      "\n"
     ]
    },
    {
     "data": {
      "image/png": "[encoded data removed]",
      "text/plain": [
       "<matplotlib.figure.Figure at 0x10569050>"
      ]
     },
     "metadata": {},
     "output_type": "display_data"
    }
   ],
   "source": [
    "data = occupancy_class_df\n",
    "holdout = data.sample(frac=0.05)\n",
    "training = data.loc[~data.index.isin(holdout.index)]\n",
    "\n",
    "# Define the target (y) and feature(s) (X)\n",
    "features_train = training.drop(\"Occupancy\", axis=1).as_matrix(columns=None)\n",
    "labels_train = training[\"Occupancy\"].as_matrix(columns=None)\n",
    "\n",
    "features_test = holdout.drop(\"Occupancy\", axis=1).as_matrix(columns=None)\n",
    "labels_test = holdout[\"Occupancy\"].as_matrix(columns=None)\n",
    "\n",
    "# What percentage of the time is target Y?\n",
    "print(\"Percentage of Ys: %s\\n\"%(len(data[data[\"Occupancy\"]== 1 ])/len(data)))\n",
    "\n",
    "#### initial visualization\n",
    "feature_1_no = [features_test[ii][0] for ii in range(0, len(features_test)) if labels_test[ii]== 0]\n",
    "feature_2_no = [features_test[ii][1] for ii in range(0, len(features_test)) if labels_test[ii]== 0]\n",
    "feature_1_yes = [features_test[ii][0] for ii in range(0, len(features_test)) if labels_test[ii]== 1]\n",
    "feature_2_yes = [features_test[ii][1] for ii in range(0, len(features_test)) if labels_test[ii]== 1]\n",
    "plt.scatter(feature_1_yes, feature_2_yes, color = \"g\", label=\"Occupied\")\n",
    "plt.scatter(feature_1_no, feature_2_no, color = \"r\", label=\"Not Occupied\")\n",
    "plt.legend()\n",
    "plt.xlabel(\"Temperature\")\n",
    "plt.ylabel(\"Humidity\")\n",
    "plt.show()\n"
   ]
  },
  {
   "cell_type": "code",
   "execution_count": 29,
   "metadata": {},
   "outputs": [
    {
     "name": "stdout",
     "output_type": "stream",
     "text": [
      "Percentage of Ys: 0.3647279549718574\n",
      "\n"
     ]
    },
    {
     "data": {
      "image/png": "[encoded data removed]",
      "text/plain": [
       "<matplotlib.figure.Figure at 0x116018b0>"
      ]
     },
     "metadata": {},
     "output_type": "display_data"
    }
   ],
   "source": [
    "data = occupancy_class_df\n",
    "holdout = data.sample(frac=0.05)\n",
    "training = data.loc[~data.index.isin(holdout.index)]\n",
    "\n",
    "# Define the target (y) and feature(s) (X)\n",
    "features_train = training.drop(\"Occupancy\", axis=1).as_matrix(columns=None)\n",
    "labels_train = training[\"Occupancy\"].as_matrix(columns=None)\n",
    "\n",
    "features_test = holdout.drop(\"Occupancy\", axis=1).as_matrix(columns=None)\n",
    "labels_test = holdout[\"Occupancy\"].as_matrix(columns=None)\n",
    "\n",
    "# What percentage of the time is target Y?\n",
    "print(\"Percentage of Ys: %s\\n\"%(len(data[data[\"Occupancy\"]== 1 ])/len(data)))\n",
    "\n",
    "#### initial visualization\n",
    "feature_1_no = [features_test[ii][0] for ii in range(0, len(features_test)) if labels_test[ii]== 0]\n",
    "feature_2_no = [features_test[ii][1] for ii in range(0, len(features_test)) if labels_test[ii]== 0]\n",
    "feature_1_yes = [features_test[ii][0] for ii in range(0, len(features_test)) if labels_test[ii]== 1]\n",
    "feature_2_yes = [features_test[ii][1] for ii in range(0, len(features_test)) if labels_test[ii]== 1]\n",
    "plt.scatter(feature_1_yes, feature_2_yes, color = \"g\", label=\"Occupied\")\n",
    "plt.scatter(feature_1_no, feature_2_no, color = \"r\", label=\"Not Occupied\")\n",
    "plt.legend()\n",
    "plt.xlabel(\"Temperature\")\n",
    "plt.ylabel(\"CO2\")\n",
    "plt.show()"
   ]
  },
  {
   "cell_type": "code",
   "execution_count": 30,
   "metadata": {},
   "outputs": [
    {
     "name": "stdout",
     "output_type": "stream",
     "text": [
      "Percentage of Ys: 0.3647279549718574\n",
      "\n"
     ]
    },
    {
     "data": {
      "image/png": "[encoded data removed]",
      "text/plain": [
       "<matplotlib.figure.Figure at 0x115b16d0>"
      ]
     },
     "metadata": {},
     "output_type": "display_data"
    }
   ],
   "source": [
    "data = occupancy_class_df\n",
    "holdout = data.sample(frac=0.05)\n",
    "training = data.loc[~data.index.isin(holdout.index)]\n",
    "\n",
    "# Define the target (y) and feature(s) (X)\n",
    "features_train = training.drop(\"Occupancy\", axis=1).as_matrix(columns=None)\n",
    "labels_train = training[\"Occupancy\"].as_matrix(columns=None)\n",
    "\n",
    "features_test = holdout.drop(\"Occupancy\", axis=1).as_matrix(columns=None)\n",
    "labels_test = holdout[\"Occupancy\"].as_matrix(columns=None)\n",
    "\n",
    "# What percentage of the time is target Y?\n",
    "print(\"Percentage of Ys: %s\\n\"%(len(data[data[\"Occupancy\"]== 1 ])/len(data)))\n",
    "\n",
    "#### initial visualization\n",
    "feature_1_no = [features_test[ii][0] for ii in range(0, len(features_test)) if labels_test[ii]== 0]\n",
    "feature_2_no = [features_test[ii][1] for ii in range(0, len(features_test)) if labels_test[ii]== 0]\n",
    "feature_1_yes = [features_test[ii][0] for ii in range(0, len(features_test)) if labels_test[ii]== 1]\n",
    "feature_2_yes = [features_test[ii][1] for ii in range(0, len(features_test)) if labels_test[ii]== 1]\n",
    "plt.scatter(feature_1_yes, feature_2_yes, color = \"g\", label=\"Occupied\")\n",
    "plt.scatter(feature_1_no, feature_2_no, color = \"r\", label=\"Not Occupied\")\n",
    "plt.legend()\n",
    "plt.xlabel(\"Temperature\")\n",
    "plt.ylabel(\"Light\")\n",
    "plt.show()"
   ]
  },
  {
   "cell_type": "code",
   "execution_count": 31,
   "metadata": {},
   "outputs": [
    {
     "name": "stdout",
     "output_type": "stream",
     "text": [
      "Percentage of Ys: 0.3647279549718574\n",
      "\n"
     ]
    },
    {
     "data": {
      "image/png": "[encoded data removed]",
      "text/plain": [
       "<matplotlib.figure.Figure at 0x105553d0>"
      ]
     },
     "metadata": {},
     "output_type": "display_data"
    }
   ],
   "source": [
    "data = occupancy_class_df\n",
    "holdout = data.sample(frac=0.05)\n",
    "training = data.loc[~data.index.isin(holdout.index)]\n",
    "\n",
    "# Define the target (y) and feature(s) (X)\n",
    "features_train = training.drop(\"Occupancy\", axis=1).as_matrix(columns=None)\n",
    "labels_train = training[\"Occupancy\"].as_matrix(columns=None)\n",
    "\n",
    "features_test = holdout.drop(\"Occupancy\", axis=1).as_matrix(columns=None)\n",
    "labels_test = holdout[\"Occupancy\"].as_matrix(columns=None)\n",
    "\n",
    "# What percentage of the time is target Y?\n",
    "print(\"Percentage of Ys: %s\\n\"%(len(data[data[\"Occupancy\"]== 1 ])/len(data)))\n",
    "\n",
    "#### initial visualization\n",
    "feature_1_no = [features_test[ii][0] for ii in range(0, len(features_test)) if labels_test[ii]== 0]\n",
    "feature_2_no = [features_test[ii][1] for ii in range(0, len(features_test)) if labels_test[ii]== 0]\n",
    "feature_1_yes = [features_test[ii][0] for ii in range(0, len(features_test)) if labels_test[ii]== 1]\n",
    "feature_2_yes = [features_test[ii][1] for ii in range(0, len(features_test)) if labels_test[ii]== 1]\n",
    "plt.scatter(feature_1_yes, feature_2_yes, color = \"g\", label=\"Occupied\")\n",
    "plt.scatter(feature_1_no, feature_2_no, color = \"r\", label=\"Not Occupied\")\n",
    "plt.legend()\n",
    "plt.xlabel(\"Temperature\")\n",
    "plt.ylabel(\"HumidityRatio\")\n",
    "plt.show()"
   ]
  },
  {
   "cell_type": "code",
   "execution_count": 32,
   "metadata": {},
   "outputs": [
    {
     "name": "stdout",
     "output_type": "stream",
     "text": [
      "Percentage of Ys: 0.3647279549718574\n",
      "\n"
     ]
    },
    {
     "data": {
      "image/png": "[encoded data removed]",
      "text/plain": [
       "<matplotlib.figure.Figure at 0x116731f0>"
      ]
     },
     "metadata": {},
     "output_type": "display_data"
    }
   ],
   "source": [
    "data = occupancy_class_df\n",
    "holdout = data.sample(frac=0.05)\n",
    "training = data.loc[~data.index.isin(holdout.index)]\n",
    "\n",
    "# Define the target (y) and feature(s) (X)\n",
    "features_train = training.drop(\"Occupancy\", axis=1).as_matrix(columns=None)\n",
    "labels_train = training[\"Occupancy\"].as_matrix(columns=None)\n",
    "\n",
    "features_test = holdout.drop(\"Occupancy\", axis=1).as_matrix(columns=None)\n",
    "labels_test = holdout[\"Occupancy\"].as_matrix(columns=None)\n",
    "\n",
    "# What percentage of the time is target Y?\n",
    "print(\"Percentage of Ys: %s\\n\"%(len(data[data[\"Occupancy\"]== 1 ])/len(data)))\n",
    "\n",
    "#### initial visualization\n",
    "feature_1_no = [features_test[ii][0] for ii in range(0, len(features_test)) if labels_test[ii]== 0]\n",
    "feature_2_no = [features_test[ii][1] for ii in range(0, len(features_test)) if labels_test[ii]== 0]\n",
    "feature_1_yes = [features_test[ii][0] for ii in range(0, len(features_test)) if labels_test[ii]== 1]\n",
    "feature_2_yes = [features_test[ii][1] for ii in range(0, len(features_test)) if labels_test[ii]== 1]\n",
    "plt.scatter(feature_1_yes, feature_2_yes, color = \"g\", label=\"Occupied\")\n",
    "plt.scatter(feature_1_no, feature_2_no, color = \"r\", label=\"Not Occupied\")\n",
    "plt.legend()\n",
    "plt.xlabel(\"Light\")\n",
    "plt.ylabel(\"Humidity\")\n",
    "plt.show()"
   ]
  },
  {
   "cell_type": "code",
   "execution_count": 33,
   "metadata": {},
   "outputs": [
    {
     "name": "stdout",
     "output_type": "stream",
     "text": [
      "Percentage of Ys: 0.3647279549718574\n",
      "\n"
     ]
    },
    {
     "data": {
      "image/png": "[encoded data removed]",
      "text/plain": [
       "<matplotlib.figure.Figure at 0x116d4e70>"
      ]
     },
     "metadata": {},
     "output_type": "display_data"
    }
   ],
   "source": [
    "data = occupancy_class_df\n",
    "holdout = data.sample(frac=0.05)\n",
    "training = data.loc[~data.index.isin(holdout.index)]\n",
    "\n",
    "# Define the target (y) and feature(s) (X)\n",
    "features_train = training.drop(\"Occupancy\", axis=1).as_matrix(columns=None)\n",
    "labels_train = training[\"Occupancy\"].as_matrix(columns=None)\n",
    "\n",
    "features_test = holdout.drop(\"Occupancy\", axis=1).as_matrix(columns=None)\n",
    "labels_test = holdout[\"Occupancy\"].as_matrix(columns=None)\n",
    "\n",
    "# What percentage of the time is target Y?\n",
    "print(\"Percentage of Ys: %s\\n\"%(len(data[data[\"Occupancy\"]== 1 ])/len(data)))\n",
    "\n",
    "#### initial visualization\n",
    "feature_1_no = [features_test[ii][0] for ii in range(0, len(features_test)) if labels_test[ii]== 0]\n",
    "feature_2_no = [features_test[ii][1] for ii in range(0, len(features_test)) if labels_test[ii]== 0]\n",
    "feature_1_yes = [features_test[ii][0] for ii in range(0, len(features_test)) if labels_test[ii]== 1]\n",
    "feature_2_yes = [features_test[ii][1] for ii in range(0, len(features_test)) if labels_test[ii]== 1]\n",
    "plt.scatter(feature_1_yes, feature_2_yes, color = \"g\", label=\"Occupied\")\n",
    "plt.scatter(feature_1_no, feature_2_no, color = \"r\", label=\"Not Occupied\")\n",
    "plt.legend()\n",
    "plt.xlabel(\"Light\")\n",
    "plt.ylabel(\"CO2\")\n",
    "plt.show()"
   ]
  },
  {
   "cell_type": "code",
   "execution_count": 34,
   "metadata": {},
   "outputs": [
    {
     "name": "stdout",
     "output_type": "stream",
     "text": [
      "Percentage of Ys: 0.3647279549718574\n",
      "\n"
     ]
    },
    {
     "data": {
      "image/png": "[encoded data removed]",
      "text/plain": [
       "<matplotlib.figure.Figure at 0x11723950>"
      ]
     },
     "metadata": {},
     "output_type": "display_data"
    }
   ],
   "source": [
    "data = occupancy_class_df\n",
    "holdout = data.sample(frac=0.05)\n",
    "training = data.loc[~data.index.isin(holdout.index)]\n",
    "\n",
    "# Define the target (y) and feature(s) (X)\n",
    "features_train = training.drop(\"Occupancy\", axis=1).as_matrix(columns=None)\n",
    "labels_train = training[\"Occupancy\"].as_matrix(columns=None)\n",
    "\n",
    "features_test = holdout.drop(\"Occupancy\", axis=1).as_matrix(columns=None)\n",
    "labels_test = holdout[\"Occupancy\"].as_matrix(columns=None)\n",
    "\n",
    "# What percentage of the time is target Y?\n",
    "print(\"Percentage of Ys: %s\\n\"%(len(data[data[\"Occupancy\"]== 1 ])/len(data)))\n",
    "\n",
    "#### initial visualization\n",
    "feature_1_no = [features_test[ii][0] for ii in range(0, len(features_test)) if labels_test[ii]== 0]\n",
    "feature_2_no = [features_test[ii][1] for ii in range(0, len(features_test)) if labels_test[ii]== 0]\n",
    "feature_1_yes = [features_test[ii][0] for ii in range(0, len(features_test)) if labels_test[ii]== 1]\n",
    "feature_2_yes = [features_test[ii][1] for ii in range(0, len(features_test)) if labels_test[ii]== 1]\n",
    "plt.scatter(feature_1_yes, feature_2_yes, color = \"g\", label=\"Occupied\")\n",
    "plt.scatter(feature_1_no, feature_2_no, color = \"r\", label=\"Not Occupied\")\n",
    "plt.legend()\n",
    "plt.xlabel(\"Light\")\n",
    "plt.ylabel(\"HumidityRatio\")\n",
    "plt.show()"
   ]
  },
  {
   "cell_type": "code",
   "execution_count": null,
   "metadata": {},
   "outputs": [],
   "source": []
  }
 ],
 "metadata": {
  "kernelspec": {
   "display_name": "Python 3",
   "language": "python",
   "name": "python3"
  },
  "language_info": {
   "codemirror_mode": {
    "name": "ipython",
    "version": 3
   },
   "file_extension": ".py",
   "mimetype": "text/x-python",
   "name": "python",
   "nbconvert_exporter": "python",
   "pygments_lexer": "ipython3",
   "version": "3.6.2"
  }
 },
 "nbformat": 4,
 "nbformat_minor": 1
}
