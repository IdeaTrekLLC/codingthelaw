{
 "cells": [
  {
   "cell_type": "markdown",
   "metadata": {},
   "source": [
    "# Assigned Counsel and Fee Waiver Bot\n",
    "By [Anthony Gallino](https://www.linkedin.com/in/anthony-gallino-182b3b45/) \n",
    "\n",
    "I wrote a bot, and you can find it [here](http://www.codingthelaw.org/Fall_2017/work/agallino/p1/bot.html). To write my bot, we used a tool called [QnA Markup](http://www.qnamarkup.org/). Basically, you create an interactive dicision tree by nesting questions and answers. Here's [my code](bot.txt). \n",
    "\n",
    "## User Testing\n",
    "\n",
    "To test my bot I asked several individuals with varying experiences to review a beta version of my project. First, I asked for a peer to test out my bot. [insert peer feedback]. Second, I reached out to a practicing attorney, a legal aid organization, and a Florida superior court clerk for feedback on the project. To date, only the attorney has responded with interested in reviewing the project. I am still waiting for his feedback, but will continue to incorporate his feedback as the year progresses. Finally, I asked my law school friend who has some coding experience, but is not a part of the Coding and the Law class. He caught several bugs in the code I had not caught. He also suggested putting more language to explain why one seeking counsel may be denied indigence status by a county clerk. He also said to explain that if someone is denied, that they have a right to appeal the decision.\n",
    "\n",
    "## Refinement\n",
    "\n",
    "To refine my project I looked through the two applicable Florida statutes regarding indigence in a criminal and civil context, respectively. I also examined each indigence form the state court system has promolgated to better assist \n",
    "\n",
    "## Real-World Viability\n",
    "\n",
    "[Describes what's needed]"
   ]
  },
  {
   "cell_type": "code",
   "execution_count": null,
   "metadata": {
    "collapsed": true
   },
   "outputs": [],
   "source": []
  }
 ],
 "metadata": {
  "kernelspec": {
   "display_name": "Python 3",
   "language": "python",
   "name": "python3"
  },
  "language_info": {
   "codemirror_mode": {
    "name": "ipython",
    "version": 3
   },
   "file_extension": ".py",
   "mimetype": "text/x-python",
   "name": "python",
   "nbconvert_exporter": "python",
   "pygments_lexer": "ipython3",
   "version": "3.6.1"
  }
 },
 "nbformat": 4,
 "nbformat_minor": 1
}
