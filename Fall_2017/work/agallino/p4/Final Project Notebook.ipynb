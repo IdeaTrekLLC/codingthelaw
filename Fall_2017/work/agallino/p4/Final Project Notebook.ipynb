{
 "cells": [
  {
   "cell_type": "markdown",
   "metadata": {},
   "source": [
    "# Final Project: Property Law Assistance\n",
    "By [Anthony Gallino](https://www.linkedin.com/in/anthony-gallino-182b3b45/) \n",
    "\n",
    "For my final project I created a chatbot to assist 1L students in understanding difficult property law concepts in the area of Landlord obligations and Rule Against Perpetuities. You can find the bot [here](bot.html). To write my bot, I used a tool called [QnA Markup](http://www.qnamarkup.org/). Basically, you create an interactive decision tree by nesting questions and answers. Here's [my code](bot.txt). \n",
    "\n",
    "## Framing\n",
    "\n",
    "The Rule Against Perpetuities has long plagued the student and practioner. The teaching of the concept is difficult because of its abstract nature. The general rule is stated as such: No interest is good unless it must vest, if at all, not later than twenty-one years after some life in being at the creation of the interest. This rule often raises difficult questions: what is a life in being? What does it mean for an interest to vest? These are complex concepts that often trouble students. The RAP forces you to imagine a scenario where the rule is violated. That is an abstract and difficult task for many, practionar and student alike. \n",
    "\n",
    "A landlord's duties with respect to the covenant of quiet enjoyment, constructive eviction, and actual partial eviction give are confusing, introductory aspects of property law that students seem to struggle with. These are often introductory concepts to property law. Quiet Enjoyment is generally when the landlord commits any interference with the tenant's rihgt of enjoyment. This includes nusiance. Constrictive eviction is weh the premise is in such disrepair or so unusable the tenant is forced to leave the premise. Often these are cases of extreme health hazards, or a nusiance so great a tenant must leave. Finally a claim for actual partial eviction will stand when there is any permenant physical encraochment onto the leased premise. The issue for students at this stage is their newness to property law concepts and that many of these concepts can overlap. Discerning when each claim is applicable and spotting the issue in a fact patern hypothetical is challanging. \n",
    "\n",
    "\n",
    "## Research\n",
    "\n",
    "Substantial review of existing solutions, including relevant technical and content-based solutions (e.g., form banks) and involving consultation with practitioners. Depth and breadth of research greatly exceeds that of other projects.\n",
    "\n",
    "## Prototyping\n",
    "\n",
    "Considers and weighs the costs & benefits of multiple technical solutions or design configurations. Creates prototype only after considering at least three alternatives. These may be the subject of A-B testing below.\n",
    "\n",
    "## User Testing\n",
    "\n",
    "Makes use of two or more of the following in close to real-world conditions: A-B testing, multiple testers other than themselves for each type of user, potential real-world user(s). Captures user feedback in a uniform comparable manner. Student provides copy of user feedback. You can find the letter from the partner [here]()\n",
    "\n",
    "\n",
    "## Refinment\n",
    "\n",
    "User feedback is thoughtfully integrated into the final version of the solution (where the solution includes both the technical product and any documentation). At least two rounds of user testing were conducted with iterative improvements to the solution after each round. Use of multiple tests amount to more than testing for testing's sake. \n",
    "\n",
    "## Intro Pitch\n",
    "\n",
    "Clearly presents a problem facing legal practitioners or consumers, including: (1) a definition of relevant stakeholders / users; (2) options currently available to users, remember doing nothing is an option; (3) an introduction to their partner; and (4) a rough sketch of how they intend to develop a solution. Quality, clarity, and focus of presentation and slide deck greatly exceed that of other presentations.\n",
    "\n",
    "## Complexity\n",
    "\n",
    "Involves non-trivial use of at least two of the following: an expert system; document automation; data scraping from a data source not in the student’s control; a machine learning algorithm trained by the student.\n",
    "\n",
    "## Impact\n",
    "\n",
    "Expands the reach of a single practitioner by more than 100 or decreases the amount of time expended on the automated task by more than 50%. Note: expanded reach must account for all work flowing from the solution such that this work will not result in new work for a practitioner. That is, it assumes the practitioner is already working at full capacity. So increased lead generation doesn’t count. More efficient selection of high-value clients, however, can count when this is reasonably projected to lead to a more than 5% increase in revenue.\n",
    "\n",
    "## Fitness\n",
    "\n",
    "Directly addresses the stated problem for the stated user types such that it is reasonable to assume almost all users of any user type would find the solution a great improvement over the status quo in nearly all conceivable use cases.\n",
    "\n",
    "## Documentation\n",
    "\n",
    "Well written and approachable for the overwhelming majority of potential users. Sufficient to address all likely user concerns as well as important edge cases.\n",
    "\n",
    "## Real World Application\n",
    "\n",
    "Ready for real-world use as is. This includes a working technical solution and all supporting documentation. It need not include placement on a server or user authentication.\n",
    "\n",
    "## Sustainability\n",
    "\n",
    "There is a clear plan for continued operation, updates, and maintenance, and the partner seems ready and willing to implement it. \n"
   ]
  },
  {
   "cell_type": "code",
   "execution_count": null,
   "metadata": {
    "collapsed": true
   },
   "outputs": [],
   "source": []
  }
 ],
 "metadata": {
  "kernelspec": {
   "display_name": "Python 3",
   "language": "python",
   "name": "python3"
  },
  "language_info": {
   "codemirror_mode": {
    "name": "ipython",
    "version": 3
   },
   "file_extension": ".py",
   "mimetype": "text/x-python",
   "name": "python",
   "nbconvert_exporter": "python",
   "pygments_lexer": "ipython3",
   "version": "3.6.1"
  }
 },
 "nbformat": 4,
 "nbformat_minor": 1
}
