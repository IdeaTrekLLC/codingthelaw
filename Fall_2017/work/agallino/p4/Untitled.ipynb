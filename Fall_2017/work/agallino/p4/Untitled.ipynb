{
 "cells": [
  {
   "cell_type": "code",
   "execution_count": 1,
   "metadata": {},
   "outputs": [
    {
     "ename": "SyntaxError",
     "evalue": "invalid syntax (<ipython-input-1-cb7fe3d30bc0>, line 2)",
     "output_type": "error",
     "traceback": [
      "\u001b[1;36m  File \u001b[1;32m\"<ipython-input-1-cb7fe3d30bc0>\"\u001b[1;36m, line \u001b[1;32m2\u001b[0m\n\u001b[1;33m    By [Anthony Gallino](https://www.linkedin.com/in/anthony-gallino-182b3b45/)\u001b[0m\n\u001b[1;37m                      ^\u001b[0m\n\u001b[1;31mSyntaxError\u001b[0m\u001b[1;31m:\u001b[0m invalid syntax\n"
     ]
    }
   ],
   "source": [
    "# Assigned Counsel and Fee Waiver Bot\n",
    "By [Anthony Gallino](https://www.linkedin.com/in/anthony-gallino-182b3b45/) \n",
    "\n",
    "I wrote a bot, and you can find it [here](http://www.codingthelaw.org/Fall_2017/work/agallino/p1/bot.html). To write my bot, we used a tool called [QnA Markup](http://www.qnamarkup.org/). Basically, you create an interactive decision tree by nesting questions and answers. Here's [my code](bot.txt). \n",
    "\n",
    "## User Testing\n",
    "\n",
    "To test my bot I asked several individuals with varying experiences to review a beta version of my project. \n",
    "\n",
    "First, I asked for a peer to test out my bot. In email correspondence dated 9/25/16 my peer tester and I exchanged each other's bots. My peer tester gave me feedback on two seperate issues: (1) he positively commented on the math in my bot and that it straightforwardly calculated an individual’s income and whether they were indigent based on a combination of hypothetical scenarios; (2) he suggested adding an additional explanation as to why one wouldn't qualify if the applicant had an asset valued grater than $2,500.\n",
    "\n",
    "Second, I reached out to a practicing attorney, a legal aid organization, and a Florida superior court clerk for feedback on the project. To date, only the attorney has responded with interest in reviewing the project. I am still waiting for his feedback, but will continue to incorporate his feedback as the year progresses. \n",
    "\n",
    "Finally, I asked my law school friend who has some coding experience, but is not a part of the Coding and the Law class. He caught several bugs in the code I had not caught. He also suggested putting more language to explain why one seeking counsel may be denied indigence status by a county clerk. He also said to explain that if someone is denied, that they have a right to appeal the decision.\n",
    "\n",
    "## Refinement\n",
    "\n",
    "Peer-tester feedback: To refine my project based on the peer-testers feedback, I looked through the two applicable Florida statutes regarding indigence in a criminal and civil context, respectively. I also examined each indigence form the state court system has promulgated to better assist with understanding why having assets above $2,500 precludes one from being indigent. I added language in both questions regarding value of assets. The court presumes one is not indigent if they own property of substantial value. I also added language in the results that the person would likely be unsuccessful in obtaining free counsel if there was either substantial assets or they made more than 200% of the federal poverty line. \n",
    "\n",
    "Attorney-tester feedback: I wasn't able to refine my bot further based on any attorney feedback because while one attorney did agree to review my project, he hasn't been able to provide me any feedback. Perhaps during the course of the semester he will and I'll be able to refine the project with his feedback.\n",
    "\n",
    "Friend/fellow law student tester feedback: I included language in cases of a probable denial of indigence status that an applicant has a right to an appeal, and that much of a clerk's determination is facts and circumstances based. Clerks do have some flexibility in awarding counsel in particular circumstances where an individual may technically make more than the 200% above the federal poverty line or has substantial assets.\n",
    "\n",
    "## Real-World Viability\n",
    "\n",
    "In order for this project to be ready for prime time, a lot needs to be added to the bot. First, this bot only prepares an indigence form for a criminal matter, and only fills out a portion of the variables the form calls for. While the bot does meet the minimum information required for a clerk to make a determination with respect to indigence, it is far from comprehensively completing the criminal indigence form. In order for this bot to be more complete, it would need to also establish a civil indigence form. \n",
    "\n",
    "Second, the bot needs to account for more math. While the bot can determine where you fall on the federal poverty line, the bot would also need to calculate all of your income from other sources - like government subsistence programs - as well as any liability and debts one has - such as child support obligations - to give clerks enough information to accurately understand and make a determination with respect to an applicant's indigence status. It is unclear from the statutes how the clerks evaluate the assets, income, and liabilities of an applicant to make a final determination. For example, I am not sure if the clerk adds up all income and assets, subtracts from that number all of the liabilities of the applicant, and then uses that figure to compare with the federal poverty line.\n",
    "\n",
    "Finally, I think it would be totally rad if the bot was able to electronically have the applicant sign the form and then immediately send it to the county clerk. This would allow for a more streamlined process from application, to clerk, to decision. It would most likely assist the court in receiving electronic forms, rather than traditional paper applications.\n"
   ]
  },
  {
   "cell_type": "code",
   "execution_count": null,
   "metadata": {
    "collapsed": true
   },
   "outputs": [],
   "source": []
  }
 ],
 "metadata": {
  "kernelspec": {
   "display_name": "Python 3",
   "language": "python",
   "name": "python3"
  },
  "language_info": {
   "codemirror_mode": {
    "name": "ipython",
    "version": 3
   },
   "file_extension": ".py",
   "mimetype": "text/x-python",
   "name": "python",
   "nbconvert_exporter": "python",
   "pygments_lexer": "ipython3",
   "version": "3.6.1"
  }
 },
 "nbformat": 4,
 "nbformat_minor": 2
}
