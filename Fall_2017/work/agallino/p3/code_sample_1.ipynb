{
 "cells": [
  {
   "cell_type": "markdown",
   "metadata": {},
   "source": [
    "# Project Three Notebook \n",
    "\n",
    "\n",
    "\n",
    "## Process\n",
    "\n",
    "Data Wrangling - For my project I used the Bureau of Labor Statistics and Immigration and Customs Enforcement (ICE) data. For the Labor Statistics I used the Consumer Price Index (CPI) from 1913 to 2013. Generally, the CPI is the costs of certain goods and services--often called a basket of goods--in an economy. When comparing the CPI from year to year for region to region, one can get an idea of inflation. Inflation is the rise in how much things cost from year to year. My data was the average of each year, averaged for the United States. From ICE I used total naturalized citizens each year from 1913 to 2013. Naturalized citizens are individuals who have gone through the process of becoming a citizen. The United States only naturalizes a certain number of individuals each year. The number is the total average for the given year. My target variable was CPI and my feature variable was the total naturalized citizens. \n",
    "\n",
    "Training and Cross Validation - I trained my data on 80% of the data. I used a holdout data of 20%. The training data suggested a very high correlation between naturalized citizens and an increase in CPI over time. (See Output 10). When I cross validated that with my hold out data the results were consistent. (See Output 11). My holdout data suggested an 86% accuracy with a correlation of .925. That suggests there is a correlation between the two variables and my feature variable was an accurate predictor of CPI 86% of the time. \n",
    "\n",
    "However, some potential for error along the way is that I averaged a lot of CPI data and over time it was averaged some nuance is lost along the way. Also, there is probably a lag between when citizens are naturalized and when CPI is increased. I am not entirely sure of the process for naturalization, but I believe that many who are naturalized have spent some time living in the United States before becoming naturalized. In either case, there most likely is a lag between naturalization and CPI. In future analysis I could one year off the naturalized variable with the CPI variable to see if the accuracy rate increases. In other words, if I use 1913 naturalized data to predict 1914 CPI, I might get a more accurate model. Further, naturalized citizens is one variable of many that could affect the CPI. For this to be a more accurate model, I would need to include other variables as well. Such variables could be if Congress increased government spending. If the President was Republican or Democrat. If taxes were raised that year. Was the economy in a boom or bust cycle? Many other variables could be used to more accurately predict CPI.\n",
    "\n",
    "Working Model - As you can see in output 10 and 11 my data provides a working model to predict an increase in CPI given the variables used. While this may not be ready for real world application without adding some additional feature variables, the with an 86% accuracy rate and a .925 correlation suggests I am on to something. This could be a valuable tool to congress who sets the number of individuals who can be naturalized in a given year. This could be a powerful tool for law makers to control inflation. For example, if we are experiencing an increase in inflation beyond acceptable levels, they can reduce the number of individuals naturalized. Or, Congress can increase the number naturalized to stimulate the economy. Overall, predicting CPI accurately can be a valuable tool in making a more stable economy for the United States. \n",
    "\n",
    "\n",
    "\n",
    "\n",
    "## Load Some Stuff\n",
    "\n",
    "This is where we load libraires and the like so we can do what we need. If you get an error saying a module is not loaded, open a new terminal/cmd line and try running: `pip install [module name]`. "
   ]
  },
  {
   "cell_type": "code",
   "execution_count": 1,
   "metadata": {
    "collapsed": true
   },
   "outputs": [],
   "source": [
    "import os\n",
    "try:\n",
    "    inputFunc = raw_input\n",
    "except NameError:\n",
    "    inputFunc = input\n",
    "\n",
    "import pandas as pd\n",
    "from pandas.tseries.holiday import USFederalHolidayCalendar\n",
    "from pandas.tseries.offsets import CustomBusinessDay\n",
    "import numpy as np\n",
    " \n",
    "import seaborn as sns\n",
    "from statsmodels.formula.api import ols\n",
    "\n",
    "from sklearn import linear_model\n",
    "from sklearn import metrics\n",
    "\n",
    "from sklearn.linear_model import LogisticRegression\n",
    "from patsy import dmatrices\n",
    "\n",
    "import matplotlib.pyplot as plt\n",
    "%matplotlib inline\n",
    "import numpy as np\n",
    "from sklearn.metrics import accuracy_score\n",
    "from sklearn.metrics import confusion_matrix\n",
    "\n",
    "import matplotlib.pyplot as plt\n",
    "\n",
    "import random\n",
    "\n",
    "\n",
    "\n",
    "# Custom functions\n",
    "\n",
    "def evaluate(pred, labels_test):\n",
    "    acc = accuracy_score(pred, labels_test)\n",
    "    print (\"Accuracey: %s\"%acc)\n",
    "    tn, fp, fn, tp = confusion_matrix(labels_test, pred).ravel()\n",
    "\n",
    "    recall = tp / (tp + fp)\n",
    "    percision = tp / (tp + fn)\n",
    "    f1 = (2 / ((1/recall)+(1/percision)))\n",
    "\n",
    "    print (\"\")\n",
    "    print (\"True Negatives: %s\"%tn)\n",
    "    print (\"False Positives: %s\"%fp)\n",
    "    print (\"False Negatives: %s\"%fn)\n",
    "    print (\"True Positives: %s\"%tp)\n",
    "    print (\"Recall: %s\"%recall)\n",
    "    print (\"Precision: %s\"%percision)\n",
    "    print (\"F1 Score: %s\"%f1)\n",
    "\n",
    "def plot_bound(Z_val,data,col1,col2,binary):\n",
    "    # Z-val equals \"Yes\" value. E.g., \"Y\" or \"1\". \n",
    "    # data equals df\n",
    "    # col1 and col2 defines which colums to use from data\n",
    "    # Plot binary decision boundary. \n",
    "    # For this, we will assign a color to each\n",
    "    # point in the mesh [x_min, m_max]x[y_min, y_max].\n",
    "    \n",
    "    x_min = float(data.iloc[:,[col1]].min())-float(data.iloc[:,[col1]].min())*0.10 \n",
    "    x_max = float(data.iloc[:,[col1]].max()+float(data.iloc[:,[col1]].min())*0.10)\n",
    "    y_min = 0.0; \n",
    "    y_max = float(training.iloc[:,[col2]].max())+float(training.iloc[:,[col2]].max())*0.10\n",
    "    h_x = (x_max-x_min)/100  # step size in the mesh\n",
    "    h_y = (y_max-y_min)/100  # step size in the mesh\n",
    "    xx, yy = np.meshgrid(np.arange(x_min, x_max, h_x), np.arange(y_min, y_max, h_y))\n",
    "    if binary == 1:\n",
    "        Z = clf.predict(np.c_[xx.ravel(), yy.ravel()])   \n",
    "        Z = np.where(Z==\"Y\",1,0)\n",
    "    else:\n",
    "        Z = clf.predict_proba(np.c_[xx.ravel(), yy.ravel()])[:, 1]\n",
    "    # Put the result into a color plot\n",
    "    Z = Z.reshape(xx.shape)\n",
    "    plt.xlim(xx.min(), xx.max())\n",
    "    plt.ylim(yy.min(), yy.max())\n",
    "    plt.pcolormesh(xx, yy, Z)\n",
    "    plt.show()"
   ]
  },
  {
   "cell_type": "markdown",
   "metadata": {},
   "source": [
    "## Data Cleaning\n",
    "\n",
    "Here we load the data we collected and get it all ready to feed to our statistical model(s). That is, we are trying to make a table with one **target** column and one or more **features**. Here I'm loading happiness.csv from: https://data.somervillema.gov/Happiness/Somerville-Happiness-Survey-responses-2011-2013-20/w898-3dfm Note: you can find information on the data elements at this link. \n"
   ]
  },
  {
   "cell_type": "code",
   "execution_count": 2,
   "metadata": {},
   "outputs": [
    {
     "data": {
      "text/html": [
       "<div>\n",
       "<style>\n",
       "    .dataframe thead tr:only-child th {\n",
       "        text-align: right;\n",
       "    }\n",
       "\n",
       "    .dataframe thead th {\n",
       "        text-align: left;\n",
       "    }\n",
       "\n",
       "    .dataframe tbody tr th {\n",
       "        vertical-align: top;\n",
       "    }\n",
       "</style>\n",
       "<table border=\"1\" class=\"dataframe\">\n",
       "  <thead>\n",
       "    <tr style=\"text-align: right;\">\n",
       "      <th></th>\n",
       "      <th>Year</th>\n",
       "      <th>CPI</th>\n",
       "      <th>Naturalized</th>\n",
       "    </tr>\n",
       "  </thead>\n",
       "  <tbody>\n",
       "    <tr>\n",
       "      <th>0</th>\n",
       "      <td>1913.0</td>\n",
       "      <td>9.88</td>\n",
       "      <td>83561.0</td>\n",
       "    </tr>\n",
       "    <tr>\n",
       "      <th>1</th>\n",
       "      <td>1914.0</td>\n",
       "      <td>10.02</td>\n",
       "      <td>104145.0</td>\n",
       "    </tr>\n",
       "    <tr>\n",
       "      <th>2</th>\n",
       "      <td>1915.0</td>\n",
       "      <td>10.11</td>\n",
       "      <td>91848.0</td>\n",
       "    </tr>\n",
       "    <tr>\n",
       "      <th>3</th>\n",
       "      <td>1916.0</td>\n",
       "      <td>10.88</td>\n",
       "      <td>87831.0</td>\n",
       "    </tr>\n",
       "    <tr>\n",
       "      <th>4</th>\n",
       "      <td>1917.0</td>\n",
       "      <td>12.83</td>\n",
       "      <td>88104.0</td>\n",
       "    </tr>\n",
       "  </tbody>\n",
       "</table>\n",
       "</div>"
      ],
      "text/plain": [
       "     Year    CPI  Naturalized\n",
       "0  1913.0   9.88      83561.0\n",
       "1  1914.0  10.02     104145.0\n",
       "2  1915.0  10.11      91848.0\n",
       "3  1916.0  10.88      87831.0\n",
       "4  1917.0  12.83      88104.0"
      ]
     },
     "execution_count": 2,
     "metadata": {},
     "output_type": "execute_result"
    }
   ],
   "source": [
    "# Load and peek at your data. Change the file name as needed. \n",
    "raw_data_df = pd.read_csv('data.csv') \n",
    "raw_data_df.head()"
   ]
  },
  {
   "cell_type": "code",
   "execution_count": 3,
   "metadata": {},
   "outputs": [
    {
     "name": "stdout",
     "output_type": "stream",
     "text": [
      "[ 1913.  1914.  1915.  1916.  1917.  1918.  1919.  1920.  1921.  1922.\n",
      "  1923.  1924.  1925.  1926.  1927.  1928.  1929.  1930.  1931.  1932.\n",
      "  1933.  1934.  1935.  1936.  1937.  1938.  1939.  1940.  1941.  1942.\n",
      "  1943.  1944.  1945.  1946.  1947.  1948.  1949.  1950.  1951.  1952.\n",
      "  1953.  1954.  1955.  1956.  1957.  1958.  1959.  1960.  1961.  1962.\n",
      "  1963.  1964.  1965.  1966.  1967.  1968.  1969.  1970.  1971.  1972.\n",
      "  1973.  1974.  1975.  1976.  1977.  1978.  1979.  1980.  1981.  1982.\n",
      "  1983.  1984.  1985.  1986.  1987.  1988.  1989.  1990.  1991.  1992.\n",
      "  1993.  1994.  1995.  1996.  1997.  1998.  1999.  2000.  2001.  2002.\n",
      "  2003.  2004.  2005.  2006.  2007.  2008.  2009.  2010.  2011.  2012.\n",
      "  2013.]\n",
      "[   9.88   10.02   10.11   10.88   12.83   15.04   17.33   20.04   17.85\n",
      "   16.75   17.05   17.13   17.54   17.7    17.36   17.16   16.7    15.21\n",
      "   13.64   12.93   13.38   13.73   13.87   14.38   14.09   13.91   14.01\n",
      "   14.73   16.33   17.31   17.59   17.99   19.52   22.33   24.04   23.81\n",
      "   24.07   25.96   26.55   26.77   26.85   26.78   27.18   28.09   28.86\n",
      "   29.15   29.58   29.89   30.25   30.63   31.02   31.51   32.46   33.36\n",
      "   34.78   36.68   38.83   40.49   41.82   44.4    49.31   53.82   56.91\n",
      "   60.61   65.23   72.58   82.41   90.93   96.5    99.6   103.88  107.57\n",
      "  109.61  113.63  118.26  123.97  130.66  136.19  140.32  144.46  148.23\n",
      "  152.38  156.85  160.52  163.01  166.58  172.2   177.07  179.88  183.96\n",
      "  188.88  195.29  201.59  207.34  215.3   214.54  218.06  224.94  229.59\n",
      "  232.96]\n"
     ]
    }
   ],
   "source": [
    "# You can explore unique entires by stating the column and using .unique() like this:\n",
    "print(raw_data_df[\"Year\"].unique())\n",
    "print(raw_data_df[\"CPI\"].unique())"
   ]
  },
  {
   "cell_type": "code",
   "execution_count": 4,
   "metadata": {
    "collapsed": true
   },
   "outputs": [],
   "source": [
    "processed_data_df = raw_data_df"
   ]
  },
  {
   "cell_type": "code",
   "execution_count": 5,
   "metadata": {},
   "outputs": [
    {
     "data": {
      "text/html": [
       "<div>\n",
       "<style>\n",
       "    .dataframe thead tr:only-child th {\n",
       "        text-align: right;\n",
       "    }\n",
       "\n",
       "    .dataframe thead th {\n",
       "        text-align: left;\n",
       "    }\n",
       "\n",
       "    .dataframe tbody tr th {\n",
       "        vertical-align: top;\n",
       "    }\n",
       "</style>\n",
       "<table border=\"1\" class=\"dataframe\">\n",
       "  <thead>\n",
       "    <tr style=\"text-align: right;\">\n",
       "      <th></th>\n",
       "      <th>Year</th>\n",
       "      <th>CPI</th>\n",
       "      <th>Naturalized</th>\n",
       "    </tr>\n",
       "  </thead>\n",
       "  <tbody>\n",
       "    <tr>\n",
       "      <th>0</th>\n",
       "      <td>1913.0</td>\n",
       "      <td>9.88</td>\n",
       "      <td>83561.0</td>\n",
       "    </tr>\n",
       "    <tr>\n",
       "      <th>1</th>\n",
       "      <td>1914.0</td>\n",
       "      <td>10.02</td>\n",
       "      <td>104145.0</td>\n",
       "    </tr>\n",
       "    <tr>\n",
       "      <th>2</th>\n",
       "      <td>1915.0</td>\n",
       "      <td>10.11</td>\n",
       "      <td>91848.0</td>\n",
       "    </tr>\n",
       "    <tr>\n",
       "      <th>3</th>\n",
       "      <td>1916.0</td>\n",
       "      <td>10.88</td>\n",
       "      <td>87831.0</td>\n",
       "    </tr>\n",
       "    <tr>\n",
       "      <th>4</th>\n",
       "      <td>1917.0</td>\n",
       "      <td>12.83</td>\n",
       "      <td>88104.0</td>\n",
       "    </tr>\n",
       "  </tbody>\n",
       "</table>\n",
       "</div>"
      ],
      "text/plain": [
       "     Year    CPI  Naturalized\n",
       "0  1913.0   9.88      83561.0\n",
       "1  1914.0  10.02     104145.0\n",
       "2  1915.0  10.11      91848.0\n",
       "3  1916.0  10.88      87831.0\n",
       "4  1917.0  12.83      88104.0"
      ]
     },
     "execution_count": 5,
     "metadata": {},
     "output_type": "execute_result"
    }
   ],
   "source": [
    "# I'm now going to make a set of tables to be used in training some models\n",
    "# The first set will be for linear regressions where the traget is numeric.\n",
    "# Happiness\n",
    "data_lin_df = processed_data_df[[\n",
    "                               'Year', \n",
    "                               'CPI', \n",
    "                               'Naturalized'\n",
    "                               ]].copy()\n",
    "data_lin_df.head()"
   ]
  },
  {
   "cell_type": "code",
   "execution_count": 6,
   "metadata": {},
   "outputs": [
    {
     "data": {
      "text/html": [
       "<div>\n",
       "<style>\n",
       "    .dataframe thead tr:only-child th {\n",
       "        text-align: right;\n",
       "    }\n",
       "\n",
       "    .dataframe thead th {\n",
       "        text-align: left;\n",
       "    }\n",
       "\n",
       "    .dataframe tbody tr th {\n",
       "        vertical-align: top;\n",
       "    }\n",
       "</style>\n",
       "<table border=\"1\" class=\"dataframe\">\n",
       "  <thead>\n",
       "    <tr style=\"text-align: right;\">\n",
       "      <th></th>\n",
       "      <th>Year</th>\n",
       "      <th>CPI</th>\n",
       "      <th>Naturalized</th>\n",
       "    </tr>\n",
       "  </thead>\n",
       "  <tbody>\n",
       "    <tr>\n",
       "      <th>0</th>\n",
       "      <td>1913.0</td>\n",
       "      <td>9.88</td>\n",
       "      <td>83561.0</td>\n",
       "    </tr>\n",
       "    <tr>\n",
       "      <th>1</th>\n",
       "      <td>1914.0</td>\n",
       "      <td>10.02</td>\n",
       "      <td>104145.0</td>\n",
       "    </tr>\n",
       "    <tr>\n",
       "      <th>2</th>\n",
       "      <td>1915.0</td>\n",
       "      <td>10.11</td>\n",
       "      <td>91848.0</td>\n",
       "    </tr>\n",
       "    <tr>\n",
       "      <th>3</th>\n",
       "      <td>1916.0</td>\n",
       "      <td>10.88</td>\n",
       "      <td>87831.0</td>\n",
       "    </tr>\n",
       "    <tr>\n",
       "      <th>4</th>\n",
       "      <td>1917.0</td>\n",
       "      <td>12.83</td>\n",
       "      <td>88104.0</td>\n",
       "    </tr>\n",
       "  </tbody>\n",
       "</table>\n",
       "</div>"
      ],
      "text/plain": [
       "     Year    CPI  Naturalized\n",
       "0  1913.0   9.88      83561.0\n",
       "1  1914.0  10.02     104145.0\n",
       "2  1915.0  10.11      91848.0\n",
       "3  1916.0  10.88      87831.0\n",
       "4  1917.0  12.83      88104.0"
      ]
     },
     "execution_count": 6,
     "metadata": {},
     "output_type": "execute_result"
    }
   ],
   "source": [
    "processed_data_df.head()"
   ]
  },
  {
   "cell_type": "markdown",
   "metadata": {},
   "source": [
    "## Taining and Validation\n",
    "\n",
    "Above I created four datasets worth exploring: \n",
    "- **`happy_lin_df`**. The data needed to access *happiness* along a continuous variable.\n",
    "- **`sat_lin_df`**. The data needed to access *satisfaction* along a continuous variable.\n",
    "- **`happy_class_df`**. The data needed to access *happiness* as a categorical variable.\n",
    "- **`sat_class_df`**. The data needed to access *satisfaction* as a categorical variable.\n",
    "\n",
    "Let's take them each in turn. "
   ]
  },
  {
   "cell_type": "code",
   "execution_count": 7,
   "metadata": {},
   "outputs": [
    {
     "data": {
      "text/html": [
       "<div>\n",
       "<style>\n",
       "    .dataframe thead tr:only-child th {\n",
       "        text-align: right;\n",
       "    }\n",
       "\n",
       "    .dataframe thead th {\n",
       "        text-align: left;\n",
       "    }\n",
       "\n",
       "    .dataframe tbody tr th {\n",
       "        vertical-align: top;\n",
       "    }\n",
       "</style>\n",
       "<table border=\"1\" class=\"dataframe\">\n",
       "  <thead>\n",
       "    <tr style=\"text-align: right;\">\n",
       "      <th></th>\n",
       "      <th>Year</th>\n",
       "      <th>CPI</th>\n",
       "      <th>Naturalized</th>\n",
       "    </tr>\n",
       "  </thead>\n",
       "  <tbody>\n",
       "    <tr>\n",
       "      <th>0</th>\n",
       "      <td>1913.0</td>\n",
       "      <td>9.88</td>\n",
       "      <td>83561.0</td>\n",
       "    </tr>\n",
       "    <tr>\n",
       "      <th>1</th>\n",
       "      <td>1914.0</td>\n",
       "      <td>10.02</td>\n",
       "      <td>104145.0</td>\n",
       "    </tr>\n",
       "    <tr>\n",
       "      <th>2</th>\n",
       "      <td>1915.0</td>\n",
       "      <td>10.11</td>\n",
       "      <td>91848.0</td>\n",
       "    </tr>\n",
       "    <tr>\n",
       "      <th>3</th>\n",
       "      <td>1916.0</td>\n",
       "      <td>10.88</td>\n",
       "      <td>87831.0</td>\n",
       "    </tr>\n",
       "    <tr>\n",
       "      <th>4</th>\n",
       "      <td>1917.0</td>\n",
       "      <td>12.83</td>\n",
       "      <td>88104.0</td>\n",
       "    </tr>\n",
       "  </tbody>\n",
       "</table>\n",
       "</div>"
      ],
      "text/plain": [
       "     Year    CPI  Naturalized\n",
       "0  1913.0   9.88      83561.0\n",
       "1  1914.0  10.02     104145.0\n",
       "2  1915.0  10.11      91848.0\n",
       "3  1916.0  10.88      87831.0\n",
       "4  1917.0  12.83      88104.0"
      ]
     },
     "execution_count": 7,
     "metadata": {},
     "output_type": "execute_result"
    }
   ],
   "source": [
    "# To make sure all of your columns are stored as numbers, use the pd.to_numeric method like so.\n",
    "processed_data_df = processed_data_df.apply(pd.to_numeric, errors='coerce')\n",
    "# errors='coerce' will set things that can't be converted to numbers to NaN\n",
    "# so you'll want to drop these like so.\n",
    "processed_data_df = processed_data_df.dropna()\n",
    "processed_data_df.head()"
   ]
  },
  {
   "cell_type": "markdown",
   "metadata": {},
   "source": [
    "## happy_lin_df\n",
    "\n"
   ]
  },
  {
   "cell_type": "code",
   "execution_count": 8,
   "metadata": {
    "collapsed": true
   },
   "outputs": [],
   "source": [
    "data = data_lin_df\n",
    "\n",
    "data_lin_df\n",
    "\n",
    "holdout = data.sample(frac=0.20)\n",
    "training = data.loc[~data.index.isin(holdout.index)]"
   ]
  },
  {
   "cell_type": "code",
   "execution_count": 9,
   "metadata": {},
   "outputs": [
    {
     "data": {
      "text/plain": [
       "<seaborn.axisgrid.FacetGrid at 0x4eb0a58>"
      ]
     },
     "execution_count": 9,
     "metadata": {},
     "output_type": "execute_result"
    },
    {
     "data": {
      "image/png": "[encoded data removed]",
      "text/plain": [
       "<matplotlib.figure.Figure at 0x4eb0588>"
      ]
     },
     "metadata": {},
     "output_type": "display_data"
    }
   ],
   "source": [
    "sns.lmplot(x=\"Naturalized\", y=\"CPI\", data=training, x_estimator=np.mean, order=1)"
   ]
  },
  {
   "cell_type": "code",
   "execution_count": 10,
   "metadata": {},
   "outputs": [
    {
     "data": {
      "text/html": [
       "<table class=\"simpletable\">\n",
       "<caption>OLS Regression Results</caption>\n",
       "<tr>\n",
       "  <th>Dep. Variable:</th>           <td>CPI</td>       <th>  R-squared:         </th> <td>   0.925</td>\n",
       "</tr>\n",
       "<tr>\n",
       "  <th>Model:</th>                   <td>OLS</td>       <th>  Adj. R-squared:    </th> <td>   0.923</td>\n",
       "</tr>\n",
       "<tr>\n",
       "  <th>Method:</th>             <td>Least Squares</td>  <th>  F-statistic:       </th> <td>   483.0</td>\n",
       "</tr>\n",
       "<tr>\n",
       "  <th>Date:</th>             <td>Fri, 15 Dec 2017</td> <th>  Prob (F-statistic):</th> <td>1.15e-44</td>\n",
       "</tr>\n",
       "<tr>\n",
       "  <th>Time:</th>                 <td>11:06:36</td>     <th>  Log-Likelihood:    </th> <td> -352.97</td>\n",
       "</tr>\n",
       "<tr>\n",
       "  <th>No. Observations:</th>      <td>    81</td>      <th>  AIC:               </th> <td>   711.9</td>\n",
       "</tr>\n",
       "<tr>\n",
       "  <th>Df Residuals:</th>          <td>    78</td>      <th>  BIC:               </th> <td>   719.1</td>\n",
       "</tr>\n",
       "<tr>\n",
       "  <th>Df Model:</th>              <td>     2</td>      <th>                     </th>     <td> </td>   \n",
       "</tr>\n",
       "<tr>\n",
       "  <th>Covariance Type:</th>      <td>nonrobust</td>    <th>                     </th>     <td> </td>   \n",
       "</tr>\n",
       "</table>\n",
       "<table class=\"simpletable\">\n",
       "<tr>\n",
       "       <td></td>          <th>coef</th>     <th>std err</th>      <th>t</th>      <th>P>|t|</th>  <th>[0.025</th>    <th>0.975]</th>  \n",
       "</tr>\n",
       "<tr>\n",
       "  <th>Intercept</th>   <td>-2603.7134</td> <td>  194.321</td> <td>  -13.399</td> <td> 0.000</td> <td>-2990.578</td> <td>-2216.849</td>\n",
       "</tr>\n",
       "<tr>\n",
       "  <th>Year</th>        <td>    1.3428</td> <td>    0.100</td> <td>   13.403</td> <td> 0.000</td> <td>    1.143</td> <td>    1.542</td>\n",
       "</tr>\n",
       "<tr>\n",
       "  <th>Naturalized</th> <td>    0.0001</td> <td> 1.33e-05</td> <td>   11.221</td> <td> 0.000</td> <td>    0.000</td> <td>    0.000</td>\n",
       "</tr>\n",
       "</table>\n",
       "<table class=\"simpletable\">\n",
       "<tr>\n",
       "  <th>Omnibus:</th>       <td> 9.711</td> <th>  Durbin-Watson:     </th> <td>   0.455</td>\n",
       "</tr>\n",
       "<tr>\n",
       "  <th>Prob(Omnibus):</th> <td> 0.008</td> <th>  Jarque-Bera (JB):  </th> <td>   3.664</td>\n",
       "</tr>\n",
       "<tr>\n",
       "  <th>Skew:</th>          <td>-0.194</td> <th>  Prob(JB):          </th> <td>   0.160</td>\n",
       "</tr>\n",
       "<tr>\n",
       "  <th>Kurtosis:</th>      <td> 2.033</td> <th>  Cond. No.          </th> <td>3.07e+07</td>\n",
       "</tr>\n",
       "</table>"
      ],
      "text/plain": [
       "<class 'statsmodels.iolib.summary.Summary'>\n",
       "\"\"\"\n",
       "                            OLS Regression Results                            \n",
       "==============================================================================\n",
       "Dep. Variable:                    CPI   R-squared:                       0.925\n",
       "Model:                            OLS   Adj. R-squared:                  0.923\n",
       "Method:                 Least Squares   F-statistic:                     483.0\n",
       "Date:                Fri, 15 Dec 2017   Prob (F-statistic):           1.15e-44\n",
       "Time:                        11:06:36   Log-Likelihood:                -352.97\n",
       "No. Observations:                  81   AIC:                             711.9\n",
       "Df Residuals:                      78   BIC:                             719.1\n",
       "Df Model:                           2                                         \n",
       "Covariance Type:            nonrobust                                         \n",
       "===============================================================================\n",
       "                  coef    std err          t      P>|t|      [0.025      0.975]\n",
       "-------------------------------------------------------------------------------\n",
       "Intercept   -2603.7134    194.321    -13.399      0.000   -2990.578   -2216.849\n",
       "Year            1.3428      0.100     13.403      0.000       1.143       1.542\n",
       "Naturalized     0.0001   1.33e-05     11.221      0.000       0.000       0.000\n",
       "==============================================================================\n",
       "Omnibus:                        9.711   Durbin-Watson:                   0.455\n",
       "Prob(Omnibus):                  0.008   Jarque-Bera (JB):                3.664\n",
       "Skew:                          -0.194   Prob(JB):                        0.160\n",
       "Kurtosis:                       2.033   Cond. No.                     3.07e+07\n",
       "==============================================================================\n",
       "\n",
       "Warnings:\n",
       "[1] Standard Errors assume that the covariance matrix of the errors is correctly specified.\n",
       "[2] The condition number is large, 3.07e+07. This might indicate that there are\n",
       "strong multicollinearity or other numerical problems.\n",
       "\"\"\""
      ]
     },
     "execution_count": 10,
     "metadata": {},
     "output_type": "execute_result"
    }
   ],
   "source": [
    "model = ols(\"CPI ~ Year + Naturalized\", training).fit()\n",
    "#model = ols(\"happy ~ age + income + np.power(age, 2) + np.power(income, 2)\", training).fit()\n",
    "model.summary()"
   ]
  },
  {
   "cell_type": "code",
   "execution_count": 11,
   "metadata": {},
   "outputs": [
    {
     "name": "stdout",
     "output_type": "stream",
     "text": [
      "R squared: 0.925291684221\n",
      "Accuracy: 0.856159510917\n"
     ]
    }
   ],
   "source": [
    "# Rerun with SciKitLearn because it's easy to check accuracy\n",
    "features_train = training.drop(\"CPI\", axis=1).as_matrix(columns=None)\n",
    "labels_train = training[\"CPI\"].as_matrix(columns=None)\n",
    "\n",
    "features_test = holdout.drop(\"CPI\", axis=1).as_matrix(columns=None)\n",
    "labels_test = holdout[\"CPI\"].as_matrix(columns=None)\n",
    "\n",
    "lm = linear_model.LinearRegression()\n",
    "clf = lm.fit(features_train, labels_train)\n",
    "pred = clf.predict(features_test)\n",
    "accuracy = metrics.r2_score(labels_test, pred)\n",
    "print(\"R squared:\",lm.score(features_train,labels_train))\n",
    "print(\"Accuracy:\",accuracy)"
   ]
  },
  {
   "cell_type": "code",
   "execution_count": null,
   "metadata": {
    "collapsed": true
   },
   "outputs": [],
   "source": []
  }
 ],
 "metadata": {
  "kernelspec": {
   "display_name": "Python 3",
   "language": "python",
   "name": "python3"
  },
  "language_info": {
   "codemirror_mode": {
    "name": "ipython",
    "version": 3
   },
   "file_extension": ".py",
   "mimetype": "text/x-python",
   "name": "python",
   "nbconvert_exporter": "python",
   "pygments_lexer": "ipython3",
   "version": "3.6.1"
  }
 },
 "nbformat": 4,
 "nbformat_minor": 1
}
