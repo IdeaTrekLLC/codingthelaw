{
 "cells": [
  {
   "cell_type": "markdown",
   "metadata": {},
   "source": [
    "Adapted from the notebook found at [How to Build a Law Bot](https://lawyerist.com/how-build-law-bot/)\n",
    "\n",
    "## Install libraries\n",
    "\n",
    "If you haven't already, you may need to install some dependencies. On the command line, run the following to install/update gspread, oauth2client, PyOpenSSL, and python-twitter.\n",
    "```\n",
    "pip install gspread\n",
    "pip install --upgrade oauth2client\n",
    "pip install PyOpenSSL\n",
    "pip install python-twitter\n",
    "```\n",
    "Library installs are one and done. So after doing this once, you should be all set. \n",
    "\n",
    "## Import modules and set variables\n",
    "\n",
    "Now we're getting into the bot's code. This is what will run every time your bot is called. \n",
    "\n",
    "You will need to create a new Google Sheet (same instructions as [last time](https://lawyerist.com/126074/online-forms-meet-local-document-automation-cut-and-paste-coding/)). Delete rows 2-999. This is because the code below appends values to the end of your sheet. So if you fail to remove rows 2-999, values will be appended to row 1000. Additionally, it looks at the last row of the sheet for your old values. So right off the bat it will be looking at your one solitary row. Also, delete columns D through Z to avoind having to print a bunch of empty columns.\n",
    "\n",
    "As for a Twitter account and Twitter credentials, follow the instruction in [this post](https://lawyerist.com/?p=127093). "
   ]
  },
  {
   "cell_type": "code",
   "execution_count": 1,
   "metadata": {
    "collapsed": true
   },
   "outputs": [],
   "source": [
    "# Load the module for visiting and reading websites.\n",
    "import urllib.request\n",
    "# Load the module for running regular expressions (regex).\n",
    "import re \n",
    "# Load the module for date and time stuff.\n",
    "import datetime\n",
    "# Define the variable now as equal to the current date and time.\n",
    "now = datetime.datetime.now()"
   ]
  },
  {
   "cell_type": "code",
   "execution_count": 2,
   "metadata": {
    "collapsed": true
   },
   "outputs": [],
   "source": [
    "# Set the URL you want to scrape.\n",
    "url_1 = \"http://www.codingthelaw.org/\"\n",
    "\n",
    "# If you want to scrape data from multiple pages, you can, \n",
    "# just replicate the above and below but change url_1 to url_2 et al."
   ]
  },
  {
   "cell_type": "code",
   "execution_count": 3,
   "metadata": {},
   "outputs": [
    {
     "ename": "FileNotFoundError",
     "evalue": "[Errno 2] No such file or directory: '../../../../../SheetsBot-32718db5596a.json'",
     "output_type": "error",
     "traceback": [
      "\u001b[0;31m---------------------------------------------------------------------------\u001b[0m",
      "\u001b[0;31mFileNotFoundError\u001b[0m                         Traceback (most recent call last)",
      "\u001b[0;32m<ipython-input-3-b0406cef9128>\u001b[0m in \u001b[0;36m<module>\u001b[0;34m()\u001b[0m\n\u001b[1;32m     10\u001b[0m \u001b[0;31m#              ^^^^^^^^^^^ SWAP OUT FOR YOUR DOCUMENT ID/KEY\u001b[0m\u001b[0;34m\u001b[0m\u001b[0;34m\u001b[0m\u001b[0m\n\u001b[1;32m     11\u001b[0m \u001b[0;31m# Your Google project's .json key\u001b[0m\u001b[0;34m\u001b[0m\u001b[0;34m\u001b[0m\u001b[0m\n\u001b[0;32m---> 12\u001b[0;31m \u001b[0mcredentials\u001b[0m \u001b[0;34m=\u001b[0m \u001b[0mServiceAccountCredentials\u001b[0m\u001b[0;34m.\u001b[0m\u001b[0mfrom_json_keyfile_name\u001b[0m\u001b[0;34m(\u001b[0m\u001b[0;34m'../../../../../SheetsBot-32718db5596a.json'\u001b[0m\u001b[0;34m,\u001b[0m \u001b[0mscope\u001b[0m\u001b[0;34m)\u001b[0m\u001b[0;34m\u001b[0m\u001b[0m\n\u001b[0m\u001b[1;32m     13\u001b[0m \u001b[0;31m#                                                                              ^^^^^^^^ SWAP OUT FOR YOUR JSON KEY\u001b[0m\u001b[0;34m\u001b[0m\u001b[0;34m\u001b[0m\u001b[0m\n\u001b[1;32m     14\u001b[0m \u001b[0;31m# Use your credentials to authorize yourself.\u001b[0m\u001b[0;34m\u001b[0m\u001b[0;34m\u001b[0m\u001b[0m\n",
      "\u001b[0;32m/Applications/anaconda/lib/python3.6/site-packages/oauth2client/service_account.py\u001b[0m in \u001b[0;36mfrom_json_keyfile_name\u001b[0;34m(cls, filename, scopes, token_uri, revoke_uri)\u001b[0m\n\u001b[1;32m    217\u001b[0m                 \u001b[0mthe\u001b[0m \u001b[0mkeyfile\u001b[0m\u001b[0;34m.\u001b[0m\u001b[0;34m\u001b[0m\u001b[0m\n\u001b[1;32m    218\u001b[0m         \"\"\"\n\u001b[0;32m--> 219\u001b[0;31m         \u001b[0;32mwith\u001b[0m \u001b[0mopen\u001b[0m\u001b[0;34m(\u001b[0m\u001b[0mfilename\u001b[0m\u001b[0;34m,\u001b[0m \u001b[0;34m'r'\u001b[0m\u001b[0;34m)\u001b[0m \u001b[0;32mas\u001b[0m \u001b[0mfile_obj\u001b[0m\u001b[0;34m:\u001b[0m\u001b[0;34m\u001b[0m\u001b[0m\n\u001b[0m\u001b[1;32m    220\u001b[0m             \u001b[0mclient_credentials\u001b[0m \u001b[0;34m=\u001b[0m \u001b[0mjson\u001b[0m\u001b[0;34m.\u001b[0m\u001b[0mload\u001b[0m\u001b[0;34m(\u001b[0m\u001b[0mfile_obj\u001b[0m\u001b[0;34m)\u001b[0m\u001b[0;34m\u001b[0m\u001b[0m\n\u001b[1;32m    221\u001b[0m         return cls._from_parsed_json_keyfile(client_credentials, scopes,\n",
      "\u001b[0;31mFileNotFoundError\u001b[0m: [Errno 2] No such file or directory: '../../../../../SheetsBot-32718db5596a.json'"
     ]
    }
   ],
   "source": [
    "# Load the module for accessing Google Sheets.\n",
    "import gspread\n",
    "# Load the module needed for securely communicating with Google Sheets.\n",
    "from oauth2client.service_account import ServiceAccountCredentials\n",
    "# The scope for your access credentials\n",
    "scope = ['https://spreadsheets.google.com/feeds']\n",
    "\n",
    "# Your spreadsheet's ID\n",
    "document_key = \"13bsf7rP9ubfBSX7-hK3QayZIaUkTxrXaOZqGsfLjWX4\" \n",
    "#              ^^^^^^^^^^^ SWAP OUT FOR YOUR DOCUMENT ID/KEY\n",
    "# Your Google project's .json key\n",
    "credentials = ServiceAccountCredentials.from_json_keyfile_name('../../../../../SheetsBot-32718db5596a.json', scope)\n",
    "#                                                                              ^^^^^^^^ SWAP OUT FOR YOUR JSON KEY\n",
    "# Use your credentials to authorize yourself.\n",
    "gc = gspread.authorize(credentials)\n",
    "# Open up the Sheet with the defined ID.\n",
    "wks = gc.open_by_key(document_key)\n",
    "\n",
    "#########################################\n",
    "#\n",
    "#  NOTE: The name of the sheet you are \n",
    "#  trying to access should be in the \n",
    "#  parenthetical below (e.g., Data). By\n",
    "#  Default this is probably \"Sheet1\".\n",
    "#\n",
    "#########################################\n",
    "worksheet = wks.worksheet(\"Sheet1\")\n",
    "\n",
    "# Count the number of rows in your Sheet &\n",
    "# resize to remove blank rows.\n",
    "worksheet.resize(worksheet.row_count)"
   ]
  },
  {
   "cell_type": "code",
   "execution_count": 4,
   "metadata": {},
   "outputs": [
    {
     "ename": "NameError",
     "evalue": "name 'worksheet' is not defined",
     "output_type": "error",
     "traceback": [
      "\u001b[0;31m---------------------------------------------------------------------------\u001b[0m",
      "\u001b[0;31mNameError\u001b[0m                                 Traceback (most recent call last)",
      "\u001b[0;32m<ipython-input-4-89e274e4bbe5>\u001b[0m in \u001b[0;36m<module>\u001b[0;34m()\u001b[0m\n\u001b[1;32m      2\u001b[0m \u001b[0;31m# Note: The first time you run this code, it will be empty as nothing has yet to be stored in your sheet.\u001b[0m\u001b[0;34m\u001b[0m\u001b[0;34m\u001b[0m\u001b[0m\n\u001b[1;32m      3\u001b[0m \u001b[0;34m\u001b[0m\u001b[0m\n\u001b[0;32m----> 4\u001b[0;31m \u001b[0mprint\u001b[0m\u001b[0;34m(\u001b[0m\u001b[0mworksheet\u001b[0m\u001b[0;34m.\u001b[0m\u001b[0mrow_values\u001b[0m\u001b[0;34m(\u001b[0m\u001b[0mworksheet\u001b[0m\u001b[0;34m.\u001b[0m\u001b[0mrow_count\u001b[0m\u001b[0;34m)\u001b[0m\u001b[0;34m)\u001b[0m\u001b[0;34m\u001b[0m\u001b[0m\n\u001b[0m\u001b[1;32m      5\u001b[0m \u001b[0;31m#############################\u001b[0m\u001b[0;34m\u001b[0m\u001b[0;34m\u001b[0m\u001b[0m\n\u001b[1;32m      6\u001b[0m \u001b[0;31m# DELETE CELL AFTER TESTING\u001b[0m\u001b[0;34m\u001b[0m\u001b[0;34m\u001b[0m\u001b[0m\n",
      "\u001b[0;31mNameError\u001b[0m: name 'worksheet' is not defined"
     ]
    }
   ],
   "source": [
    "# Print out the old values stored in your sheet \n",
    "# Note: The first time you run this code, it will be empty as nothing has yet to be stored in your sheet.\n",
    "\n",
    "print(worksheet.row_values(worksheet.row_count))\n",
    "#############################\n",
    "# DELETE CELL AFTER TESTING\n",
    "#############################"
   ]
  },
  {
   "cell_type": "code",
   "execution_count": 5,
   "metadata": {},
   "outputs": [],
   "source": [
    "# Import the relevant Twitter libraries so you can use Twitter.\n",
    "import twitter\n",
    "from twitter import TwitterError\n",
    "\n",
    "# create the following four text files and add them to the same diretctry as you \n",
    "# Google API key. In each file add the appropriate value found when retrieving your \n",
    "# Twitter credentials\n",
    "\n",
    "with open('../../../../../key.txt', 'r') as myfile:\n",
    "    key=myfile.read()\n",
    "    \n",
    "with open('../../../../../secret.txt', 'r') as myfile:\n",
    "    secret=myfile.read()\n",
    "    \n",
    "with open('../../../../../token_key.txt', 'r') as myfile:\n",
    "    token_key=myfile.read()\n",
    "\n",
    "with open('../../../../../token_secret.txt', 'r') as myfile:\n",
    "    token_secret=myfile.read()\n",
    "\n",
    "# Set you Twitter API credentials.\n",
    "api = twitter.Api(consumer_key=key,\n",
    "                  consumer_secret=secret,\n",
    "                  access_token_key=token_key,\n",
    "                  access_token_secret=token_secret)"
   ]
  },
  {
   "cell_type": "markdown",
   "metadata": {},
   "source": [
    "## Read the contents of your first webpage\n",
    "\n",
    "When you run the next cell, your program will visit the first URL you defined above. It will then print out that page's HTML. "
   ]
  },
  {
   "cell_type": "code",
   "execution_count": 6,
   "metadata": {
    "scrolled": true
   },
   "outputs": [
    {
     "name": "stdout",
     "output_type": "stream",
     "text": [
      "b'<!DOCTYPE html PUBLIC \"-//W3C//DTD XHTML 1.0 Transitional//EN\" \"http://www.w3.org/TR/xhtml1/DTD/xhtml1-transitional.dtd\"> \\n<HTML xmlns=\"http://www.w3.org/1999/xhtml\"\\n      xmlns:og=\"http://ogp.me/ns#\"\\n      xmlns:fb=\"http://www.facebook.com/2008/fbml\"> \\n<HEAD>\\n\\t<title>Coding the Law: An Introduction to Algorithms in the Law</title>\\n\\t<base href=\"http://www.codingthelaw.org/Fall_2017/\">\\n\\t<meta http-equiv=\"Content-type\" content=\"text/html;charset=UTF-8\"/> \\n\\t<meta name=\"viewport\" content=\"width=device-width; initial-scale=1.0; maximum-scale=1.0; user-scalable=0;\" />\\n\\t<meta name=\"apple-mobile-web-app-capable\" content=\"no\" />\\n\\t<meta name=\"apple-mobile-web-app-status-bar-style\" content=\"black\" /> \\n\\t<meta property=\"og:type\" content=\"website\"/>\\n\\t<meta property=\"og:title\" content=\"Coding the Law\"/>\\n\\t<meta property=\"og:description\" content=\"Learn how to think about thinking machines in the law by building your own. In this project-based course, open to non-programmers and coders alike, we will explore the technical, legal, and ethical dimensions behind the use of computer algorithms by legal practitioners and the justice system. Projects range from the creation of simple document review and automation tools to the construction of expert systems and narrow AIs.\"/>\\n\\t<meta property=\"og:image\" content=\"\"/>\\n\\t<meta http-equiv=\"X-UA-Compatible\" content=\"IE=edge\" />\\n\\t<link rel=\"shortcut icon\" type=\"image/x-icon\" href=\"../favicon.ico\">\\n\\t<link rel=\"apple-touch-icon\" href=\"/images/icon.png\"/> \\n\\t<link rel=\"stylesheet\" href=\"http://code.jquery.com/ui/1.11.1/themes/smoothness/jquery-ui.css\">\\n\\t<link rel=\"stylesheet\" type=\"text/css\" href=\"/Fall_2017/css/style.css\">\\n\\t<script src=\"http://code.jquery.com/jquery-1.11.1.min.js\"></script>\\n  \\t<script src=\"http://code.jquery.com/jquery-1.10.2.js\"></script>\\n  \\t<script src=\"http://code.jquery.com/ui/1.11.1/jquery-ui.js\"></script>\\n</HEAD>\\n<BODY BGCOLOR=\"#ffffff\" BACKGROUND=\"\" MARGINWIDTH=\"0\" MARGINHEIGHT=\"0\">\\n<FORM name=\"FORM\" id=\"FORM\"><div id=\"conversation\" style=\"margin:15px auto 0 auto;padding:0 15px;max-width:600px\">\\n<div id=\"icon\" style=\"background-size: 110px 99px;background-image: url(\\'http://www.codingthelaw.org/images/max_headroom.gif\\');\"></div>\\n<h1 style=\"text-align:center;\">Coding the Law<center style=\"margin-top:10px;\"><span class=\"subtitle\">Suffolk Law School: Fall 2017</span></center></h1>\\n<div class=\"menu_bar\">\\n<p style=\"text-align:center;\">\\n<a href=\"/\" class=\"menu\">\\xc2\\xa0About\\xc2\\xa0</a>  \\n<a href=\"work/\" class=\"menu\">\\xc2\\xa0Student&nbsp;Work </a>\\n<a href=\"https://codingthelawfall2017.slack.com/\" class=\"menu\" target=\"_new\">\\xc2\\xa0Slack\\xc2\\xa0</a>  \\n</div>\\n<p class=\"quote\">\\xe2\\x80\\x9cWhat I cannot create, I do not understand.\\xe2\\x80\\x9d <font size=-1>Richard Feynman</font></p>\\n<p>Learn how to think about thinking machines in the law by building your own. In this project-based course, open to non-programmers and coders alike, we will explore the technical, legal, and ethical dimensions behind the use of computer algorithms by legal practitioners and the justice system. Projects range from the creation of simple document review and automation tools to the construction of expert systems and narrow AIs.</p>\\n<p>When possible, projects will address real-world access to justice needs, expanding and improving free online legal information tools.</p>\\n\\n<p>Instructor: <a href=\"https://twitter.com/colarusso\">@Colarusso</a>; \\n<a href=\"https://docs.google.com/document/d/1Y54RLtakiodZxaq8nzQ_nFpEaVlX_z34BCKswa6u_Sw/\">Syllabus</a>; \\n<a href=\"https://docs.google.com/document/d/1eXiBRi0prftumoufZ3tricWx-tz7nzJPHB91wvSudQ4/\">Class, Reading, and Work Schedule</a>\\n</p>\\n\\n<p>Project Rubrics:</p>\\n<ul>\\n<li><a href=\"https://docs.google.com/document/d/1zLexK65v3nWaez0A-b1aK4of-rQl1MW4ic8ZZFBOFYM/\">Expert Systems and Document Automation</a></li> \\n<li><a href=\"https://docs.google.com/document/d/1fEhH23ESHwpJw_bT1w5BQet2iv1GAGx4_e9-Yj_KH1Y/\">Web scraping, API\\'s, and Twitter Bots</a></li>  \\n<li><a href=\"https://docs.google.com/document/d/1luojz5DXNIBUejaqXMpChheno81PwWEUe9geDkdAhLE/\">Modeling for Insight, Classification, and Prediction (Data Science)</a></li> \\n<li><a href=\"https://docs.google.com/document/d/1tYqeUK9sLHmfFuXK-FMhCFR5_PXGdzhq746qW95SPGg/\">Making a Difference (Final Project)</a></li>\\n</ul>\\n\\n<div style=\"margin:25px 0;padding:5px;border-top:solid 1px #888;text-align:right;text-color:#555;\"> \\n<font size=-1><a href=\"credits/\">credits</a> | last updated 2017-08-23 <a href=\"https://drive.google.com/drive/folders/0B3NYcage24bhZlJUSjFwT2dTaE0\" style=\"text-decoration:none;color:#555;\">\\xcf\\x80</a></font>\\n</div>\\n\\n</BODY>\\n</HTML>'\n"
     ]
    }
   ],
   "source": [
    "p_1 = urllib.request.build_opener(urllib.request.HTTPCookieProcessor).open(url_1).read()\n",
    "print(p_1)"
   ]
  },
  {
   "cell_type": "markdown",
   "metadata": {},
   "source": [
    "------------------------------------\n",
    "\n",
    "# One Data Point, One Match\n",
    "\n",
    "## Parse the site's contents \n",
    "\n",
    "Scan the above HTML for the content you are trying to extract. Cut and paste the HTML above into the TEST STRING box over at [Regex 101](https://regex101.com/) and craft a regex that captures your desired content. Be sure to use the Python flavor.\n",
    "\n",
    "Remember the parenthetical is the group you're pulling out. Once you have a working regex, plug it into the code below, and run the cell. If it worked, you'll see you scraped data as an output. "
   ]
  },
  {
   "cell_type": "code",
   "execution_count": 7,
   "metadata": {},
   "outputs": [
    {
     "name": "stdout",
     "output_type": "stream",
     "text": [
      "Coding the Law: An Introduction to Algorithms in the Law\n"
     ]
    }
   ],
   "source": [
    "res_1 = re.search(b\"<title>(.*)</title>\",p_1)\n",
    "output_1 = res_1.group(1).decode('UTF-8')\n",
    "print(output_1)"
   ]
  },
  {
   "cell_type": "markdown",
   "metadata": {},
   "source": [
    "## Post to Twitter and Save to Google"
   ]
  },
  {
   "cell_type": "code",
   "execution_count": null,
   "metadata": {},
   "outputs": [],
   "source": [
    "if (res_1 and (worksheet.row_values(worksheet.row_count)[1]) != output_1):\n",
    "    # The above If statment, says to continue only if the we actuall got some data from the page\n",
    "    # and the old sheet vales and the new pulled values are not equal (!=) to eachother. \n",
    "\n",
    "    # Go ahead and tweet out the update. Here you need to know about a Twitter API limitation.\n",
    "    # Twitter will not Tweet the same tweet a second time if it is too close to the first instance.\n",
    "    # In such cases, it will throw an error. The `try:` and `except TwitterError:` constructions are\n",
    "    # similar to If statements. However, they will try the first block of code first, and only try \n",
    "    # the second block if it runs into a Twitter error. Here, the second try tweaks the language\n",
    "    # just enough that it isn't a duplicate Tweet.\n",
    "    try:\n",
    "        # Post to Twitter.\n",
    "        #print ('P1 Title is %s'%(output_1))\n",
    "        status = api.PostUpdate('P1 Title is %s'%(output_1))\n",
    "        print(status.text)\n",
    "    except TwitterError:\n",
    "        # Post to Twitter.\n",
    "        #print ('P1 Title: %s'%(output_1))\n",
    "        status = api.PostUpdate('P1 Title: %s'%(output_1))\n",
    "        print(status.text)\n",
    "\n",
    "    # Save to Google only after Tweeting\n",
    "    worksheet.append_row([now,output_1])"
   ]
  },
  {
   "cell_type": "code",
   "execution_count": null,
   "metadata": {},
   "outputs": [],
   "source": [
    "print(worksheet.row_values(worksheet.row_count))\n",
    "#############################\n",
    "# DELETE CELL AFTER TESTING\n",
    "#############################"
   ]
  },
  {
   "cell_type": "markdown",
   "metadata": {},
   "source": [
    "# Two Data Points, One Match\n",
    "\n",
    "---------------------------\n",
    "## Parse the site's contents"
   ]
  },
  {
   "cell_type": "code",
   "execution_count": null,
   "metadata": {},
   "outputs": [],
   "source": [
    "res_1 = re.search(b\"<a href=\\\"([^\\\"]*)\\\"[^>]*>([^<]*)</a>\",p_1)\n",
    "output_1 = res_1.group(1).decode('UTF-8')\n",
    "print(output_1)\n",
    "output_2 = res_1.group(2).decode('UTF-8')\n",
    "print(output_2)"
   ]
  },
  {
   "cell_type": "markdown",
   "metadata": {},
   "source": [
    "## Post to Twitter and Save to Google (Two Data Point, One Match)"
   ]
  },
  {
   "cell_type": "code",
   "execution_count": null,
   "metadata": {},
   "outputs": [],
   "source": [
    "if (res_1 and (worksheet.row_values(worksheet.row_count)[1]) != output_1\n",
    "          and (worksheet.row_values(worksheet.row_count)[2]) != output_2):\n",
    "    # same as above but now comparing two values\n",
    "    \n",
    "    try:\n",
    "        # Post to Twitter.\n",
    "        status = api.PostUpdate('%s %s'%(output_2,output_1))\n",
    "        print(status.text)\n",
    "    except TwitterError:\n",
    "        # Post to Twitter.\n",
    "        status = api.PostUpdate('%s %s'%(output_2,output_1))\n",
    "        print(status.text)\n",
    "\n",
    "    # Save to Google only after Tweeting\n",
    "    worksheet.append_row([now,output_1,output_2])"
   ]
  },
  {
   "cell_type": "code",
   "execution_count": null,
   "metadata": {},
   "outputs": [],
   "source": [
    "print(worksheet.row_values(worksheet.row_count))\n",
    "#############################\n",
    "# DELETE CELL AFTER TESTING\n",
    "#############################"
   ]
  },
  {
   "cell_type": "markdown",
   "metadata": {},
   "source": [
    "# Two Data Points, Multiple Fixed Number of Matches\n",
    "\n",
    "-------------------------------------------\n",
    "\n",
    "## Parse the site's contents and post to Twitter "
   ]
  },
  {
   "cell_type": "code",
   "execution_count": null,
   "metadata": {},
   "outputs": [],
   "source": [
    "matches = re.finditer(b\"<a href=\\\"([^\\\"]*)\\\"[^>]*>([^<]*)</a>\",p_1)\n",
    "column = 0\n",
    "columns = [now]\n",
    "\n",
    "for matchNum, match in enumerate(matches):\n",
    "    matchNum = matchNum + 1\n",
    "    column = column + 1\n",
    "    column2 = column + 1\n",
    "    \n",
    "    output_1 = match.group(1).decode('UTF-8')\n",
    "    output_2 = match.group(2).decode('UTF-8')\n",
    "    \n",
    "    if (res_1 and (worksheet.row_values(worksheet.row_count)[column]) != output_1 \n",
    "              and (worksheet.row_values(worksheet.row_count)[column2]) != output_2):\n",
    "        # same as above but now comparing the two values handled in this loop\n",
    "        \n",
    "        try:\n",
    "            # Post to Twitter.\n",
    "            status = api.PostUpdate('%s %s'%(output_2,output_1))\n",
    "            print(status.text)\n",
    "        except TwitterError:\n",
    "            # Post to Twitter.\n",
    "            status = api.PostUpdate('%s %s'%(output_2,output_1))\n",
    "            print(status.text)\n",
    "            \n",
    "        columns.append(output_1)\n",
    "        columns.append(output_2)\n",
    "        \n",
    "    column = column + 1\n",
    "\n",
    "# Save to Google only after Tweeting\n",
    "worksheet.append_row(columns)"
   ]
  },
  {
   "cell_type": "code",
   "execution_count": null,
   "metadata": {},
   "outputs": [],
   "source": [
    "print(worksheet.row_values(worksheet.row_count))\n",
    "#############################\n",
    "# DELETE CELL AFTER TESTING\n",
    "#############################"
   ]
  }
 ],
 "metadata": {
  "kernelspec": {
   "display_name": "Python 3",
   "language": "python",
   "name": "python3"
  },
  "language_info": {
   "codemirror_mode": {
    "name": "ipython",
    "version": 3
   },
   "file_extension": ".py",
   "mimetype": "text/x-python",
   "name": "python",
   "nbconvert_exporter": "python",
   "pygments_lexer": "ipython3",
   "version": "3.6.1"
  }
 },
 "nbformat": 4,
 "nbformat_minor": 1
}
