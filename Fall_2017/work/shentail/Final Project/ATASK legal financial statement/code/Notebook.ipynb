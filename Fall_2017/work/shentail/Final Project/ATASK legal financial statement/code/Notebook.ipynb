{
 "cells": [
  {
   "cell_type": "markdown",
   "metadata": {},
   "source": [
    "## Where is this idea from?\n",
    "\n",
    "I began speaking to the attorney who works at [Asian Task Force Against Domestic Violence](https://www.atask.org/site/) (ATASK). I used to work at this nonprofit before law school and manages the legal program there. \n",
    "I interviewed the attorney and also the advocates who work mostly with immigrants on what they believe is the most time consuming thing they do in their job. After the meetings, the first issue identified is the database that collects all the client's information for grant purposes. The attorney keeps her own record and everytime during a meeting with a client, she would have to input all the basic information of the client and save it to her own spreadsheet. The current database we have is underfunded and there is no way to create a section for the legal program, therefore, she is inputting these information manually. This cost her a lot of time and effort and extended the amount of meeting time between the client and the attorney. Second, is the repetitive forms she has to fill out for immigration documents. \n",
    "For the advocates, the most tedious work they have to do all the time is filling out the financial statement. Not only is there no transalted version, advocates have to do the calculation by hand because most of the client's knowledge of their income and expense is per month, while the financial statement requires per week. The calculation is also not known to all because instead of dividing the number by 4, the court is asking to have the total divided by 4.3 when calculating per week from a monthly check or expenses.  I then thought it would be a good idea to also include naturalization forms as well since they are difficult to understand and takes up a lot of time to fill out from my past expereiences as an advocate.\n",
    "After gathering these information, I spoke to the Professor to find out a way to solve these problems. We then deceide that it would be a good idea to utilize google form for the questions and then use the information from the excel sheet created to do a mailmerge to fill out the financial statements. The attorney would then also have access to the client's information and eventually do a mailmerge for immigration documents. The process for filling out the naturalization would be the same as the financial statement. This project, we only focuses on obtaining basic client information that the attorney needs before meeting with her to cut down her time in record keeping, and also creating forms for clients to fill out so that advocates can use mailmerge to create a financial statement and naturalization form that could be submitted to court or USCIS. They can review those documents with the clients but do no have to sit with them and fill out the forms.\n",
    "I further researched to ensure that putting information on the cloud is within professional conduct. [Here](https://www.americanbar.org/groups/departments_offices/legal_technology_resources/resources/charts_fyis/cloud-ethics-chart.html) is what the ABA suggests."
   ]
  },
  {
   "cell_type": "markdown",
   "metadata": {},
   "source": [
    "## Preparation\n",
    "In order to protect confidential material, certain information would not be found in this notebook. Instead it will be noted in a readme.txt file and will be send seperately to Professor.\n",
    "\n",
    "First I created a new google account.\n",
    "Then I begin creating three forms that I need for the project. The first is a client information questionere, the second is a financial statement, mostly use in probate in family court during divorce proceedings and the last is the naturalization form from USCIS.\n",
    "I first need to figure out what questions I would need for the forms. So i have to decipher the forms that I want as an end result and write out all the required questions for the google form.\n",
    "[Here](http://www.codingthelaw.org/Fall_2017/work/shentail/Final Project/questions.docx) is the first draft. I later one added more questions (questions regarding expenses and income for the financial statement) that would be incorporated into the current version.\n",
    "\n",
    "Then i spoke to advocates again to ask for their opinions. After some discussion, they stated that the financial statement would work but after second thought, the naturalization forms might not be worth the time. Beacuse clients are mostly immigrants, they will have difficulty understanding the questions even if they are online and translated. They are also especially nervous when filling out these forms even though we are able to change the contents afterwards. The advocates believe that the forms will instead create more work for them because the clients will still go to them and ask for specificiation and explanations. Then they will have to meet with the attorney. This is also the same process they have been doing, so it would not lessen their work. \n",
    "\n",
    "Therefore, I decided not to do the naturalization form. Another issue that came up is that those forms changes every seven to eight years and when you submit them, USCIS requires you to submit the newest version. For financial statements to the probate and family court, there is a less stricter rules on which version you submit. It will be difficult to maintain for future continuous usage if the naturalization forms update, since there are over 40 pages to fill out. "
   ]
  },
  {
   "cell_type": "markdown",
   "metadata": {},
   "source": [
    "## Codes\n",
    "Then I went to meet with Professor to work out the codes below. We used codes from both project 1 and project 2 because we are dealing with mailmerge and google sheets. With the codes, I was able to import the data from the 2 google forms I have created and have them download to a csv file. I imported 2 seperate documents, client information and financial statement. Then with a common identification code (Client ID), I combined the information on both forms into one csv file, creating combine.csv\n",
    "\n",
    "After that, we would need to export the files and codes to a exec file in order to download them onto the network computer at ATASK. After the exec file is created, no other forms could be added. Because we are working with immigrants, I am also creating transalted versions of the google form so that clients instead of advocates can fill out the form. The output of the financial statement will still be in English though. There will be multiple versions of mailmerge financial statement forms that would allow differnt excel sheets to import into. \n",
    "Therefore, I have to create extra google forms before changing the file into an exec file. The tweaking of the forms and financial statement could happen afterwards. Below are all the forms including those in other languages. (Chinese, Vietnamese, Hindi, Khmer) "
   ]
  },
  {
   "cell_type": "code",
   "execution_count": 19,
   "metadata": {
    "collapsed": true
   },
   "outputs": [],
   "source": [
    "# Load the module for date and time stuff.\n",
    "import datetime\n",
    "# Define the variable now as equal to the current date and time.\n",
    "now = datetime.datetime.now()\n",
    "# Import module to deal with tables et al.\n",
    "import pandas as pd\n",
    "# Import module to deal with csv files\n",
    "import csv\n",
    "# Load the module for accessing Google Sheets.\n",
    "import gspread\n",
    "# Load the module needed for securely communicating with Google Sheets.\n",
    "from oauth2client.service_account import ServiceAccountCredentials\n",
    "# The scope for your access credentials\n",
    "scope = ['https://spreadsheets.google.com/feeds']\n",
    "# Your Google project's .json key\n",
    "credentials = ServiceAccountCredentials.from_json_keyfile_name('../keys/ATASK legal.json', scope)\n",
    "# Use your credentials to authorize yourself.\n",
    "gc = gspread.authorize(credentials)"
   ]
  },
  {
   "cell_type": "code",
   "execution_count": 20,
   "metadata": {
    "collapsed": true
   },
   "outputs": [],
   "source": [
    "# Your spreadsheet's ID for client information\n",
    "document_key = \"10W0TTi2eGdkW58uT1l1Q2MmQngBozV04p6FH2uAAVI0\"\n",
    "# Open up the Sheet with the defined ID.\n",
    "wks = gc.open_by_key(document_key)\n",
    "\n",
    "#########################################\n",
    "#\n",
    "#  NOTE: The name of the sheet you are \n",
    "#  trying to access should be in the \n",
    "#  parenthetical below (e.g., Data). By\n",
    "#  Default this is probably \"Sheet1\".\n",
    "#\n",
    "#########################################\n",
    "worksheet = wks.worksheet(\"Form Responses 1\")\n",
    "csvfile_1 = \"../data/Client info.csv\"\n",
    "\n",
    "\n",
    "# Count the number of rows in your Sheet &\n",
    "# resize to remove blank rows.\n",
    "worksheet.resize(worksheet.row_count)\n",
    "list_of_lists = worksheet.get_all_values()\n",
    "with open(csvfile_1, \"w\") as output:\n",
    "    writer = csv.writer(output, lineterminator='\\n')\n",
    "    writer.writerows(list_of_lists)\n",
    "output = pd.read_csv(csvfile_1)      "
   ]
  },
  {
   "cell_type": "code",
   "execution_count": 21,
   "metadata": {
    "collapsed": true
   },
   "outputs": [],
   "source": [
    "# Your spreadsheet's ID for financial statement\n",
    "document_key = \"12qox0l9J6AXxhW-9vD19vXPSFpVMby7GHBghkHJhjis\"\n",
    "# Open up the Sheet with the defined ID.\n",
    "wks = gc.open_by_key(document_key)\n",
    "\n",
    "#########################################\n",
    "#\n",
    "#  NOTE: The name of the sheet you are \n",
    "#  trying to access should be in the \n",
    "#  parenthetical below (e.g., Data). By\n",
    "#  Default this is probably \"Sheet1\".\n",
    "#\n",
    "#########################################\n",
    "worksheet = wks.worksheet(\"Form Responses 1\")\n",
    "csvfile_2 = \"../data/Client financial.csv\"\n",
    "\n",
    "\n",
    "# Count the number of rows in your Sheet &\n",
    "# resize to remove blank rows.\n",
    "worksheet.resize(worksheet.row_count)\n",
    "list_of_lists = worksheet.get_all_values()\n",
    "with open(csvfile_2, \"w\") as output:\n",
    "    writer = csv.writer(output, lineterminator='\\n')\n",
    "    writer.writerows(list_of_lists)\n",
    "output = pd.read_csv(csvfile_2) "
   ]
  },
  {
   "cell_type": "code",
   "execution_count": 22,
   "metadata": {
    "collapsed": true
   },
   "outputs": [],
   "source": [
    "# Your spreadsheet's ID for financial statement chinese\n",
    "document_key = \"1Sum2KW3XElXAGSGQ0f9gNM278wUiqUovoP03Cq-RmmE\"\n",
    "# Open up the Sheet with the defined ID.\n",
    "wks = gc.open_by_key(document_key)\n",
    "\n",
    "#########################################\n",
    "#\n",
    "#  NOTE: The name of the sheet you are \n",
    "#  trying to access should be in the \n",
    "#  parenthetical below (e.g., Data). By\n",
    "#  Default this is probably \"Sheet1\".\n",
    "#\n",
    "#########################################\n",
    "worksheet = wks.worksheet(\"Form Responses 1\")\n",
    "csvfile_3 = \"../data/Client financial chinese.csv\"\n",
    "\n",
    "\n",
    "# Count the number of rows in your Sheet &\n",
    "# resize to remove blank rows.\n",
    "worksheet.resize(worksheet.row_count)\n",
    "list_of_lists = worksheet.get_all_values()\n",
    "with open(csvfile_3, \"w\") as output:\n",
    "    writer = csv.writer(output, lineterminator='\\n')\n",
    "    writer.writerows(list_of_lists)\n",
    "output = pd.read_csv(csvfile_3) "
   ]
  },
  {
   "cell_type": "code",
   "execution_count": 23,
   "metadata": {
    "collapsed": true
   },
   "outputs": [],
   "source": [
    "# Your spreadsheet's ID for financial statement vietnamese\n",
    "document_key = \"1zqVQcDQBl-WDLzSloQskxc1xo2L5JlLk9HZXoj1q480\"\n",
    "# Open up the Sheet with the defined ID.\n",
    "wks = gc.open_by_key(document_key)\n",
    "\n",
    "#########################################\n",
    "#\n",
    "#  NOTE: The name of the sheet you are \n",
    "#  trying to access should be in the \n",
    "#  parenthetical below (e.g., Data). By\n",
    "#  Default this is probably \"Sheet1\".\n",
    "#\n",
    "#########################################\n",
    "worksheet = wks.worksheet(\"Form Responses 1\")\n",
    "csvfile_4 = \"../data/Client financial vietnamese.csv\"\n",
    "\n",
    "\n",
    "# Count the number of rows in your Sheet &\n",
    "# resize to remove blank rows.\n",
    "worksheet.resize(worksheet.row_count)\n",
    "list_of_lists = worksheet.get_all_values()\n",
    "with open(csvfile_4, \"w\") as output:\n",
    "    writer = csv.writer(output, lineterminator='\\n')\n",
    "    writer.writerows(list_of_lists)\n",
    "output = pd.read_csv(csvfile_4) "
   ]
  },
  {
   "cell_type": "code",
   "execution_count": 24,
   "metadata": {
    "collapsed": true
   },
   "outputs": [],
   "source": [
    "# Your spreadsheet's ID for financial statement khmer\n",
    "document_key = \"1CW-ze3D2BoqxXa0ghpZgOBy6LozdJ_dvXMYs6a8Kz60\"\n",
    "# Open up the Sheet with the defined ID.\n",
    "wks = gc.open_by_key(document_key)\n",
    "\n",
    "#########################################\n",
    "#\n",
    "#  NOTE: The name of the sheet you are \n",
    "#  trying to access should be in the \n",
    "#  parenthetical below (e.g., Data). By\n",
    "#  Default this is probably \"Sheet1\".\n",
    "#\n",
    "#########################################\n",
    "worksheet = wks.worksheet(\"Form Responses 1\")\n",
    "csvfile_5 = \"../data/Client financial khmer.csv\"\n",
    "\n",
    "\n",
    "# Count the number of rows in your Sheet &\n",
    "# resize to remove blank rows.\n",
    "worksheet.resize(worksheet.row_count)\n",
    "list_of_lists = worksheet.get_all_values()\n",
    "with open(csvfile_5, \"w\") as output:\n",
    "    writer = csv.writer(output, lineterminator='\\n')\n",
    "    writer.writerows(list_of_lists)\n",
    "output = pd.read_csv(csvfile_5) "
   ]
  },
  {
   "cell_type": "code",
   "execution_count": 25,
   "metadata": {
    "collapsed": true
   },
   "outputs": [],
   "source": [
    "# Your spreadsheet's ID for financial statement hindi\n",
    "document_key = \"1v-CitX1JnfKH5XFSXOr2C2ZRjp3VZwFHn1VyrOoPRt8\"\n",
    "# Open up the Sheet with the defined ID.\n",
    "wks = gc.open_by_key(document_key)\n",
    "\n",
    "#########################################\n",
    "#\n",
    "#  NOTE: The name of the sheet you are \n",
    "#  trying to access should be in the \n",
    "#  parenthetical below (e.g., Data). By\n",
    "#  Default this is probably \"Sheet1\".\n",
    "#\n",
    "#########################################\n",
    "worksheet = wks.worksheet(\"Form Responses 1\")\n",
    "csvfile_6 = \"../data/Client financial hindi.csv\"\n",
    "\n",
    "\n",
    "# Count the number of rows in your Sheet &\n",
    "# resize to remove blank rows.\n",
    "worksheet.resize(worksheet.row_count)\n",
    "list_of_lists = worksheet.get_all_values()\n",
    "with open(csvfile_6, \"w\") as output:\n",
    "    writer = csv.writer(output, lineterminator='\\n')\n",
    "    writer.writerows(list_of_lists)\n",
    "output = pd.read_csv(csvfile_6) "
   ]
  },
  {
   "cell_type": "code",
   "execution_count": 26,
   "metadata": {
    "collapsed": true
   },
   "outputs": [],
   "source": [
    "file_1 = pd.read_csv(csvfile_1)\n",
    "file_2 = pd.read_csv(csvfile_2)\n",
    "file_3 = pd.read_csv(csvfile_3)\n",
    "file_4 = pd.read_csv(csvfile_4)\n",
    "file_5 = pd.read_csv(csvfile_5)\n",
    "file_6 = pd.read_csv(csvfile_6)"
   ]
  },
  {
   "cell_type": "code",
   "execution_count": 27,
   "metadata": {
    "collapsed": true,
    "scrolled": true
   },
   "outputs": [],
   "source": [
    "data=pd.merge(file_1, file_2, on='Client ID', how='left') \n",
    "data=pd.merge(data, file_3, on='Client ID', how='left')\n",
    "data=pd.merge(data, file_4, on='Client ID', how='left')\n",
    "data=pd.merge(data, file_5, on='Client ID', how='left')\n",
    "data=pd.merge(data, file_6, on='Client ID', how='left')\n",
    "\n",
    "data.to_csv(\"../data/combined.csv\")\n",
    "\n",
    "#data[:3]\n"
   ]
  },
  {
   "cell_type": "markdown",
   "metadata": {},
   "source": [
    "## Exec file and tweaking\n",
    "\n",
    "I then loaded the exec file onto their server. There are some issues because the server did not authorize my account to run the task scheduler to allow the computer to run the program every half an hour, but the tech company was able to fix that.  \n",
    "I also need to change the json key after everything is done beacuse the current key is already published online. This will be the final step for the project. \n",
    "\n",
    "Then I started tweaking the spreadsheet and editing the financial statement document. \n",
    "I first put the pdf of the financial statement in the word document and created tables on top of the pdf so that the answers to the questions are able to be inputted with mail merge and looks like it is being typed in. [Here](http://www.codingthelaw.org/Fall_2017/work/shentail/Final Project/financial statement.docx) is what i have created. I then hide all of the border and [this](http://www.codingthelaw.org/Fall_2017/work/shentail/Final Project/financial statement no border.docx) is the final version, which is only the form itself.\n",
    "\n",
    "Then the spreadsheet needs to be tweeked to add in columns for the total expense and total income. \n",
    "In order to add up the inputted amount, I added in specific formulas (using =ARRAYFORMULA(IF(),(),\"\"). This could populate the whole column even though there are no rows below it. This formula was use to add up the numbers and then divide them by 4.3 to calcualte weekly expenses and incomes. I tested it a few times to make sure it works and then hid the second row with the formula. (I placed the link to the spreadsheet in the read.txt but it is not part of the instruction, only for Professor to look at the spreadsheet.)"
   ]
  },
  {
   "cell_type": "markdown",
   "metadata": {},
   "source": [
    "## User Testing 1 Pretend Client\n",
    "Pretend client: [here](http://www.codingthelaw.org/Fall_2017/work/shentail/Final Project/Pretend Client testing.docx) is the result from the mail merge.\n",
    "Please pretend you are a client who is going to meet with program attorney tomorrow. You speak English but not fluent. You also need a financial statement for divorce next week. \n",
    "\n",
    "Your client ID is 1234\n",
    "Client information: url\n",
    "Financial Statement: url\n",
    "\n",
    "Please note any questions or comments. These are some questions to answer after the testing. Thank you!\n",
    "\n",
    "These is the [feedback](http://www.codingthelaw.org/Fall_2017/work/shentail/Final Project/Pretend Client.png) I recieved.\n",
    "\n",
    "Edits after testing:\n",
    "From the testing, I saw that the instructions are not clear enough. Since its in short answer format, the client is able to type in anything for the answer. I have to add a response validation to limit it only to numbers. In order to keep the questions short, not all of them are required. But because the court requires each blank to be filled either with 0 or a number, every question needs to be answered. I am unable to find a formula that could change the blanks to 0 in google spreadsheet.  If i am able to find the formula to change the blanks to 0 then most of the questions would not be required, saving the clients a lot of time as well. "
   ]
  },
  {
   "cell_type": "markdown",
   "metadata": {},
   "source": [
    "## User Testing 2 Advocate\n",
    "This test is to see if advocates are able to understand the instructions in the readme.txt file.\n",
    "An advocate was given the code and tested out how to use the mail merge. \n",
    "[Here](http://www.codingthelaw.org/Fall_2017/work/shentail/Final Project/User testing 2.png) is the feedback received."
   ]
  },
  {
   "cell_type": "markdown",
   "metadata": {},
   "source": [
    "## User Testing 3 Lay person\n",
    "This is for someone who is not very good at using computer(most clients) and needs a very clear instruction. \n",
    "[Here](http://www.codingthelaw.org/Fall_2017/work/shentail/Final Project/User testing 3.png) is the feedback I recieved.\n",
    "I implemented the changes by adding photos and seperating each instructions line by line. The end result will be on the readme new.txt file and send through slack."
   ]
  },
  {
   "cell_type": "markdown",
   "metadata": {},
   "source": [
    "## Personal Testing 4\n",
    "Finally, I did a final testing. After the pretend client has provided the comment regarding updating financial statements, i did a test using the same client ID 1234. The [combine csv](http://www.codingthelaw.org/Fall_2017/work/shentail/Final Project/ATASK legal financial statement/data/combined.csv) will then show the same client information but have an additional row with the new financial data. Beacuse it is time stamped, the advocate will be able to see which is the most up to date financial information."
   ]
  },
  {
   "cell_type": "markdown",
   "metadata": {},
   "source": [
    "## Attorney letter\n",
    "Due to time constraint, program attorney would be sending in the email directly to Professor."
   ]
  },
  {
   "cell_type": "markdown",
   "metadata": {},
   "source": [
    "## Impact and Efficiencies\n",
    "Beacuse the forms are not yet translated, there is no real client testing. But after the above user testings, attorneys and advocates did say that this process makes it more efficient. Instead of them spending the time sitting with the client and explaining each line, the client are able to fill it out themselves and have the advocate review it. The benefit is that they will be in their native language and besides a few basic questions about themselves that they need to type in English, most of the answers are numbers. This empowers the clients as well since they do not have to rely on others to fill out a form. \n"
   ]
  },
  {
   "cell_type": "markdown",
   "metadata": {},
   "source": [
    "## Real World Viability\n",
    "Issues: \n",
    "Google is unable to work like QnA where if you answer yes, you can skip the question to another question. This forces clients to look through all the questions instead of skipping those that are not necessary. For example, if you do not have children, you still have to scroll thorugh the children section. Google form also doesn't allow you to add. Assuming you have 4 children, the current form only have 2 questions regarding children's immigration status. This goes to other questions as well.\n",
    "\n",
    "The financial statement will also only work if client has met with the program attorney already since some of the basic information questions are not included in the financial statement forms. Most of the clients who has another attorney assisting is been referred by the program attorney, so the chances of not having the basic information is very low. If it happens, then advocates would have to manually input some basic information.\n",
    "\n",
    "Advocates would have to ask the client ahead of time to bring in necessary information like paystubs or past tax returns in order for them to fill out the accurate information. Some clients who doesn't understand how to read those tax forms would also be unable to fill out some questions. \n",
    "The tax reduction section is not asked intentionally because it is by far the most confusing part in the financial statement. Advocates would have to work with clients to ensure that information is correct, that is why they are skipped. \n",
    "\n"
   ]
  },
  {
   "cell_type": "markdown",
   "metadata": {},
   "source": [
    "## Sustainability\n",
    "The current product will be tested in Jan 2018 after a short training for all advocates who have never used google forms before. There will then be a period of 2 weeks to test it out and further tweak it when issue arises. \n",
    "The project is sustainable because as stated above, the financial statement in court doesn't change often. If it does have an updated version, the pdf could be easily switch out and replaced. MOving of the variables doesn't require any skills either. I believe the project should be sustainability."
   ]
  }
 ],
 "metadata": {
  "kernelspec": {
   "display_name": "Python 3",
   "language": "python",
   "name": "python3"
  },
  "language_info": {
   "codemirror_mode": {
    "name": "ipython",
    "version": 3
   },
   "file_extension": ".py",
   "mimetype": "text/x-python",
   "name": "python",
   "nbconvert_exporter": "python",
   "pygments_lexer": "ipython3",
   "version": "3.6.1"
  }
 },
 "nbformat": 4,
 "nbformat_minor": 2
}
