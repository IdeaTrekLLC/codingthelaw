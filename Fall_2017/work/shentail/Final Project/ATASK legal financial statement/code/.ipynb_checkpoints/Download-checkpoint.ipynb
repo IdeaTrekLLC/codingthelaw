{
 "cells": [
  {
   "cell_type": "code",
   "execution_count": null,
   "metadata": {
    "collapsed": true
   },
   "outputs": [],
   "source": [
    "# Load the module for date and time stuff.\n",
    "import datetime\n",
    "# Define the variable now as equal to the current date and time.\n",
    "now = datetime.datetime.now()\n",
    "# Import module to deal with tables et al.\n",
    "import pandas as pd\n",
    "# Import module to deal with csv files\n",
    "import csv\n",
    "# Load the module for accessing Google Sheets.\n",
    "import gspread\n",
    "# Load the module needed for securely communicating with Google Sheets.\n",
    "from oauth2client.service_account import ServiceAccountCredentials\n",
    "# The scope for your access credentials\n",
    "scope = ['https://spreadsheets.google.com/feeds']\n",
    "# Your Google project's .json key\n",
    "credentials = ServiceAccountCredentials.from_json_keyfile_name('../keys/ATASK legal-3b31177bdd37.json', scope)\n",
    "# Use your credentials to authorize yourself.\n",
    "gc = gspread.authorize(credentials)"
   ]
  },
  {
   "cell_type": "code",
   "execution_count": 16,
   "metadata": {},
   "outputs": [],
   "source": [
    "# Your spreadsheet's ID for client information\n",
    "document_key = \"10W0TTi2eGdkW58uT1l1Q2MmQngBozV04p6FH2uAAVI0\"\n",
    "# Open up the Sheet with the defined ID.\n",
    "wks = gc.open_by_key(document_key)\n",
    "\n",
    "#########################################\n",
    "#\n",
    "#  NOTE: The name of the sheet you are \n",
    "#  trying to access should be in the \n",
    "#  parenthetical below (e.g., Data). By\n",
    "#  Default this is probably \"Sheet1\".\n",
    "#\n",
    "#########################################\n",
    "worksheet = wks.worksheet(\"Form Responses 1\")\n",
    "csvfile_1 = \"../data/Client info.csv\"\n",
    "\n",
    "\n",
    "# Count the number of rows in your Sheet &\n",
    "# resize to remove blank rows.\n",
    "worksheet.resize(worksheet.row_count)\n",
    "list_of_lists = worksheet.get_all_values()\n",
    "with open(csvfile_1, \"w\") as output:\n",
    "    writer = csv.writer(output, lineterminator='\\n')\n",
    "    writer.writerows(list_of_lists)"
   ]
  },
  {
   "cell_type": "code",
   "execution_count": 17,
   "metadata": {
    "collapsed": true
   },
   "outputs": [],
   "source": [
    "# Your spreadsheet's ID for financial statement\n",
    "document_key = \"12qox0l9J6AXxhW-9vD19vXPSFpVMby7GHBghkHJhjis\"\n",
    "# Open up the Sheet with the defined ID.\n",
    "wks = gc.open_by_key(document_key)\n",
    "\n",
    "#########################################\n",
    "#\n",
    "#  NOTE: The name of the sheet you are \n",
    "#  trying to access should be in the \n",
    "#  parenthetical below (e.g., Data). By\n",
    "#  Default this is probably \"Sheet1\".\n",
    "#\n",
    "#########################################\n",
    "worksheet = wks.worksheet(\"Form Responses 1\")\n",
    "csvfile_2 = \"../data/Client financial.csv\"\n",
    "\n",
    "\n",
    "# Count the number of rows in your Sheet &\n",
    "# resize to remove blank rows.\n",
    "worksheet.resize(worksheet.row_count)\n",
    "list_of_lists = worksheet.get_all_values()\n",
    "with open(csvfile_2, \"w\") as output:\n",
    "    writer = csv.writer(output, lineterminator='\\n')\n",
    "    writer.writerows(list_of_lists)"
   ]
  },
  {
   "cell_type": "code",
   "execution_count": 21,
   "metadata": {},
   "outputs": [
    {
     "data": {
      "text/html": [
       "<div>\n",
       "<style>\n",
       "    .dataframe thead tr:only-child th {\n",
       "        text-align: right;\n",
       "    }\n",
       "\n",
       "    .dataframe thead th {\n",
       "        text-align: left;\n",
       "    }\n",
       "\n",
       "    .dataframe tbody tr th {\n",
       "        vertical-align: top;\n",
       "    }\n",
       "</style>\n",
       "<table border=\"1\" class=\"dataframe\">\n",
       "  <thead>\n",
       "    <tr style=\"text-align: right;\">\n",
       "      <th></th>\n",
       "      <th>When are you meeting with the attorney</th>\n",
       "      <th>What is your full name</th>\n",
       "      <th>What is your date of birth</th>\n",
       "      <th>What is the person's full name you are or might be in a law suit with?</th>\n",
       "      <th>Is this the first time you met with the attorney?</th>\n",
       "      <th>Do you have any children?</th>\n",
       "      <th>If yes, how many children do you have that live with you? (please include gender)</th>\n",
       "      <th>What is your immigration status?</th>\n",
       "      <th>Timestamp</th>\n",
       "      <th>What is your street address? (123 Star street)</th>\n",
       "      <th>Which city do you live in?</th>\n",
       "      <th>What is your zip code?</th>\n",
       "      <th>What is your telephone number?</th>\n",
       "      <th>What is your occupation</th>\n",
       "      <th>If you have a job, what is your employer's name?</th>\n",
       "      <th>What is your work address</th>\n",
       "      <th>What is your work phone number?</th>\n",
       "      <th>Do you have health insurance coverage?</th>\n",
       "      <th>If yes, what is the name of the provider?</th>\n",
       "    </tr>\n",
       "  </thead>\n",
       "  <tbody>\n",
       "  </tbody>\n",
       "</table>\n",
       "</div>"
      ],
      "text/plain": [
       "Empty DataFrame\n",
       "Columns: [When are you meeting with the attorney, What is your full name, What is your date of birth, What is the person's full name you are or might be in a law suit with?, Is this the first time you met with the attorney?, Do you have any children?, If yes, how many children do you have that live with you? (please include gender), What is your immigration status?, Timestamp, What is your street address? (123 Star street), Which city do you live in?, What is your zip code?, What is your telephone number?, What is your occupation, If you have a job, what is your employer's name?, What is your work address, What is your work phone number?, Do you have health insurance coverage?, If yes, what is the name of the provider?]\n",
       "Index: []"
      ]
     },
     "execution_count": 21,
     "metadata": {},
     "output_type": "execute_result"
    }
   ],
   "source": [
    "file_1 = pd.read_csv(csvfile_1)\n",
    "file_2 = pd.read_csv(csvfile_2)\n",
    "#file_3 = pd.read_csv(csvfile_3)\n",
    "\n",
    "data = file_1\n",
    "data = data.merge(file_2)\n",
    "#data = data.merge(file_3)\n",
    "\n",
    "data.to_csv(\"../data/combined.csv\")\n",
    "\n",
    "# If you want to preview.\n",
    "#data[:3]"
   ]
  },
  {
   "cell_type": "code",
   "execution_count": null,
   "metadata": {
    "collapsed": true
   },
   "outputs": [],
   "source": []
  }
 ],
 "metadata": {
  "kernelspec": {
   "display_name": "Python 3",
   "language": "python",
   "name": "python3"
  },
  "language_info": {
   "codemirror_mode": {
    "name": "ipython",
    "version": 3
   },
   "file_extension": ".py",
   "mimetype": "text/x-python",
   "name": "python",
   "nbconvert_exporter": "python",
   "pygments_lexer": "ipython3",
   "version": "3.6.1"
  }
 },
 "nbformat": 4,
 "nbformat_minor": 2
}
