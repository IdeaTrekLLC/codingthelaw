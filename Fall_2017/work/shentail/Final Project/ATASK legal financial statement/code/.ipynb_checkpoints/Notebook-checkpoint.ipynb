{
 "cells": [
  {
   "cell_type": "markdown",
   "metadata": {},
   "source": [
    "## Where is this idea from?\n",
    "\n",
    "I began speaking to the attorney who works at [Asian Task Force Against Domestic Violence](https://www.atask.org/site/)(ATASK). I used to work at this nonprofit before law school and manages the legal program there. \n",
    "I then interviewed the attorneys and also the advocates who work mostly with immigrations on what they believe is the most time consuming in their job. After the meetings, the first issue identified is the database that collects all the client's information for grant purposes. The attorney keeps her own record and everytime during a meeting with a client, she would have to input all the basic information of the client and save it to her own spreadsheet. The current database we have is underfunded and there is no way to create a section for the legal program, therefore, she is inputting these information manually. This cost her a lot of time and effort and keeps her away from the important information from the client. Second, is the repetitive forms she has to fill out for immigration documents. \n",
    "For the advocates, the most tedious work they have to do all the time is filling out the financial statement. Not only is there no transalted version, advocates have to do the calculation by hand because most of the client's knowledge of their income and expense is per month, while the financial statement requires per week. The calculation is also not known to all because instead of dividing the number by 4, the court is asking to have the total divided by 4.3 when calculating per week from a monthly check or expenses.  I then thought it would be a good idea to also include naturalization forms as well since they are difficult to understand and takes up a lot of time to fill out. \n",
    "After gathering these information, I spoke to the Professor to find out a way to solve these problems. We then deceide that it would be a good idea to utilize google form for the questions and then use the information from the excel sheet created to do a mailmerge to fill out the financial statements. THe attorney would then also have access to the client's information and eventually do a mailmerge for immigration documents. The process for filling out the naturalization would be the same as the financial statement. This project, we only focuses on obtaining basic client information that the attorney needs before meeting with her to cut down her time in record keeping, and also creating forms for clients to fill out so that advocates can use mailmerge to create a financial statement and naturalization form that could be submitted to court or USCIS. They can review those documents with the clients but do no have to sit with them and fill out the forms."
   ]
  },
  {
   "cell_type": "markdown",
   "metadata": {},
   "source": [
    "## Preparation\n",
    "First I created a new google account.\n",
    "Then I begin creating three forms that I need for the project. The first is a client information questionere, the second is a financial statement, mostly use in probate in family court during divorce proceedings and the last is the naturalization form from USCIS.\n",
    "I first need to figure out what questions I would need for the forms. So i have to decipher the forms that I want as an end result and write out all the required questions for the google form.\n",
    "[Here](http://www.codingthelaw.org/Fall_2017/work/shentail/Final Project/questions.docx) are the questions.\n",
    "\n",
    "Then i spoke to advocates again to ask for their opinions. After doing some preparation. They stated that the financial statement is a great idea but after second thought, the naturalization forms might not be worth the time. Beacuse clients are mostly immigrants, they will have difficulty understanding the questions even if they are online and translated. They are also especially nervous when filling out these forms even though we are able to change the contents afterwards. The advocates believe that the forms will instead create more work for them because the clients will still go to them and ask for specificiation and explanations. Then they will have to meet with the attorney. This is also the same process they have been doing, so it would not lessen their work. \n",
    "\n",
    "Therefore, I decided not to do the naturalization form. Another issue that came up is that those forms changes and when you submit them, USCIS requires you to submit the newest version. For financial statements to the probate and family court, there is a less stricter rules on which version you submit. It will be difficult to maintain for future continuous usage if the naturalization forms update, since there are over 40 pages to fill out. "
   ]
  },
  {
   "cell_type": "markdown",
   "metadata": {},
   "source": [
    "## Codes\n",
    "Then I went to meet with Professor to work out the codes below. We used codes from both project 1 and projet 2 because we are dealing with spreadsheets and google forms. With the codes, I was able to import the data from the 2 google forms I have created and have them download to a csv file. I imported 2 seperate documents, client information and financial statement. Then with a common identification code (Client ID), I combined the information on both forms into one csv file, creating combine.csv\n",
    "\n",
    "After that, we would need to export the files and codes to a exec file in order to download them onto the network computer at ATASK. After the exec file is created, no other forms could be added. Because we are working with immigrants, I am also creating transalted versions of the google form so that clients instead of advocates can fill out the form. The output of the financial statement will still be in English though. There will be multiple versions of mailmerge financial statement forms that would allow differnt excel sheets to import into. \n",
    "Threfore, I have to create extra google forms before changing the file into an exec file. The tweaking of the forms and financial statement could happen afterwards. Below are all the forms including those in other languages (Chinese, Vietnamese, Hindi, Khmer) "
   ]
  },
  {
   "cell_type": "code",
   "execution_count": 1,
   "metadata": {
    "collapsed": true
   },
   "outputs": [],
   "source": [
    "# Load the module for date and time stuff.\n",
    "import datetime\n",
    "# Define the variable now as equal to the current date and time.\n",
    "now = datetime.datetime.now()\n",
    "# Import module to deal with tables et al.\n",
    "import pandas as pd\n",
    "# Import module to deal with csv files\n",
    "import csv\n",
    "# Load the module for accessing Google Sheets.\n",
    "import gspread\n",
    "# Load the module needed for securely communicating with Google Sheets.\n",
    "from oauth2client.service_account import ServiceAccountCredentials\n",
    "# The scope for your access credentials\n",
    "scope = ['https://spreadsheets.google.com/feeds']\n",
    "# Your Google project's .json key\n",
    "credentials = ServiceAccountCredentials.from_json_keyfile_name('../keys/ATASK legal.json', scope)\n",
    "# Use your credentials to authorize yourself.\n",
    "gc = gspread.authorize(credentials)"
   ]
  },
  {
   "cell_type": "code",
   "execution_count": 2,
   "metadata": {
    "collapsed": true
   },
   "outputs": [],
   "source": [
    "# Your spreadsheet's ID for client information\n",
    "document_key = \"10W0TTi2eGdkW58uT1l1Q2MmQngBozV04p6FH2uAAVI0\"\n",
    "# Open up the Sheet with the defined ID.\n",
    "wks = gc.open_by_key(document_key)\n",
    "\n",
    "#########################################\n",
    "#\n",
    "#  NOTE: The name of the sheet you are \n",
    "#  trying to access should be in the \n",
    "#  parenthetical below (e.g., Data). By\n",
    "#  Default this is probably \"Sheet1\".\n",
    "#\n",
    "#########################################\n",
    "worksheet = wks.worksheet(\"Form Responses 1\")\n",
    "csvfile_1 = \"../data/Client info.csv\"\n",
    "\n",
    "\n",
    "# Count the number of rows in your Sheet &\n",
    "# resize to remove blank rows.\n",
    "worksheet.resize(worksheet.row_count)\n",
    "list_of_lists = worksheet.get_all_values()\n",
    "with open(csvfile_1, \"w\") as output:\n",
    "    writer = csv.writer(output, lineterminator='\\n')\n",
    "    writer.writerows(list_of_lists)\n",
    "output = pd.read_csv(csvfile_1)      "
   ]
  },
  {
   "cell_type": "code",
   "execution_count": 3,
   "metadata": {
    "collapsed": true
   },
   "outputs": [],
   "source": [
    "# Your spreadsheet's ID for financial statement\n",
    "document_key = \"12qox0l9J6AXxhW-9vD19vXPSFpVMby7GHBghkHJhjis\"\n",
    "# Open up the Sheet with the defined ID.\n",
    "wks = gc.open_by_key(document_key)\n",
    "\n",
    "#########################################\n",
    "#\n",
    "#  NOTE: The name of the sheet you are \n",
    "#  trying to access should be in the \n",
    "#  parenthetical below (e.g., Data). By\n",
    "#  Default this is probably \"Sheet1\".\n",
    "#\n",
    "#########################################\n",
    "worksheet = wks.worksheet(\"Form Responses 1\")\n",
    "csvfile_2 = \"../data/Client financial.csv\"\n",
    "\n",
    "\n",
    "# Count the number of rows in your Sheet &\n",
    "# resize to remove blank rows.\n",
    "worksheet.resize(worksheet.row_count)\n",
    "list_of_lists = worksheet.get_all_values()\n",
    "with open(csvfile_2, \"w\") as output:\n",
    "    writer = csv.writer(output, lineterminator='\\n')\n",
    "    writer.writerows(list_of_lists)\n",
    "output = pd.read_csv(csvfile_2) "
   ]
  },
  {
   "cell_type": "code",
   "execution_count": 4,
   "metadata": {
    "collapsed": true
   },
   "outputs": [],
   "source": [
    "# Your spreadsheet's ID for financial statement chinese\n",
    "document_key = \"1Sum2KW3XElXAGSGQ0f9gNM278wUiqUovoP03Cq-RmmE\"\n",
    "# Open up the Sheet with the defined ID.\n",
    "wks = gc.open_by_key(document_key)\n",
    "\n",
    "#########################################\n",
    "#\n",
    "#  NOTE: The name of the sheet you are \n",
    "#  trying to access should be in the \n",
    "#  parenthetical below (e.g., Data). By\n",
    "#  Default this is probably \"Sheet1\".\n",
    "#\n",
    "#########################################\n",
    "worksheet = wks.worksheet(\"Form Responses 1\")\n",
    "csvfile_3 = \"../data/Client financial chinese.csv\"\n",
    "\n",
    "\n",
    "# Count the number of rows in your Sheet &\n",
    "# resize to remove blank rows.\n",
    "worksheet.resize(worksheet.row_count)\n",
    "list_of_lists = worksheet.get_all_values()\n",
    "with open(csvfile_3, \"w\") as output:\n",
    "    writer = csv.writer(output, lineterminator='\\n')\n",
    "    writer.writerows(list_of_lists)\n",
    "output = pd.read_csv(csvfile_3) "
   ]
  },
  {
   "cell_type": "code",
   "execution_count": 5,
   "metadata": {
    "collapsed": true
   },
   "outputs": [],
   "source": [
    "# Your spreadsheet's ID for financial statement vietnamese\n",
    "document_key = \"1zqVQcDQBl-WDLzSloQskxc1xo2L5JlLk9HZXoj1q480\"\n",
    "# Open up the Sheet with the defined ID.\n",
    "wks = gc.open_by_key(document_key)\n",
    "\n",
    "#########################################\n",
    "#\n",
    "#  NOTE: The name of the sheet you are \n",
    "#  trying to access should be in the \n",
    "#  parenthetical below (e.g., Data). By\n",
    "#  Default this is probably \"Sheet1\".\n",
    "#\n",
    "#########################################\n",
    "worksheet = wks.worksheet(\"Form Responses 1\")\n",
    "csvfile_4 = \"../data/Client financial vietnamese.csv\"\n",
    "\n",
    "\n",
    "# Count the number of rows in your Sheet &\n",
    "# resize to remove blank rows.\n",
    "worksheet.resize(worksheet.row_count)\n",
    "list_of_lists = worksheet.get_all_values()\n",
    "with open(csvfile_4, \"w\") as output:\n",
    "    writer = csv.writer(output, lineterminator='\\n')\n",
    "    writer.writerows(list_of_lists)\n",
    "output = pd.read_csv(csvfile_4) "
   ]
  },
  {
   "cell_type": "code",
   "execution_count": 6,
   "metadata": {
    "collapsed": true
   },
   "outputs": [],
   "source": [
    "# Your spreadsheet's ID for financial statement khmer\n",
    "document_key = \"1CW-ze3D2BoqxXa0ghpZgOBy6LozdJ_dvXMYs6a8Kz60\"\n",
    "# Open up the Sheet with the defined ID.\n",
    "wks = gc.open_by_key(document_key)\n",
    "\n",
    "#########################################\n",
    "#\n",
    "#  NOTE: The name of the sheet you are \n",
    "#  trying to access should be in the \n",
    "#  parenthetical below (e.g., Data). By\n",
    "#  Default this is probably \"Sheet1\".\n",
    "#\n",
    "#########################################\n",
    "worksheet = wks.worksheet(\"Form Responses 1\")\n",
    "csvfile_5 = \"../data/Client financial khmer.csv\"\n",
    "\n",
    "\n",
    "# Count the number of rows in your Sheet &\n",
    "# resize to remove blank rows.\n",
    "worksheet.resize(worksheet.row_count)\n",
    "list_of_lists = worksheet.get_all_values()\n",
    "with open(csvfile_5, \"w\") as output:\n",
    "    writer = csv.writer(output, lineterminator='\\n')\n",
    "    writer.writerows(list_of_lists)\n",
    "output = pd.read_csv(csvfile_5) "
   ]
  },
  {
   "cell_type": "code",
   "execution_count": 7,
   "metadata": {
    "collapsed": true
   },
   "outputs": [],
   "source": [
    "# Your spreadsheet's ID for financial statement hindi\n",
    "document_key = \"1v-CitX1JnfKH5XFSXOr2C2ZRjp3VZwFHn1VyrOoPRt8\"\n",
    "# Open up the Sheet with the defined ID.\n",
    "wks = gc.open_by_key(document_key)\n",
    "\n",
    "#########################################\n",
    "#\n",
    "#  NOTE: The name of the sheet you are \n",
    "#  trying to access should be in the \n",
    "#  parenthetical below (e.g., Data). By\n",
    "#  Default this is probably \"Sheet1\".\n",
    "#\n",
    "#########################################\n",
    "worksheet = wks.worksheet(\"Form Responses 1\")\n",
    "csvfile_6 = \"../data/Client financial hindi.csv\"\n",
    "\n",
    "\n",
    "# Count the number of rows in your Sheet &\n",
    "# resize to remove blank rows.\n",
    "worksheet.resize(worksheet.row_count)\n",
    "list_of_lists = worksheet.get_all_values()\n",
    "with open(csvfile_6, \"w\") as output:\n",
    "    writer = csv.writer(output, lineterminator='\\n')\n",
    "    writer.writerows(list_of_lists)\n",
    "output = pd.read_csv(csvfile_6) "
   ]
  },
  {
   "cell_type": "code",
   "execution_count": 8,
   "metadata": {
    "collapsed": true
   },
   "outputs": [],
   "source": [
    "file_1 = pd.read_csv(csvfile_1)\n",
    "file_2 = pd.read_csv(csvfile_2)\n",
    "file_3 = pd.read_csv(csvfile_3)\n",
    "file_4 = pd.read_csv(csvfile_4)\n",
    "file_5 = pd.read_csv(csvfile_5)\n",
    "file_6 = pd.read_csv(csvfile_6)"
   ]
  },
  {
   "cell_type": "code",
   "execution_count": 9,
   "metadata": {
    "collapsed": true,
    "scrolled": true
   },
   "outputs": [],
   "source": [
    "data=pd.merge(file_1, file_2, on='Client ID', how='left') \n",
    "data=pd.merge(data, file_3, on='Client ID', how='left')\n",
    "data=pd.merge(data, file_4, on='Client ID', how='left')\n",
    "data=pd.merge(data, file_5, on='Client ID', how='left')\n",
    "data=pd.merge(data, file_6, on='Client ID', how='left')\n",
    "\n",
    "data.to_csv(\"../data/combined.csv\")\n",
    "\n",
    "#data[:3]\n"
   ]
  },
  {
   "cell_type": "markdown",
   "metadata": {},
   "source": [
    "## Exec file and tweaking\n",
    "In order to protect confidential material, certain information would not be found in this notebook. \n",
    "Added links to the google form and links to the google sheet.\n",
    "\n",
    "Need to change the key after successful download to the server. There are some issues because the tech people has blocked authorization and would need some time to give me access to create a task scheduler in order for the file to run every half an hour."
   ]
  },
  {
   "cell_type": "markdown",
   "metadata": {},
   "source": [
    "## Impact and Efficiencies"
   ]
  },
  {
   "cell_type": "markdown",
   "metadata": {},
   "source": [
    "## User Testing 1\n",
    "Pretend client: [here](http://www.codingthelaw.org/Fall_2017/work/shentail/Final Project/data/Pretend Client testing.docx)\n",
    "This is a user testing from an advocate. Here is the prompt:\n",
    "Please pretend you are a client who is going to meet with program attorney tomorrow. You speak English but not fluent. You also need a financial statement for divorce next week. \n",
    "\n",
    "Your client ID is 1234\n",
    "Client information: \n",
    "Financial Statement: \n",
    "\n",
    "Please note any questions or comments. These are some questions to answer after the testing. Thank you!\n",
    "\n",
    "These is the [feedback](http://www.codingthelaw.org/Fall_2017/work/shentail/Final Project/Pretend Client.png) I recieve.\n",
    "\n",
    "Edits after testing:\n",
    "From the testing, I saw that the instructions are not clear enough. Since its in short answer format, the client is able to type in anything for the answer. I have to add a response validation to limit it only to numbers. In order to keep the questions short, not all of them are required. But because the court require each blank to be filled either with 0 or a number, every question needs to be answered. I am unable to find a formula that could change the blanks to 0 in google spreadsheet. \n",
    "\n",
    "\n"
   ]
  },
  {
   "cell_type": "markdown",
   "metadata": {},
   "source": [
    "## Real World Viability\n",
    "Issue: Google is unable to work like QnA where if you answer yes, you can skip the question to another question. This forces clients to look through all the questions instead of skipping those that are not necessary. For example, if you do not have children, you still have to fill out "
   ]
  },
  {
   "cell_type": "markdown",
   "metadata": {},
   "source": [
    "## Sustainability"
   ]
  }
 ],
 "metadata": {
  "kernelspec": {
   "display_name": "Python 3",
   "language": "python",
   "name": "python3"
  },
  "language_info": {
   "codemirror_mode": {
    "name": "ipython",
    "version": 3
   },
   "file_extension": ".py",
   "mimetype": "text/x-python",
   "name": "python",
   "nbconvert_exporter": "python",
   "pygments_lexer": "ipython3",
   "version": "3.6.1"
  }
 },
 "nbformat": 4,
 "nbformat_minor": 2
}
