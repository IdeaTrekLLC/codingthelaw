{
 "cells": [
  {
   "cell_type": "markdown",
   "metadata": {},
   "source": [
    "## Preparation\n",
    "First I created a new google account.\n",
    "Then I begin creating three forms that I need for the project. The first is a client information questionere, the second is for a financial statement, mostly use in probate in family court during divorce proceedings and the last is the naturalization form from USCIS.\n",
    "I first need to figure out what questions I would need for the forms. So i have to decipher the forms that I want as an end result and write out all the required questions for the google form.\n",
    "Here are the questions: \n",
    "\n",
    "Then i spoke to advocates at the nonprofit to ask for their opinions. They stated that the financial statement is a great idea but the naturalization forms might not be worth the time. Beacuse clients are mostly immigrations, they will have difficulty understanding the questions. They are also especially nervous when filling out these forms even though we are able to change the contents afterwards. THe advocates believe that the forms will instead create more work for them because the clients will still go to them and ask for specificiation and explanations. Then they will have to meet with the attorney. This is also the same process they have been doing, so it would not lessen their work. \n",
    "\n",
    "Therefore, I decided not to do the naturalization form. Another issue that came up is that those forms changes and when you submit them, USCIS requires you to submit the newest version. For financial statements to the probate and family court, there is a less stricter rules on which version you submit. It will be difficult to maintain for future continuous usage if the naturalization forms update, since there are over 40 pages to fill out. \n",
    "\n",
    "3 google forms which feeds into 3 good sheets.\n",
    "Then build \n",
    "First create documents templates (forms)\n",
    "Identify things you need to know\n",
    "Find identifier for the case \n",
    "Find the overlaps\n",
    "\n",
    "Cut and paste how to download and get key for new google account and download for the sheets.\n",
    "In P2\n",
    "\n",
    "Went to meet with Professor to work out the codes below. Bring in codes from previous projects, I was able to import the data from the google forms I have created and have them download to a csv file. I imported 2 seperate documents, client information and financial statement. Then with a common identification code, I combined the information on both forms into one csv file.\n",
    "\n",
    "In order to protect confidential material, certain information would not be found in this notebook. \n",
    "Added links to the google form and links to the google sheet.\n",
    "\n",
    "Need to change the key after successful download to the server. There are some issues because the tech people has blocked authorization and would need some time to give me access to create a task scheduler in order for the file to run every half an hour. \n"
   ]
  },
  {
   "cell_type": "markdown",
   "metadata": {},
   "source": [
    "## Impact and Efficiencies"
   ]
  },
  {
   "cell_type": "markdown",
   "metadata": {},
   "source": [
    "## User Testing"
   ]
  },
  {
   "cell_type": "markdown",
   "metadata": {},
   "source": [
    "## Real World Viability"
   ]
  },
  {
   "cell_type": "markdown",
   "metadata": {},
   "source": [
    "## Sustainability"
   ]
  },
  {
   "cell_type": "code",
   "execution_count": 1,
   "metadata": {
    "collapsed": true
   },
   "outputs": [],
   "source": [
    "# Load the module for date and time stuff.\n",
    "import datetime\n",
    "# Define the variable now as equal to the current date and time.\n",
    "now = datetime.datetime.now()\n",
    "# Import module to deal with tables et al.\n",
    "import pandas as pd\n",
    "# Import module to deal with csv files\n",
    "import csv\n",
    "# Load the module for accessing Google Sheets.\n",
    "import gspread\n",
    "# Load the module needed for securely communicating with Google Sheets.\n",
    "from oauth2client.service_account import ServiceAccountCredentials\n",
    "# The scope for your access credentials\n",
    "scope = ['https://spreadsheets.google.com/feeds']\n",
    "# Your Google project's .json key\n",
    "credentials = ServiceAccountCredentials.from_json_keyfile_name('../keys/ATASK legal.json', scope)\n",
    "# Use your credentials to authorize yourself.\n",
    "gc = gspread.authorize(credentials)"
   ]
  },
  {
   "cell_type": "code",
   "execution_count": 2,
   "metadata": {
    "collapsed": true
   },
   "outputs": [],
   "source": [
    "# Your spreadsheet's ID for client information\n",
    "document_key = \"10W0TTi2eGdkW58uT1l1Q2MmQngBozV04p6FH2uAAVI0\"\n",
    "# Open up the Sheet with the defined ID.\n",
    "wks = gc.open_by_key(document_key)\n",
    "\n",
    "#########################################\n",
    "#\n",
    "#  NOTE: The name of the sheet you are \n",
    "#  trying to access should be in the \n",
    "#  parenthetical below (e.g., Data). By\n",
    "#  Default this is probably \"Sheet1\".\n",
    "#\n",
    "#########################################\n",
    "worksheet = wks.worksheet(\"Form Responses 1\")\n",
    "csvfile_1 = \"../data/Client info.csv\"\n",
    "\n",
    "\n",
    "# Count the number of rows in your Sheet &\n",
    "# resize to remove blank rows.\n",
    "worksheet.resize(worksheet.row_count)\n",
    "list_of_lists = worksheet.get_all_values()\n",
    "with open(csvfile_1, \"w\") as output:\n",
    "    writer = csv.writer(output, lineterminator='\\n')\n",
    "    writer.writerows(list_of_lists)\n",
    "output = pd.read_csv(csvfile_1)      "
   ]
  },
  {
   "cell_type": "code",
   "execution_count": 3,
   "metadata": {
    "collapsed": true
   },
   "outputs": [],
   "source": [
    "# Your spreadsheet's ID for financial statement\n",
    "document_key = \"12qox0l9J6AXxhW-9vD19vXPSFpVMby7GHBghkHJhjis\"\n",
    "# Open up the Sheet with the defined ID.\n",
    "wks = gc.open_by_key(document_key)\n",
    "\n",
    "#########################################\n",
    "#\n",
    "#  NOTE: The name of the sheet you are \n",
    "#  trying to access should be in the \n",
    "#  parenthetical below (e.g., Data). By\n",
    "#  Default this is probably \"Sheet1\".\n",
    "#\n",
    "#########################################\n",
    "worksheet = wks.worksheet(\"Form Responses 1\")\n",
    "csvfile_2 = \"../data/Client financial.csv\"\n",
    "\n",
    "\n",
    "# Count the number of rows in your Sheet &\n",
    "# resize to remove blank rows.\n",
    "worksheet.resize(worksheet.row_count)\n",
    "list_of_lists = worksheet.get_all_values()\n",
    "with open(csvfile_2, \"w\") as output:\n",
    "    writer = csv.writer(output, lineterminator='\\n')\n",
    "    writer.writerows(list_of_lists)\n",
    "output = pd.read_csv(csvfile_2) "
   ]
  },
  {
   "cell_type": "code",
   "execution_count": 4,
   "metadata": {
    "collapsed": true
   },
   "outputs": [],
   "source": [
    "# Your spreadsheet's ID for financial statement chinese\n",
    "document_key = \"1Sum2KW3XElXAGSGQ0f9gNM278wUiqUovoP03Cq-RmmE\"\n",
    "# Open up the Sheet with the defined ID.\n",
    "wks = gc.open_by_key(document_key)\n",
    "\n",
    "#########################################\n",
    "#\n",
    "#  NOTE: The name of the sheet you are \n",
    "#  trying to access should be in the \n",
    "#  parenthetical below (e.g., Data). By\n",
    "#  Default this is probably \"Sheet1\".\n",
    "#\n",
    "#########################################\n",
    "worksheet = wks.worksheet(\"Form Responses 1\")\n",
    "csvfile_3 = \"../data/Client financial chinese.csv\"\n",
    "\n",
    "\n",
    "# Count the number of rows in your Sheet &\n",
    "# resize to remove blank rows.\n",
    "worksheet.resize(worksheet.row_count)\n",
    "list_of_lists = worksheet.get_all_values()\n",
    "with open(csvfile_3, \"w\") as output:\n",
    "    writer = csv.writer(output, lineterminator='\\n')\n",
    "    writer.writerows(list_of_lists)\n",
    "output = pd.read_csv(csvfile_3) "
   ]
  },
  {
   "cell_type": "code",
   "execution_count": 5,
   "metadata": {
    "collapsed": true
   },
   "outputs": [],
   "source": [
    "# Your spreadsheet's ID for financial statement vietnamese\n",
    "document_key = \"1zqVQcDQBl-WDLzSloQskxc1xo2L5JlLk9HZXoj1q480\"\n",
    "# Open up the Sheet with the defined ID.\n",
    "wks = gc.open_by_key(document_key)\n",
    "\n",
    "#########################################\n",
    "#\n",
    "#  NOTE: The name of the sheet you are \n",
    "#  trying to access should be in the \n",
    "#  parenthetical below (e.g., Data). By\n",
    "#  Default this is probably \"Sheet1\".\n",
    "#\n",
    "#########################################\n",
    "worksheet = wks.worksheet(\"Form Responses 1\")\n",
    "csvfile_4 = \"../data/Client financial vietnamese.csv\"\n",
    "\n",
    "\n",
    "# Count the number of rows in your Sheet &\n",
    "# resize to remove blank rows.\n",
    "worksheet.resize(worksheet.row_count)\n",
    "list_of_lists = worksheet.get_all_values()\n",
    "with open(csvfile_4, \"w\") as output:\n",
    "    writer = csv.writer(output, lineterminator='\\n')\n",
    "    writer.writerows(list_of_lists)\n",
    "output = pd.read_csv(csvfile_4) "
   ]
  },
  {
   "cell_type": "code",
   "execution_count": 6,
   "metadata": {
    "collapsed": true
   },
   "outputs": [],
   "source": [
    "# Your spreadsheet's ID for financial statement khmer\n",
    "document_key = \"1CW-ze3D2BoqxXa0ghpZgOBy6LozdJ_dvXMYs6a8Kz60\"\n",
    "# Open up the Sheet with the defined ID.\n",
    "wks = gc.open_by_key(document_key)\n",
    "\n",
    "#########################################\n",
    "#\n",
    "#  NOTE: The name of the sheet you are \n",
    "#  trying to access should be in the \n",
    "#  parenthetical below (e.g., Data). By\n",
    "#  Default this is probably \"Sheet1\".\n",
    "#\n",
    "#########################################\n",
    "worksheet = wks.worksheet(\"Form Responses 1\")\n",
    "csvfile_5 = \"../data/Client financial khmer.csv\"\n",
    "\n",
    "\n",
    "# Count the number of rows in your Sheet &\n",
    "# resize to remove blank rows.\n",
    "worksheet.resize(worksheet.row_count)\n",
    "list_of_lists = worksheet.get_all_values()\n",
    "with open(csvfile_5, \"w\") as output:\n",
    "    writer = csv.writer(output, lineterminator='\\n')\n",
    "    writer.writerows(list_of_lists)\n",
    "output = pd.read_csv(csvfile_5) "
   ]
  },
  {
   "cell_type": "code",
   "execution_count": 7,
   "metadata": {
    "collapsed": true
   },
   "outputs": [],
   "source": [
    "# Your spreadsheet's ID for financial statement hindi\n",
    "document_key = \"1v-CitX1JnfKH5XFSXOr2C2ZRjp3VZwFHn1VyrOoPRt8\"\n",
    "# Open up the Sheet with the defined ID.\n",
    "wks = gc.open_by_key(document_key)\n",
    "\n",
    "#########################################\n",
    "#\n",
    "#  NOTE: The name of the sheet you are \n",
    "#  trying to access should be in the \n",
    "#  parenthetical below (e.g., Data). By\n",
    "#  Default this is probably \"Sheet1\".\n",
    "#\n",
    "#########################################\n",
    "worksheet = wks.worksheet(\"Form Responses 1\")\n",
    "csvfile_6 = \"../data/Client financial hindi.csv\"\n",
    "\n",
    "\n",
    "# Count the number of rows in your Sheet &\n",
    "# resize to remove blank rows.\n",
    "worksheet.resize(worksheet.row_count)\n",
    "list_of_lists = worksheet.get_all_values()\n",
    "with open(csvfile_6, \"w\") as output:\n",
    "    writer = csv.writer(output, lineterminator='\\n')\n",
    "    writer.writerows(list_of_lists)\n",
    "output = pd.read_csv(csvfile_6) "
   ]
  },
  {
   "cell_type": "code",
   "execution_count": 8,
   "metadata": {
    "collapsed": true
   },
   "outputs": [],
   "source": [
    "file_1 = pd.read_csv(csvfile_1)\n",
    "file_2 = pd.read_csv(csvfile_2)\n",
    "file_3 = pd.read_csv(csvfile_3)\n",
    "file_4 = pd.read_csv(csvfile_4)\n",
    "file_5 = pd.read_csv(csvfile_5)\n",
    "file_6 = pd.read_csv(csvfile_6)"
   ]
  },
  {
   "cell_type": "code",
   "execution_count": 9,
   "metadata": {
    "collapsed": true,
    "scrolled": true
   },
   "outputs": [],
   "source": [
    "data=pd.merge(file_1, file_2, on='Client ID', how='left') \n",
    "data=pd.merge(data, file_3, on='Client ID', how='left')\n",
    "data=pd.merge(data, file_4, on='Client ID', how='left')\n",
    "data=pd.merge(data, file_5, on='Client ID', how='left')\n",
    "data=pd.merge(data, file_6, on='Client ID', how='left')\n",
    "\n",
    "data.to_csv(\"../data/combined.csv\")\n",
    "\n",
    "#data[:3]\n"
   ]
  }
 ],
 "metadata": {
  "kernelspec": {
   "display_name": "Python 3",
   "language": "python",
   "name": "python3"
  },
  "language_info": {
   "codemirror_mode": {
    "name": "ipython",
    "version": 3
   },
   "file_extension": ".py",
   "mimetype": "text/x-python",
   "name": "python",
   "nbconvert_exporter": "python",
   "pygments_lexer": "ipython3",
   "version": "3.6.1"
  }
 },
 "nbformat": 4,
 "nbformat_minor": 2
}
