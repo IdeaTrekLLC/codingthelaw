{
 "cells": [
  {
   "cell_type": "markdown",
   "metadata": {},
   "source": [
    "### Assigned Counsel and Fee Waiver Bot\n",
    "By Chantal\n",
    "\n",
    "I wrote a bot for people in California who would like to find out if they qualify for a fee waiver in civil cases and a court-appointed lawyer in criminal case. You can find it [here](http://www.codingthelaw.org/Fall_2017/work/shentail/p1/bot.html). To write my bot, we used a tool called [QnA Markup](http://www.qnamarkup.org/). Basically, you create an interactive dicision tree by nesting questions and answers. Here's [my code](bot.txt).\n",
    "\n",
    "## Attorney-User Testing\n",
    "\n",
    "In order to better understand the California court system, I have sent emails to 3 different organizations in California (Bay Area Legal Aid, San Diego Volunteer Lawyer Program and Asian Americans Advancing Justic LA) and one has responded that they are unable to help. You can find a screenshot [here](http://www.codingthelaw.org/Fall_2017/work/shentail/p1/email.png) \n",
    "The rest did not respond. I have also reached out to 3 attorneys that my friend has worked with in California, but did not get any response from them. [Here](http://www.codingthelaw.org/Fall_2017/work/shentail/p1/attorney.png) is one of those emails.\n",
    "\n",
    "## First try\n",
    "\n",
    "First I started with the simple Q and A and have two seperate bots for [criminal](http://www.codingthelaw.org/Fall_2017/work/shentail/p1/criminal indigent.txt) and [civil](http://www.codingthelaw.org/Fall_2017/work/shentail/p1/fee waiver.txt)  This is the first bot I created.\n",
    "\n",
    "## Peer-User Testing\n",
    "\n",
    "I have send my initial bot for a peer-user testing. I received [feedbacks](http://www.codingthelaw.org/Fall_2017/work/shentail/p1/peer testing.png) and implemented the feedbacks to help user better navigate the bot. \n",
    "\n",
    "## Refinement\n",
    "\n",
    "Through the [feedback](http://www.codingthelaw.org/Fall_2017/work/shentail/p1/QnA feedback.docx) i have given and the [feedbacks](http://www.codingthelaw.org/Fall_2017/work/shentail/p1/peer testing.png) I received, I combined the two bots into one and i tweaked my bot. I realize that the more i add to criminal, which is the top part of my bot, everything else changes with the numbers and I have to change my GOTO everytime. The A's were confusing as well because they were indented but not right under the Q. So i rearranged everything and [this](http://www.codingthelaw.org/Fall_2017/work/shentail/p1/DRAFT.txt) was my newer version. I did not cut out the individual questions for public benefits, but instad i asked the question \" if they have public benefit\" first in order to cut out that chunk of questions if they already state that they do no have public benefits. The reason why I left that there is because later on, i want the forms to capture what type of public benefits they have. I also added the javascript for calculating indigency.\n",
    "\n",
    "Then I added header from the sample that the Professor posted.\n",
    "I did more research on obtaining assignemnt of counsel and used some standards from case law to create more detailed questions. \n",
    "\n",
    "Then we learned about mail merg and I added that into the bot. You can see it [here](http://www.codingthelaw.org/Fall_2017/work/shentail/p1/mailmerg.txt). Then I added a few more questions that is needed for the form. This is the [updated version](http://www.codingthelaw.org/Fall_2017/work/shentail/p1/updated.txt). Then i changed the code so that it will generate a document with the variables from the mail merge and uploaded the word document online. I also added statutes to the results so users are able to find more information online through the links.\n",
    "\n",
    "Finally i needed to capture the number of people in a household above 6 and add $435.42 to each extra person. This is according to the fee waiver form from California courts. You can see it [here](http://www.codingthelaw.org/Fall_2017/work/shentail/p1/guideline.png). \n",
    "Therefore I added another line to the javascript that can calculate the income line for a household above 6. \n",
    "\n",
    "This is what i added: else if (getvar('household')>6 && getvar('income')<=(getvar('household')-6)*435.42+3433.34) {goto('qual')}else if (getvar('household')>6 && getvar('income')>(getvar('household')-6)*435.42+3433.34) {goto('not')}\n",
    "\n",
    "I also changed all signs to lower than or equal to so if the income is exactly on the line, the bot would still be able to know they qualify.\n",
    "\n",
    "This is my final [bot](http://www.codingthelaw.org/Fall_2017/work/shentail/p1/bot.html)\n",
    "\n"
   ]
  },
  {
   "cell_type": "markdown",
   "metadata": {},
   "source": [
    "## Further edits\n",
    "\n",
    "I changed the beginning of the bot to inform users that this is only for fee waivers and court-appointed attorneys in California. \n",
    "\n",
    "I realize that the long winded questions about public benefits is not easy for user to navigate. Therefore I decided to cut those questions out and instead remind user that if they qualify, they will have to check each boxes in the form when submitting it to court. \n",
    "\n",
    "I also added the link to the information sheet on waiver of court fees.\n",
    "\n",
    "For the criminal side, i added a sentence about juveniles and directed them to resources that could help, since this bot is more focused on adult criminal cases. I also added resources for definitions like misdemeanor and felony."
   ]
  },
  {
   "cell_type": "markdown",
   "metadata": {
    "collapsed": true
   },
   "source": [
    "## Real-World Viability\n",
    "\n",
    "The form is different from the court form but it should have enough information for an attorney to determine civil fee waivers. The user would be able to know if they qualify or not as well.\n",
    "\n",
    "For criminal indigency calculation, an attorney would be needed for a more in depth understanding of the client's financial situation because of the blurry rule in California court and a lot of the decisions are at the judge's discretion. Attorneys should fill out the financial statement and review the case laws before advising clients. If clients are already in court, the court or magistrate will make a decision base on the financial statement."
   ]
  },
  {
   "cell_type": "markdown",
   "metadata": {
    "collapsed": true
   },
   "source": []
  },
  {
   "cell_type": "code",
   "execution_count": null,
   "metadata": {
    "collapsed": true
   },
   "outputs": [],
   "source": []
  }
 ],
 "metadata": {
  "kernelspec": {
   "display_name": "Python 3",
   "language": "python",
   "name": "python3"
  },
  "language_info": {
   "codemirror_mode": {
    "name": "ipython",
    "version": 3
   },
   "file_extension": ".py",
   "mimetype": "text/x-python",
   "name": "python",
   "nbconvert_exporter": "python",
   "pygments_lexer": "ipython3",
   "version": "3.6.1"
  }
 },
 "nbformat": 4,
 "nbformat_minor": 1
}
