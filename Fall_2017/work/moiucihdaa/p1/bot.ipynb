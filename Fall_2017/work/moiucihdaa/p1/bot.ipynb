{
 "cells": [
  {
   "cell_type": "markdown",
   "metadata": {},
   "source": [
    "# Assigned Counsel and Fee Waiver Bot\n",
    "By [Michael McKeown](https://www.linkedin.com/in/michaelcmckeown/) \n",
    "\n",
    "I wrote a bot, and you can find it [here](http://www.codingthelaw.org/Fall_2017/work/moiucihdaa/p1/bot.html). To write my bot, we used a tool called [QnA Markup](http://www.qnamarkup.org/). Basically, you create an interactive dicision tree by nesting questions and answers. Here's [my code](bot.txt). \n",
    "\n",
    "## User Testing\n",
    "\n",
    "Initially, we received feedback as to the flow and some of the information requested from the user.  \n",
    "\n",
    "## Refinement\n",
    "\n",
    "We added some new information requests and changed the flow up a bit so it felt more natural for the user.  Additionally, we altered some of the language a bit so it felt less like legal jargon and more like a conversation.  \n",
    "\n",
    "## Real-World Viability\n",
    "\n",
    "In terms of real world viabilitiy, this is a tool that can help civil litigants prepare their application for fee waiver.  The information isn't determanitive"
   ]
  },
  {
   "cell_type": "code",
   "execution_count": null,
   "metadata": {
    "collapsed": true
   },
   "outputs": [],
   "source": []
  }
 ],
 "metadata": {
  "kernelspec": {
   "display_name": "Python 3",
   "language": "python",
   "name": "python3"
  },
  "language_info": {
   "codemirror_mode": {
    "name": "ipython",
    "version": 3
   },
   "file_extension": ".py",
   "mimetype": "text/x-python",
   "name": "python",
   "nbconvert_exporter": "python",
   "pygments_lexer": "ipython3",
   "version": "3.6.1"
  }
 },
 "nbformat": 4,
 "nbformat_minor": 1
}
