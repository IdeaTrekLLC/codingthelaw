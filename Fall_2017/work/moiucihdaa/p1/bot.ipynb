{
 "cells": [
  {
   "cell_type": "markdown",
   "metadata": {},
   "source": [
    "# Assigned Counsel and Fee Waiver Bot\n",
    "By [Michael McKeown](https://www.linkedin.com/in/michaelcmckeown/) \n",
    "\n",
    "I wrote a bot, and you can find it [here](http://www.codingthelaw.org/Fall_2017/work/moiucihdaa/p1/bot.html). To write my bot, we used a tool called [QnA Markup](http://www.qnamarkup.org/). Basically, you create an interactive dicision tree by nesting questions and answers. Here's [my code](bot.txt). \n",
    "\n",
    "## User Testing\n",
    "\n",
    "After creating the initiation prototype, it was exchanged with another classmate in order to solict feeback.  The feedback I received primarily spoke to the flow of the questions and adding some questions to ascertain information they thought might be important to the analysis.  In terms of attorney feedback, I called a couple of the attorneys in NY that I had worked with.  They were happy to review but unfortunately did not get to it.  Instead, I improvised and asked several friends from the NY area to try the bot.  I believed this to be an excellent alternative source of feedback beause this is likely a common audience that would use the bot.  \n",
    "\n",
    "## Refinement\n",
    "\n",
    "The initial bot was fairly thorough in its initial stage.  It primarily only sufficiently assisted with civil matters.  After the second major refinement, criminal was added.  In terms of incorporating feeding, I was recommended to add questions to learn from the user the number of people in their household but based on my research, that didn't seem used in the analysis in NY courts so that wasn't incorporated into the final code.  \n",
    "\n",
    "After learning about GOTO functions, those were incorporated into the code in order to make the code itself substantially less cluttered.  A similar refinement was done after learning about variables.  The code was able to evolve beyond asking for information to accepting values from the user.  NY courts seem to approach fee waivers in a case-by-case basis which differs between each court.  So unlike most jurisdictions that have more strict guidelines in regards to income, NY tends to use the information submitted by the user in regards to income and property ownership as part of a more holistic analysis.  The last major refinement occured after learning about mailmerge capabilities.  The code was refined to be able to produce a form used by NYC courts with the required information.  \n",
    "\n",
    "## Real-World Viability\n",
    "\n",
    "In terms of real world viabilitiy, this is a tool that can help civil litigants prepare their application for fee waiver.  The information isn't determinative as each court decides these applications on a case-by-case basis in NY.  Instead, this information is the typical information that courts are looking for when deciding whether or not to waive fees.  Ideally, this type of bot would be helpful to the average person to be able to apply for fee waivers when litigating pro se.  Unlike other jurisdictions, the bot cannot determine eligibility immediately as such analysis isn't possible but rather these decisions are made by a judge after reviewing and balancing all the information.  "
   ]
  },
  {
   "cell_type": "code",
   "execution_count": null,
   "metadata": {
    "collapsed": true
   },
   "outputs": [],
   "source": []
  }
 ],
 "metadata": {
  "kernelspec": {
   "display_name": "Python 3",
   "language": "python",
   "name": "python3"
  },
  "language_info": {
   "codemirror_mode": {
    "name": "ipython",
    "version": 3
   },
   "file_extension": ".py",
   "mimetype": "text/x-python",
   "name": "python",
   "nbconvert_exporter": "python",
   "pygments_lexer": "ipython3",
   "version": "3.6.1"
  }
 },
 "nbformat": 4,
 "nbformat_minor": 1
}
