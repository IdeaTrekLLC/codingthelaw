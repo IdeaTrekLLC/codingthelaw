{
 "cells": [
  {
   "cell_type": "markdown",
   "metadata": {},
   "source": [
    "# Assigned Counsel and Fee Waiver Bot\n",
    "By [Jeff Price](http://www.linkedin.com/in/jpjeffprice) \n",
    "\n",
    "I wrote a chatbot, which you can find [here](http://www.codingthelaw.org/Fall_2017/work/JeffGitsIt/p1/bot_2.html), that helps the user assess their indigent status in the state of Ohio. To write my bot, I used a tool called [QnA Markup](http://www.qnamarkup.org/). Basically, this tool creates an interactive dicision tree by nesting questions and answers. The source code for my bot can be found [here](bot_2.txt). \n",
    "\n",
    "## User Testing\n",
    "\n",
    "Aside from my own testing during development, a classmate provided great feedback on a series of five use cases. This feedback highlighted the need to add juvenile and civil decision paths, some minor coding errors, noted some missing information, and made several usability suggestions. I also reached out to an Ohio lawyer for feedback.\n",
    "\n",
    "## Refinement\n",
    "\n",
    "The original bot (source code [here](bot.txt)) lacked decision points for juvenile and civil litigants, as well as links to the appropriate civil and criminal forms. The current version corrects these omissions, and also improves the user experience by incorporating the design suggestions from user testing. For example, instead of defining specific terms or providing clarifying information within a prompt, options for requesting these details were added to the list of available responses.\n",
    "\n",
    "## Real-World Viability\n",
    "\n",
    "To make this chatbot completely viable, I will need a lawyer to review it for completeness. Further, while filling in the civil form has been automated, the criminal affidavit should also be automated."
   ]
  },
  {
   "cell_type": "code",
   "execution_count": null,
   "metadata": {
    "collapsed": true
   },
   "outputs": [],
   "source": []
  }
 ],
 "metadata": {
  "anaconda-cloud": {},
  "kernelspec": {
   "display_name": "Python [default]",
   "language": "python",
   "name": "python3"
  },
  "language_info": {
   "codemirror_mode": {
    "name": "ipython",
    "version": 3
   },
   "file_extension": ".py",
   "mimetype": "text/x-python",
   "name": "python",
   "nbconvert_exporter": "python",
   "pygments_lexer": "ipython3",
   "version": "3.5.2"
  }
 },
 "nbformat": 4,
 "nbformat_minor": 0
}
