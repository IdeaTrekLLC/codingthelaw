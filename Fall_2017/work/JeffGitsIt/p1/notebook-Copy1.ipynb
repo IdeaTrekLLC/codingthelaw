{
 "cells": [
  {
   "cell_type": "markdown",
   "metadata": {},
   "source": [
    "# U.S. Air Force Medical Discharge Assistant\n",
    "By [Jeff Price](http://www.linkedin.com/in/jpjeffprice) \n",
    "\n",
    "I wrote a chatbot, which you can find [here](http://www.codingthelaw.org/Fall_2017/work/JeffGitsIt/p4/botbeta2.html), that helps active duty U.S. Air Force members navigate the medical discharge process.\n",
    "\n"
   ]
  },
  {
   "cell_type": "code",
   "execution_count": null,
   "metadata": {
    "collapsed": true
   },
   "outputs": [],
   "source": []
  }
 ],
 "metadata": {
  "anaconda-cloud": {},
  "kernelspec": {
   "display_name": "Python [default]",
   "language": "python",
   "name": "python3"
  },
  "language_info": {
   "codemirror_mode": {
    "name": "ipython",
    "version": 3
   },
   "file_extension": ".py",
   "mimetype": "text/x-python",
   "name": "python",
   "nbconvert_exporter": "python",
   "pygments_lexer": "ipython3",
   "version": "3.5.2"
  }
 },
 "nbformat": 4,
 "nbformat_minor": 0
}
