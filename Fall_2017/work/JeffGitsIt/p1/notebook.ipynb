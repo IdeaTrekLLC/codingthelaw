{
 "cells": [
  {
   "cell_type": "markdown",
   "metadata": {},
   "source": [
    "# Assigned Counsel and Fee Waiver Bot\n",
    "By [Jeff Price](http://www.linkedin.com/in/jpjeffprice) \n",
    "\n",
    "I wrote a chatbot, which you can find [here](http://www.codingthelaw.org/Fall_2017/work/JeffGitsIt/p1/bot_2.html), that helps the user assess their indigent status in the state of Ohio. To write my bot, I used a tool called [QnA Markup](http://www.qnamarkup.org/). Basically, this tool creates an interactive dicision tree by nesting questions and answers. The source code for my bot can be found [here](bot_2.txt). \n",
    "\n",
    "## User Testing\n",
    "\n",
    "Aside from my own testing during development, a classmate provided great feedback on a series of five use cases. This feedback highlighted the need to add juvenile and civil decision paths, noted some minor coding errors, and made several usability suggestions. The latter included adding options for clarifying information rather than including such detail within the prompt (which resulted in large blocks of text), as well as providing definition for the various degrees of felonies. \n",
    "\n",
    "I also reached out to an Ohio lawyer for feedback. While he initially agreed to review the bot, to date he has yet to do so.\n",
    "\n",
    "Further, a few minor bugs were discovered by several other users during development.\n",
    "\n",
    "## Refinement\n",
    "\n",
    "The original bot (source code [here](bot.txt)) lacked decision points for juvenile and civil litigants, as well as links to the appropriate civil and criminal forms. The current version corrects these omissions, and also improves the user experience by incorporating the design suggestions from user testing (see above).\n",
    "\n",
    "Rather than design every form to be filled by user input, I selected just the civil affidavit to be fillable while the criminal affidavit just links to the template. This was done in part because the criminal form is a pdf that didn't transfer well to word, while the civil form was much easier to transfer.\n",
    "\n",
    "## Real-World Viability\n",
    "\n",
    "I am happy with how extensively applicable the bot became in only a few short weeks of development. I think it covers almost all use cases quite well. However, to make this chatbot completely viable I would need a lawyer to review it for completeness and accuracy.\n",
    "\n",
    "While filling in the civil form has been automated, this is only one generic version of such a form. Most Ohio courts would accept this generic form, but a few courts have their own templates that are mandatory. Further refinement would add these court-specific civil affidavits, and the chatbot would ask jurisdictional questions up front to direct the user to the proper form. I could further specify the exact address and provide contact info for filing the court-specific forms.\n",
    "\n",
    "Ideally, the chatbot would incorporate an option to assist the user in filling out the criminal affidavit as well.\n",
    "\n",
    "There are probably some other usability improvements that could be made. Additional user testing would be the most effective way to discover these, but personally I might have added more explanation to the rejection messages when a user doesn’t qualify for criminal legal assistance."
   ]
  },
  {
   "cell_type": "code",
   "execution_count": null,
   "metadata": {
    "collapsed": true
   },
   "outputs": [],
   "source": []
  }
 ],
 "metadata": {
  "anaconda-cloud": {},
  "kernelspec": {
   "display_name": "Python [default]",
   "language": "python",
   "name": "python3"
  },
  "language_info": {
   "codemirror_mode": {
    "name": "ipython",
    "version": 3
   },
   "file_extension": ".py",
   "mimetype": "text/x-python",
   "name": "python",
   "nbconvert_exporter": "python",
   "pygments_lexer": "ipython3",
   "version": "3.5.2"
  }
 },
 "nbformat": 4,
 "nbformat_minor": 0
}
