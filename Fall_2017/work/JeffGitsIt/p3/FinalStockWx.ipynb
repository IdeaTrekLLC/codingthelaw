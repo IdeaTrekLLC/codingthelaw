{
 "cells": [
  {
   "cell_type": "markdown",
   "metadata": {},
   "source": [
    "# Ever Wonder Whether Weather Sways Stocks?\n",
    "\n",
    "By [Jeff Price](https://www.linkedin.com/in/jpjeffprice). \n",
    "\n",
    "This modeling project analyzed data from several sources to explore whether the atmospheric conditions outside the New York Stock Exchange (NYSE) have any affect on trading inside the building. To wit, does a gloomy day outside make traders more pessimistic, does a tough trek through the snow sap their patience when trading, or do high temperatures and clear skies provide a boost in temperament that translates into high stock valuations?\n",
    "\n",
    "## Data Sources\n",
    "\n",
    "To populate the model, I downloaded stock market data for the S&P 500 from [Yahoo Finance](https://finance.yahoo.com/quote/%5EGSPC/history?period1=1479445200&period2=1510981200&interval=1d&filter=history&frequency=1d), which included the opening, closing, and highest and lowest trade for each trading day over the year 18 November 2016 to 18 November 2017. Thought this clearly doesn’t represent every stock traded on the NYSE, for the purposes of my model it is serving as a proxy for overall NYSE trading. I then collected weather data from wunderground.com for the Central Park, NY weather station, [KNYC](https://www.wunderground.com/history/airport/KNYC/2016/11/18/CustomHistory.html?dayend=18&monthend=11&yearend=2017&req_city=&req_state=&req_statename=&reqdb.zip=&reqdb.magic=&reqdb.wmo=). This data set spanned all days between 18 November 2016 and 18 November 2017, and included the average wind speed, temperature (in Fahrenheit), humidity, visibility (in miles), dew point, and sea level pressure, as well as the high and low readings. It also included precipitation in inches and a category for they type of precipitation (i.e. rain, snow, or fog), which could include multiple precipitation types on a given day.\n",
    "\n",
    "## Data Wrangling\n",
    "These data sets didn't match initially, since the market data only included entries for days the NYSE was open, while the weather data included readings for every single day. To correct this, I just deleted the weather data entries for the weekends and NYSE holidays.\n",
    "\n",
    "Further, some of the entries in the weather precipitation column included the non-numerical value 'T'. This indicated trace precipitation, which is too little to measure but still significant enough to note. For practical purposes I treated this as zero precipitation, and replaced all the T's with '0'.\n",
    "\n",
    "I then added a few columns for the row ID, date, and the daily change in the S&P 500, which I calculated by subtracting the closing value from the opening value. This sometimes resulted in a negative number. In addition, I deleted most of the other columns, only leaving the aforementioned daily stock market change, the average temperature, average visibility, average wind, and amount of precipitation. I didn't try to account for the type of precipitation, reasoning that the regression analysis would partially capture this via the combination of temperature and precipitation level during regression (e.g. if there's precipitation and the temperature is high, it was probably raining).\n",
    "\n",
    "## The Model\n",
    "The model itself was a linear regression where SPchange = NYCtemp + Visibility + NYCwind + NYCprecip. The variables used are defined as follows:\n",
    "\n",
    "SPchange = daily change in the value of the S&P 500 stock index, calculated by subtracting the closing price from the opening price\n",
    "\n",
    "NYCtemp = average temperature, as measured at weather station KNYC (data provided; not calculated)\n",
    "\n",
    "Visibility = average visibility in miles, as measured at the KNYC weather station (data provided; not calculated)\n",
    "\n",
    "NYCwind = average wind, as measured at weather station KNYC (data provided; not calculated)\n",
    "\n",
    "NYCprecip = precipitation in inches (including rain, snow, etc), as measured at weather station KNYC (data provided; not calculated)\n",
    "\n",
    "## Training, Cross Validation, and Results\n",
    "Visualizing some of the data (both NYCprecip graphed against SPchange and NYCtemp graphed against SPchange), there didn’t appear to be much of correlation. The data was all over the graph, and the best fit line didn’t seem to have much predictive power. However, I was curious whether all the variables taken together might better predict changes in the SPchange variable.\n",
    "\n",
    "I initially utilized the 5% test sample size, utilizing 95% of my data to train the model. However, I initially got a negative accuracy from the validation module. This caused me to explore holding back more of the data to test against, shrinking my training data. The results of that are as follows:\n",
    "\n",
    "10% test data resulted in a R2 of 0.023 and accuracy of -0.00422219571875\n",
    "\n",
    "15% test data resulted in a R2 of 0.034 and accuracy of -0.0861092821173\n",
    "\n",
    "20% test data resulted in a R2 of 0.032 and accuracy of -0.0117661970201\n",
    "\n",
    "The smaller test data samples appeared to have increasing accuracy scores (i.e. they were less negative). Curiously, when I tried the 5% test sample size again, I got a R2 of 0.022 and positive accuracy scores of 0.0453505452191 and 0.0190130984933 for each of two trials. This indicates to me that the model is very weak, only getting positive accuracy scores at small test sample sizes, and even then not all the time. Further, as the R2 indicates, these variables are only explaining 2-3% of the dependant variable SPchange.\n",
    "\n",
    "I interpret these results to mean that my model is not very good at explaining price changes for the S&P 500 stock index.\n",
    "\n",
    "## Ideas for Improvement\n",
    "In light of distributed online trading and computer automation, it is perhaps not surprising that the weather outside the NYSE would have so little effect on trading within the building. Any effect is probably diluted by trades being called in from afar or automated machines that don’t even know the weather.\n",
    "\n",
    "To improve the model, I could use multiple weather station inputs rather than just one, I could go back many years to see if more date would increase the predictive power of the model (not likely at such an already low R2), or I might try to proxy NYSE trading with other variables, such as trade volume (instead price change). All these tweaks might make the model more robust, but it likely won’t increase its explanatory power too much. To really test for a link between weather and stock trading at the NYSE, I would probably have to round up much older historical data from before the proliferation of online/electronic trading. In the future, it would be interesting to see if 100 years ago the weather really did have an impact on what happened on the stock-trading floor.\n"
   ]
  },
  {
   "cell_type": "code",
   "execution_count": 53,
   "metadata": {
    "collapsed": false
   },
   "outputs": [],
   "source": [
    "import os\n",
    "try:\n",
    "    inputFunc = raw_input\n",
    "except NameError:\n",
    "    inputFunc = input\n",
    "\n",
    "import pandas as pd\n",
    "from pandas.tseries.holiday import USFederalHolidayCalendar\n",
    "from pandas.tseries.offsets import CustomBusinessDay\n",
    "import numpy as np\n",
    " \n",
    "import seaborn as sns\n",
    "from statsmodels.formula.api import ols\n",
    "\n",
    "from sklearn import linear_model\n",
    "from sklearn import metrics\n",
    "\n",
    "from sklearn.linear_model import LogisticRegression\n",
    "from patsy import dmatrices\n",
    "\n",
    "import matplotlib.pyplot as plt\n",
    "%matplotlib inline\n",
    "import numpy as np\n",
    "from sklearn.metrics import accuracy_score\n",
    "from sklearn.metrics import confusion_matrix\n",
    "\n",
    "import matplotlib.pyplot as plt\n",
    "\n",
    "import random\n",
    "\n",
    "\n",
    "\n",
    "# Custom functions\n",
    "\n",
    "def evaluate(pred, labels_test):\n",
    "    acc = accuracy_score(pred, labels_test)\n",
    "    print (\"Accuracey: %s\"%acc)\n",
    "    tn, fp, fn, tp = confusion_matrix(labels_test, pred).ravel()\n",
    "\n",
    "    recall = tp / (tp + fp)\n",
    "    percision = tp / (tp + fn)\n",
    "    f1 = (2 / ((1/recall)+(1/percision)))\n",
    "\n",
    "    print (\"\")\n",
    "    print (\"True Negatives: %s\"%tn)\n",
    "    print (\"False Positives: %s\"%fp)\n",
    "    print (\"False Negatives: %s\"%fn)\n",
    "    print (\"True Positives: %s\"%tp)\n",
    "    print (\"Recall: %s\"%recall)\n",
    "    print (\"Precision: %s\"%percision)\n",
    "    print (\"F1 Score: %s\"%f1)\n",
    "\n",
    "def plot_bound(Z_val,data,col1,col2,binary):\n",
    "    # Z-val equals \"Yes\" value. E.g., \"Y\" or \"1\". \n",
    "    # data equals df\n",
    "    # col1 and col2 defines which colums to use from data\n",
    "    # Plot binary decision boundary. \n",
    "    # For this, we will assign a color to each\n",
    "    # point in the mesh [x_min, m_max]x[y_min, y_max].\n",
    "    \n",
    "    x_min = float(data.iloc[:,[col1]].min())-float(data.iloc[:,[col1]].min())*0.10 \n",
    "    x_max = float(data.iloc[:,[col1]].max()+float(data.iloc[:,[col1]].min())*0.10)\n",
    "    y_min = 0.0; \n",
    "    y_max = float(training.iloc[:,[col2]].max())+float(training.iloc[:,[col2]].max())*0.10\n",
    "    h_x = (x_max-x_min)/100  # step size in the mesh\n",
    "    h_y = (y_max-y_min)/100  # step size in the mesh\n",
    "    xx, yy = np.meshgrid(np.arange(x_min, x_max, h_x), np.arange(y_min, y_max, h_y))\n",
    "    if binary == 1:\n",
    "        Z = clf.predict(np.c_[xx.ravel(), yy.ravel()])   \n",
    "        Z = np.where(Z==\"Y\",1,0)\n",
    "    else:\n",
    "        Z = clf.predict_proba(np.c_[xx.ravel(), yy.ravel()])[:, 1]\n",
    "    # Put the result into a color plot\n",
    "    Z = Z.reshape(xx.shape)\n",
    "    plt.xlim(xx.min(), xx.max())\n",
    "    plt.ylim(yy.min(), yy.max())\n",
    "    plt.pcolormesh(xx, yy, Z)\n",
    "    plt.show()"
   ]
  },
  {
   "cell_type": "markdown",
   "metadata": {},
   "source": [
    "## Data Cleaning\n",
    "\n",
    "Here we load the data we collected and get it all ready to feed to our statistical model(s). That is, we are trying to make a table with one **target** column and one or more **features**. Here I'm loading happiness.csv from: https://data.somervillema.gov/Happiness/Somerville-Happiness-Survey-responses-2011-2013-20/w898-3dfm Note: you can find information on the data elements at this link. \n"
   ]
  },
  {
   "cell_type": "code",
   "execution_count": 54,
   "metadata": {
    "collapsed": false
   },
   "outputs": [
    {
     "data": {
      "text/html": [
       "<div>\n",
       "<table border=\"1\" class=\"dataframe\">\n",
       "  <thead>\n",
       "    <tr style=\"text-align: right;\">\n",
       "      <th></th>\n",
       "      <th>ID</th>\n",
       "      <th>Date</th>\n",
       "      <th>SPchange</th>\n",
       "      <th>NYCtemp</th>\n",
       "      <th>Visibility</th>\n",
       "      <th>NYCwind</th>\n",
       "      <th>NYCprecip</th>\n",
       "    </tr>\n",
       "  </thead>\n",
       "  <tbody>\n",
       "    <tr>\n",
       "      <th>0</th>\n",
       "      <td>1</td>\n",
       "      <td>11/18/16</td>\n",
       "      <td>-4.95</td>\n",
       "      <td>54</td>\n",
       "      <td>10</td>\n",
       "      <td>8</td>\n",
       "      <td>0.00</td>\n",
       "    </tr>\n",
       "    <tr>\n",
       "      <th>1</th>\n",
       "      <td>2</td>\n",
       "      <td>11/21/16</td>\n",
       "      <td>11.75</td>\n",
       "      <td>39</td>\n",
       "      <td>10</td>\n",
       "      <td>22</td>\n",
       "      <td>0.00</td>\n",
       "    </tr>\n",
       "    <tr>\n",
       "      <th>2</th>\n",
       "      <td>3</td>\n",
       "      <td>11/22/16</td>\n",
       "      <td>1.38</td>\n",
       "      <td>39</td>\n",
       "      <td>10</td>\n",
       "      <td>21</td>\n",
       "      <td>0.00</td>\n",
       "    </tr>\n",
       "    <tr>\n",
       "      <th>3</th>\n",
       "      <td>4</td>\n",
       "      <td>11/23/16</td>\n",
       "      <td>6.17</td>\n",
       "      <td>40</td>\n",
       "      <td>10</td>\n",
       "      <td>12</td>\n",
       "      <td>0.00</td>\n",
       "    </tr>\n",
       "    <tr>\n",
       "      <th>4</th>\n",
       "      <td>5</td>\n",
       "      <td>11/25/16</td>\n",
       "      <td>7.08</td>\n",
       "      <td>50</td>\n",
       "      <td>7</td>\n",
       "      <td>9</td>\n",
       "      <td>0.02</td>\n",
       "    </tr>\n",
       "  </tbody>\n",
       "</table>\n",
       "</div>"
      ],
      "text/plain": [
       "  ID      Date  SPchange  NYCtemp  Visibility  NYCwind  NYCprecip\n",
       "0  1  11/18/16     -4.95       54          10        8       0.00\n",
       "1  2  11/21/16     11.75       39          10       22       0.00\n",
       "2  3  11/22/16      1.38       39          10       21       0.00\n",
       "3  4  11/23/16      6.17       40          10       12       0.00\n",
       "4  5  11/25/16      7.08       50           7        9       0.02"
      ]
     },
     "execution_count": 54,
     "metadata": {},
     "output_type": "execute_result"
    }
   ],
   "source": [
    "# Load and peek at your data. Change the file name as needed. \n",
    "raw_data_df = pd.read_csv('cleandata2.csv', parse_dates=[0]) \n",
    "raw_data_df.head()"
   ]
  },
  {
   "cell_type": "code",
   "execution_count": 55,
   "metadata": {
    "collapsed": false
   },
   "outputs": [
    {
     "name": "stdout",
     "output_type": "stream",
     "text": [
      "[54 39 40 50 45 56 48 46 44 42 43 35 38 27 22 37 41 30 29 19 34 47 57 32 26\n",
      " 55 64 53 62 36 49 23 51 33 71 67 66 58 52 72 69 61 68 78 84 79 63 65 59 85\n",
      " 86 77 70 76 80 75 81 74 83 82 73 60]\n",
      "[ 8 22 21 12  9 10 13 18 20 17 15  6 14 25 16 33 24 23 28 26  7]\n"
     ]
    }
   ],
   "source": [
    "# You can explore unique entires by stating the column and using .unique() like this:\n",
    "print(raw_data_df[\"NYCtemp\"].unique())\n",
    "print(raw_data_df[\"NYCwind\"].unique())"
   ]
  },
  {
   "cell_type": "code",
   "execution_count": 56,
   "metadata": {
    "collapsed": false
   },
   "outputs": [
    {
     "data": {
      "text/html": [
       "<div>\n",
       "<table border=\"1\" class=\"dataframe\">\n",
       "  <thead>\n",
       "    <tr style=\"text-align: right;\">\n",
       "      <th></th>\n",
       "      <th>SPchange</th>\n",
       "      <th>NYCtemp</th>\n",
       "      <th>Visibility</th>\n",
       "      <th>NYCwind</th>\n",
       "      <th>NYCprecip</th>\n",
       "    </tr>\n",
       "  </thead>\n",
       "  <tbody>\n",
       "    <tr>\n",
       "      <th>0</th>\n",
       "      <td>-4.95</td>\n",
       "      <td>54</td>\n",
       "      <td>10</td>\n",
       "      <td>8</td>\n",
       "      <td>0.00</td>\n",
       "    </tr>\n",
       "    <tr>\n",
       "      <th>1</th>\n",
       "      <td>11.75</td>\n",
       "      <td>39</td>\n",
       "      <td>10</td>\n",
       "      <td>22</td>\n",
       "      <td>0.00</td>\n",
       "    </tr>\n",
       "    <tr>\n",
       "      <th>2</th>\n",
       "      <td>1.38</td>\n",
       "      <td>39</td>\n",
       "      <td>10</td>\n",
       "      <td>21</td>\n",
       "      <td>0.00</td>\n",
       "    </tr>\n",
       "    <tr>\n",
       "      <th>3</th>\n",
       "      <td>6.17</td>\n",
       "      <td>40</td>\n",
       "      <td>10</td>\n",
       "      <td>12</td>\n",
       "      <td>0.00</td>\n",
       "    </tr>\n",
       "    <tr>\n",
       "      <th>4</th>\n",
       "      <td>7.08</td>\n",
       "      <td>50</td>\n",
       "      <td>7</td>\n",
       "      <td>9</td>\n",
       "      <td>0.02</td>\n",
       "    </tr>\n",
       "  </tbody>\n",
       "</table>\n",
       "</div>"
      ],
      "text/plain": [
       "   SPchange  NYCtemp  Visibility  NYCwind  NYCprecip\n",
       "0     -4.95       54          10        8       0.00\n",
       "1     11.75       39          10       22       0.00\n",
       "2      1.38       39          10       21       0.00\n",
       "3      6.17       40          10       12       0.00\n",
       "4      7.08       50           7        9       0.02"
      ]
     },
     "execution_count": 56,
     "metadata": {},
     "output_type": "execute_result"
    }
   ],
   "source": [
    "# I'm now going to make a set of tables to be used in training some models\n",
    "# The first set will be for linear regressions where the traget is numeric.\n",
    "# Happiness\n",
    "stock_wx_df = raw_data_df[[\n",
    "                               'SPchange', \n",
    "                               'NYCtemp', \n",
    "                               'Visibility',\n",
    "                                'NYCwind',\n",
    "                                'NYCprecip'\n",
    "                               ]].copy()\n",
    "stock_wx_df.head()"
   ]
  },
  {
   "cell_type": "markdown",
   "metadata": {},
   "source": [
    "## Taining and Validation\n",
    "\n",
    "Above I created four datasets worth exploring: \n",
    "- **`happy_lin_df`**. The data needed to access *happiness* along a continuous variable.\n",
    "- **`sat_lin_df`**. The data needed to access *satisfaction* along a continuous variable.\n",
    "- **`happy_class_df`**. The data needed to access *happiness* as a categorical variable.\n",
    "- **`sat_class_df`**. The data needed to access *satisfaction* as a categorical variable.\n",
    "\n",
    "Let's take them each in turn. "
   ]
  },
  {
   "cell_type": "markdown",
   "metadata": {},
   "source": [
    "## stock_wx_df\n",
    "\n"
   ]
  },
  {
   "cell_type": "code",
   "execution_count": 57,
   "metadata": {
    "collapsed": true
   },
   "outputs": [],
   "source": [
    "data = stock_wx_df\n",
    "\n",
    "holdout = data.sample(frac=0.05)\n",
    "training = data.loc[~data.index.isin(holdout.index)]"
   ]
  },
  {
   "cell_type": "code",
   "execution_count": 28,
   "metadata": {
    "collapsed": false
   },
   "outputs": [
    {
     "data": {
      "text/plain": [
       "<seaborn.axisgrid.FacetGrid at 0x117ebcd30>"
      ]
     },
     "execution_count": 28,
     "metadata": {},
     "output_type": "execute_result"
    },
    {
     "data": {
      "image/png": "[encoded data removed]",
      "text/plain": [
       "<matplotlib.figure.Figure at 0x117ebce80>"
      ]
     },
     "metadata": {},
     "output_type": "display_data"
    }
   ],
   "source": [
    "sns.lmplot(x=\"SPchange\", y=\"NYCprecip\", data=training, x_estimator=np.mean, order=1)"
   ]
  },
  {
   "cell_type": "code",
   "execution_count": 29,
   "metadata": {
    "collapsed": false
   },
   "outputs": [
    {
     "data": {
      "text/plain": [
       "<seaborn.axisgrid.FacetGrid at 0x118350588>"
      ]
     },
     "execution_count": 29,
     "metadata": {},
     "output_type": "execute_result"
    },
    {
     "data": {
      "image/png": "[encoded data removed]",
      "text/plain": [
       "<matplotlib.figure.Figure at 0x1183502e8>"
      ]
     },
     "metadata": {},
     "output_type": "display_data"
    }
   ],
   "source": [
    "sns.lmplot(x=\"SPchange\", y=\"NYCtemp\", data=training, x_estimator=np.mean, order=1)"
   ]
  },
  {
   "cell_type": "code",
   "execution_count": 58,
   "metadata": {
    "collapsed": false
   },
   "outputs": [
    {
     "data": {
      "text/html": [
       "<table class=\"simpletable\">\n",
       "<caption>OLS Regression Results</caption>\n",
       "<tr>\n",
       "  <th>Dep. Variable:</th>        <td>SPchange</td>     <th>  R-squared:         </th> <td>   0.023</td>\n",
       "</tr>\n",
       "<tr>\n",
       "  <th>Model:</th>                   <td>OLS</td>       <th>  Adj. R-squared:    </th> <td>   0.006</td>\n",
       "</tr>\n",
       "<tr>\n",
       "  <th>Method:</th>             <td>Least Squares</td>  <th>  F-statistic:       </th> <td>   1.387</td>\n",
       "</tr>\n",
       "<tr>\n",
       "  <th>Date:</th>             <td>Mon, 04 Dec 2017</td> <th>  Prob (F-statistic):</th>  <td> 0.239</td> \n",
       "</tr>\n",
       "<tr>\n",
       "  <th>Time:</th>                 <td>18:09:51</td>     <th>  Log-Likelihood:    </th> <td> -839.87</td>\n",
       "</tr>\n",
       "<tr>\n",
       "  <th>No. Observations:</th>      <td>   239</td>      <th>  AIC:               </th> <td>   1690.</td>\n",
       "</tr>\n",
       "<tr>\n",
       "  <th>Df Residuals:</th>          <td>   234</td>      <th>  BIC:               </th> <td>   1707.</td>\n",
       "</tr>\n",
       "<tr>\n",
       "  <th>Df Model:</th>              <td>     4</td>      <th>                     </th>     <td> </td>   \n",
       "</tr>\n",
       "<tr>\n",
       "  <th>Covariance Type:</th>      <td>nonrobust</td>    <th>                     </th>     <td> </td>   \n",
       "</tr>\n",
       "</table>\n",
       "<table class=\"simpletable\">\n",
       "<tr>\n",
       "       <td></td>         <th>coef</th>     <th>std err</th>      <th>t</th>      <th>P>|t|</th> <th>[95.0% Conf. Int.]</th> \n",
       "</tr>\n",
       "<tr>\n",
       "  <th>Intercept</th>  <td>    0.5790</td> <td>    4.712</td> <td>    0.123</td> <td> 0.902</td> <td>   -8.703     9.861</td>\n",
       "</tr>\n",
       "<tr>\n",
       "  <th>NYCtemp</th>    <td>   -0.0213</td> <td>    0.036</td> <td>   -0.589</td> <td> 0.556</td> <td>   -0.092     0.050</td>\n",
       "</tr>\n",
       "<tr>\n",
       "  <th>Visibility</th> <td>   -0.0532</td> <td>    0.361</td> <td>   -0.147</td> <td> 0.883</td> <td>   -0.765     0.659</td>\n",
       "</tr>\n",
       "<tr>\n",
       "  <th>NYCwind</th>    <td>    0.1283</td> <td>    0.151</td> <td>    0.852</td> <td> 0.395</td> <td>   -0.168     0.425</td>\n",
       "</tr>\n",
       "<tr>\n",
       "  <th>NYCprecip</th>  <td>    2.0565</td> <td>    1.946</td> <td>    1.057</td> <td> 0.292</td> <td>   -1.778     5.891</td>\n",
       "</tr>\n",
       "</table>\n",
       "<table class=\"simpletable\">\n",
       "<tr>\n",
       "  <th>Omnibus:</th>       <td>42.313</td> <th>  Durbin-Watson:     </th> <td>   2.131</td>\n",
       "</tr>\n",
       "<tr>\n",
       "  <th>Prob(Omnibus):</th> <td> 0.000</td> <th>  Jarque-Bera (JB):  </th> <td> 115.568</td>\n",
       "</tr>\n",
       "<tr>\n",
       "  <th>Skew:</th>          <td>-0.767</td> <th>  Prob(JB):          </th> <td>8.03e-26</td>\n",
       "</tr>\n",
       "<tr>\n",
       "  <th>Kurtosis:</th>      <td> 6.042</td> <th>  Cond. No.          </th> <td>    556.</td>\n",
       "</tr>\n",
       "</table>"
      ],
      "text/plain": [
       "<class 'statsmodels.iolib.summary.Summary'>\n",
       "\"\"\"\n",
       "                            OLS Regression Results                            \n",
       "==============================================================================\n",
       "Dep. Variable:               SPchange   R-squared:                       0.023\n",
       "Model:                            OLS   Adj. R-squared:                  0.006\n",
       "Method:                 Least Squares   F-statistic:                     1.387\n",
       "Date:                Mon, 04 Dec 2017   Prob (F-statistic):              0.239\n",
       "Time:                        18:09:51   Log-Likelihood:                -839.87\n",
       "No. Observations:                 239   AIC:                             1690.\n",
       "Df Residuals:                     234   BIC:                             1707.\n",
       "Df Model:                           4                                         \n",
       "Covariance Type:            nonrobust                                         \n",
       "==============================================================================\n",
       "                 coef    std err          t      P>|t|      [95.0% Conf. Int.]\n",
       "------------------------------------------------------------------------------\n",
       "Intercept      0.5790      4.712      0.123      0.902        -8.703     9.861\n",
       "NYCtemp       -0.0213      0.036     -0.589      0.556        -0.092     0.050\n",
       "Visibility    -0.0532      0.361     -0.147      0.883        -0.765     0.659\n",
       "NYCwind        0.1283      0.151      0.852      0.395        -0.168     0.425\n",
       "NYCprecip      2.0565      1.946      1.057      0.292        -1.778     5.891\n",
       "==============================================================================\n",
       "Omnibus:                       42.313   Durbin-Watson:                   2.131\n",
       "Prob(Omnibus):                  0.000   Jarque-Bera (JB):              115.568\n",
       "Skew:                          -0.767   Prob(JB):                     8.03e-26\n",
       "Kurtosis:                       6.042   Cond. No.                         556.\n",
       "==============================================================================\n",
       "\n",
       "Warnings:\n",
       "[1] Standard Errors assume that the covariance matrix of the errors is correctly specified.\n",
       "\"\"\""
      ]
     },
     "execution_count": 58,
     "metadata": {},
     "output_type": "execute_result"
    }
   ],
   "source": [
    "model = ols(\"SPchange ~ NYCtemp + Visibility + NYCwind + NYCprecip\", training).fit()\n",
    "model.summary()"
   ]
  },
  {
   "cell_type": "code",
   "execution_count": 59,
   "metadata": {
    "collapsed": false
   },
   "outputs": [
    {
     "name": "stdout",
     "output_type": "stream",
     "text": [
      "R squared: 0.0231549699348\n",
      "Accuracy: 0.0190130984933\n"
     ]
    }
   ],
   "source": [
    "# Rerun with SciKitLearn because it's easy to check accuracy\n",
    "features_train = training.drop(\"SPchange\", axis=1).as_matrix(columns=None)\n",
    "labels_train = training[\"SPchange\"].as_matrix(columns=None)\n",
    "\n",
    "features_test = holdout.drop(\"SPchange\", axis=1).as_matrix(columns=None)\n",
    "labels_test = holdout[\"SPchange\"].as_matrix(columns=None)\n",
    "\n",
    "lm = linear_model.LinearRegression()\n",
    "clf = lm.fit(features_train, labels_train)\n",
    "pred = clf.predict(features_test)\n",
    "accuracy = metrics.r2_score(labels_test, pred)\n",
    "print(\"R squared:\",lm.score(features_train,labels_train))\n",
    "print(\"Accuracy:\",accuracy)"
   ]
  },
  {
   "cell_type": "code",
   "execution_count": null,
   "metadata": {
    "collapsed": true
   },
   "outputs": [],
   "source": []
  }
 ],
 "metadata": {
  "anaconda-cloud": {},
  "kernelspec": {
   "display_name": "Python [default]",
   "language": "python",
   "name": "python3"
  },
  "language_info": {
   "codemirror_mode": {
    "name": "ipython",
    "version": 3
   },
   "file_extension": ".py",
   "mimetype": "text/x-python",
   "name": "python",
   "nbconvert_exporter": "python",
   "pygments_lexer": "ipython3",
   "version": "3.5.2"
  }
 },
 "nbformat": 4,
 "nbformat_minor": 1
}
