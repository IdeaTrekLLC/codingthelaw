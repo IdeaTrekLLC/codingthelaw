{
 "cells": [
  {
   "cell_type": "code",
   "execution_count": 5,
   "metadata": {},
   "outputs": [
    {
     "data": {
      "text/html": [
       "<div>\n",
       "<style>\n",
       "    .dataframe thead tr:only-child th {\n",
       "        text-align: right;\n",
       "    }\n",
       "\n",
       "    .dataframe thead th {\n",
       "        text-align: left;\n",
       "    }\n",
       "\n",
       "    .dataframe tbody tr th {\n",
       "        vertical-align: top;\n",
       "    }\n",
       "</style>\n",
       "<table border=\"1\" class=\"dataframe\">\n",
       "  <thead>\n",
       "    <tr style=\"text-align: right;\">\n",
       "      <th></th>\n",
       "      <th>Timestamp</th>\n",
       "      <th>Project Name</th>\n",
       "      <th>Your Name</th>\n",
       "      <th>Your Supervisor</th>\n",
       "    </tr>\n",
       "  </thead>\n",
       "  <tbody>\n",
       "    <tr>\n",
       "      <th>0</th>\n",
       "      <td>9/1/2016 1:02:56</td>\n",
       "      <td>Penny Pincher</td>\n",
       "      <td>Peter Gibbons</td>\n",
       "      <td>Bill Lumbergh</td>\n",
       "    </tr>\n",
       "    <tr>\n",
       "      <th>1</th>\n",
       "      <td>8/31/2016 21:27:04</td>\n",
       "      <td>Penny Pincher</td>\n",
       "      <td>Michael Bolton</td>\n",
       "      <td>Bill Lumbergh</td>\n",
       "    </tr>\n",
       "    <tr>\n",
       "      <th>2</th>\n",
       "      <td>8/31/2016 21:27:24</td>\n",
       "      <td>Penny Pincher</td>\n",
       "      <td>Samir Nagheenanajar</td>\n",
       "      <td>Bill Lumbergh</td>\n",
       "    </tr>\n",
       "  </tbody>\n",
       "</table>\n",
       "</div>"
      ],
      "text/plain": [
       "            Timestamp   Project Name            Your Name Your Supervisor\n",
       "0    9/1/2016 1:02:56  Penny Pincher        Peter Gibbons   Bill Lumbergh\n",
       "1  8/31/2016 21:27:04  Penny Pincher       Michael Bolton   Bill Lumbergh\n",
       "2  8/31/2016 21:27:24  Penny Pincher  Samir Nagheenanajar   Bill Lumbergh"
      ]
     },
     "execution_count": 5,
     "metadata": {},
     "output_type": "execute_result"
    }
   ],
   "source": [
    "import csv\n",
    "import gspread\n",
    "from oauth2client.service_account import ServiceAccountCredentials\n",
    "scope = ['https://spreadsheets.google.com/feeds']\n",
    "document_key = \"13bsf7rP9ubfBSX7-hK3QayZIaUkTxrXaOZqGsfLjWX4\"\n",
    "credentials = ServiceAccountCredentials.from_json_keyfile_name('/Users/ericadumore/Documents/2L Year/Semester 1/Coding in Law/SheetsBot-32718db5596a.json', scope)\n",
    "csvfile = \"output.csv\"\n",
    "gc = gspread.authorize(credentials)\n",
    "wks = gc.open_by_key(document_key)\n",
    "worksheet = wks.worksheet(\"Form Responses 1\")\n",
    "list_of_lists = worksheet.get_all_values()\n",
    "with open(csvfile, \"w\") as output:\n",
    "    writer = csv.writer(output, lineterminator='\\n')\n",
    "    writer.writerows(list_of_lists)\n",
    "\n",
    "import pandas as pd\n",
    "output = pd.read_csv(csvfile)\n",
    "output[:3]"
   ]
  },
  {
   "cell_type": "code",
   "execution_count": null,
   "metadata": {
    "collapsed": true
   },
   "outputs": [],
   "source": []
  }
 ],
 "metadata": {
  "kernelspec": {
   "display_name": "Python 3",
   "language": "python",
   "name": "python3"
  },
  "language_info": {
   "codemirror_mode": {
    "name": "ipython",
    "version": 3
   },
   "file_extension": ".py",
   "mimetype": "text/x-python",
   "name": "python",
   "nbconvert_exporter": "python",
   "pygments_lexer": "ipython3",
   "version": "3.6.2"
  }
 },
 "nbformat": 4,
 "nbformat_minor": 1
}
