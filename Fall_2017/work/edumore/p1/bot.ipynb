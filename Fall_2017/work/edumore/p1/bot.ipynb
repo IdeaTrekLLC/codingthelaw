{
 "cells": [
  {
   "cell_type": "code",
   "execution_count": null,
   "metadata": {
    "collapsed": true
   },
   "outputs": [],
   "source": []
  },
  {
   "cell_type": "markdown",
   "metadata": {},
   "source": [
    "# Assigned Counsel and Fee Waiver Bot\n",
    "By Erica Dumore\n",
    "\n",
    "My name is Erica Dumore and I am a second year law student at Suffolk University Law School. Over the last four weeks I have been introduced to the world of coding, written my first line of code, and grappled with creating a bot, which you can find [here](http://www.codingthelaw.org/Fall_2017/work/edumore/p1/bot.html). To write my bot, I used a tool called [QnA Markup](http://www.qnamarkup.org/) that allowed me to write code, edit it, and regenerate it into the bot linked above. Essentially, this tool allowed me to create an interactive dicision tree by nesting questions and answers that are triggered by a users interactive responses. A copy of my written code is [linked here](bot.txt).\n",
    "\n",
    "\n",
    "## Refinement\n",
    "\n",
    "As a beginner, a lot of refinement was needed to generate a final product I could be proud of. I was constantly refining my bot to make it more fluid and user friendly. From start to finish, over the four weeks of work, I could not even attempt to count how many times I edited or altered my bot, I think the progress speaks for itself. [Here] is a copy of my very first bot. Compared to my final bot, I came a long way. Below please find additional drafts should you want to see my progress throughout the four week period. \n",
    "\n",
    "Code [First](http://www.codingthelaw.org/Fall_2017/work/edumore/p1/Bot1.txt) Draft: Simply experimented with using Q, A, and X syntaxs. \n",
    "\n",
    "Code [Second](http://www.codingthelaw.org/Fall_2017/work/edumore/p1/Bot2.txt) Draft: Expanded the first draft to further utilize the GOTO syntax feature, placed javascript placeholders in potential places, and also added in a header and title. \n",
    "\n",
    "Code [Third](http://www.codingthelaw.org/Fall_2017/work/edumore/p1/Bot3.txt) Draft: Expanded the header and title, implemented the javascript syntax, and altered the end results.\n",
    "\n",
    "Code [Fourth](http://www.codingthelaw.org/Fall_2017/work/edumore/p1/Bot4.txt) Draft: Edited to ensure every possible outcome had a final response, added in a few website links to direct user, and put placeholders where the statutes and forms would be placed.\n",
    "\n",
    "Code [Fifth] Draft\n",
    "\n",
    "\n",
    "## User Testing\n",
    "\n",
    "Throughout the process our class conducted peer reviews, which were extremely helpful for integrating improvements. As with any task, it is very easy to believe you have an effective working project when you are in fact just too close to see a hiccup or a more beneficial way to organize/better present information. This was the case with my bot, my fellow classmate provided me with feedback after testing my bot and explained that at that point in my drafting stage, without realizing it, I had directed all of my pathways to the two same generic result responses, which as you can see in my final bot is not the result I had been seeking. Ultimately, my reviewer helped me realize at my two generic results could be made simplier, allowing the user to better understand the result. I would like to think I would have noticed this on my own prior to final completion but having a fresh set of eyes allowed me to make corrections in my code to help generate a more accurate set of results that the users could understand more thoroughly.\n",
    "\n",
    "Attached you can find a copy of my first peer review [email correspondence](http://www.codingthelaw.org/Fall_2017/work/edumore/p1/Feedback1.dox) and the [draft](http://www.codingthelaw.org/Fall_2017/work/edumore/p1/Bot1.txt) bot I updated after receiving feedback. \n",
    "\n",
    "My fellow classmate and I decided to do a second round of peer review testing when we were closer to our final version to ensure that our final bots were improving in content but not beginning to lack in user-friendliness. \n",
    "\n",
    "\n",
    "## Real-World Viability\n",
    "\n",
    "Although a school project, the creation of this bot serves a real world purpose. In our ever advancing society, technology is the resource that most people turn to when they face an unanswered question. Through this class, we have attempted to generate a model user-friendly bot that could help a target group of people who are seeking legal answers regarding a civil or criminal matter that they or a family member may face. Understanding this, I reached out to attorneys who practice in the State of New Hampshire and deal with indigent clients who could benefit from the bot I created. I received encouraging feedback which you can read [here]. "
   ]
  },
  {
   "cell_type": "code",
   "execution_count": null,
   "metadata": {
    "collapsed": true
   },
   "outputs": [],
   "source": []
  }
 ],
 "metadata": {
  "kernelspec": {
   "display_name": "Python 3",
   "language": "python",
   "name": "python3"
  },
  "language_info": {
   "codemirror_mode": {
    "name": "ipython",
    "version": 3
   },
   "file_extension": ".py",
   "mimetype": "text/x-python",
   "name": "python",
   "nbconvert_exporter": "python",
   "pygments_lexer": "ipython3",
   "version": "3.6.1"
  }
 },
 "nbformat": 4,
 "nbformat_minor": 1
}
