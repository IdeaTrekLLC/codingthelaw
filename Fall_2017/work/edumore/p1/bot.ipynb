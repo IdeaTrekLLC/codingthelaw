{
 "cells": [
  {
   "cell_type": "markdown",
   "metadata": {},
   "source": [
    "# Assigned Counsel and Fee Waiver Bot\n",
    "By [Erica Dumore](https://www.linkedin.com/in/erica-dumore-62b306a2/)\n",
    "\n",
    "My name is Erica Dumore and I am a second year law student at Suffolk University Law School. Over the last four weeks I have been introduced to the world of coding, written my first line of code, and grappled with creating a bot, which you can find [here](http://www.codingthelaw.org/Fall_2017/work/edumore/p1/bot.html). To write my bot, I used a tool called [QnA Markup](http://www.qnamarkup.org/) that allowed me to write code, edit it, and regenerate it into the bot linked above. Essentially, this tool allowed me to create an interactive dicision tree by nesting questions and answers that are triggered by a users interactive responses. A copy of my written code is [linked here](bot.txt).\n",
    "\n",
    "\n",
    "## Refinement\n",
    "\n",
    "As a beginner, a lot of refinement was needed to generate a final product I could be proud of. I was constantly refining my bot to make it more fluid and user friendly. From start to finish, over the four weeks of work, I could not even attempt to count how many times I edited or altered my bot, I think the progress speaks for itself. [Here] is a copy of my very first bot. Compared to my final bot, I came a long way. Below please find additional drafts should you want to see my progress throughout the four week period. \n",
    "\n",
    "Code [First](http://www.codingthelaw.org/Fall_2017/work/edumore/p1/Bot1.txt) Draft: Simply experimented with using Q, A, and X syntaxs. \n",
    "\n",
    "Code [Second](http://www.codingthelaw.org/Fall_2017/work/edumore/p1/Bot2.txt) Draft: Expanded the first draft to further utilize the GOTO syntax feature, placed javascript placeholders in potential places, and also added in a header and title. \n",
    "\n",
    "Code [Third](http://www.codingthelaw.org/Fall_2017/work/edumore/p1/Bot3.txt) Draft: Expanded the header and title, implemented the javascript syntax, and altered the end results.\n",
    "\n",
    "Code [Fourth](http://www.codingthelaw.org/Fall_2017/work/edumore/p1/Bot4.txt) Draft: Edited to ensure every possible outcome had a final response, added in a few website links to direct user, and put placeholders where the statutes and forms would be placed.\n",
    "\n",
    "Code [Fifth] Draft\n",
    "\n",
    "\n",
    "## User Testing\n",
    "\n",
    "A bot is only as good as its creator allows it to be. Throughout this process I quickly learned how sensitive coding can be, one missing colon or misplaced letter disables the whole bot from that point forward. I was very careful to repeated update my code to ensure it was properly generating and producing the output I desired.\n",
    "\n",
    "With that said, I also conducted peer and attorney reviews, which were extremely helpful for integrating improvements. As with any task, it is very easy to believe you have an effective working project when you are in fact just too close to see a hiccup or a more beneficial way to organize/better present information. \n",
    "\n",
    "Peer Review:\n",
    "\n",
    "This was the case with my bot, my fellow classmate provided me with feedback after testing my bot and explained that at that point in my drafting stage, without realizing it, I had directed all of my pathways to the two same generic result responses, which as you can see in my final bot is not the result I had been seeking. \n",
    "\n",
    "Ultimately, my reviewer helped me realize that my two generic results could be made simplier, allowing the user to better understand the result. This feedback truly helped me to generate a more accurate set of results that the users could understand more thoroughly.\n",
    "\n",
    "Attached, you can find a copy of my first peer review [email correspondence](http://www.codingthelaw.org/Fall_2017/work/edumore/p1/Feedback1.docx), which lead to my [second draft](http://www.codingthelaw.org/Fall_2017/work/edumore/p1/Bot2.txt) bot integrating the feedback. \n",
    "\n",
    "My fellow classmate and I decided to do a second round of peer review testing when we were closer to our final version to ensure that our final bots were improving in content but not beginning to lack in user-friendliness. \n",
    "\n",
    "Attorney Review:\n",
    "\n",
    "Additionally, in our ever advancing society, technology is the resource that most people turn to when they face an unanswered question. My goal of this class project was to generate a model user-friendly bot that could help a target group of people seeking legal answers. Therefore, who better to ask to test my bot than attorney's themselves. I reached out to attorneys who practice in the State of New Hampshire and deal with indigent clients who could benefit from the bot I created. I received encouraging feedback which you can read [here]. \n",
    "\n",
    "\n",
    "## Real-World Viability\n",
    "\n",
    "Finally, although a 'final' version of the bot is attached above, there are still steps that I would like to take to polish the bot before I feel it would be real-world viable. Below is a list of changes I believe would need to be addressed:\n",
    "\n",
    "(1) As mentioned above under User Testing, I have reached out to attorney's in New Hampshire and recieved positive responses and willingness to provide me with feedback. However, at this time I have not recieved attorney's feedback on the bot and therefore, before making my bot real-world viable I would like to alter my final version to include the attorney feedback.\n",
    "\n",
    "(2) Additionally, at this point my bot generates a fee waiver form, auto-filling only four answers. Before making my bot real-world viable, I would like to expand this to auto-fill the complete form and I would like to have my bot generate the appointment of counsel form.\n",
    "\n",
    "Therefore, although I am confident that my bot is functional and able to provide users with proper feedback, I am aware that my bot has room for improvement before it is real-world viable."
   ]
  },
  {
   "cell_type": "code",
   "execution_count": null,
   "metadata": {
    "collapsed": true
   },
   "outputs": [],
   "source": []
  }
 ],
 "metadata": {
  "kernelspec": {
   "display_name": "Python 3",
   "language": "python",
   "name": "python3"
  },
  "language_info": {
   "codemirror_mode": {
    "name": "ipython",
    "version": 3
   },
   "file_extension": ".py",
   "mimetype": "text/x-python",
   "name": "python",
   "nbconvert_exporter": "python",
   "pygments_lexer": "ipython3",
   "version": "3.6.1"
  }
 },
 "nbformat": 4,
 "nbformat_minor": 1
}
