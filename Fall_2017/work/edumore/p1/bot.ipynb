{
 "cells": [
  {
   "cell_type": "markdown",
   "metadata": {},
   "source": [
    "# Assigned Counsel and Fee Waiver Bot\n",
    "By Erica Dumore\n",
    "\n",
    "My name is Erica Dumore and I am a second year law student at Suffolk University Law School. Over the last four weeks I have been introduced to the world of coding, written my first line of code, and grappled with creating a bot, which you can find [here](http://www.codingthelaw.org/Fall_2017/work/edumore/p1/bot.html). To write my bot, I used a tool called [QnA Markup](http://www.qnamarkup.org/) that allowed me to write code, edit it, and regenerate it into the bot linked above. Essentially, this tool allowed me to create an interactive dicision tree by nesting questions and answers that are triggered by a users interactive responses. A copy of my written code is [linked here](bot.txt).\n",
    "\n",
    "\n",
    "## Refinement\n",
    "\n",
    "As a beginner, a lot of refinement was needed to generate a final product I could be proud of. I was constantly refining my bot to make it more fluid and user friendly. From start to finish, over the four weeks of work, I could not even attempt to count how many times I edited or altered my bot, I think the progress speaks for itself. [Here] is a copy of my very first bot. Compared to my final bot, I came a long way. Below please find additional drafts should you want to see my progress through the four week period. \n",
    "\n",
    "Second Draft\n",
    "\n",
    "Third Draft\n",
    "\n",
    "Fourth Draft\n",
    "\n",
    "Fifth Draft\n",
    "\n",
    "\n",
    "## User Testing\n",
    "\n",
    "Throughout the process our class conducted peer reviews, which were helpful for improving our bots. As with anything, it is very easy to believe your bot is working effectively when there could be a more appealing way to organize the information, or a better way to present the questions to make the answers and results more effective for the user. My fellow classmate provided me feedback regarding my bot that proved very helpful because at that point in my drafts I had not realized I was directing all my questions to the same response. Ultimately, I would hope I would have noticed this on my own after a few more run throughs! \n",
    "\n",
    "\n",
    "## Real-World Viability\n",
    "\n",
    "Although a school project, the creation of this bot serves a real world purpose. In our ever advancing society, technology is the resource that most people turn to when they face an unanswered question. Through this class, we have attempted to generate a model user-friendly bot that could help a target group of people who are seeking legal answers regarding a civil or criminal matter that they or a family member may face. Understanding this, I reached out to attorneys who practice in the State of New Hampshire and deal with indigent clients who could benefit from the bot I created. I received encouraging feedback which you can read [here]. "
   ]
  }
 ],
 "metadata": {
  "kernelspec": {
   "display_name": "Python 3",
   "language": "python",
   "name": "python3"
  },
  "language_info": {
   "codemirror_mode": {
    "name": "ipython",
    "version": 3
   },
   "file_extension": ".py",
   "mimetype": "text/x-python",
   "name": "python",
   "nbconvert_exporter": "python",
   "pygments_lexer": "ipython3",
   "version": "3.6.1"
  }
 },
 "nbformat": 4,
 "nbformat_minor": 1
}
