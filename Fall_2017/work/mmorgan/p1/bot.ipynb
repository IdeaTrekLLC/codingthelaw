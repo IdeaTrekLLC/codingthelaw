{
 "cells": [
  {
   "cell_type": "markdown",
   "metadata": {},
   "source": [
    "# Assigned Counsel and Fee Waiver Bot\n",
    "By [Matthew T. Morgan, Jr.](https://www.linkedin.com/in/matthew-morgan-5b3a6a44/) \n",
    "\n",
    "I wrote a bot, and you can find it [here](http://www.codingthelaw.org/Fall_2017/work/mmorgan/p1/bot.html). To write my bot, we used a tool called [QnA Markup](http://www.qnamarkup.org/). Basically, you create an interactive dicision tree by nesting questions and answers. Here's [my code](bot.txt). \n",
    "\n",
    "## User Testing\n",
    "\n",
    "Initial peer testing results:\n",
    "1.  Resulted in “You may still qualify for a court-appointed attorney.” There is no option for input of income or number in household, or for selecting which type of crime it is. I am not sure if those options do not matter for California, or if they just need to be linked.  \n",
    "2.  Same as 1\n",
    "3.  Child found indigent, however, doesn’t take into account parents income. Not sure if this is the California rule.\n",
    "4.  Could condense benefits into one question with all of the programs as choices, rather than having 8 questions. End result: “Congratulations, you are eligible for a fee waiver.”\n",
    "5.  End result: “Congratulations, you are eligible for a fee waiver.”\n",
    "\n",
    "Subsequent self testing was done after feedback was incorporated to fix problems mentioned.\n",
    "\n",
    "Many different variations of this bot have been made to get it to work.\n",
    "\n",
    "## Refinement\n",
    "\n",
    "Had initial simple bot for basic questions of receiving benefits, hardships, and civil or criminal. Added more options and varied the flowchart based on possible answer choices. Then added equations to calculate the income in relation to the federal poverty guideline, which were later simplified using the fedpov() function provided, which simplified code. Added forms and then a function to help begin fill out forms based on information gathered from the chat bot. \n",
    "\n",
    "## Real-World Viability\n",
    "\n",
    "Still needs a complete form to be able to fill out based on answers provided from chat bot. Additionally due to the differences between county rules, it can be fine tuned for use in a particular county, or a small set of counties for specific rules, and not just a general answer with a link for further reading elsewhere. "
   ]
  },
  {
   "cell_type": "code",
   "execution_count": null,
   "metadata": {
    "collapsed": true
   },
   "outputs": [],
   "source": []
  },
  {
   "cell_type": "code",
   "execution_count": null,
   "metadata": {
    "collapsed": true
   },
   "outputs": [],
   "source": []
  }
 ],
 "metadata": {
  "kernelspec": {
   "display_name": "Python 3",
   "language": "python",
   "name": "python3"
  },
  "language_info": {
   "codemirror_mode": {
    "name": "ipython",
    "version": 3
   },
   "file_extension": ".py",
   "mimetype": "text/x-python",
   "name": "python",
   "nbconvert_exporter": "python",
   "pygments_lexer": "ipython3",
   "version": "3.6.1"
  }
 },
 "nbformat": 4,
 "nbformat_minor": 1
}
