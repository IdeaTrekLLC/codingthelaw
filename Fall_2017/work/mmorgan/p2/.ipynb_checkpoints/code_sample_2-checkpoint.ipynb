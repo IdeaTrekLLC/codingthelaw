{
 "cells": [
  {
   "cell_type": "markdown",
   "metadata": {},
   "source": [
    "Adapted from the notebook found at [How to Build a Law Bot](https://lawyerist.com/how-build-law-bot/)\n",
    "\n",
    "## Install libraries\n",
    "\n",
    "If you haven't already, you may need to install some dependencies. On the command line, run the following to install/update gspread, oauth2client, PyOpenSSL, and python-twitter.\n",
    "```\n",
    "pip install gspread\n",
    "pip install --upgrade oauth2client\n",
    "pip install PyOpenSSL\n",
    "pip install python-twitter\n",
    "```\n",
    "Library installs are one and done. So after doing this once, you should be all set. \n",
    "\n",
    "## Import modules and set variables\n",
    "\n",
    "Now we're getting into the bot's code. This is what will run every time your bot is called. To make sure it behaves as expected, replace the placeholder values found below in the `document_key`, `credentials`, `consumer_key`, `consumer_secret`, `access_token_key`, and `access_token_secret` variables with relevant values (e.g., your access credentials). \n",
    "\n",
    "You will need to create a new Google Sheet (same instructions as [last time](https://lawyerist.com/126074/online-forms-meet-local-document-automation-cut-and-paste-coding/)). You **MUST** add a first row with headings. If you don't, the below code won't work. In this example, just make four columns filled with zeros. Also, delete rows 2-999. This is because the code below appends values to the end of your sheet. So if you fail to remove rows 2-999, values will be appended to row 1000. Additionally, it looks at the last row of the sheet for your old values. So if you fail to delete 2-999, instead of seeing your row of zeros, it will look at the blank row 999.\n",
    "\n",
    "As for a Twitter account and Twitter credentials, follow the instruction in [this post](https://lawyerist.com/?p=127093). \n",
    "\n",
    "*NOTE: You should be reading all of the comments (i.e., text following a #)*"
   ]
  },
  {
   "cell_type": "code",
   "execution_count": 33,
   "metadata": {
    "collapsed": true
   },
   "outputs": [],
   "source": [
    "# Load the module for visiting and reading websites.\n",
    "import urllib.request\n",
    "# Load the module for running regular expressions (regex).\n",
    "import re \n",
    "# Load the module for date and time stuff.\n",
    "import datetime\n",
    "# Define the variable now as equal to the current date and time.\n",
    "now = datetime.datetime.now()"
   ]
  },
  {
   "cell_type": "code",
   "execution_count": 34,
   "metadata": {
    "collapsed": true
   },
   "outputs": [],
   "source": [
    "# Set the URLs you want to scrape.\n",
    "url_1 = \"http://www.halfstaff.org/\"\n",
    "url_2 = \"http://www.codingthelaw.org/Fall_2017/work/\""
   ]
  },
  {
   "cell_type": "code",
   "execution_count": 35,
   "metadata": {
    "collapsed": true
   },
   "outputs": [],
   "source": [
    "# Load the module for accessing Google Sheets.\n",
    "import gspread\n",
    "# Load the module needed for securely communicating with Google Sheets.\n",
    "from oauth2client.service_account import ServiceAccountCredentials\n",
    "# The scope for your access credentials\n",
    "scope = ['https://spreadsheets.google.com/feeds']\n",
    "\n",
    "# Your spreadsheet's ID\n",
    "document_key = \"17x26DRzJFIDYJxTnULtV0wUpuWLPrt5Y7W9hnZGZTUY\"\n",
    "# Your Google project's .json key\n",
    "credentials = ServiceAccountCredentials.from_json_keyfile_name('../../../../../TweetyBot-b2d02f67ab13.json', scope)\n",
    "\n",
    "# Use your credentials to authorize yourself.\n",
    "gc = gspread.authorize(credentials)\n",
    "# Open up the Sheet with the defined ID.\n",
    "wks = gc.open_by_key(document_key)\n",
    "\n",
    "#########################################\n",
    "#\n",
    "#  NOTE: The name of the sheet you are \n",
    "#  trying to access should be in the \n",
    "#  parenthetical below (e.g., Data). By\n",
    "#  Default this is probably \"Sheet1\".\n",
    "#\n",
    "#########################################\n",
    "worksheet = wks.worksheet(\"Sheet1\")\n",
    "\n",
    "# Count the number of rows in your Sheet &\n",
    "# resize to remove blank rows.\n",
    "worksheet.resize(worksheet.row_count)"
   ]
  },
  {
   "cell_type": "code",
   "execution_count": 36,
   "metadata": {},
   "outputs": [
    {
     "data": {
      "text/html": [
       "<div>\n",
       "<style>\n",
       "    .dataframe thead tr:only-child th {\n",
       "        text-align: right;\n",
       "    }\n",
       "\n",
       "    .dataframe thead th {\n",
       "        text-align: left;\n",
       "    }\n",
       "\n",
       "    .dataframe tbody tr th {\n",
       "        vertical-align: top;\n",
       "    }\n",
       "</style>\n",
       "<table border=\"1\" class=\"dataframe\">\n",
       "  <thead>\n",
       "    <tr style=\"text-align: right;\">\n",
       "      <th></th>\n",
       "      <th>timestamp</th>\n",
       "      <th>url_1</th>\n",
       "      <th>url_2</th>\n",
       "      <th>all together now</th>\n",
       "    </tr>\n",
       "  </thead>\n",
       "  <tbody>\n",
       "    <tr>\n",
       "      <th>0</th>\n",
       "      <td>0</td>\n",
       "      <td>0</td>\n",
       "      <td>0</td>\n",
       "      <td>0</td>\n",
       "    </tr>\n",
       "  </tbody>\n",
       "</table>\n",
       "</div>"
      ],
      "text/plain": [
       "   timestamp  url_1  url_2  all together now\n",
       "0          0      0      0                 0"
      ]
     },
     "execution_count": 36,
     "metadata": {},
     "output_type": "execute_result"
    }
   ],
   "source": [
    "# download spreadsheet\n",
    "import csv\n",
    "csvfile = \"output.csv\"\n",
    "list_of_lists = worksheet.get_all_values()\n",
    "with open(csvfile, \"w\") as output:\n",
    "    writer = csv.writer(output, lineterminator='\\n')\n",
    "    writer.writerows(list_of_lists)\n",
    "\n",
    "import pandas as pd\n",
    "output = pd.read_csv(csvfile)\n",
    "output[:3]"
   ]
  },
  {
   "cell_type": "code",
   "execution_count": 37,
   "metadata": {
    "collapsed": true
   },
   "outputs": [],
   "source": [
    "# Import the relevant Twitter libraries so you can use Twitter.\n",
    "import twitter\n",
    "from twitter import TwitterError\n",
    "\n",
    "with open('../../../../../key.txt', 'r') as myfile:\n",
    "    key=myfile.read()\n",
    "    \n",
    "with open('../../../../../secret.txt', 'r') as myfile:\n",
    "    secret=myfile.read()\n",
    "    \n",
    "with open('../../../../../token_key.txt', 'r') as myfile:\n",
    "    token_key=myfile.read()\n",
    "\n",
    "with open('../../../../../token_secret.txt', 'r') as myfile:\n",
    "    token_secret=myfile.read()\n",
    "\n",
    "# Set you Twitter API credentials.\n",
    "api = twitter.Api(consumer_key=key,\n",
    "                  consumer_secret=secret,\n",
    "                  access_token_key=token_key,\n",
    "                  access_token_secret=token_secret)"
   ]
  },
  {
   "cell_type": "markdown",
   "metadata": {},
   "source": [
    "## Read the contents of your first webpage\n",
    "\n",
    "When you run the next cell, your program will visit the first URL you defined above. It will then print out that page's HTML. "
   ]
  },
  {
   "cell_type": "code",
   "execution_count": 38,
   "metadata": {
    "scrolled": false
   },
   "outputs": [
    {
     "name": "stdout",
     "output_type": "stream",
     "text": [
      "b'\\r\\n\\r\\n\\r\\n<!DOCTYPE html PUBLIC \"-//W3C//DTD XHTML 1.0 Transitional//EN\" \"http://www.w3.org/TR/xhtml1/DTD/xhtml1-transitional.dtd\">\\r\\n<html xmlns=\"http://www.w3.org/1999/xhtml\" lang=\"en-US\"><head profile=\"http://gmpg.org/xfn/11\">\\r\\n<meta http-equiv=\"Content-Type\" content=\"text/html; charset=UTF-8\" />\\r\\n\\r\\n<title>HALF STAFF AMERICAN FLAG NOTIFICATIONS |  HALF STAFF AMERICAN FLAG NOTIFICATIONS</title>\\r\\n\\r\\n<link rel=\"stylesheet\" href=\"http://halfstaff.org/wp-content/themes/halfstaff/style.css\" type=\"text/css\" media=\"screen\" />\\r\\n<link rel=\"alternate\" type=\"application/rss+xml\" title=\"HALF STAFF AMERICAN FLAG NOTIFICATIONS RSS Feed\" href=\"http://halfstaff.org/feed/\" />\\r\\n<link rel=\"alternate\" type=\"application/atom+xml\" title=\"HALF STAFF AMERICAN FLAG NOTIFICATIONS Atom Feed\" href=\"http://halfstaff.org/feed/atom/\" />\\r\\n<link rel=\"pingback\" href=\"http://halfstaff.org/xmlrpc.php\" />\\r\\n<script language=\"JavaScript\" src=\"http://www.aflag.com/_includes/site/javascript/widget_form.js\"></script>\\r\\n<script language=\"javascript\" type=\"text/javascript\">\\r\\n\\tfunction putCode(){\\r\\n\\t\\tvar id=document.getElementById(\\'widgetcode\\');\\r\\n\\t\\tvar codeInside=\"<div id=\\\\\"aFlag_Widget\\\\\"><div id=\\\\\"hf_alert\\\\\"></div><div id=\\\\\"aflag_link\\\\\"><a href=\\\\\"http://www.aflag.com/American_Flags\\\\\">American Flag</a></div><script type=\\\\\"text/javascript\\\\\" src=\\\\\"http://www.aflag.com/widget/flagJS.asp\\\\\">\";\\r\\n\\t\\tif( id!=null)\\r\\n\\t\\t{\\r\\n\\t\\t\\tid.value=codeInside+\"<\\\\/script></div>\";\\r\\n\\t\\t}\\r\\n\\t}\\r\\n\\t\\r\\n\\t\\r\\n</script>\\r\\n<style type=\"text/css\" media=\"screen\">\\r\\n\\r\\n\\t#page { background: url(\"http://halfstaff.org/wp-content/themes/halfstaff/images/kubrickbgwide.jpg\") repeat-y top; border: none; }\\r\\n\\r\\n</style>\\r\\n\\r\\n\\r\\n\\n<!-- All in One SEO Pack 2.3.15.3 by Michael Torbert of Semper Fi Web Design[-1,-1] -->\\n<meta name=\"description\"  content=\"The White House Office of the Press Secretary For Immediate Release October 02, 2017 Presidential Proclamation Honoring the Victims of the Tragedy in Las\" />\\n<link rel=\\'next\\' href=\\'http://halfstaff.org/page/2/\\' />\\n\\n<!-- /all in one seo pack -->\\n<link rel=\\'dns-prefetch\\' href=\\'//s.w.org\\' />\\n\\t\\t<script type=\"text/javascript\">\\n\\t\\t\\twindow._wpemojiSettings = {\"baseUrl\":\"https:\\\\/\\\\/s.w.org\\\\/images\\\\/core\\\\/emoji\\\\/2.3\\\\/72x72\\\\/\",\"ext\":\".png\",\"svgUrl\":\"https:\\\\/\\\\/s.w.org\\\\/images\\\\/core\\\\/emoji\\\\/2.3\\\\/svg\\\\/\",\"svgExt\":\".svg\",\"source\":{\"concatemoji\":\"http:\\\\/\\\\/halfstaff.org\\\\/wp-includes\\\\/js\\\\/wp-emoji-release.min.js?ver=4.8.1\"}};\\n\\t\\t\\t!function(a,b,c){function d(a){var b,c,d,e,f=String.fromCharCode;if(!k||!k.fillText)return!1;switch(k.clearRect(0,0,j.width,j.height),k.textBaseline=\"top\",k.font=\"600 32px Arial\",a){case\"flag\":return k.fillText(f(55356,56826,55356,56819),0,0),b=j.toDataURL(),k.clearRect(0,0,j.width,j.height),k.fillText(f(55356,56826,8203,55356,56819),0,0),c=j.toDataURL(),b===c&&(k.clearRect(0,0,j.width,j.height),k.fillText(f(55356,57332,56128,56423,56128,56418,56128,56421,56128,56430,56128,56423,56128,56447),0,0),b=j.toDataURL(),k.clearRect(0,0,j.width,j.height),k.fillText(f(55356,57332,8203,56128,56423,8203,56128,56418,8203,56128,56421,8203,56128,56430,8203,56128,56423,8203,56128,56447),0,0),c=j.toDataURL(),b!==c);case\"emoji4\":return k.fillText(f(55358,56794,8205,9794,65039),0,0),d=j.toDataURL(),k.clearRect(0,0,j.width,j.height),k.fillText(f(55358,56794,8203,9794,65039),0,0),e=j.toDataURL(),d!==e}return!1}function e(a){var c=b.createElement(\"script\");c.src=a,c.defer=c.type=\"text/javascript\",b.getElementsByTagName(\"head\")[0].appendChild(c)}var f,g,h,i,j=b.createElement(\"canvas\"),k=j.getContext&&j.getContext(\"2d\");for(i=Array(\"flag\",\"emoji4\"),c.supports={everything:!0,everythingExceptFlag:!0},h=0;h<i.length;h++)c.supports[i[h]]=d(i[h]),c.supports.everything=c.supports.everything&&c.supports[i[h]],\"flag\"!==i[h]&&(c.supports.everythingExceptFlag=c.supports.everythingExceptFlag&&c.supports[i[h]]);c.supports.everythingExceptFlag=c.supports.everythingExceptFlag&&!c.supports.flag,c.DOMReady=!1,c.readyCallback=function(){c.DOMReady=!0},c.supports.everything||(g=function(){c.readyCallback()},b.addEventListener?(b.addEventListener(\"DOMContentLoaded\",g,!1),a.addEventListener(\"load\",g,!1)):(a.attachEvent(\"onload\",g),b.attachEvent(\"onreadystatechange\",function(){\"complete\"===b.readyState&&c.readyCallback()})),f=c.source||{},f.concatemoji?e(f.concatemoji):f.wpemoji&&f.twemoji&&(e(f.twemoji),e(f.wpemoji)))}(window,document,window._wpemojiSettings);\\n\\t\\t</script>\\n\\t\\t<style type=\"text/css\">\\nimg.wp-smiley,\\nimg.emoji {\\n\\tdisplay: inline !important;\\n\\tborder: none !important;\\n\\tbox-shadow: none !important;\\n\\theight: 1em !important;\\n\\twidth: 1em !important;\\n\\tmargin: 0 .07em !important;\\n\\tvertical-align: -0.1em !important;\\n\\tbackground: none !important;\\n\\tpadding: 0 !important;\\n}\\n</style>\\n<link rel=\\'stylesheet\\' id=\\'hctpc_stylesheet-css\\'  href=\\'http://halfstaff.org/wp-content/plugins/captcha/css/front_end_style.css?ver=4.3.0\\' type=\\'text/css\\' media=\\'all\\' />\\n<link rel=\\'stylesheet\\' id=\\'dashicons-css\\'  href=\\'http://halfstaff.org/wp-includes/css/dashicons.min.css?ver=4.8.1\\' type=\\'text/css\\' media=\\'all\\' />\\n<link rel=\\'stylesheet\\' id=\\'hctpc_desktop_style-css\\'  href=\\'http://halfstaff.org/wp-content/plugins/captcha/css/desktop_style.css?ver=4.3.0\\' type=\\'text/css\\' media=\\'all\\' />\\n<script type=\\'text/javascript\\' src=\\'http://halfstaff.org/wp-includes/js/jquery/jquery.js?ver=1.12.4\\'></script>\\n<script type=\\'text/javascript\\' src=\\'http://halfstaff.org/wp-includes/js/jquery/jquery-migrate.min.js?ver=1.4.1\\'></script>\\n<script type=\\'text/javascript\\' src=\\'http://halfstaff.org/wp-content/plugins/events-calendar/js/jquery.bgiframe.js?ver=2.1\\'></script>\\n<script type=\\'text/javascript\\' src=\\'http://halfstaff.org/wp-content/plugins/events-calendar/js/jquery.dimensions.js?ver=1.0b2\\'></script>\\n<script type=\\'text/javascript\\' src=\\'http://halfstaff.org/wp-content/plugins/events-calendar/js/jquery.tooltip.min.js?ver=1.3\\'></script>\\n<link rel=\\'https://api.w.org/\\' href=\\'http://halfstaff.org/wp-json/\\' />\\n<link rel=\"EditURI\" type=\"application/rsd+xml\" title=\"RSD\" href=\"http://halfstaff.org/xmlrpc.php?rsd\" />\\n<link rel=\"wlwmanifest\" type=\"application/wlwmanifest+xml\" href=\"http://halfstaff.org/wp-includes/wlwmanifest.xml\" /> \\n<meta name=\"generator\" content=\"WordPress 4.8.1\" />\\n\\r\\n<!-- Start Of Script Generated By Events-Calendar [Luke Howell | www.lukehowell.com] and [R. MALKA | www.heirem.fr] -->\\r\\r\\n  <link type=\"text/css\" rel=\"stylesheet\" href=\"http://halfstaff.org/wp-includes/js/thickbox/thickbox.css\" />\\r\\r\\n  <link type=\"text/css\" rel=\"stylesheet\" href=\"http://halfstaff.org/wp-content/plugins/events-calendar/css/events-calendar.css\" />\\r\\r\\n <script type=\"text/javascript\">\\n\\t// <![CDATA[\\n\\tvar ecd = {};\\n\\tecd.jq= jQuery.noConflict(false);\\n\\t//]]>\\n </script>\\n<!-- End Of Script Generated By Events-Calendar - Version: 6.5.2a -->\\n\\t\\t<style type=\"text/css\">.recentcomments a{display:inline !important;padding:0 !important;margin:0 !important;}</style>\\n\\t\\t</head>\\r\\n<body onload=\"putCode()\">\\r\\n<div id=\"page\">\\r\\n\\r\\n\\r\\n<div id=\"header\">\\r\\n\\t<div id=\"headerimg\">\\r\\n\\r\\n\\t\\t<div id=\"header-right-icon\"> </div>\\r\\n\\r\\n\\t\\t<div id=\"blog-info\">\\r\\n\\t\\t\\tHALF STAFF AMERICAN FLAG NOTIFICATIONS<br/>\\r\\n\\t\\t\\t\\r\\n\\t\\t</div>\\r\\n\\r\\n\\t\\t<div id=\"top-links\">\\r\\n\\r\\n\\t\\t\\t<a href=\"/\">Home</a>\\t| \\r\\n\\r\\n\\t\\t\\t<a href=\"http://www.aflag.com/store/halfstaff_notificiation.asp\">Half Staff Notices</a> | \\r\\n\\r\\n\\t\\t\\t<a href=\"/calendar\">Half Staff Calendar</a> | \\r\\n\\r\\n\\t\\t\\t<a href=\"/2009/\">Archives</a> \\r\\n\\r\\n\\t\\t\\t\\r\\n\\t\\t</div>\\r\\n\\r\\n\\t\\t\\r\\n\\t</div>\\r\\n</div>\\r\\n\\r\\n\\r\\n\\r\\n\\r\\n\\r\\n\\r\\n<div id=\"center\">\\r\\n\\r\\n\\r\\n\\r\\n  <div id=\"purchase-heading\">\\r\\n\\r\\n  \\t\\r\\n  </div>\\r\\n\\r\\n\\r\\n\\r\\n\\t<div id=\"left-content-area\">\\r\\n\\r\\n\\t\\r\\n\\r\\n\\t\\t<a class=\"left-link\"  href=\"http://US.halfstaff.org\">United States State Flag</a><br/>\\r\\n<a class=\"left-link\"  href=\"http://AL.halfstaff.org\">Alabama State Flag</a><br/>\\r\\n<a class=\"left-link\"  href=\"http://AK.halfstaff.org\">Alaska State Flag</a><br/>\\r\\n<a class=\"left-link\"  href=\"http://AZ.halfstaff.org\">Arizona State Flag</a><br/>\\r\\n<a class=\"left-link\"  href=\"http://AR.halfstaff.org\">Arkansas State Flag</a><br/>\\r\\n<a class=\"left-link\"  href=\"http://CA.halfstaff.org\">California State Flag</a><br/>\\r\\n<a class=\"left-link\"  href=\"http://CO.halfstaff.org\">Colorado State Flag</a><br/>\\r\\n<a class=\"left-link\"  href=\"http://CT.halfstaff.org\">Connecticut State Flag</a><br/>\\r\\n<a class=\"left-link\"  href=\"http://DE.halfstaff.org\">Delaware State Flag</a><br/>\\r\\n<a class=\"left-link\"  href=\"http://FL.halfstaff.org\">Florida State Flag</a><br/>\\r\\n<a class=\"left-link\"  href=\"http://GA.halfstaff.org\">Georgia State Flag</a><br/>\\r\\n<a class=\"left-link\"  href=\"http://HI.halfstaff.org\">Hawaii State Flag</a><br/>\\r\\n<a class=\"left-link\"  href=\"http://ID.halfstaff.org\">Idaho State Flag</a><br/>\\r\\n<a class=\"left-link\"  href=\"http://IL.halfstaff.org\">Illinois State Flag</a><br/>\\r\\n<a class=\"left-link\"  href=\"http://IN.halfstaff.org\">Indiana State Flag</a><br/>\\r\\n<a class=\"left-link\"  href=\"http://IA.halfstaff.org\">Iowa State Flag</a><br/>\\r\\n<a class=\"left-link\"  href=\"http://KS.halfstaff.org\">Kansas State Flag</a><br/>\\r\\n<a class=\"left-link\"  href=\"http://KY.halfstaff.org\">Kentucky State Flag</a><br/>\\r\\n<a class=\"left-link\"  href=\"http://LA.halfstaff.org\">Louisiana State Flag</a><br/>\\r\\n<a class=\"left-link\"  href=\"http://ME.halfstaff.org\">Maine State Flag</a><br/>\\r\\n<a class=\"left-link\"  href=\"http://MD.halfstaff.org\">Maryland State Flag</a><br/>\\r\\n<a class=\"left-link\"  href=\"http://MA.halfstaff.org\">Massachusetts State Flag</a><br/>\\r\\n<a class=\"left-link\"  href=\"http://MI.halfstaff.org\">Michigan State Flag</a><br/>\\r\\n<a class=\"left-link\"  href=\"http://MN.halfstaff.org\">Minnesota State Flag</a><br/>\\r\\n<a class=\"left-link\"  href=\"http://MS.halfstaff.org\">Mississippi State Flag</a><br/>\\r\\n<a class=\"left-link\"  href=\"http://MO.halfstaff.org\">Missouri State Flag</a><br/>\\r\\n<a class=\"left-link\"  href=\"http://MT.halfstaff.org\">Montana State Flag</a><br/>\\r\\n<a class=\"left-link\"  href=\"http://NE.halfstaff.org\">Nebraska State Flag</a><br/>\\r\\n<a class=\"left-link\"  href=\"http://NV.halfstaff.org\">Nevada State Flag</a><br/>\\r\\n<a class=\"left-link\"  href=\"http://NH.halfstaff.org\">New Hampshire State Flag</a><br/>\\r\\n<a class=\"left-link\"  href=\"http://NJ.halfstaff.org\">New Jersey State Flag</a><br/>\\r\\n<a class=\"left-link\"  href=\"http://NM.halfstaff.org\">New Mexico State Flag</a><br/>\\r\\n<a class=\"left-link\"  href=\"http://NY.halfstaff.org\">New York State Flag</a><br/>\\r\\n<a class=\"left-link\"  href=\"http://NC.halfstaff.org\">North Carolina State Flag</a><br/>\\r\\n<a class=\"left-link\"  href=\"http://ND.halfstaff.org\">North Dakota State Flag</a><br/>\\r\\n<a class=\"left-link\"  href=\"http://OH.halfstaff.org\">Ohio State Flag</a><br/>\\r\\n<a class=\"left-link\"  href=\"http://OK.halfstaff.org\">Oklahoma State Flag</a><br/>\\r\\n<a class=\"left-link\"  href=\"http://OR.halfstaff.org\">Oregon State Flag</a><br/>\\r\\n<a class=\"left-link\"  href=\"http://PA.halfstaff.org\">Pennsylvania State Flag</a><br/>\\r\\n<a class=\"left-link\"  href=\"http://RI.halfstaff.org\">Rhode Island State Flag</a><br/>\\r\\n<a class=\"left-link\"  href=\"http://SC.halfstaff.org\">South Carolina State Flag</a><br/>\\r\\n<a class=\"left-link\"  href=\"http://SD.halfstaff.org\">South Dakota State Flag</a><br/>\\r\\n<a class=\"left-link\"  href=\"http://TN.halfstaff.org\">Tennessee State Flag</a><br/>\\r\\n<a class=\"left-link\"  href=\"http://TX.halfstaff.org\">Texas State Flag</a><br/>\\r\\n<a class=\"left-link\"  href=\"http://UT.halfstaff.org\">Utah State Flag</a><br/>\\r\\n<a class=\"left-link\"  href=\"http://VT.halfstaff.org\">Vermont State Flag</a><br/>\\r\\n<a class=\"left-link\"  href=\"http://VA.halfstaff.org\">Virginia State Flag</a><br/>\\r\\n<a class=\"left-link\"  href=\"http://WA.halfstaff.org\">Washington State Flag</a><br/>\\r\\n<a class=\"left-link\"  href=\"http://WV.halfstaff.org\">West Virginia State Flag</a><br/>\\r\\n<a class=\"left-link\"  href=\"http://WI.halfstaff.org\">Wisconsin State Flag</a><br/>\\r\\n<a class=\"left-link\"  href=\"http://WY.halfstaff.org\">Wyoming State Flag</a><br/> \\t\\t\\r\\n\\t\\r\\n\\r\\n\\t</div>\\r\\n\\r\\n\\t\\r\\n\\t<div id=\"right-content-area\">\\r\\n\\t\\t\\r\\n\\t\\t<div id=\"top\">\\r\\n\\t\\t\\t<div id=\"top-left\" style=\"background:transparent url(img/halfstaff.jpg ) no-repeat scroll left top;\">\\r\\n\\t\\t\\t\\t\\r\\n\\t\\t\\t</div>\\r\\n\\t\\t\\t<div id=\"top-right\">\\r\\n\\t\\t\\t\\t<div id=\"text-top\"> </div>\\r\\n\\t\\t\\t\\t<div id=\"text-center\">\\r\\n\\t\\t\\t\\t\\t<div style=\"width:276px; height: 245px; margin-left:10px; overflow-x:hidden; overflow-y:scroll;\" >\\r\\n\\t\\t\\t\\t\\t\\t<span class=\"welcome-title\">Half Mast Flag News</span><br/></p><strong>\\r\\n\\r\\n<br>\\r\\n</p>\\r\\n<br>\\r\\nUnited States Flags are at Half-Staff Through Sunset on October 6, 2017  Honoring the Victims of the Tragedy in Las Vegas, Nevada\\r\\n<br>\\r\\n<br>\\r\\n</p>\\r\\n<p> </p><p></p><strong>\\r\\nGet the new Half Staff American Flag Widget for your Blog or Website today!</p></strong>\\t\\t\\t\\t\\t</div>\\r\\n                 </div>\\r\\n\\r\\n\\t\\t\\t\\t<div id=\"text-bottom\"> </div>\\r\\n\\r\\n\\t\\t\\t\\t\\r\\n\\t\\t\\t</div>\\r\\n\\t\\t</div>\\r\\n\\r\\n\\t\\t\\r\\n\\r\\n\\t\\t<div id=\"center-divider\"/>  </div>\\r\\n\\r\\n\\t\\t\\r\\n\\t\\t<div id=\"calender\">\\r\\n\\t\\t\\t<div class=\"welcome2-title\">Half Staff<br />E-Mail Reminder</div>\\r\\n\\t\\t\\t<div style=\"height: 137px;\">  <div id=\"mailicon\"> </div>  </div>\\r\\n\\t\\t\\t<div style=\"text-align:center\"><a class=\"light-blue\" href=\"http://www.aflag.com/store/halfstaff_notificiation.asp\">Half Staff Notification.</a></div>\\r\\n            <div style=\"margin-top:40px; text-align:center;\">\\r\\n            \\t<a href=\"http://www.facebook.com/pages/Halfstafforg/184135558351908\" title=\"Visit Us On Facebook\" target=\"_blank\"><img src=\"http://us.halfstaff.org/images/facebook-box.jpg\" alt=\"Visit Us On Facebook\" width=\"50\" /></a>\\r\\n            \\t<a href=\"https://twitter.com/#!/halfstaffflag\" title=\"Visit Us On Twitter\" target=\"_blank\"><img src=\"http://us.halfstaff.org/images/twitter-box.jpg\" title=\"Follow Us On Twitter\" width=\"50\"/></a><br />\\r\\n                <a href=\"http://www.halfstaff.org/tenHalfStaff.asp\" title=\"Ten Most Recent Posts\"><img src=\"wp-content/themes/halfstaff/images/top-right_icon.png\" /></a>\\r\\n            </div>\\r\\n\\t\\t</div>\\r\\n        <div id=\"calender\" style=\"margin-left:25px;\">\\r\\n\\t\\t\\t<div class=\"welcome2-title\">Half Staff<br />Widget</div>\\r\\n\\t\\t\\t<div style=\"padding-left:20px;\">\\r\\n            \\t<div id=\"aFlag_Widget\"><div id=\"hf_alert\"></div><div id=\"aflag_link\"><a href=\"http://www.aflag.com\">American Flag</a></div><script type=\"text/javascript\" src=\"http://www.aflag.com/widget/flagJS.asp\"></script></div>\\r\\n\\t\\t\\t\\tAdd the Widget to your Site!<br /> Get the Widget Code <a href=\"http://halfstaff.org/widget\">Here</a>\\r\\n            </div>\\r\\n\\t\\t\\t<div style=\"text-align:center\"></div>\\r\\n\\t\\t</div>\\r\\n       \\r\\n\\t\\t<div id=\"calender\" style=\"width:300px;\">\\r\\n    <div class=\"welcome2-title\">Most Recent National and State Half Staff Notices<br />\\r\\n\\r\\n</div>\\r\\n\\t\\t\\t<!--<div class=\"welcome2-title\">Latest Blog Posts</div>-->\\r\\n\\t\\t\\t<div align=\"center\">\\r\\n<div id=\"aFlag_Widget_posts\"><div id=\"state_alert\" ></div><div id=\"posts_alert\" ></div><div id=\"aflag_lk\" ><a href=\"http://www.americanflag.com\">American Flag</a></div><script type=\"text/javascript\" src=\"http://www.aflag.com/widget-posts/flagJS.asp?st=All\"></script></div> \\r\\n      \\t\\t\\t</div>\\r\\n\\t\\t</div>\\r\\n\\t\\t\\r\\n\\t\\t<div id=\"center-divider\"/>  </div>\\r\\n\\t\\t\\r\\n\\t\\t<div id=\"content\">\\r\\n\\t\\t\\t\\t\\t\\t\\r\\n\\t\\t\\t\\t\\r\\n\\t\\t\\t\\t\\r\\n\\t\\t\\t<div id=\"posttitle\">\\r\\n\\r\\n\\t\\t\\t\\t<div id=\"daymonth\">\\r\\n\\t\\t\\t\\t\\t<div id=\"month\"> Oct </div>\\r\\n\\r\\n\\t\\t\\t\\t\\t<div id=\"day\"> 2 </div>\\r\\n\\r\\n\\t\\t\\t\\t</div>\\r\\n\\t\\t\\t\\t<div style=\"float:left;width:500px;\">\\r\\n\\t\\t\\t\\t\\t<br/>\\r\\n\\t\\t\\t\\t\\t<span class=\"black-title\"><a href=\"http://halfstaff.org/us-flags-at-half-staff-honoring-victims-of-the-las-vegas-tragedy/\" rel=\"bookmark\" title=\"Permanent Link to US Flags at Half-Staff Honoring Victims of the Las Vegas Tragedy\">US Flags at Half-Staff Honoring Victims of the Las Vegas Tragedy</a></span>\\r\\n\\t\\t\\t\\t\\t<br/>\\r\\n\\t\\t\\t\\t\\t<span>By Matt - <a href=\"http://halfstaff.org/us-flags-at-half-staff-honoring-victims-of-the-las-vegas-tragedy/#respond\">Comments(0)</a></span>\\r\\n\\t\\t\\t\\t</div>\\r\\n\\t\\t\\t</div>\\r\\n\\r\\n\\t\\t\\t<div id=\"postcontent\">\\r\\n\\t\\t\\t\\t<p>The White House<br />\\nOffice of the Press Secretary<br />\\nFor Immediate Release<br />\\nOctober 02, 2017<br />\\nPresidential Proclamation Honoring the Victims of the Tragedy in Las Vegas, Nevada</p>\\n<p>HONORING THE VICTIMS OF THE TRAGEDY IN LAS VEGAS, NEVADA</p>\\n<p>&#8211; &#8211; &#8211; &#8211; &#8211; &#8211; &#8211;</p>\\n<p>BY THE PRESIDENT OF THE UNITED STATES OF AMERICA</p>\\n<p>A PROCLAMATION</p>\\n<p>Our Nation is heartbroken.  We mourn with all whose loved ones were murdered and injured in last night&#8217;s horrible tragedy in Las Vegas, Nevada.  As we grieve, we pray that God may provide comfort and relief to all those suffering.</p>\\n<p>As a mark of respect for the victims of the senseless act of violence perpetrated on October 1, 2017, by the authority vested in me as President of the United States by the Constitution and the laws of the United States of America, I hereby order that the flag of the United States shall be flown at half-staff at the White House and upon all public buildings and grounds, at all military posts and naval stations, and on all naval vessels of the Federal Government in the District of Columbia and throughout the United States and its Territories and possessions until sunset, October 6, 2017.  I also direct that the flag shall be flown at half-staff for the same length of time at all United States embassies, legations, consular offices, and other facilities abroad, including all military facilities and naval vessels and stations.</p>\\n<p>IN WITNESS WHEREOF, I have hereunto set my hand this second day of October, in the year of our Lord two thousand seventeen, and of the Independence of the United States of America the two hundred and forty-second.</p>\\n<p>DONALD J. TRUMP</p>\\n\\t\\t\\t</div>\\r\\n\\r\\n\\t\\t\\t\\t\\t\\r\\n\\r\\n\\t\\t\\t\\t\\t\\r\\n\\t\\t\\t\\t\\t\\t</div>\\r\\n\\r\\n\\t\\t\\t\\r\\n\\t\\t</div>\\r\\n\\r\\n\\r\\n\\r\\n\\t</div>\\r\\n\\r\\n\\r\\n</div>\\r\\n\\r\\n\\r\\n\\r\\n\\r\\n<div id=\"footer\">\\r\\n\\t<div class=\"menu-footer-container\"><ul id=\"menu-footer\" class=\"menu\"><li id=\"menu-item-329\" class=\"menu-item menu-item-type-custom menu-item-object-custom current-menu-item current_page_item menu-item-home menu-item-329\"><a href=\"http://halfstaff.org/\">Home</a></li>\\n<li id=\"menu-item-327\" class=\"menu-item menu-item-type-post_type menu-item-object-page menu-item-327\"><a href=\"http://halfstaff.org/about-2/\">About</a></li>\\n<li id=\"menu-item-328\" class=\"menu-item menu-item-type-custom menu-item-object-custom menu-item-328\"><a href=\"http://halfstaff.org/2009\">Archived Blog Articles</a></li>\\n</ul></div></div>\\r\\n</div>\\r\\n</div>\\r\\n</body>\\r\\n</html>\\r\\n'\n"
     ]
    }
   ],
   "source": [
    "p_1 = urllib.request.build_opener(urllib.request.HTTPCookieProcessor).open(url_1).read()\n",
    "print(p_1)"
   ]
  },
  {
   "cell_type": "markdown",
   "metadata": {},
   "source": [
    "## Parse the site's contents\n",
    "\n",
    "Scan the above HTML for the content you are trying to extract. Cut and paste the HTML above into the TEST STRING box over at [Regex 101](https://regex101.com/) and craft a regex that captures your desired content. \n",
    "\n",
    "Remember the parenthetical is the group you're pulling out. Once you have a working regex, plug it into the code below, and run the cell. If it worked, you'll see you scraped data as an output. "
   ]
  },
  {
   "cell_type": "code",
   "execution_count": 45,
   "metadata": {},
   "outputs": [
    {
     "name": "stdout",
     "output_type": "stream",
     "text": [
      "United States Flags are at Half-Staff Through Sunset on October 6, 2017  Honoring the Victims of the Tragedy in Las Vegas, Nevada\n"
     ]
    }
   ],
   "source": [
    "res_1 = re.search(b'\\r\\n<br>\\r\\n(.*)\\r\\n<br>\\r\\n<br>\\r\\n</p>\\r\\n',p_1)\n",
    "print(res_1.group(1).decode('UTF-8'))"
   ]
  },
  {
   "cell_type": "markdown",
   "metadata": {},
   "source": [
    "## Read the contents of your second webpage\n",
    "\n",
    "Same deal as above, but now we're looking at your second URL. "
   ]
  },
  {
   "cell_type": "code",
   "execution_count": 49,
   "metadata": {},
   "outputs": [
    {
     "name": "stdout",
     "output_type": "stream",
     "text": [
      "b'<!DOCTYPE html PUBLIC \"-//W3C//DTD XHTML 1.0 Transitional//EN\" \"http://www.w3.org/TR/xhtml1/DTD/xhtml1-transitional.dtd\"> \\n<HTML xmlns=\"http://www.w3.org/1999/xhtml\"\\n      xmlns:og=\"http://ogp.me/ns#\"\\n      xmlns:fb=\"http://www.facebook.com/2008/fbml\"> \\n<HEAD>\\n\\t<title>Coding the Law: Student Work</title>\\n\\t<meta http-equiv=\"Content-type\" content=\"text/html;charset=UTF-8\"/> \\n\\t<meta name=\"viewport\" content=\"width=device-width; initial-scale=1.0; maximum-scale=1.0; user-scalable=0;\" />\\n\\t<meta name=\"apple-mobile-web-app-capable\" content=\"no\" />\\n\\t<meta name=\"apple-mobile-web-app-status-bar-style\" content=\"black\" /> \\n\\t<meta property=\"og:type\" content=\"website\"/>\\n\\t<meta property=\"og:title\" content=\"Coding the Law: Student Work\"/>\\n\\t<meta property=\"og:description\" content=\"Learn how to think about thinking machines in the law by building your own. In this project-based course, open to non-programmers and coders alike, we will explore the technical, legal, and ethical dimensions behind the use of computer algorithms by legal practitioners and the justice system. Projects range from the creation of simple document review and automation tools to the construction of expert systems and narrow AIs.\"/>\\n\\t<meta property=\"og:image\" content=\"\"/>\\n\\t<meta http-equiv=\"X-UA-Compatible\" content=\"IE=edge\" />\\n\\t<link rel=\"shortcut icon\" type=\"image/x-icon\" href=\"../favicon.ico\">\\n\\t<link rel=\"apple-touch-icon\" href=\"/images/icon.png\"/> \\n\\t<link rel=\"stylesheet\" href=\"http://code.jquery.com/ui/1.11.1/themes/smoothness/jquery-ui.css\">\\n\\t<link rel=\"stylesheet\" type=\"text/css\" href=\"../css/style.css\">\\n\\t<script src=\"http://code.jquery.com/jquery-1.11.1.min.js\"></script>\\n  \\t<script src=\"http://code.jquery.com/jquery-1.10.2.js\"></script>\\n  \\t<script src=\"http://code.jquery.com/ui/1.11.1/jquery-ui.js\"></script>\\n</HEAD>\\n<BODY BGCOLOR=\"#ffffff\" BACKGROUND=\"\" MARGINWIDTH=\"0\" MARGINHEIGHT=\"0\">\\n<FORM name=\"FORM\" id=\"FORM\"><div id=\"conversation\" style=\"margin:15px auto 0 auto;padding:0 15px;max-width:600px\">\\n<div id=\"icon\" style=\"background-size: 110px 99px;background-image: url(\\'http://www.codingthelaw.org/images/max_headroom.gif\\');\"></div>\\n<h1 style=\"text-align:center;\">Coding the Law<center style=\"margin-top:10px;\"><span class=\"subtitle\">Suffolk Law School: Fall 2017</span></center></h1>\\n<div class=\"menu_bar\">\\n<p style=\"text-align:center;\">\\n<a href=\"/\" class=\"menu\">\\xc2\\xa0About\\xc2\\xa0</a>\\n<a href=\"../work/\" class=\"menu\">\\xc2\\xa0Student&nbsp;Work </a>\\n<a href=\"https://codingthelawfall2017.slack.com/\" class=\"menu\" target=\"_new\">\\xc2\\xa0Slack\\xc2\\xa0</a>  \\n</div>\\n<h2>Student Work</h2>\\nThe following is a showcase of student work.\\n<h3>Expert Systems and Document Automation</h3>\\n<p><a href=\"https://docs.google.com/document/d/1zLexK65v3nWaez0A-b1aK4of-rQl1MW4ic8ZZFBOFYM/\">Challenge</a>: For a given jurisdiction, create a \"chatbot\" to determine if someone is eligible for appointed counsel, fee waivers, or the like. The bot should provide users with a set of action items to obtain any such aid, including copies of any applicable court forms pre-filled with data obtained from interaction with the bot.</p>\\n<h4>Student Projects <span style=\"background:yellow\">(in progress)</span></h4>\\n<ul>\\n<li>California (<a href=\"http://www.codingthelaw.org/Fall_2017/work/shentail/p1/bot.html\">Bot</a>, <a href=\"http://www.codingthelaw.org/Fall_2017/work/shentail/p1/notebook.html\">Notebook</a>)</li>\\n<li>Connecticut (<a href=\"http://www.codingthelaw.org/Fall_2017/work/devonbodey/p1/bot.html\">Bot</a>, <a href=\"http://www.codingthelaw.org/Fall_2017/work/devonbodey/p1/notebook.html\">Notebook</a>)</li>\\n<li>Florida (<a href=\"http://www.codingthelaw.org/Fall_2017/work/agallino/p1/bot.html\">Bot</a>, <a href=\"http://www.codingthelaw.org/Fall_2017/work/agallino/p1/notebook.html\">Notebook</a>)</li>\\n<li>Georgia (<a href=\"http://www.codingthelaw.org/Fall_2017/work/aambrogio/p1/bot.html\">Bot</a>, <a href=\"http://www.codingthelaw.org/Fall_2017/work/aambrogio/p1/notebook.html\">Notebook</a>)</li>\\n<li>Illinois (<a href=\"http://www.codingthelaw.org/Fall_2017/work/c0ding7h314w/p1/bot.html\">Bot</a>, <a href=\"http://www.codingthelaw.org/Fall_2017/work/c0ding7h314w/p1/notebook.html\">Notebook</a>)</li>\\n<li>Maine (<a href=\"http://www.codingthelaw.org/Fall_2017/work/asaratenney/p1/bot.html\">Bot</a>, <a href=\"http://www.codingthelaw.org/Fall_2017/work/asaratenney/p1/notebook.html\">Notebook</a>)</li>\\n<li>Maryland (<a href=\"http://www.codingthelaw.org/Fall_2017/work/bcrockett3/p1/bot.html\">Bot</a>, <a href=\"http://www.codingthelaw.org/Fall_2017/work/bcrockett3/p1/notebook.html\">Notebook</a>)</li>\\n<li>Massachusetts (<a href=\"http://www.codingthelaw.org/Fall_2017/work/scasey44/p1/bot.html\">Bot</a>, <a href=\"http://www.codingthelaw.org/Fall_2017/work/scasey44/p1/notebook.html\">Notebook</a>)</li>\\n<li>New Hampshire (<a href=\"http://www.codingthelaw.org/Fall_2017/work/edumore/p1/bot.html\">Bot</a>, <a href=\"http://www.codingthelaw.org/Fall_2017/work/edumore/p1/notebook.html\">Notebook</a>)</li>\\n<li>New Jersey (<a href=\"http://www.codingthelaw.org/Fall_2017/work/asilpavuthi/p1/bot.html\">Bot</a>, <a href=\"http://www.codingthelaw.org/Fall_2017/work/asilpavuthi/p1/notebook.html\">Notebook</a>)</li>\\n<li>New York (<a href=\"http://www.codingthelaw.org/Fall_2017/work/moiucihdaa/p1/bot.html\">Bot</a>, <a href=\"http://www.codingthelaw.org/Fall_2017/work/moiucihdaa/p1/notebook.html\">Notebook</a>)</li>\\n<li>North Carolina (<a href=\"http://www.codingthelaw.org/Fall_2017/work/cwood3/p1/bot.html\">Bot</a>, <a href=\"http://www.codingthelaw.org/Fall_2017/work/cwood3/p1/notebook.html\">Notebook</a>)</li>\\n<li>Ohio (<a href=\"http://www.codingthelaw.org/Fall_2017/work/JeffGitsIt/p1/bot.html\">Bot</a>, <a href=\"http://www.codingthelaw.org/Fall_2017/work/JeffGitsIt/p1/notebook.html\">Notebook</a>)</li>\\n<li>Rhode Island (<a href=\"http://www.codingthelaw.org/Fall_2017/work/Kriddr/p1/bot.html\">Bot</a>, <a href=\"http://www.codingthelaw.org/Fall_2017/work/Kriddr/p1/notebook.html\">Notebook</a>)</li>\\n<li>Texas (<a href=\"http://www.codingthelaw.org/Fall_2017/work/mmorgan/p1/bot.html\">Bot</a>, <a href=\"http://www.codingthelaw.org/Fall_2017/work/mmorgan/p1/notebook.html\">Notebook</a>)</li>\\n<li>Vermont (<a href=\"http://www.codingthelaw.org/Fall_2017/work/jmm11009/p1/bot.html\">Bot</a>, <a href=\"http://www.codingthelaw.org/Fall_2017/work/jmm11009/p1/notebook.html\">Notebook</a>)</li>\\n<li>Virginia (<a href=\"http://www.codingthelaw.org/Fall_2017/work/lchen26/p1/bot.html\">Bot</a>, <a href=\"http://www.codingthelaw.org/Fall_2017/work/lchen26/p1/notebook.html\">Notebook</a>)</li>\\n</ul>\\n<h3>Web scraping, API\\'s, and Twitter Bots</h3>\\n<p><a href=\"https://docs.google.com/document/d/1fEhH23ESHwpJw_bT1w5BQet2iv1GAGx4_e9-Yj_KH1Y/\">Challenge</a>: Create a bot that monitors information on the Web and tweets in response to changes in that information.</p>\\n<ul>\\n<li>Links to student work pending.</li>\\n</ul>\\n<h3>Modeling for Insight, Classification, and Prediction (Data Science)</h3>\\n<p><a href=\"https://docs.google.com/document/d/1luojz5DXNIBUejaqXMpChheno81PwWEUe9geDkdAhLE/\">Challenge</a>: Model a system and implement an API allowing others to use your model.</p>\\n<ul>\\n<li>Links to student work pending.</li>\\n</ul>\\n<h3>Making a Difference, Final Projects</h3>\\n<p><a href=\"https://docs.google.com/document/d/1tYqeUK9sLHmfFuXK-FMhCFR5_PXGdzhq746qW95SPGg/\">Challenge</a>: Partner with an external party to create a technical solution using some combination of the above technologies. This solution must solve a real-world problem.</p>\\n<ul>\\n<li>Links to student work pending.</li>\\n</ul>\\n\\n<div style=\"margin:25px 0;padding:5px;border-top:solid 1px #888;text-align:right;text-color:#555;\">\\n<font size=-1><a href=\"../credits/\">credits</a> | last updated 2017-09-26</font>\\n</div>\\n</BODY>\\n</HTML>'\n"
     ]
    }
   ],
   "source": [
    "p_2 = urllib.request.build_opener(urllib.request.HTTPCookieProcessor).open(url_2).read()\n",
    "print(p_2)## Parse the site's contents"
   ]
  },
  {
   "cell_type": "markdown",
   "metadata": {},
   "source": [
    "## Parse the site's contents\n",
    "\n",
    "Again, the same as above, but with a new regex on a new page."
   ]
  },
  {
   "cell_type": "code",
   "execution_count": 51,
   "metadata": {},
   "outputs": [
    {
     "ename": "AttributeError",
     "evalue": "'NoneType' object has no attribute 'group'",
     "output_type": "error",
     "traceback": [
      "\u001b[0;31m---------------------------------------------------------------------------\u001b[0m",
      "\u001b[0;31mAttributeError\u001b[0m                            Traceback (most recent call last)",
      "\u001b[0;32m<ipython-input-51-13c6dbff9fc2>\u001b[0m in \u001b[0;36m<module>\u001b[0;34m()\u001b[0m\n\u001b[1;32m      1\u001b[0m \u001b[0mres_2\u001b[0m \u001b[0;34m=\u001b[0m \u001b[0mre\u001b[0m\u001b[0;34m.\u001b[0m\u001b[0msearch\u001b[0m\u001b[0;34m(\u001b[0m\u001b[0;34mb'<title></title>'\u001b[0m\u001b[0;34m,\u001b[0m\u001b[0mp_2\u001b[0m\u001b[0;34m)\u001b[0m\u001b[0;34m\u001b[0m\u001b[0m\n\u001b[0;32m----> 2\u001b[0;31m \u001b[0mprint\u001b[0m\u001b[0;34m(\u001b[0m\u001b[0mres_2\u001b[0m\u001b[0;34m.\u001b[0m\u001b[0mgroup\u001b[0m\u001b[0;34m(\u001b[0m\u001b[0;36m1\u001b[0m\u001b[0;34m)\u001b[0m\u001b[0;34m.\u001b[0m\u001b[0mdecode\u001b[0m\u001b[0;34m(\u001b[0m\u001b[0;34m'UTF-8'\u001b[0m\u001b[0;34m)\u001b[0m\u001b[0;34m)\u001b[0m\u001b[0;34m\u001b[0m\u001b[0m\n\u001b[0m",
      "\u001b[0;31mAttributeError\u001b[0m: 'NoneType' object has no attribute 'group'"
     ]
    }
   ],
   "source": [
    "res_2 = re.search(b'<title>(.*)</title>',p_2)  \n",
    "print(res_2.group(1).decode('UTF-8'))"
   ]
  },
  {
   "cell_type": "markdown",
   "metadata": {},
   "source": [
    "## Combine Stuff\n",
    "\n",
    "Now we're going to take the values you found above and do something with them. The new thing you'll be seeing in this code is the If statement. In Python, if you type `if [some evaluation]:` then the code directly below that statement and indented once will run only if that evaluation is true. For example:"
   ]
  },
  {
   "cell_type": "code",
   "execution_count": 55,
   "metadata": {
    "collapsed": true
   },
   "outputs": [],
   "source": [
    "# The If statment below says: If the variables res_1 and res_2 actually exist, do what follows.\n",
    "if res_1 and res_2: \n",
    "    # Make sure res_1 is in a format we can read (that's the \"decode\" part)\n",
    "    # output_1 equal to regex match on page one.\n",
    "    output_1 = res_1.group(1).decode('UTF-8')\n",
    "    # Do the same thing as above but for res_2\n",
    "    output_2 = res_2.group(1).decode('UTF-8')\n",
    "    # Combine titles. Then store the value in the variable named \"titles.\"\n",
    "    titles = output_1 + \" AND \" + output_2"
   ]
  },
  {
   "cell_type": "code",
   "execution_count": 56,
   "metadata": {
    "scrolled": true
   },
   "outputs": [
    {
     "name": "stdout",
     "output_type": "stream",
     "text": [
      "0 | 0 | 0 | 0\n"
     ]
    }
   ],
   "source": [
    "# Print out the old values stored in your sheet \n",
    "# Note: The first time you run this code, it will be empty as nothing has yet to be stored in your sheet.\n",
    "print(\"%s | %s | %s | %s\"%(worksheet.row_values(worksheet.row_count)[1],worksheet.row_values(worksheet.row_count)[2],worksheet.row_values(worksheet.row_count)[3],worksheet.row_values(worksheet.row_count)[2]))"
   ]
  },
  {
   "cell_type": "code",
   "execution_count": 57,
   "metadata": {},
   "outputs": [
    {
     "name": "stdout",
     "output_type": "stream",
     "text": [
      "2017-10-11 16:51:16.743829 | United States Flags are at Half-Staff Through Sunset on October 6, 2017  Honoring the Victims of the Tragedy in Las Vegas, Nevada | Coding the Law: Student Work | United States Flags are at Half-Staff Through Sunset on October 6, 2017  Honoring the Victims of the Tragedy in Las Vegas, Nevada AND Coding the Law: Student Work\n"
     ]
    }
   ],
   "source": [
    "# Print the new values pulled from your pages\n",
    "print(\"%s | %s | %s | %s\"%(now,output_1,output_2,titles))"
   ]
  },
  {
   "cell_type": "markdown",
   "metadata": {},
   "source": [
    "## Post to Twitter and Save to Google"
   ]
  },
  {
   "cell_type": "code",
   "execution_count": 59,
   "metadata": {},
   "outputs": [],
   "source": [
    "if res_1 and res_2: \n",
    "    # Again, the above tells the program to continue with what follows only if res_1 and res_2 exist\n",
    "    \n",
    "    if (float(worksheet.row_values(worksheet.row_count)[1]) != output_1) or (float(worksheet.row_values(worksheet.row_count)[2]) != output_2):\n",
    "        # The above If statment, says to continue only if the old sheet vales and \n",
    "        # the new pulled values are not equal (!=) to eachother. \n",
    "        \n",
    "        if (float(worksheet.row_values(worksheet.row_count)[1]) != output_1):\n",
    "            # The above If statment says to continue only if the first value is \n",
    "            # different from the last version stored in the sheet.\n",
    "                            \n",
    "            # Go ahead and tweet out the update. Here you need to know about a Twitter API limitation.\n",
    "            # Twitter will not Tweet the same tweet a second time if it is too close to the first instance.\n",
    "            # In such cases, it will throw an error. The `try:` and `except TwitterError:` constructions are\n",
    "            # similar to If statements. However, they will try the first block of code first, and only try \n",
    "            # the second block if it runs into a Twitter error. Here, the second try tweaks the language\n",
    "            # just enough that it isn't a duplicate Tweet.\n",
    "            try:\n",
    "                # Post to Twitter.\n",
    "                #print ('P1 Title is %s'%(output_1))\n",
    "                status = api.PostUpdate('P1 Title is %s'%(output_1))\n",
    "                print(status.text)\n",
    "            except TwitterError:\n",
    "                # Post to Twitter.\n",
    "                #print ('P1 Title: %s'%(output_1))\n",
    "                status = api.PostUpdate('P1 Title: %s'%(output_1))\n",
    "                print(status.text)\n",
    "\n",
    "        # What follows is effctivly the above but for the second value.         \n",
    "        if ((float(worksheet.row_values(worksheet.row_count)[2]) != output_2)):\n",
    "\n",
    "            try:\n",
    "                #print ('P2 Title is %s'%(output_2))\n",
    "                status = api.PostUpdate('P2 Title is %s'%(output_2))\n",
    "                print(status.text)\n",
    "            except TwitterError:\n",
    "                #print ('P2 Title: %s'%(output_2))\n",
    "                status = api.PostUpdate('P2 Title is %s'%(output_2))\n",
    "                print(status.text)\n",
    "                \n",
    "        try:\n",
    "            #print ('Titles: %s'%(output_2))\n",
    "            status = api.PostUpdate('Titles: %s'%(titles))\n",
    "            print(status.text)\n",
    "        except TwitterError:\n",
    "            #print ('T1 + T2: %s'%(output_2))\n",
    "            status = api.PostUpdate('T1 + T2: %s'%(titles))\n",
    "            print(status.text)\n",
    "                \n",
    "        worksheet.append_row([now,output_1,output_2,titles])"
   ]
  },
  {
   "cell_type": "code",
   "execution_count": null,
   "metadata": {
    "collapsed": true
   },
   "outputs": [],
   "source": []
  }
 ],
 "metadata": {
  "kernelspec": {
   "display_name": "Python 3",
   "language": "python",
   "name": "python3"
  },
  "language_info": {
   "codemirror_mode": {
    "name": "ipython",
    "version": 3
   },
   "file_extension": ".py",
   "mimetype": "text/x-python",
   "name": "python",
   "nbconvert_exporter": "python",
   "pygments_lexer": "ipython3",
   "version": "3.6.1"
  }
 },
 "nbformat": 4,
 "nbformat_minor": 1
}
