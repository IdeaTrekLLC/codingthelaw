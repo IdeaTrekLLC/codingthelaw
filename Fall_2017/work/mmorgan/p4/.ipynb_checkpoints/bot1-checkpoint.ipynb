{
 "cells": [
  {
   "attachments": {
    "image.png": {
     "image/png": "[encoded data removed]"
    }
   },
   "cell_type": "markdown",
   "metadata": {},
   "source": [
    "# Daisy Debt\n",
    "\n",
    "I wrote a bot, and you can find it [here](http://www.codingthelaw.org/Fall_2017/work/mmorgan/p4/bot.html). To write my bot, we used a tool called [QnA Markup](http://www.qnamarkup.org/). Basically, you create an interactive dicision tree by nesting questions and answers. Here's [my code](bot.txt). \n",
    "\n",
    "## Framing\n",
    "\n",
    "\tDaisy Debt helps people with debt and that are facing debt collectors to manage their debt. Debt collection agencies buy debt for pennies on the dollar, so they are usually willing to accept less than the original debt amount, as long as they still make a profit. Daisy Debt was looking for a form filler for their staff to collect information from clients, in which they can later cull to find out what factors they can use to predict how low a particular agency might go. Without already having any information, the main problem that currently needs to be solved is the collection of information. For this, I have created a QnA that will help a staff member can go through and make sure they have collected the relevant information.\n",
    "\n",
    "\n",
    "## Research\n",
    "\n",
    "\tIn creating the QnA, I had to research factors that agencies might use to calculate how much they might accept from a person in collecting debt. Through online resources, books, and speaking with Mrs. Tvrdy the factors I included are marital status, age, income, income sources, debt sources, the amount of debt, the amount of income, the location via zip code, the age of the debt, what agency is collecting the debt, and if there are cosigners.\n",
    "![image.png](attachment:image.png)\n",
    "\n",
    "\n",
    "## Ideation & Prototyping\n",
    "\n",
    "\tAt first, I tried creating a python code to collect the info and then be able to run it, but without enough data to begin with, it was hard to be able to check the data input, and it didn’t seem viable because it would be a bunch of code that would be difficult to train all staff to use it, so it would just be best, and more aesthetically pleasing just to use a QnA for the information collection, while allowing the user to make sure they have the proper information collected. \n",
    "\n",
    "\n",
    "\n",
    "## User Testing\n",
    "\n",
    "   \tAside from myself, I had a friend test the QnA for completeness and ease of use, as well it was run by Mrs. Tvrdy. My friend provided the following feedback:\n",
    "\n",
    " “I have gone through it a couple of times. The first time I went through, I ran into a problem when I chose that the debt was secured, and it would just end there. I wasn't sure if that was supposed to happen, so I did it again and chose unsecured, and it continued through correctly. Additionally, the final form could be given a little more structure, like sections, or something.”\n",
    "\n",
    "Mrs. Tvrdy provided the following feedback:\n",
    "\n",
    "\n",
    "## Refinement\n",
    "\n",
    "    \tI used the feedback to update the QnA to correct the issue spotted, and to change the final form to look better\n",
    "\n",
    "## Intro Pitch\n",
    "\n",
    "    I used the presentation at http://www.codingthelaw.org/Fall_2017/work/mmorgan/p4/Presentation.pptx to introduce the partner, define the problem and outline my solution\n",
    "    \n",
    "## Complexity/Robustness\n",
    "    \n",
    "    I use a QnA to obtain information from clients, and then using the information collected fill out a form for them to use to hold onto for client information and later culling of information. This form is only for Daisy Debt Staff in collection of info, which can then later be sent to a central place to have the information culled.\n",
    "\n",
    "## Impact & Effifiancies\n",
    "\n",
    "    The QnA helps to make sure that all relevant information is collected in regards to outlined factors for later use for analysis. It currently acts as a checklist for the staff to use in collecting information and will help greatly in culling the information to apply to metrics once enough data is collected.\n",
    "\n",
    "## Fit/Completeness\n",
    "\n",
    "    It works well as a checklist and collection of information, however it is currently unclear how well it will work in terms of culling information because it has not yet reached that point in the project.\n",
    "\n",
    "## Real World Viability\n",
    "\n",
    "    The project is fully viable in terms of collection of information, but is not yet able to perform any metrics because there is not any information yet collected.\n",
    "\n",
    "\n",
    "## Sustinability\n",
    "\n",
    "    I don't know\n",
    "\n",
    "\n",
    "\n"
   ]
  },
  {
   "cell_type": "code",
   "execution_count": null,
   "metadata": {
    "collapsed": true
   },
   "outputs": [],
   "source": []
  }
 ],
 "metadata": {
  "kernelspec": {
   "display_name": "Python 3",
   "language": "python",
   "name": "python3"
  },
  "language_info": {
   "codemirror_mode": {
    "name": "ipython",
    "version": 3
   },
   "file_extension": ".py",
   "mimetype": "text/x-python",
   "name": "python",
   "nbconvert_exporter": "python",
   "pygments_lexer": "ipython3",
   "version": "3.6.1"
  }
 },
 "nbformat": 4,
 "nbformat_minor": 1
}
