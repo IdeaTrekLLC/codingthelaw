{
 "cells": [
  {
   "cell_type": "markdown",
   "metadata": {},
   "source": [
    "# Daisy Debt\n",
    "\n",
    "I wrote a bot, and you can find it [here](http://www.codingthelaw.org/Fall_2017/work/mmorgan/p1/bot.html). To write my bot, we used a tool called [QnA Markup](http://www.qnamarkup.org/). Basically, you create an interactive dicision tree by nesting questions and answers. Here's [my code](bot.txt). \n",
    "\n",
    "## Framing\n",
    "\n",
    "Daisy Debt helps people with debt and that are facing debt collectors to manage their debt. Part of dealing with debt \n",
    "\n",
    "\n",
    "## Research\n",
    "\n",
    "\n",
    "## Ideation & Prototyping\n",
    "\n",
    "\n",
    "## User Testing\n",
    "\n",
    "\n",
    "## Refinement\n",
    "\n",
    "\n",
    "## Impact & Effifiancies\n",
    "\n",
    "\n",
    "## Fit/Completeness\n",
    "\n",
    "\n",
    "## Real World Viability\n",
    "\n",
    "\n",
    "## Sustinability\n",
    "\n",
    "\n",
    "\n"
   ]
  },
  {
   "cell_type": "code",
   "execution_count": null,
   "metadata": {
    "collapsed": true
   },
   "outputs": [],
   "source": [
    "1v0R8HWoT0EaFTVl0gaSzzgloPk1Xc3UjzrGNhrwkgPw"
   ]
  },
  {
   "cell_type": "code",
   "execution_count": null,
   "metadata": {
    "collapsed": true
   },
   "outputs": [],
   "source": []
  }
 ],
 "metadata": {
  "kernelspec": {
   "display_name": "Python 3",
   "language": "python",
   "name": "python3"
  },
  "language_info": {
   "codemirror_mode": {
    "name": "ipython",
    "version": 3
   },
   "file_extension": ".py",
   "mimetype": "text/x-python",
   "name": "python",
   "nbconvert_exporter": "python",
   "pygments_lexer": "ipython3",
   "version": "3.6.1"
  }
 },
 "nbformat": 4,
 "nbformat_minor": 1
}
